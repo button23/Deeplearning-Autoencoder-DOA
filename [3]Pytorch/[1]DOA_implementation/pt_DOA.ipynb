{
 "cells": [
  {
   "cell_type": "code",
   "execution_count": 1,
   "metadata": {},
   "outputs": [
    {
     "name": "stderr",
     "output_type": "stream",
     "text": [
      "2022-03-01 15:57:06.938525: W tensorflow/stream_executor/platform/default/dso_loader.cc:59] Could not load dynamic library 'libcudart.so.10.1'; dlerror: libcudart.so.10.1: cannot open shared object file: No such file or directory\n",
      "2022-03-01 15:57:06.938544: I tensorflow/stream_executor/cuda/cudart_stub.cc:29] Ignore above cudart dlerror if you do not have a GPU set up on your machine.\n"
     ]
    }
   ],
   "source": [
    "import torch\n",
    "from torchvision import datasets\n",
    "from torchvision import transforms\n",
    "import matplotlib.pyplot as plt*\n",
    "from torch import nn\n",
    "from torch.utils.data import DataLoader\n",
    "from torchvision.transforms import ToTensor\n",
    "from torch.utils.data.sampler import SubsetRandomSampler\n",
    "from torch.optim import lr_scheduler\n",
    "from torch.utils.tensorboard import SummaryWriter\n",
    "import tensorflow as tf\n",
    "import scipy.io as sio\n",
    "from scipy.io import loadmat, savemat\n",
    "import numpy as np\n",
    "import os\n",
    "from sklearn.preprocessing import MinMaxScaler, StandardScaler"
   ]
  },
  {
   "cell_type": "code",
   "execution_count": 39,
   "metadata": {},
   "outputs": [
    {
     "name": "stdout",
     "output_type": "stream",
     "text": [
      "/home/hymc/[0]Github/Deeplearning-Autoencoder-DOA/[1]MATLAB/DOA_DATA/8_antenna_500_samples_100_snapshots\n",
      "/home/hymc/[0]Github/Deeplearning-Autoencoder-DOA/[3]Pytorch/[1]DOA_implementation/result/8_antenna_500_samples_100_snapshots\n"
     ]
    }
   ],
   "source": [
    "fileName = '8_antenna_500_samples_100_snapshots'\n",
    "\n",
    "dataPath = '/home/hymc/[0]Github/Deeplearning-Autoencoder-DOA/[1]MATLAB/DOA_DATA'\n",
    "\n",
    "\n",
    "readPath = dataPath +'/' + fileName\n",
    "print(readPath)\n",
    "\n",
    "rootPath = '/home/hymc/[0]Github/Deeplearning-Autoencoder-DOA/[3]Pytorch/[1]DOA_implementation'\n",
    "savePath = rootPath + '/result' + '/' + fileName\n",
    "if not os.path.isdir(savePath):\n",
    "    os.makedirs(savePath)\n",
    "print(savePath)"
   ]
  },
  {
   "cell_type": "code",
   "execution_count": 3,
   "metadata": {},
   "outputs": [],
   "source": [
    "from sklearn.datasets import make_classification\n",
    "import torch\n",
    "data, target = make_classification(n_samples=1000)"
   ]
  },
  {
   "cell_type": "code",
   "execution_count": 4,
   "metadata": {},
   "outputs": [],
   "source": [
    "class CustomDataset(torch.utils.data.Dataset): \n",
    "    def __init__(self,data,target):\n",
    "        self.data = data\n",
    "        self.target = target\n",
    "        \n",
    "    def __len__(self):\n",
    "        return len(self.data)\n",
    "    \n",
    "    def __getitem__(self,idx):\n",
    "        current_sample = self.data[idx,:]\n",
    "        current_target = self.target[idx]\n",
    "        return {\n",
    "            'sample': torch.tensor(current_sample, dtype=torch.float),\n",
    "            'target': torch.tensor(current_target,dtype=torch.long)\n",
    "        }"
   ]
  },
  {
   "cell_type": "code",
   "execution_count": 5,
   "metadata": {},
   "outputs": [],
   "source": [
    "custom_dataset = CustomDataset(data=data, target = target)"
   ]
  },
  {
   "cell_type": "code",
   "execution_count": 6,
   "metadata": {},
   "outputs": [
    {
     "data": {
      "text/plain": [
       "1000"
      ]
     },
     "execution_count": 6,
     "metadata": {},
     "output_type": "execute_result"
    }
   ],
   "source": [
    "len(custom_dataset)"
   ]
  },
  {
   "cell_type": "code",
   "execution_count": 7,
   "metadata": {},
   "outputs": [
    {
     "data": {
      "text/plain": [
       "tensor([ 1.5089,  1.2295,  0.8938, -1.7735,  0.4042, -0.8870,  0.3304,  2.8960,\n",
       "        -0.4011,  0.0598, -1.3440, -0.1048, -1.3017, -1.8702,  1.5285,  3.4140,\n",
       "         0.6177,  0.6557, -1.1345,  0.2220])"
      ]
     },
     "execution_count": 7,
     "metadata": {},
     "output_type": "execute_result"
    }
   ],
   "source": [
    "custom_dataset[0]['sample']"
   ]
  },
  {
   "cell_type": "code",
   "execution_count": 40,
   "metadata": {},
   "outputs": [
    {
     "data": {
      "text/plain": [
       "(102500, 64)"
      ]
     },
     "execution_count": 40,
     "metadata": {},
     "output_type": "execute_result"
    }
   ],
   "source": [
    "# Input train noisy dataset for all snr and stack them together\n",
    "dataset = tf.data.Dataset.list_files(fileName+'/*/train/train_data.*', shuffle=False)\n",
    "# for i in dataset.as_numpy_iterator():\n",
    "#     print(i)\n",
    "data_set = []\n",
    "for i in dataset.as_numpy_iterator():\n",
    "    x_train = sio.loadmat(i)\n",
    "    x_train = x_train['train_data']  # noisy sample covariance matrix\n",
    "    data_set.append(x_train) #NOTE: put all the train_data of different SNR into one list\n",
    "len(data_set) \n",
    "\n",
    "data_train = data_set[0]\n",
    "for i in data_set:\n",
    "    data_train = np.vstack((data_train,i)) # stack all the datasets vertically\n",
    "    \n",
    "data_train = data_train[x_train.shape[0]:] # the first dataset is included in twice\n",
    "data_train.shape"
   ]
  },
  {
   "cell_type": "code",
   "execution_count": 41,
   "metadata": {},
   "outputs": [
    {
     "data": {
      "text/plain": [
       "(102500, 64)"
      ]
     },
     "execution_count": 41,
     "metadata": {},
     "output_type": "execute_result"
    }
   ],
   "source": [
    "# Input train noiseless dataset for all snr and stack them together\n",
    "dataset = tf.data.Dataset.list_files(fileName + '/*/train/train_origin_data.*', shuffle=False)\n",
    "# for i in dataset.as_numpy_iterator():\n",
    "#     print(i)\n",
    "data_set = []\n",
    "for i in dataset.as_numpy_iterator():\n",
    "    x_train = sio.loadmat(i)\n",
    "    x_train = x_train['train_origin_data']  # noisy sample covariance matrix\n",
    "    data_set.append(x_train[:x_train.shape[0],:]) #NOTE: put all the train_data of different SNR into one list\n",
    "len(data_set) \n",
    "\n",
    "data_origin = data_set[0]\n",
    "for i in data_set:\n",
    "    data_origin = np.vstack((data_origin,i)) # stack all the datasets vertically\n",
    "    \n",
    "data_origin = data_origin[x_train.shape[0]:] # the first dataset is included in twice\n",
    "data_origin.shape"
   ]
  },
  {
   "cell_type": "code",
   "execution_count": 42,
   "metadata": {},
   "outputs": [
    {
     "name": "stdout",
     "output_type": "stream",
     "text": [
      "[     0      1      2 ... 102497 102498 102499]\n"
     ]
    }
   ],
   "source": [
    "# train data shuffle\n",
    "np.random.seed(2020)\n",
    "index = np.arange(data_train.shape[0])\n",
    "print(index)\n",
    "np.random.shuffle(index)\n",
    "data_train = data_train[index]\n",
    "data_origin = data_origin[index]"
   ]
  },
  {
   "cell_type": "code",
   "execution_count": 43,
   "metadata": {},
   "outputs": [
    {
     "name": "stdout",
     "output_type": "stream",
     "text": [
      "(64, 102500)\n",
      "(64, 102500)\n"
     ]
    }
   ],
   "source": [
    "## scaling\n",
    "scaler = StandardScaler()\n",
    "data_train_scale = scaler.fit_transform(np.transpose(data_train))\n",
    "data_origin_scale = scaler.fit_transform(np.transpose(data_origin))\n",
    "print(data_train_scale.shape)\n",
    "print(data_origin_scale.shape)\n",
    "data_train = np.transpose(data_train_scale)\n",
    "data_origin = np.transpose(data_origin_scale)\n"
   ]
  },
  {
   "cell_type": "markdown",
   "metadata": {},
   "source": [
    "#### Step 2: Loading the Dataset"
   ]
  },
  {
   "cell_type": "code",
   "execution_count": 13,
   "metadata": {},
   "outputs": [],
   "source": [
    "# # Transforms images to a PyTorch Tensor\n",
    "# # transform = transforms.Compose(\n",
    "# #     [transforms.ToTensor(),\n",
    "# #     transforms.Normalize((0.5,),(0.5,))]) #NOTE: change the range of the data from 0 to 1 TO -1 to 1."
   ]
  },
  {
   "cell_type": "code",
   "execution_count": 68,
   "metadata": {},
   "outputs": [],
   "source": [
    "dataset = []\n",
    "for i in range(len(data_train)):\n",
    "    dataset.append((data_train[i],data_origin[i]))\n",
    "\n",
    "batch_size = 128\n",
    "\n",
    "# # Create data loaders.\n",
    "train_dataloader = DataLoader(dataset = dataset, \n",
    "                              batch_size = batch_size,\n",
    "                              shuffle = True)\n",
    "# test_dataloader = DataLoader(dataset = data_origin, \n",
    "#                              batch_size=batch_size,\n",
    "#                              shuffle = True)"
   ]
  },
  {
   "cell_type": "code",
   "execution_count": 45,
   "metadata": {},
   "outputs": [
    {
     "name": "stdout",
     "output_type": "stream",
     "text": [
      "Shape of X [Batch size, Channel, Height, Width]: torch.Size([64, 64])\n",
      "Shape of Y: torch.Size([64, 64]) torch.float64\n",
      "The maximum value is 3.278346244787716 and minimum value is -1.6546467371601095\n"
     ]
    }
   ],
   "source": [
    "# for X in test_dataloader:\n",
    "#     print(f\"Shape of X [Batch size, Channel, Height, Width]: {X.shape}\")\n",
    "#     # print(f\"Shape of y: {y.shape} {y.dtype}\")\n",
    "#     print(f'The maximum value is {torch.max(X)} and minimum value is {torch.min(X)}')\n",
    "#     break\n",
    "for X,Y in train_dataloader:\n",
    "    print(f\"Shape of X [Batch size, Channel, Height, Width]: {X.shape}\")\n",
    "    print(f\"Shape of Y: {Y.shape} {Y.dtype}\")\n",
    "    print(f'The maximum value is {torch.max(X)} and minimum value is {torch.min(X)}')\n",
    "    break"
   ]
  },
  {
   "cell_type": "markdown",
   "metadata": {},
   "source": [
    "### Create Autoencoder Class"
   ]
  },
  {
   "cell_type": "code",
   "execution_count": 46,
   "metadata": {},
   "outputs": [],
   "source": [
    "# Creating a PyTorch class\n",
    "class AE_dense(torch.nn.Module):\n",
    "    def __init__(self):\n",
    "        super(AE_dense,self).__init__()\n",
    "        # Building an linear encoder with Linear\n",
    "        # layer followed by Relu activation function\n",
    "        # 400 ==> 100\n",
    "        self.encoder = torch.nn.Sequential(\n",
    "            nn.Linear(64, 32),\n",
    "            nn.ReLU(),\n",
    "            nn.Linear(32, 16),\n",
    "            nn.ReLU(),\n",
    "            nn.Linear(16, 8), # 400, 300, 200, 100\n",
    "            nn.ReLU(),\n",
    "            # nn.Linear(100, 50),\n",
    "            # nn.ReLU()\n",
    "        )\n",
    "          \n",
    "        # Building an linear decoder with Linear\n",
    "        # layer followed by Relu activation function\n",
    "        # The Sigmoid activation function\n",
    "        # outputs the value between 0 and 1\n",
    "        # 100 ==> 400\n",
    "        self.decoder = torch.nn.Sequential(\n",
    "            # nn.Linear(50, 100), \n",
    "            # nn.ReLU(),\n",
    "            nn.Linear(8, 16),  # 100, 200, 300, 400\n",
    "            nn.ReLU(),\n",
    "            nn.Linear(16, 32),\n",
    "            nn.ReLU(),\n",
    "            nn.Linear(32, 64),\n",
    "        )\n",
    "  \n",
    "    def forward(self, x):\n",
    "        encoded = self.encoder(x)\n",
    "        decoded = self.decoder(encoded)\n",
    "        return decoded, encoded,  \n",
    "    #! NOTE! when calling model(data), it returns a tuple (decoded, encoded). \n",
    "    #! Or you can just choose the first value for training."
   ]
  },
  {
   "cell_type": "code",
   "execution_count": 17,
   "metadata": {},
   "outputs": [],
   "source": [
    "class Reshape(nn.Module):\n",
    "    def __init__(self,shape):\n",
    "        super(Reshape,self).__init__()\n",
    "        self.shape = shape\n",
    "    \n",
    "    def forward(self, x):\n",
    "        return x.view(*self.shape) #NOTE: '*' passes multiple parameters(but here with or without * returns the same value)\n",
    "        \n",
    "\n",
    "# Creating a PyTorch class\n",
    "class AE_conv(torch.nn.Module):\n",
    "    def __init__(self, latent_dim):\n",
    "        super(AE_conv,self).__init__()\n",
    "        # Building a convolution encoder with convolutional\n",
    "        # layer followed by Relu activation function\n",
    "        # 400 ==> 100\n",
    "        self.encoder = nn.Sequential(\n",
    "            nn.Conv2d(in_channels=1, out_channels=32, kernel_size=3, stride = 2, padding=1), # 28 * 28 -> 14 * 14\n",
    "            nn.LeakyReLU(),\n",
    "            nn.Conv2d(in_channels=32, out_channels=64, kernel_size=3, stride = 2, padding=1), # 14 * 14 -> 7 * 7\n",
    "            nn.LeakyReLU(),\n",
    "            nn.Flatten(), # Image grid to single feature vector\n",
    "            nn.Linear(7*7*64, latent_dim), # second argument: latent_dim\n",
    "            nn.LeakyReLU()\n",
    "        )\n",
    "          \n",
    "        # Building an convolution decoder with convolutional\n",
    "        # layer followed by Relu activation function\n",
    "        # The Sigmoid activation function\n",
    "        # outputs the value between 0 and 1\n",
    "        self.decoder = nn.Sequential(\n",
    "            nn.Linear(latent_dim,7*7*64),\n",
    "            nn.LeakyReLU(),\n",
    "            Reshape((-1,64,7,7)),\n",
    "            nn.ConvTranspose2d(64,32,2, stride=2),\n",
    "            nn.LeakyReLU(),\n",
    "            nn.ConvTranspose2d(32,1,2, stride=2),\n",
    "            nn.Tanh())\n",
    "        \n",
    "    def forward(self, x):\n",
    "        encoded = self.encoder(x)\n",
    "        decoded = self.decoder(encoded)\n",
    "        return decoded, encoded,  \n",
    "    #! NOTE! when calling model(data), it returns a tuple (decoded, encoded). \n",
    "    #! Or you can just choose the first value for training."
   ]
  },
  {
   "cell_type": "markdown",
   "metadata": {},
   "source": [
    "### Initializing models"
   ]
  },
  {
   "cell_type": "code",
   "execution_count": 79,
   "metadata": {},
   "outputs": [
    {
     "name": "stdout",
     "output_type": "stream",
     "text": [
      "Using cuda device\n"
     ]
    }
   ],
   "source": [
    "from torchsummary import summary\n",
    "# Get cpu or gpu device for training.\n",
    "device = \"cuda\" if torch.cuda.is_available() else \"cpu\"\n",
    "print(f\"Using {device} device\")\n",
    "\n",
    "writer = SummaryWriter()\n",
    "\n",
    "latent_dim = 10\n",
    "\n",
    "# Model Initialization\n",
    "model = AE_dense().to(device)\n",
    "# model = AE_conv(latent_dim).to(device)\n",
    "  \n",
    "# Validation using MSE Loss function\n",
    "loss_fn = torch.nn.MSELoss().to(device)\n",
    "  \n",
    "# Using an Adam Optimizer with lr = 0.1\n",
    "optimizer = torch.optim.Adam(model.parameters(),\n",
    "                             lr = 1e-2,\n",
    "                             weight_decay = 1e-8)\n",
    "scheduler = lr_scheduler.ReduceLROnPlateau(optimizer,threshold = 0.1,patience=10,mode='min',verbose=True)\n",
    "# summary(model, (1, 28*28))\n"
   ]
  },
  {
   "cell_type": "markdown",
   "metadata": {},
   "source": [
    "### Define training function "
   ]
  },
  {
   "cell_type": "code",
   "execution_count": 19,
   "metadata": {},
   "outputs": [
    {
     "name": "stdout",
     "output_type": "stream",
     "text": [
      "/home/hymc/[0]Github/Deeplearning-Autoencoder-DOA/[3]Pytorch/[1]DOA_implementation/result/with_normalization\n"
     ]
    }
   ],
   "source": [
    "def show(dataloader, model, epoch):\n",
    "    '''Plot the original and reconstructed images together\n",
    "\n",
    "    Args:\n",
    "        dataloader (data_loader): an object that wraps the dataset\n",
    "        model (model): autoencoder\n",
    "    '''\n",
    "    model.eval() #Tell the model you are going to test so the weights will not be updated\n",
    "    with torch.no_grad():\n",
    "        for i, X in enumerate(dataloader):\n",
    "            # X = X.view(X.size(0), -1)\n",
    "            X = X.type(torch.FloatTensor).to(device) # to is one of the operations(methods) in tensor object\n",
    "\n",
    "            pred = model(X)\n",
    "            reconstructed = pred[0]\n",
    "            \n",
    "            # plot part\n",
    "            fig, axs = plt.subplots(2,1, figsize=(20,5)) # 2 means two rows\n",
    "            # display the original image\n",
    "            axs[0].plot(X.cpu()) ##Note axs is a matrix, you can't just write axs[], it should be axs[][]\n",
    "            # display the reconstructed image\n",
    "            axs[1].plot(reconstructed.cpu())\n",
    "\n",
    "            plt.savefig(savePath+ f'/epoch-{epoch}.png')\n",
    "            break\n",
    "    return fig\n",
    "            "
   ]
  },
  {
   "cell_type": "code",
   "execution_count": 80,
   "metadata": {},
   "outputs": [],
   "source": [
    "def train(epochs, dataset,model, loss_fn, optimizer, scheduler):\n",
    "    size = len(dataset.dataset) # return the number of training samples\n",
    "    model.train() #Tell the model you are going to train so the weights will be updated\n",
    "    for t in range(epochs):\n",
    "        running_loss = 0.0\n",
    "        # print(f\"Epoch {t+1}\\n-------------------------------\")\n",
    "        for batch, (X,Y) in enumerate(dataset): # iterates the dataloader \n",
    "            # X = X.view(X.size(0),-1)\n",
    "            X = X.type(torch.FloatTensor).to(device)\n",
    "            Y = Y.type(torch.FloatTensor).to(device)\n",
    "\n",
    "            # Compute prediction error\n",
    "            pred = model(X) #! NOTE: Here the returned value is a tuple (decoded, encoded) as defined in forward()\n",
    "           \n",
    "            loss = loss_fn(pred[0], Y) # Choose the first value pred[0] as decoded value for the purpose of training\n",
    "                                        #! NOTE: the second argument should be the original value\n",
    "            # Backpropagation\n",
    "            optimizer.zero_grad() # to reset the gradients of model parameters.\n",
    "            loss.backward() # PyTorch deposits the gradients of the loss w.r.t. each parameter.\n",
    "            optimizer.step() # to adjust the parameters by the gradients collected in the backward pass.\n",
    "\n",
    "            running_loss += loss.item()\n",
    "            # if batch % 100 == 0:\n",
    "            #     loss, current = loss.item(), batch * len(X)\n",
    "            #     print(f\"loss: {loss:>7f}  [{current:>5d}/{size:>5d}]\")\n",
    "        # .. log the running loss\n",
    "        writer.add_scalar('training_loss',\n",
    "                            running_loss/size,\n",
    "                            t)\n",
    "        # writer.add_figure('predictions vs. actuals',\n",
    "        #                 show(testdata, model, t, 10),\n",
    "        #                 global_step=t)\n",
    "        # for name, param in model.named_parameters():\n",
    "        #     layer, attr = os.path.splitext(name)\n",
    "        #     attr = attr[1:]\n",
    "        #     writer.add_histogram(f'{layer, attr}', param.clone().cpu().data.numpy(),t)\n",
    "        scheduler.step(loss)\n",
    "        # show(testdata, model, t,10)\n",
    "        print('Epoch: {}, Loss: {}, LR: {}'.format(t, running_loss/size, scheduler.optimizer.state_dict()['param_groups'][0]['lr']))"
   ]
  },
  {
   "cell_type": "markdown",
   "metadata": {},
   "source": [
    "###  Start training and validating"
   ]
  },
  {
   "cell_type": "code",
   "execution_count": 81,
   "metadata": {},
   "outputs": [
    {
     "name": "stdout",
     "output_type": "stream",
     "text": [
      "Epoch: 0, Loss: 0.0023592733120046012, LR: 0.01\n",
      "Epoch: 1, Loss: 0.001618131673190652, LR: 0.01\n",
      "Epoch: 2, Loss: 0.001556221686994157, LR: 0.01\n",
      "Epoch: 3, Loss: 0.0015299019357053246, LR: 0.01\n",
      "Epoch: 4, Loss: 0.0015007883757352828, LR: 0.01\n",
      "Epoch: 5, Loss: 0.0014869157056982924, LR: 0.01\n",
      "Epoch: 6, Loss: 0.00147144741234256, LR: 0.01\n",
      "Epoch: 7, Loss: 0.0014599820946047946, LR: 0.01\n",
      "Epoch: 8, Loss: 0.0014503075798110263, LR: 0.01\n",
      "Epoch: 9, Loss: 0.0014506302153918802, LR: 0.01\n",
      "Epoch: 10, Loss: 0.0014360243595227962, LR: 0.01\n",
      "Epoch: 11, Loss: 0.0014345138146383007, LR: 0.01\n",
      "Epoch: 12, Loss: 0.0014307263598209473, LR: 0.01\n",
      "Epoch: 13, Loss: 0.0014249568925398153, LR: 0.01\n",
      "Epoch: 14, Loss: 0.001417346787961518, LR: 0.01\n",
      "Epoch    16: reducing learning rate of group 0 to 1.0000e-03.\n",
      "Epoch: 15, Loss: 0.001417860414923691, LR: 0.001\n",
      "Epoch: 16, Loss: 0.0013316161151339368, LR: 0.001\n",
      "Epoch: 17, Loss: 0.0013265526011949633, LR: 0.001\n",
      "Epoch: 18, Loss: 0.0013242621426175281, LR: 0.001\n",
      "Epoch: 19, Loss: 0.0013233627392751416, LR: 0.001\n",
      "Epoch: 20, Loss: 0.0013224208112896942, LR: 0.001\n",
      "Epoch: 21, Loss: 0.0013208504689902795, LR: 0.001\n",
      "Epoch: 22, Loss: 0.0013198004056040834, LR: 0.001\n",
      "Epoch: 23, Loss: 0.0013180241769406853, LR: 0.001\n",
      "Epoch: 24, Loss: 0.00131765706335626, LR: 0.001\n",
      "Epoch: 25, Loss: 0.0013168599981360318, LR: 0.001\n",
      "Epoch    27: reducing learning rate of group 0 to 1.0000e-04.\n",
      "Epoch: 26, Loss: 0.0013171509730379755, LR: 0.0001\n",
      "Epoch: 27, Loss: 0.001306533023569642, LR: 0.0001\n",
      "Epoch: 28, Loss: 0.0013053166438166688, LR: 0.0001\n",
      "Epoch: 29, Loss: 0.0013053519764324513, LR: 0.0001\n",
      "Epoch: 30, Loss: 0.0013052799200139395, LR: 0.0001\n",
      "Epoch: 31, Loss: 0.0013051179911305266, LR: 0.0001\n",
      "Epoch: 32, Loss: 0.0013048910922393566, LR: 0.0001\n",
      "Epoch: 33, Loss: 0.0013046809490860963, LR: 0.0001\n",
      "Epoch: 34, Loss: 0.0013046864255899337, LR: 0.0001\n",
      "Epoch: 35, Loss: 0.001304573809809801, LR: 0.0001\n",
      "Epoch: 36, Loss: 0.0013045437945098412, LR: 0.0001\n",
      "Epoch    38: reducing learning rate of group 0 to 1.0000e-05.\n",
      "Epoch: 37, Loss: 0.0013044072111932242, LR: 1e-05\n",
      "Epoch: 38, Loss: 0.0013032472375689482, LR: 1e-05\n",
      "Epoch: 39, Loss: 0.0013030848036452037, LR: 1e-05\n",
      "Epoch: 40, Loss: 0.001303033250788363, LR: 1e-05\n",
      "Epoch: 41, Loss: 0.0013029446484112159, LR: 1e-05\n",
      "Epoch: 42, Loss: 0.0013030548632144928, LR: 1e-05\n",
      "Epoch: 43, Loss: 0.0013030304346869632, LR: 1e-05\n",
      "Epoch: 44, Loss: 0.0013029675355044807, LR: 1e-05\n",
      "Epoch: 45, Loss: 0.001302994860018172, LR: 1e-05\n",
      "Epoch: 46, Loss: 0.0013029705081044173, LR: 1e-05\n",
      "Epoch: 47, Loss: 0.001302969930157429, LR: 1e-05\n",
      "Epoch: 48, Loss: 0.0013028333805683182, LR: 1e-05\n",
      "Epoch: 49, Loss: 0.0013029954706750264, LR: 1e-05\n",
      "Epoch: 50, Loss: 0.0013029764538857996, LR: 1e-05\n",
      "Epoch: 51, Loss: 0.0013029458173164506, LR: 1e-05\n",
      "Epoch    53: reducing learning rate of group 0 to 1.0000e-06.\n",
      "Epoch: 52, Loss: 0.0013028829887145902, LR: 1.0000000000000002e-06\n",
      "Epoch: 53, Loss: 0.0013028005102785623, LR: 1.0000000000000002e-06\n",
      "Epoch: 54, Loss: 0.0013026976959007541, LR: 1.0000000000000002e-06\n",
      "Epoch: 55, Loss: 0.0013027284862791619, LR: 1.0000000000000002e-06\n",
      "Epoch: 56, Loss: 0.0013028051754323448, LR: 1.0000000000000002e-06\n",
      "Epoch: 57, Loss: 0.0013028549645732088, LR: 1.0000000000000002e-06\n",
      "Epoch: 58, Loss: 0.0013027985495765034, LR: 1.0000000000000002e-06\n",
      "Epoch: 59, Loss: 0.0013027405735923023, LR: 1.0000000000000002e-06\n",
      "Epoch: 60, Loss: 0.0013026554564150368, LR: 1.0000000000000002e-06\n",
      "Epoch: 61, Loss: 0.0013027259579518947, LR: 1.0000000000000002e-06\n",
      "Epoch: 62, Loss: 0.0013027290603736552, LR: 1.0000000000000002e-06\n",
      "Epoch    64: reducing learning rate of group 0 to 1.0000e-07.\n",
      "Epoch: 63, Loss: 0.0013027632609373186, LR: 1.0000000000000002e-07\n",
      "Epoch: 64, Loss: 0.0013028193162708747, LR: 1.0000000000000002e-07\n",
      "Epoch: 65, Loss: 0.001302741695613396, LR: 1.0000000000000002e-07\n",
      "Epoch: 66, Loss: 0.00130260202579382, LR: 1.0000000000000002e-07\n",
      "Epoch: 67, Loss: 0.0013026630623311532, LR: 1.0000000000000002e-07\n",
      "Epoch: 68, Loss: 0.0013028067005116765, LR: 1.0000000000000002e-07\n",
      "Epoch: 69, Loss: 0.001302730520033255, LR: 1.0000000000000002e-07\n",
      "Epoch: 70, Loss: 0.0013028455701543063, LR: 1.0000000000000002e-07\n",
      "Epoch: 71, Loss: 0.0013027410023823017, LR: 1.0000000000000002e-07\n",
      "Epoch: 72, Loss: 0.0013028134534271753, LR: 1.0000000000000002e-07\n",
      "Epoch: 73, Loss: 0.0013026992267224846, LR: 1.0000000000000002e-07\n",
      "Epoch    75: reducing learning rate of group 0 to 1.0000e-08.\n",
      "Epoch: 74, Loss: 0.001302714074821007, LR: 1.0000000000000004e-08\n",
      "Epoch: 75, Loss: 0.0013027094133743426, LR: 1.0000000000000004e-08\n",
      "Epoch: 76, Loss: 0.0013026883600688562, LR: 1.0000000000000004e-08\n",
      "Epoch: 77, Loss: 0.0013026207650580057, LR: 1.0000000000000004e-08\n",
      "Epoch: 78, Loss: 0.0013026667602905413, LR: 1.0000000000000004e-08\n",
      "Epoch: 79, Loss: 0.0013027016282081605, LR: 1.0000000000000004e-08\n",
      "Epoch: 80, Loss: 0.0013027184806945846, LR: 1.0000000000000004e-08\n",
      "Epoch: 81, Loss: 0.0013027241810065944, LR: 1.0000000000000004e-08\n",
      "Epoch: 82, Loss: 0.0013025994417870917, LR: 1.0000000000000004e-08\n",
      "Epoch: 83, Loss: 0.001302627539198573, LR: 1.0000000000000004e-08\n",
      "Epoch: 84, Loss: 0.0013027853730975128, LR: 1.0000000000000004e-08\n",
      "Epoch: 85, Loss: 0.0013027853470023085, LR: 1.0000000000000004e-08\n",
      "Epoch: 86, Loss: 0.0013027024948742332, LR: 1.0000000000000004e-08\n",
      "Epoch: 87, Loss: 0.0013027436117573482, LR: 1.0000000000000004e-08\n",
      "Epoch: 88, Loss: 0.0013026435916743627, LR: 1.0000000000000004e-08\n",
      "Epoch: 89, Loss: 0.0013027601311119592, LR: 1.0000000000000004e-08\n",
      "Epoch: 90, Loss: 0.0013026889803932934, LR: 1.0000000000000004e-08\n",
      "Epoch: 91, Loss: 0.001302633124226477, LR: 1.0000000000000004e-08\n",
      "Epoch: 92, Loss: 0.001302635886974451, LR: 1.0000000000000004e-08\n",
      "Epoch: 93, Loss: 0.0013027209474546152, LR: 1.0000000000000004e-08\n",
      "Epoch: 94, Loss: 0.0013025791658860882, LR: 1.0000000000000004e-08\n",
      "Epoch: 95, Loss: 0.0013027502418291278, LR: 1.0000000000000004e-08\n",
      "Epoch: 96, Loss: 0.0013029245279184201, LR: 1.0000000000000004e-08\n",
      "Epoch: 97, Loss: 0.0013027861619141043, LR: 1.0000000000000004e-08\n",
      "Epoch: 98, Loss: 0.0013027227049193732, LR: 1.0000000000000004e-08\n",
      "Epoch: 99, Loss: 0.0013026819268377816, LR: 1.0000000000000004e-08\n",
      "Epoch: 100, Loss: 0.0013026317539738446, LR: 1.0000000000000004e-08\n",
      "Epoch: 101, Loss: 0.001302781743538089, LR: 1.0000000000000004e-08\n",
      "Epoch: 102, Loss: 0.0013027599257666891, LR: 1.0000000000000004e-08\n",
      "Epoch: 103, Loss: 0.0013026600701052968, LR: 1.0000000000000004e-08\n",
      "Epoch: 104, Loss: 0.0013026873313799136, LR: 1.0000000000000004e-08\n",
      "Epoch: 105, Loss: 0.0013027284580759886, LR: 1.0000000000000004e-08\n",
      "Epoch: 106, Loss: 0.001302687270321497, LR: 1.0000000000000004e-08\n",
      "Epoch: 107, Loss: 0.0013027716479650359, LR: 1.0000000000000004e-08\n",
      "Epoch: 108, Loss: 0.0013027652798629388, LR: 1.0000000000000004e-08\n",
      "Epoch: 109, Loss: 0.001302771002344969, LR: 1.0000000000000004e-08\n",
      "Epoch: 110, Loss: 0.001302757400419654, LR: 1.0000000000000004e-08\n",
      "Epoch: 111, Loss: 0.0013028233866866042, LR: 1.0000000000000004e-08\n",
      "Epoch: 112, Loss: 0.0013026925032458654, LR: 1.0000000000000004e-08\n",
      "Epoch: 113, Loss: 0.0013026403855986711, LR: 1.0000000000000004e-08\n",
      "Epoch: 114, Loss: 0.0013029132630766893, LR: 1.0000000000000004e-08\n",
      "Epoch: 115, Loss: 0.0013027820757249506, LR: 1.0000000000000004e-08\n",
      "Epoch: 116, Loss: 0.0013026408995070109, LR: 1.0000000000000004e-08\n",
      "Epoch: 117, Loss: 0.0013027903354022562, LR: 1.0000000000000004e-08\n",
      "Epoch: 118, Loss: 0.0013026307090753463, LR: 1.0000000000000004e-08\n",
      "Epoch: 119, Loss: 0.0013027414137270392, LR: 1.0000000000000004e-08\n",
      "Epoch: 120, Loss: 0.0013027318676070469, LR: 1.0000000000000004e-08\n",
      "Epoch: 121, Loss: 0.0013026684680363027, LR: 1.0000000000000004e-08\n",
      "Epoch: 122, Loss: 0.0013027564778560546, LR: 1.0000000000000004e-08\n",
      "Epoch: 123, Loss: 0.0013027348828751866, LR: 1.0000000000000004e-08\n",
      "Epoch: 124, Loss: 0.0013027401948120536, LR: 1.0000000000000004e-08\n",
      "Epoch: 125, Loss: 0.0013026670759044043, LR: 1.0000000000000004e-08\n",
      "Epoch: 126, Loss: 0.0013027744461850423, LR: 1.0000000000000004e-08\n",
      "Epoch: 127, Loss: 0.0013027148355798024, LR: 1.0000000000000004e-08\n",
      "Epoch: 128, Loss: 0.0013027131688304063, LR: 1.0000000000000004e-08\n",
      "Epoch: 129, Loss: 0.0013027208852331813, LR: 1.0000000000000004e-08\n",
      "Epoch: 130, Loss: 0.0013026741483589499, LR: 1.0000000000000004e-08\n",
      "Epoch: 131, Loss: 0.001302739425766759, LR: 1.0000000000000004e-08\n",
      "Epoch: 132, Loss: 0.0013028334515850718, LR: 1.0000000000000004e-08\n",
      "Epoch: 133, Loss: 0.0013028160290747153, LR: 1.0000000000000004e-08\n",
      "Epoch: 134, Loss: 0.001302707157847358, LR: 1.0000000000000004e-08\n",
      "Epoch: 135, Loss: 0.0013026274688360169, LR: 1.0000000000000004e-08\n",
      "Epoch: 136, Loss: 0.0013028021433731404, LR: 1.0000000000000004e-08\n",
      "Epoch: 137, Loss: 0.001302727879983623, LR: 1.0000000000000004e-08\n",
      "Epoch: 138, Loss: 0.0013027023204216144, LR: 1.0000000000000004e-08\n"
     ]
    },
    {
     "ename": "KeyboardInterrupt",
     "evalue": "",
     "output_type": "error",
     "traceback": [
      "\u001b[0;31m---------------------------------------------------------------------------\u001b[0m",
      "\u001b[0;31mKeyboardInterrupt\u001b[0m                         Traceback (most recent call last)",
      "Input \u001b[0;32mIn [81]\u001b[0m, in \u001b[0;36m<module>\u001b[0;34m\u001b[0m\n\u001b[1;32m      1\u001b[0m epochs \u001b[38;5;241m=\u001b[39m \u001b[38;5;241m200\u001b[39m\n\u001b[0;32m----> 2\u001b[0m \u001b[43mtrain\u001b[49m\u001b[43m(\u001b[49m\u001b[43mepochs\u001b[49m\u001b[43m,\u001b[49m\u001b[43m \u001b[49m\u001b[43mtrain_dataloader\u001b[49m\u001b[43m,\u001b[49m\u001b[43m \u001b[49m\u001b[43mmodel\u001b[49m\u001b[43m,\u001b[49m\u001b[43m \u001b[49m\u001b[43mloss_fn\u001b[49m\u001b[43m,\u001b[49m\u001b[43m \u001b[49m\u001b[43moptimizer\u001b[49m\u001b[43m,\u001b[49m\u001b[43mscheduler\u001b[49m\u001b[43m)\u001b[49m\n\u001b[1;32m      3\u001b[0m writer\u001b[38;5;241m.\u001b[39mflush()\n\u001b[1;32m      4\u001b[0m \u001b[38;5;28mprint\u001b[39m(\u001b[38;5;124m\"\u001b[39m\u001b[38;5;124mDone!\u001b[39m\u001b[38;5;124m\"\u001b[39m)\n",
      "Input \u001b[0;32mIn [80]\u001b[0m, in \u001b[0;36mtrain\u001b[0;34m(epochs, dataset, model, loss_fn, optimizer, scheduler)\u001b[0m\n\u001b[1;32m     18\u001b[0m     optimizer\u001b[38;5;241m.\u001b[39mzero_grad() \u001b[38;5;66;03m# to reset the gradients of model parameters.\u001b[39;00m\n\u001b[1;32m     19\u001b[0m     loss\u001b[38;5;241m.\u001b[39mbackward() \u001b[38;5;66;03m# PyTorch deposits the gradients of the loss w.r.t. each parameter.\u001b[39;00m\n\u001b[0;32m---> 20\u001b[0m     \u001b[43moptimizer\u001b[49m\u001b[38;5;241;43m.\u001b[39;49m\u001b[43mstep\u001b[49m\u001b[43m(\u001b[49m\u001b[43m)\u001b[49m \u001b[38;5;66;03m# to adjust the parameters by the gradients collected in the backward pass.\u001b[39;00m\n\u001b[1;32m     22\u001b[0m     running_loss \u001b[38;5;241m+\u001b[39m\u001b[38;5;241m=\u001b[39m loss\u001b[38;5;241m.\u001b[39mitem()\n\u001b[1;32m     23\u001b[0m     \u001b[38;5;66;03m# if batch % 100 == 0:\u001b[39;00m\n\u001b[1;32m     24\u001b[0m     \u001b[38;5;66;03m#     loss, current = loss.item(), batch * len(X)\u001b[39;00m\n\u001b[1;32m     25\u001b[0m     \u001b[38;5;66;03m#     print(f\"loss: {loss:>7f}  [{current:>5d}/{size:>5d}]\")\u001b[39;00m\n\u001b[1;32m     26\u001b[0m \u001b[38;5;66;03m# .. log the running loss\u001b[39;00m\n",
      "File \u001b[0;32m~/anaconda3/envs/pt/lib/python3.8/site-packages/torch/optim/optimizer.py:88\u001b[0m, in \u001b[0;36mOptimizer._hook_for_profile.<locals>.profile_hook_step.<locals>.wrapper\u001b[0;34m(*args, **kwargs)\u001b[0m\n\u001b[1;32m     86\u001b[0m profile_name \u001b[38;5;241m=\u001b[39m \u001b[38;5;124m\"\u001b[39m\u001b[38;5;124mOptimizer.step#\u001b[39m\u001b[38;5;132;01m{}\u001b[39;00m\u001b[38;5;124m.step\u001b[39m\u001b[38;5;124m\"\u001b[39m\u001b[38;5;241m.\u001b[39mformat(obj\u001b[38;5;241m.\u001b[39m\u001b[38;5;18m__class__\u001b[39m\u001b[38;5;241m.\u001b[39m\u001b[38;5;18m__name__\u001b[39m)\n\u001b[1;32m     87\u001b[0m \u001b[38;5;28;01mwith\u001b[39;00m torch\u001b[38;5;241m.\u001b[39mautograd\u001b[38;5;241m.\u001b[39mprofiler\u001b[38;5;241m.\u001b[39mrecord_function(profile_name):\n\u001b[0;32m---> 88\u001b[0m     \u001b[38;5;28;01mreturn\u001b[39;00m \u001b[43mfunc\u001b[49m\u001b[43m(\u001b[49m\u001b[38;5;241;43m*\u001b[39;49m\u001b[43margs\u001b[49m\u001b[43m,\u001b[49m\u001b[43m \u001b[49m\u001b[38;5;241;43m*\u001b[39;49m\u001b[38;5;241;43m*\u001b[39;49m\u001b[43mkwargs\u001b[49m\u001b[43m)\u001b[49m\n",
      "File \u001b[0;32m~/anaconda3/envs/pt/lib/python3.8/site-packages/torch/autograd/grad_mode.py:28\u001b[0m, in \u001b[0;36m_DecoratorContextManager.__call__.<locals>.decorate_context\u001b[0;34m(*args, **kwargs)\u001b[0m\n\u001b[1;32m     25\u001b[0m \u001b[38;5;129m@functools\u001b[39m\u001b[38;5;241m.\u001b[39mwraps(func)\n\u001b[1;32m     26\u001b[0m \u001b[38;5;28;01mdef\u001b[39;00m \u001b[38;5;21mdecorate_context\u001b[39m(\u001b[38;5;241m*\u001b[39margs, \u001b[38;5;241m*\u001b[39m\u001b[38;5;241m*\u001b[39mkwargs):\n\u001b[1;32m     27\u001b[0m     \u001b[38;5;28;01mwith\u001b[39;00m \u001b[38;5;28mself\u001b[39m\u001b[38;5;241m.\u001b[39m\u001b[38;5;18m__class__\u001b[39m():\n\u001b[0;32m---> 28\u001b[0m         \u001b[38;5;28;01mreturn\u001b[39;00m \u001b[43mfunc\u001b[49m\u001b[43m(\u001b[49m\u001b[38;5;241;43m*\u001b[39;49m\u001b[43margs\u001b[49m\u001b[43m,\u001b[49m\u001b[43m \u001b[49m\u001b[38;5;241;43m*\u001b[39;49m\u001b[38;5;241;43m*\u001b[39;49m\u001b[43mkwargs\u001b[49m\u001b[43m)\u001b[49m\n",
      "File \u001b[0;32m~/anaconda3/envs/pt/lib/python3.8/site-packages/torch/optim/adam.py:133\u001b[0m, in \u001b[0;36mAdam.step\u001b[0;34m(self, closure)\u001b[0m\n\u001b[1;32m    130\u001b[0m             \u001b[38;5;66;03m# record the step after step update\u001b[39;00m\n\u001b[1;32m    131\u001b[0m             state_steps\u001b[38;5;241m.\u001b[39mappend(state[\u001b[38;5;124m'\u001b[39m\u001b[38;5;124mstep\u001b[39m\u001b[38;5;124m'\u001b[39m])\n\u001b[0;32m--> 133\u001b[0m     \u001b[43mF\u001b[49m\u001b[38;5;241;43m.\u001b[39;49m\u001b[43madam\u001b[49m\u001b[43m(\u001b[49m\u001b[43mparams_with_grad\u001b[49m\u001b[43m,\u001b[49m\n\u001b[1;32m    134\u001b[0m \u001b[43m           \u001b[49m\u001b[43mgrads\u001b[49m\u001b[43m,\u001b[49m\n\u001b[1;32m    135\u001b[0m \u001b[43m           \u001b[49m\u001b[43mexp_avgs\u001b[49m\u001b[43m,\u001b[49m\n\u001b[1;32m    136\u001b[0m \u001b[43m           \u001b[49m\u001b[43mexp_avg_sqs\u001b[49m\u001b[43m,\u001b[49m\n\u001b[1;32m    137\u001b[0m \u001b[43m           \u001b[49m\u001b[43mmax_exp_avg_sqs\u001b[49m\u001b[43m,\u001b[49m\n\u001b[1;32m    138\u001b[0m \u001b[43m           \u001b[49m\u001b[43mstate_steps\u001b[49m\u001b[43m,\u001b[49m\n\u001b[1;32m    139\u001b[0m \u001b[43m           \u001b[49m\u001b[43mamsgrad\u001b[49m\u001b[38;5;241;43m=\u001b[39;49m\u001b[43mgroup\u001b[49m\u001b[43m[\u001b[49m\u001b[38;5;124;43m'\u001b[39;49m\u001b[38;5;124;43mamsgrad\u001b[39;49m\u001b[38;5;124;43m'\u001b[39;49m\u001b[43m]\u001b[49m\u001b[43m,\u001b[49m\n\u001b[1;32m    140\u001b[0m \u001b[43m           \u001b[49m\u001b[43mbeta1\u001b[49m\u001b[38;5;241;43m=\u001b[39;49m\u001b[43mbeta1\u001b[49m\u001b[43m,\u001b[49m\n\u001b[1;32m    141\u001b[0m \u001b[43m           \u001b[49m\u001b[43mbeta2\u001b[49m\u001b[38;5;241;43m=\u001b[39;49m\u001b[43mbeta2\u001b[49m\u001b[43m,\u001b[49m\n\u001b[1;32m    142\u001b[0m \u001b[43m           \u001b[49m\u001b[43mlr\u001b[49m\u001b[38;5;241;43m=\u001b[39;49m\u001b[43mgroup\u001b[49m\u001b[43m[\u001b[49m\u001b[38;5;124;43m'\u001b[39;49m\u001b[38;5;124;43mlr\u001b[39;49m\u001b[38;5;124;43m'\u001b[39;49m\u001b[43m]\u001b[49m\u001b[43m,\u001b[49m\n\u001b[1;32m    143\u001b[0m \u001b[43m           \u001b[49m\u001b[43mweight_decay\u001b[49m\u001b[38;5;241;43m=\u001b[39;49m\u001b[43mgroup\u001b[49m\u001b[43m[\u001b[49m\u001b[38;5;124;43m'\u001b[39;49m\u001b[38;5;124;43mweight_decay\u001b[39;49m\u001b[38;5;124;43m'\u001b[39;49m\u001b[43m]\u001b[49m\u001b[43m,\u001b[49m\n\u001b[1;32m    144\u001b[0m \u001b[43m           \u001b[49m\u001b[43meps\u001b[49m\u001b[38;5;241;43m=\u001b[39;49m\u001b[43mgroup\u001b[49m\u001b[43m[\u001b[49m\u001b[38;5;124;43m'\u001b[39;49m\u001b[38;5;124;43meps\u001b[39;49m\u001b[38;5;124;43m'\u001b[39;49m\u001b[43m]\u001b[49m\u001b[43m)\u001b[49m\n\u001b[1;32m    145\u001b[0m \u001b[38;5;28;01mreturn\u001b[39;00m loss\n",
      "File \u001b[0;32m~/anaconda3/envs/pt/lib/python3.8/site-packages/torch/optim/_functional.py:86\u001b[0m, in \u001b[0;36madam\u001b[0;34m(params, grads, exp_avgs, exp_avg_sqs, max_exp_avg_sqs, state_steps, amsgrad, beta1, beta2, lr, weight_decay, eps)\u001b[0m\n\u001b[1;32m     83\u001b[0m     grad \u001b[38;5;241m=\u001b[39m grad\u001b[38;5;241m.\u001b[39madd(param, alpha\u001b[38;5;241m=\u001b[39mweight_decay)\n\u001b[1;32m     85\u001b[0m \u001b[38;5;66;03m# Decay the first and second moment running average coefficient\u001b[39;00m\n\u001b[0;32m---> 86\u001b[0m \u001b[43mexp_avg\u001b[49m\u001b[38;5;241;43m.\u001b[39;49m\u001b[43mmul_\u001b[49m\u001b[43m(\u001b[49m\u001b[43mbeta1\u001b[49m\u001b[43m)\u001b[49m\u001b[38;5;241;43m.\u001b[39;49m\u001b[43madd_\u001b[49m\u001b[43m(\u001b[49m\u001b[43mgrad\u001b[49m\u001b[43m,\u001b[49m\u001b[43m \u001b[49m\u001b[43malpha\u001b[49m\u001b[38;5;241;43m=\u001b[39;49m\u001b[38;5;241;43m1\u001b[39;49m\u001b[43m \u001b[49m\u001b[38;5;241;43m-\u001b[39;49m\u001b[43m \u001b[49m\u001b[43mbeta1\u001b[49m\u001b[43m)\u001b[49m\n\u001b[1;32m     87\u001b[0m exp_avg_sq\u001b[38;5;241m.\u001b[39mmul_(beta2)\u001b[38;5;241m.\u001b[39maddcmul_(grad, grad\u001b[38;5;241m.\u001b[39mconj(), value\u001b[38;5;241m=\u001b[39m\u001b[38;5;241m1\u001b[39m \u001b[38;5;241m-\u001b[39m beta2)\n\u001b[1;32m     88\u001b[0m \u001b[38;5;28;01mif\u001b[39;00m amsgrad:\n\u001b[1;32m     89\u001b[0m     \u001b[38;5;66;03m# Maintains the maximum of all 2nd moment running avg. till now\u001b[39;00m\n",
      "\u001b[0;31mKeyboardInterrupt\u001b[0m: "
     ]
    }
   ],
   "source": [
    "epochs = 200\n",
    "train(epochs, train_dataloader, model, loss_fn, optimizer,scheduler)\n",
    "writer.flush()\n",
    "print(\"Done!\")"
   ]
  },
  {
   "cell_type": "code",
   "execution_count": 63,
   "metadata": {},
   "outputs": [
    {
     "name": "stdout",
     "output_type": "stream",
     "text": [
      "Saved PyTorch Model State to model.pth\n"
     ]
    }
   ],
   "source": [
    "# save model\n",
    "torch.save(model.state_dict(), \"model.pth\")\n",
    "print(\"Saved PyTorch Model State to model.pth\")\n",
    "\n",
    "# load model\n",
    "# model = NeuralNetwork()\n",
    "# model.load_state_dict(torch.load(\"model.pth\"))"
   ]
  },
  {
   "cell_type": "markdown",
   "metadata": {},
   "source": [
    "###  Input/Reconstructed Input to/from Autoencoder"
   ]
  },
  {
   "cell_type": "code",
   "execution_count": 58,
   "metadata": {},
   "outputs": [
    {
     "name": "stdout",
     "output_type": "stream",
     "text": [
      "(500, 64)\n",
      "/home/hymc/[0]Github/Deeplearning-Autoencoder-DOA/[3]Pytorch/[1]DOA_implementation/result/8_antenna_500_samples_100_snapshots\n",
      "/home/hymc/[0]Github/Deeplearning-Autoencoder-DOA/[3]Pytorch/[1]DOA_implementation/result/8_antenna_500_samples_100_snapshots/test_data.mat\n"
     ]
    }
   ],
   "source": [
    "# Input test noisy dataset for all snr and stack them together\n",
    "dataset = tf.data.Dataset.list_files(fileName + '/-10dB/test/test_data.*', shuffle=False)\n",
    "# for i in dataset.as_numpy_iterator():\n",
    "#     print(i)\n",
    "data_set = []\n",
    "for i in dataset.as_numpy_iterator():\n",
    "    x_train = sio.loadmat(i)\n",
    "    x_train = x_train['test_data']  # noisy sample covariance matrix\n",
    "    data_set.append(x_train) #NOTE: put all the train_data of different SNR into one list\n",
    "\n",
    "data_test = data_set[0]\n",
    "for i in data_set:\n",
    "    data_test = np.vstack((data_test,i)) # stack all the datasets vertically\n",
    "data_test = data_test[x_train.shape[0]:] # the first dataset is included in twice\n",
    "print(data_test.shape)\n",
    "\n",
    "# scaling\n",
    "# data_test = scaler.fit_transform(data_test)\n",
    "data_test_scale = scaler.fit_transform(np.transpose(data_test))\n",
    "# print(data_test_scale.shape)\n",
    "data_test = np.transpose(data_test_scale)\n",
    "# print(data_test.shape)\n",
    "\n",
    "# export data for MATLAB processing\n",
    "print(savePath)\n",
    "savePath_ = savePath + '/test_data.mat'\n",
    "print(savePath_)\n",
    "savemat(savePath_, {'test_data':data_test})"
   ]
  },
  {
   "cell_type": "code",
   "execution_count": 59,
   "metadata": {},
   "outputs": [
    {
     "name": "stdout",
     "output_type": "stream",
     "text": [
      "/home/hymc/[0]Github/Deeplearning-Autoencoder-DOA/[3]Pytorch/[1]DOA_implementation/result/8_antenna_500_samples_100_snapshots\n",
      "/home/hymc/[0]Github/Deeplearning-Autoencoder-DOA/[3]Pytorch/[1]DOA_implementation/result/8_antenna_500_samples_100_snapshots/test_label.mat\n"
     ]
    }
   ],
   "source": [
    "# Input test label dataset for all snr and stack them together\n",
    "dataset = tf.data.Dataset.list_files(fileName + '/-10dB/test/test_label.*', shuffle=False)\n",
    "# for i in dataset.as_numpy_iterator():\n",
    "#     print(i)\n",
    "data_set = []\n",
    "for i in dataset.as_numpy_iterator():\n",
    "    x_train = sio.loadmat(i)\n",
    "    x_train = x_train['test_label']  # noisy sample covariance matrix\n",
    "    data_set.append(x_train) #NOTE: put all the train_data of different SNR into one list\n",
    "len(data_set) \n",
    "data_label = data_set[0]\n",
    "for i in data_set:\n",
    "    data_label = np.vstack((data_label,i)) # stack all the datasets vertically\n",
    "data_label = data_label[x_train.shape[0]:] # the first dataset is included in twice\n",
    "data_label.shape\n",
    "\n",
    "print(savePath)\n",
    "savePath_ = savePath + '/test_label.mat'\n",
    "print(savePath_)\n",
    "savemat(savePath_, {'test_label':data_label})"
   ]
  },
  {
   "cell_type": "code",
   "execution_count": 60,
   "metadata": {},
   "outputs": [],
   "source": [
    "def reconstructedValue(X, model):\n",
    "    '''Plot the original and reconstructed images together\n",
    "\n",
    "    Args:\n",
    "        X (test data): test dataset\n",
    "        model (model): autoencoder\n",
    "    '''\n",
    "    model.eval() #Tell the model you are going to test so the weights will not be updated\n",
    "    with torch.no_grad():\n",
    "        X = torch.from_numpy(X) # change to numpy\n",
    "        X = X.type(torch.FloatTensor).to(device) # to is one of the operations(methods) in tensor object\n",
    "\n",
    "        pred = model(X)\n",
    "        reconstructed = pred[0]\n",
    "    \n",
    "    return reconstructed"
   ]
  },
  {
   "cell_type": "code",
   "execution_count": 82,
   "metadata": {},
   "outputs": [
    {
     "name": "stdout",
     "output_type": "stream",
     "text": [
      "torch.Size([500, 64])\n",
      "/home/hymc/[0]Github/Deeplearning-Autoencoder-DOA/[3]Pytorch/[1]DOA_implementation/result/8_antenna_500_samples_100_snapshots\n",
      "/home/hymc/[0]Github/Deeplearning-Autoencoder-DOA/[3]Pytorch/[1]DOA_implementation/result/8_antenna_500_samples_100_snapshots/denoised_data.mat\n"
     ]
    }
   ],
   "source": [
    "decoded_data = reconstructedValue(data_test,model)\n",
    "print(decoded_data.shape)\n",
    "decoded_data = decoded_data.cpu().numpy()\n",
    "# Save the denoised data for MATLAB processing\n",
    "print(savePath)\n",
    "savePath_ = savePath + '/denoised_data.mat'\n",
    "print(savePath_)\n",
    "savemat(savePath_, {'denoised_data':decoded_data})"
   ]
  },
  {
   "cell_type": "code",
   "execution_count": 83,
   "metadata": {},
   "outputs": [
    {
     "data": {
      "text/plain": [
       "<matplotlib.legend.Legend at 0x7f7cda90f0a0>"
      ]
     },
     "execution_count": 83,
     "metadata": {},
     "output_type": "execute_result"
    },
    {
     "data": {
      "image/png": "[encoded data removed]",
      "text/plain": [
       "<Figure size 432x288 with 1 Axes>"
      ]
     },
     "metadata": {
      "needs_background": "light"
     },
     "output_type": "display_data"
    }
   ],
   "source": [
    "ind = 40\n",
    "plt.plot(data_test[ind],'b')\n",
    "plt.plot(decoded_data[ind],'k')\n",
    "plt.fill_between(np.arange(64),decoded_data[ind],data_test[ind],color='lightcoral')\n",
    "plt.legend([\"Input\", \"Reconstruction\",\"Error\"])\n",
    "# plt.savefig('SNR_-30_autoencoder_compare.png')"
   ]
  },
  {
   "cell_type": "code",
   "execution_count": 57,
   "metadata": {},
   "outputs": [
    {
     "ename": "FileNotFoundError",
     "evalue": "[Errno 2] No such file or directory: 'vec.mat'",
     "output_type": "error",
     "traceback": [
      "\u001b[0;31m---------------------------------------------------------------------------\u001b[0m",
      "\u001b[0;31mFileNotFoundError\u001b[0m                         Traceback (most recent call last)",
      "File \u001b[0;32m~/anaconda3/envs/pt/lib/python3.8/site-packages/scipy/io/matlab/mio.py:39\u001b[0m, in \u001b[0;36m_open_file\u001b[0;34m(file_like, appendmat, mode)\u001b[0m\n\u001b[1;32m     38\u001b[0m \u001b[38;5;28;01mtry\u001b[39;00m:\n\u001b[0;32m---> 39\u001b[0m     \u001b[38;5;28;01mreturn\u001b[39;00m \u001b[38;5;28;43mopen\u001b[39;49m\u001b[43m(\u001b[49m\u001b[43mfile_like\u001b[49m\u001b[43m,\u001b[49m\u001b[43m \u001b[49m\u001b[43mmode\u001b[49m\u001b[43m)\u001b[49m, \u001b[38;5;28;01mTrue\u001b[39;00m\n\u001b[1;32m     40\u001b[0m \u001b[38;5;28;01mexcept\u001b[39;00m \u001b[38;5;167;01mIOError\u001b[39;00m:\n\u001b[1;32m     41\u001b[0m     \u001b[38;5;66;03m# Probably \"not found\"\u001b[39;00m\n",
      "\u001b[0;31mFileNotFoundError\u001b[0m: [Errno 2] No such file or directory: 'vec'",
      "\nDuring handling of the above exception, another exception occurred:\n",
      "\u001b[0;31mFileNotFoundError\u001b[0m                         Traceback (most recent call last)",
      "Input \u001b[0;32mIn [57]\u001b[0m, in \u001b[0;36m<module>\u001b[0;34m\u001b[0m\n\u001b[1;32m      1\u001b[0m \u001b[38;5;66;03m# RF TEST DATA\u001b[39;00m\n\u001b[0;32m----> 2\u001b[0m x_test \u001b[38;5;241m=\u001b[39m \u001b[43msio\u001b[49m\u001b[38;5;241;43m.\u001b[39;49m\u001b[43mloadmat\u001b[49m\u001b[43m(\u001b[49m\u001b[38;5;124;43m'\u001b[39;49m\u001b[38;5;124;43mvec\u001b[39;49m\u001b[38;5;124;43m'\u001b[39;49m\u001b[43m)\u001b[49m\n\u001b[1;32m      3\u001b[0m test_max \u001b[38;5;241m=\u001b[39m x_test[\u001b[38;5;124m'\u001b[39m\u001b[38;5;124mvec\u001b[39m\u001b[38;5;124m'\u001b[39m]\n\u001b[1;32m      4\u001b[0m test_max \u001b[38;5;241m=\u001b[39m test_max\u001b[38;5;241m.\u001b[39mreshape(\u001b[38;5;241m1\u001b[39m,\u001b[38;5;241m64\u001b[39m)\n",
      "File \u001b[0;32m~/anaconda3/envs/pt/lib/python3.8/site-packages/scipy/io/matlab/mio.py:216\u001b[0m, in \u001b[0;36mloadmat\u001b[0;34m(file_name, mdict, appendmat, **kwargs)\u001b[0m\n\u001b[1;32m     85\u001b[0m \u001b[38;5;124;03m\"\"\"\u001b[39;00m\n\u001b[1;32m     86\u001b[0m \u001b[38;5;124;03mLoad MATLAB file.\u001b[39;00m\n\u001b[1;32m     87\u001b[0m \n\u001b[0;32m   (...)\u001b[0m\n\u001b[1;32m    213\u001b[0m \u001b[38;5;124;03m    3.14159265+3.14159265j])\u001b[39;00m\n\u001b[1;32m    214\u001b[0m \u001b[38;5;124;03m\"\"\"\u001b[39;00m\n\u001b[1;32m    215\u001b[0m variable_names \u001b[38;5;241m=\u001b[39m kwargs\u001b[38;5;241m.\u001b[39mpop(\u001b[38;5;124m'\u001b[39m\u001b[38;5;124mvariable_names\u001b[39m\u001b[38;5;124m'\u001b[39m, \u001b[38;5;28;01mNone\u001b[39;00m)\n\u001b[0;32m--> 216\u001b[0m \u001b[38;5;28;01mwith\u001b[39;00m _open_file_context(file_name, appendmat) \u001b[38;5;28;01mas\u001b[39;00m f:\n\u001b[1;32m    217\u001b[0m     MR, _ \u001b[38;5;241m=\u001b[39m mat_reader_factory(f, \u001b[38;5;241m*\u001b[39m\u001b[38;5;241m*\u001b[39mkwargs)\n\u001b[1;32m    218\u001b[0m     matfile_dict \u001b[38;5;241m=\u001b[39m MR\u001b[38;5;241m.\u001b[39mget_variables(variable_names)\n",
      "File \u001b[0;32m~/anaconda3/envs/pt/lib/python3.8/contextlib.py:113\u001b[0m, in \u001b[0;36m_GeneratorContextManager.__enter__\u001b[0;34m(self)\u001b[0m\n\u001b[1;32m    111\u001b[0m \u001b[38;5;28;01mdel\u001b[39;00m \u001b[38;5;28mself\u001b[39m\u001b[38;5;241m.\u001b[39margs, \u001b[38;5;28mself\u001b[39m\u001b[38;5;241m.\u001b[39mkwds, \u001b[38;5;28mself\u001b[39m\u001b[38;5;241m.\u001b[39mfunc\n\u001b[1;32m    112\u001b[0m \u001b[38;5;28;01mtry\u001b[39;00m:\n\u001b[0;32m--> 113\u001b[0m     \u001b[38;5;28;01mreturn\u001b[39;00m \u001b[38;5;28;43mnext\u001b[39;49m\u001b[43m(\u001b[49m\u001b[38;5;28;43mself\u001b[39;49m\u001b[38;5;241;43m.\u001b[39;49m\u001b[43mgen\u001b[49m\u001b[43m)\u001b[49m\n\u001b[1;32m    114\u001b[0m \u001b[38;5;28;01mexcept\u001b[39;00m \u001b[38;5;167;01mStopIteration\u001b[39;00m:\n\u001b[1;32m    115\u001b[0m     \u001b[38;5;28;01mraise\u001b[39;00m \u001b[38;5;167;01mRuntimeError\u001b[39;00m(\u001b[38;5;124m\"\u001b[39m\u001b[38;5;124mgenerator didn\u001b[39m\u001b[38;5;124m'\u001b[39m\u001b[38;5;124mt yield\u001b[39m\u001b[38;5;124m\"\u001b[39m) \u001b[38;5;28;01mfrom\u001b[39;00m \u001b[38;5;28mNone\u001b[39m\n",
      "File \u001b[0;32m~/anaconda3/envs/pt/lib/python3.8/site-packages/scipy/io/matlab/mio.py:19\u001b[0m, in \u001b[0;36m_open_file_context\u001b[0;34m(file_like, appendmat, mode)\u001b[0m\n\u001b[1;32m     17\u001b[0m \u001b[38;5;129m@contextmanager\u001b[39m\n\u001b[1;32m     18\u001b[0m \u001b[38;5;28;01mdef\u001b[39;00m \u001b[38;5;21m_open_file_context\u001b[39m(file_like, appendmat, mode\u001b[38;5;241m=\u001b[39m\u001b[38;5;124m'\u001b[39m\u001b[38;5;124mrb\u001b[39m\u001b[38;5;124m'\u001b[39m):\n\u001b[0;32m---> 19\u001b[0m     f, opened \u001b[38;5;241m=\u001b[39m \u001b[43m_open_file\u001b[49m\u001b[43m(\u001b[49m\u001b[43mfile_like\u001b[49m\u001b[43m,\u001b[49m\u001b[43m \u001b[49m\u001b[43mappendmat\u001b[49m\u001b[43m,\u001b[49m\u001b[43m \u001b[49m\u001b[43mmode\u001b[49m\u001b[43m)\u001b[49m\n\u001b[1;32m     20\u001b[0m     \u001b[38;5;28;01myield\u001b[39;00m f\n\u001b[1;32m     21\u001b[0m     \u001b[38;5;28;01mif\u001b[39;00m opened:\n",
      "File \u001b[0;32m~/anaconda3/envs/pt/lib/python3.8/site-packages/scipy/io/matlab/mio.py:45\u001b[0m, in \u001b[0;36m_open_file\u001b[0;34m(file_like, appendmat, mode)\u001b[0m\n\u001b[1;32m     43\u001b[0m     \u001b[38;5;28;01mif\u001b[39;00m appendmat \u001b[38;5;129;01mand\u001b[39;00m \u001b[38;5;129;01mnot\u001b[39;00m file_like\u001b[38;5;241m.\u001b[39mendswith(\u001b[38;5;124m'\u001b[39m\u001b[38;5;124m.mat\u001b[39m\u001b[38;5;124m'\u001b[39m):\n\u001b[1;32m     44\u001b[0m         file_like \u001b[38;5;241m+\u001b[39m\u001b[38;5;241m=\u001b[39m \u001b[38;5;124m'\u001b[39m\u001b[38;5;124m.mat\u001b[39m\u001b[38;5;124m'\u001b[39m\n\u001b[0;32m---> 45\u001b[0m     \u001b[38;5;28;01mreturn\u001b[39;00m \u001b[38;5;28;43mopen\u001b[39;49m\u001b[43m(\u001b[49m\u001b[43mfile_like\u001b[49m\u001b[43m,\u001b[49m\u001b[43m \u001b[49m\u001b[43mmode\u001b[49m\u001b[43m)\u001b[49m, \u001b[38;5;28;01mTrue\u001b[39;00m\n\u001b[1;32m     46\u001b[0m \u001b[38;5;28;01melse\u001b[39;00m:\n\u001b[1;32m     47\u001b[0m     \u001b[38;5;28;01mraise\u001b[39;00m \u001b[38;5;167;01mIOError\u001b[39;00m(\u001b[38;5;124m'\u001b[39m\u001b[38;5;124mReader needs file name or open file-like object\u001b[39m\u001b[38;5;124m'\u001b[39m)\n",
      "\u001b[0;31mFileNotFoundError\u001b[0m: [Errno 2] No such file or directory: 'vec.mat'"
     ]
    }
   ],
   "source": [
    "# RF TEST DATA\n",
    "x_test = sio.loadmat('vec')\n",
    "test_max = x_test['vec']\n",
    "test_max = test_max.reshape(1,64)\n",
    "\n",
    "# scaling\n",
    "# data_test = scaler.fit_transform(data_test)\n",
    "test_max_scale = scaler.fit_transform(np.transpose(test_max))\n",
    "# print(data_test_scale.shape)\n",
    "test_data = np.transpose(test_max_scale)\n",
    "# print(data_test.shape)\n",
    "\n",
    "# export data for MATLAB processing\n",
    "print(savePath)\n",
    "savePath_ = savePath + '/test_data.mat'\n",
    "print(savePath_)\n",
    "savemat(savePath_, {'test_data':test_data})"
   ]
  },
  {
   "cell_type": "code",
   "execution_count": null,
   "metadata": {},
   "outputs": [],
   "source": [
    "decoded_data = reconstructedValue(data_test,model)\n",
    "print(decoded_data.shape)\n",
    "\n",
    "# Save the denoised data for MATLAB processing\n",
    "print(savePath)\n",
    "savePath_ = savePath + '/denoised_data.mat'\n",
    "print(savePath_)\n",
    "savemat(savePath_, {'denoised_data':decoded_data})"
   ]
  }
 ],
 "metadata": {
  "interpreter": {
   "hash": "e7b48e2873f2bf9fc322f66cbce100259936f291e167d1f147f978241de7630e"
  },
  "kernelspec": {
   "display_name": "Python 3.8.12 ('basic_NN_study')",
   "language": "python",
   "name": "python3"
  },
  "language_info": {
   "codemirror_mode": {
    "name": "ipython",
    "version": 3
   },
   "file_extension": ".py",
   "mimetype": "text/x-python",
   "name": "python",
   "nbconvert_exporter": "python",
   "pygments_lexer": "ipython3",
   "version": "3.8.0"
  },
  "orig_nbformat": 4
 },
 "nbformat": 4,
 "nbformat_minor": 2
}
