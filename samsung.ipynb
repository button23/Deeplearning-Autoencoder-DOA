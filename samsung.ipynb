{
 "cells": [
  {
   "cell_type": "code",
   "execution_count": 15,
   "metadata": {},
   "outputs": [],
   "source": [
    "# 第一题： 分糖\n",
    "# def function(A: int, B: int, K: int):\n",
    "A, B,K = 500, 2000, 2000000000\n",
    "A_ori = A\n",
    "for i in range(K):\n",
    "    if A <= B:\n",
    "        B = B - A\n",
    "        A = A + A\n",
    "    else:\n",
    "        A = A - B\n",
    "        B = B + B\n",
    "    if A == A_ori:    \n",
    "        K = K % i\n",
    "        break\n",
    "for i in range(K):\n",
    "    if A <= B:\n",
    "        B = B - A\n",
    "        A = A + A\n",
    "    else:\n",
    "        A = A - B\n",
    "        B = B + B     \n",
    "            \n",
    "# if A <= B:\n",
    "#     return A\n",
    "# else:\n",
    "#     return B\n",
    "\n",
    "print(function(500,2000,2000000000))"
   ]
  },
  {
   "cell_type": "code",
   "execution_count": 12,
   "metadata": {},
   "outputs": [],
   "source": [
    "#2：13240 정사각형 글꼴 往有限空间里加字 (fail, copy)\n",
    "\n",
    "T = int(input())\n",
    "for t in range(1, T + 1):\n",
    "    h, w, n = map(int, input().split())\n",
    "    words = [len(i) for i in input().split()]\n",
    "    size = int((h*w/sum(words))**(1/2))\n",
    "    if size == 1:\n",
    "        print('#'+str(t), size)\n",
    "    else:\n",
    "        for i in range(size, 0, -1):\n",
    "            if max(words)*i > w or i > h:\n",
    "                continue\n",
    "            x, y = 0, 0\n",
    "            for word in words:\n",
    "                if x + (1 + word)*i > w or x == 0:\n",
    "                    x = word*i\n",
    "                    y += i\n",
    "                else:\n",
    "                    x += (1 + word)*i\n",
    "            if y > h:\n",
    "                continue\n",
    "            else:\n",
    "                print('#' + str(t), i)\n",
    "                break"
   ]
  },
  {
   "cell_type": "code",
   "execution_count": 97,
   "metadata": {},
   "outputs": [
    {
     "name": "stdout",
     "output_type": "stream",
     "text": [
      "#0 0\n"
     ]
    }
   ],
   "source": [
    " #3 13219 진행률 (success)\n",
    "# import math\n",
    "\n",
    "# T = int(input())\n",
    "# for t in range(1, T + 1):\n",
    "p, x, y, t = 100, 0 , 0, 0\n",
    "# p, x, y = map(int, input().split())\n",
    "dis = ((x-50)**2 + (y-50)**2)**(1/2)\n",
    "if dis > 50:\n",
    "    print('#'+str(t), 0)\n",
    "else:\n",
    "    if x >= 50:\n",
    "        y_ = y - 50\n",
    "        cosv = y_/dis\n",
    "        deg = math.degrees(math.acos(cosv))\n",
    "    else:\n",
    "        y_ = 50 - y\n",
    "        cosv = y_/dis\n",
    "        deg = math.degrees(math.acos(cosv))\n",
    "        deg += 180\n",
    "    pp = (deg/360) * 100\n",
    "    if pp > p:\n",
    "        print('#'+str(t), 0)\n",
    "    else:\n",
    "        print('#'+str(t), 1)\n"
   ]
  },
  {
   "cell_type": "code",
   "execution_count": 1,
   "metadata": {},
   "outputs": [
    {
     "data": {
      "text/plain": [
       "{1: '5282', 3: '47', 5: '3', 7: '5'}"
      ]
     },
     "execution_count": 1,
     "metadata": {},
     "output_type": "execute_result"
    }
   ],
   "source": [
    "#3 13041 게으름뱅이 왕국 \n",
    "N,K,a,b = 8,7,[1,1,3,1,5,3,7,1],[5,2,4,8,3,7,5,2]\n",
    "\n",
    "spare = N - K\n",
    "sett = set()\n",
    "dic = dict()\n",
    "for i in range(1,N+1):\n",
    "    if a[i-1] not in dic:\n",
    "        dic[a[i-1]] = str(b[i-1])\n",
    "    else:\n",
    "        dic[a[i-1]] = dic[a[i-1]]  +str(b[i-1])\n",
    "        \n",
    "# calculate the number of people that we need to persuade\n",
    "num_p = K - len(dic)\n",
    "dic\n"
   ]
  },
  {
   "cell_type": "code",
   "execution_count": 6,
   "metadata": {},
   "outputs": [
    {
     "name": "stdout",
     "output_type": "stream",
     "text": [
      "[<built-in function min>, <built-in function min>, 3, 5]\n",
      "[]\n"
     ]
    }
   ],
   "source": [
    "time_to_use = []\n",
    "wait_use = []\n",
    "midd = []\n",
    "for j in dic:\n",
    "    if len(dic[j])>=2:\n",
    "        for kk in dic[j]:\n",
    "            nn = int(kk)\n",
    "            midd.append(nn)\n",
    "        \n",
    "            # wait_use.append(nn)\n",
    "        time_to_use.append(min)\n",
    "    else:\n",
    "        time_to_use.append(int(dic[j]))\n",
    "        # print(dic[j].split())\n",
    "\n",
    "print(time_to_use)\n",
    "print(wait_use)"
   ]
  },
  {
   "cell_type": "code",
   "execution_count": 2,
   "metadata": {},
   "outputs": [
    {
     "data": {
      "text/plain": [
       "1"
      ]
     },
     "execution_count": 2,
     "metadata": {},
     "output_type": "execute_result"
    }
   ],
   "source": [
    "T = int(input())\n",
    "# 여러개의 테스트 케이스가 주어지므로, 각각을 처리합니다.\n",
    "for test_case in range(1, T + 1):\n",
    "    # ///////////////////////////////////////////////////////////////////////////////////\n",
    " \n",
    "    N, K = map(int, input().split())\n",
    "    a = list(map(int,input().split()))\n",
    "    b = list(map(int,input().split()))\n",
    "    job = []\n",
    "    for i in range(K):\n",
    "        job.append(0)\n",
    "    ying = []\n",
    " \n",
    "    for i in range(N):\n",
    "        ai = a[i]-1\n",
    "        bi = b[i]\n",
    "        if job[ai]==0:\n",
    "            job[ai]=bi\n",
    "        elif job[ai] < bi:\n",
    "            ying.append(job[ai])\n",
    "            job[ai]=bi\n",
    "        else :\n",
    "            ying.append(bi)\n",
    "    ying.sort()\n",
    "    result = 0\n",
    "    for i in range(job.count(0)):\n",
    "        result += ying[i]\n",
    "    print(\"#{} {}\".format(test_case, result))\n",
    "         "
   ]
  }
 ],
 "metadata": {
  "interpreter": {
   "hash": "056d33f82894d77c08e01646fecb0c4c6ec46e00d9012eafb831c08828e2ed21"
  },
  "kernelspec": {
   "display_name": "Python 3.9.7 ('base')",
   "language": "python",
   "name": "python3"
  },
  "language_info": {
   "codemirror_mode": {
    "name": "ipython",
    "version": 3
   },
   "file_extension": ".py",
   "mimetype": "text/x-python",
   "name": "python",
   "nbconvert_exporter": "python",
   "pygments_lexer": "ipython3",
   "version": "3.9.7"
  },
  "orig_nbformat": 4
 },
 "nbformat": 4,
 "nbformat_minor": 2
}
