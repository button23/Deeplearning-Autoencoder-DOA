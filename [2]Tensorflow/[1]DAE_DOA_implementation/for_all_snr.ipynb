{
 "cells": [
  {
   "cell_type": "code",
   "execution_count": 45,
   "id": "963a7333",
   "metadata": {},
   "outputs": [],
   "source": [
    "import matplotlib.pyplot as plt\n",
    "import numpy as np\n",
    "import time\n",
    "import tensorflow as tf\n",
    "from scipy.io import loadmat, savemat\n",
    "import os\n",
    "# from sklearn.metrics import accuracy_score, precision_score, recall_score\n",
    "from tensorflow.keras import layers, losses\n",
    "from tensorflow.keras.models import Model\n",
    "import scipy.io as sio\n",
    "from tensorflow.keras.callbacks import TensorBoard, EarlyStopping, ModelCheckpoint, ReduceLROnPlateau\n",
    "from sklearn.preprocessing import MinMaxScaler,StandardScaler\n",
    "\n",
    "\n",
    "dense_layers = [0, 1, 2, 3]\n",
    "dense_sizes = [32, 64, 128, 256, 512]\n",
    "conv_layers = [1, 2, 3, 4]\n",
    "num_filters = [32, 64, 128, 256]\n",
    "kernel_sizes = [2000, 2250, 2500, 2750, 3000]"
   ]
  },
  {
   "cell_type": "code",
   "execution_count": 32,
   "id": "8a0fef20",
   "metadata": {},
   "outputs": [
    {
     "name": "stdout",
     "output_type": "stream",
     "text": [
      "/home/hymc/[0]Github/Deeplearning-Autoencoder-DOA/[2]Tensorflow/[1]DAE_DOA_implementation/result/random_single source_100snapshots_1000sample\n"
     ]
    }
   ],
   "source": [
    "basePath = 'random_single source_100snapshots_1000sample'\n",
    "\n",
    "# UBUNTU path\n",
    "filePath = '/home/hymc/[0]Github/Deeplearning-Autoencoder-DOA/[2]Tensorflow/[1]DAE_DOA_implementation'\n",
    "#  MAC path:\n",
    "# filePath = '/Users/button/Deeplearning-Autoencoder-DOA/data'\n",
    "savePath = filePath + '/result'  + '/'+basePath\n",
    "\n",
    "if not os.path.isdir(savePath):\n",
    "    os.makedirs(savePath)\n",
    "print(savePath)"
   ]
  },
  {
   "cell_type": "code",
   "execution_count": 49,
   "id": "36078a82",
   "metadata": {},
   "outputs": [
    {
     "data": {
      "text/plain": [
       "(205000, 400)"
      ]
     },
     "execution_count": 49,
     "metadata": {},
     "output_type": "execute_result"
    }
   ],
   "source": [
    "# Input train noisy dataset for all snr and stack them together\n",
    "dataset = tf.data.Dataset.list_files(basePath+'/*/train/train_data.*', shuffle=False)\n",
    "# for i in dataset.as_numpy_iterator():\n",
    "#     print(i)\n",
    "data_set = []\n",
    "for i in dataset.as_numpy_iterator():\n",
    "    x_train = sio.loadmat(i)\n",
    "    x_train = x_train['train_data']  # noisy sample covariance matrix\n",
    "    data_set.append(x_train) #NOTE: put all the train_data of different SNR into one list\n",
    "len(data_set) \n",
    "\n",
    "data_train = data_set[0]\n",
    "for i in data_set:\n",
    "    data_train = np.vstack((data_train,i)) # stack all the datasets vertically\n",
    "    \n",
    "data_train = data_train[5000:] # the first dataset is included in twice\n",
    "data_train.shape"
   ]
  },
  {
   "cell_type": "code",
   "execution_count": 50,
   "id": "7424f1d6",
   "metadata": {},
   "outputs": [
    {
     "data": {
      "text/plain": [
       "(205000, 400)"
      ]
     },
     "execution_count": 50,
     "metadata": {},
     "output_type": "execute_result"
    }
   ],
   "source": [
    "# Input train noiseless dataset for all snr and stack them together\n",
    "dataset = tf.data.Dataset.list_files(basePath + '/*/train/train_origin_data.*', shuffle=False)\n",
    "# for i in dataset.as_numpy_iterator():\n",
    "#     print(i)\n",
    "data_set = []\n",
    "for i in dataset.as_numpy_iterator():\n",
    "    x_train = sio.loadmat(i)\n",
    "    x_train = x_train['train_origin_data']  # noisy sample covariance matrix\n",
    "    data_set.append(x_train) #NOTE: put all the train_data of different SNR into one list\n",
    "len(data_set) \n",
    "\n",
    "data_origin = data_set[0]\n",
    "for i in data_set:\n",
    "    data_origin = np.vstack((data_origin,i)) # stack all the datasets vertically\n",
    "    \n",
    "data_origin = data_origin[5000:] # the first dataset is included in twice\n",
    "data_origin.shape"
   ]
  },
  {
   "cell_type": "code",
   "execution_count": 51,
   "id": "ab6a72fa",
   "metadata": {},
   "outputs": [
    {
     "name": "stdout",
     "output_type": "stream",
     "text": [
      "[     0      1      2 ... 204997 204998 204999]\n"
     ]
    }
   ],
   "source": [
    "# train data shuffle\n",
    "np.random.seed(2020)\n",
    "index = np.arange(data_train.shape[0])\n",
    "print(index)\n",
    "np.random.shuffle(index)\n",
    "data_train = data_train[index]\n",
    "data_origin = data_origin[index]"
   ]
  },
  {
   "cell_type": "code",
   "execution_count": 52,
   "id": "cc40a474",
   "metadata": {},
   "outputs": [
    {
     "name": "stdout",
     "output_type": "stream",
     "text": [
      "(400, 205000)\n",
      "(400, 205000)\n"
     ]
    }
   ],
   "source": [
    "## scaling\n",
    "scaler = StandardScaler()\n",
    "data_train_scale = scaler.fit_transform(np.transpose(data_train))\n",
    "data_origin_scale = scaler.fit_transform(np.transpose(data_origin))\n",
    "print(data_train_scale.shape)\n",
    "print(data_origin_scale.shape)\n",
    "data_train = np.transpose(data_train_scale)\n",
    "data_origin = np.transpose(data_origin_scale)"
   ]
  },
  {
   "cell_type": "code",
   "execution_count": 53,
   "id": "4762260e",
   "metadata": {},
   "outputs": [
    {
     "name": "stdout",
     "output_type": "stream",
     "text": [
      "/home/hymc/[0]Github/Deeplearning-Autoencoder-DOA/[2]Tensorflow/[1]DAE_DOA_implementation/result/random_single source_100snapshots_1000sample/save_models\n"
     ]
    }
   ],
   "source": [
    "# Model configuration\n",
    "nSample = x_train.shape[0]\n",
    "epoch = 100\n",
    "batch_size = 64\n",
    "validation_split = 0.2\n",
    "\n",
    "save_dir = os.path.join(savePath, 'save_models')\n",
    "if not os.path.isdir(save_dir):\n",
    "    os.makedirs(save_dir)\n",
    "print(save_dir)"
   ]
  },
  {
   "cell_type": "code",
   "execution_count": 54,
   "id": "f1cfae90",
   "metadata": {},
   "outputs": [],
   "source": [
    "class DOA_Denoising(Model):\n",
    "    def __init__(self):\n",
    "        super(DOA_Denoising, self).__init__()\n",
    "        self.encoder = tf.keras.Sequential([\n",
    "            layers.Dense(300, activation='relu'),\n",
    "            # layers.Dropout(0.2),\n",
    "            layers.Dense(200, activation='relu'),\n",
    "            # layers.Dropout(0.2),\n",
    "            layers.Dense(100, activation='relu')]) # * 300 200 100\n",
    "        \n",
    "        self.decoder = tf.keras.Sequential([\n",
    "            layers.Dense(200, activation='relu'), #* 200 300 400\n",
    "            # layers.Dropout(0.2),\n",
    "            layers.Dense(300, activation='relu'),\n",
    "            # layers.Dropout(0.2),\n",
    "            layers.Dense(400, activation='linear')])\n",
    "\n",
    "    def call(self, x):\n",
    "        encoded = self.encoder(x)\n",
    "        decoded = self.decoder(encoded)\n",
    "        return decoded\n",
    "    \n",
    "autoencoder = DOA_Denoising() "
   ]
  },
  {
   "cell_type": "code",
   "execution_count": 9,
   "id": "c90774e5",
   "metadata": {
    "scrolled": true
   },
   "outputs": [],
   "source": [
    "# %reload_ext tensorboard\n",
    "# %tensorboard --logdir logs"
   ]
  },
  {
   "cell_type": "code",
   "execution_count": 55,
   "id": "0c0f052d",
   "metadata": {
    "scrolled": true
   },
   "outputs": [
    {
     "name": "stdout",
     "output_type": "stream",
     "text": [
      "epoch-100-batch-64-dense-300-200-100-time-1645807185\n",
      "/home/hymc/[0]Github/Deeplearning-Autoencoder-DOA/[2]Tensorflow/[1]DAE_DOA_implementation/result/random_single source_100snapshots_1000sample/save_models/epoch-100-batch-64-dense-300-200-100-time-1645807185\n"
     ]
    }
   ],
   "source": [
    "model_name = (\n",
    "    f\"epoch-{epoch}-batch-{batch_size}-dense-300-200-100-time-{int(time.time())}\"\n",
    ")\n",
    "print(model_name)\n",
    "\n",
    "file_path = os.path.join(save_dir, model_name)\n",
    "print(file_path)\n",
    "\n",
    "# callbacks_list\n",
    "callbacks_list = [\n",
    "    EarlyStopping(monitor=\"val_loss\", mode=\"min\", verbose=0, patience=50),\n",
    "    ModelCheckpoint(\n",
    "        filepath=file_path,\n",
    "        monitor=\"val_loss\",\n",
    "        verbose=0,\n",
    "        save_best_only=True,\n",
    "        save_weights_only=False,\n",
    "        mode=\"min\",\n",
    "    ),\n",
    "    # TensorBoard(\n",
    "    #     log_dir=\"./logs/{}\".format(model_name),\n",
    "    #     histogram_freq=1,\n",
    "    #     write_graph=False,\n",
    "    #     write_images=False,\n",
    "    # ),\n",
    "    ReduceLROnPlateau(\n",
    "        monitor=\"val_loss\",\n",
    "        factor=0.1,\n",
    "        patience=10,\n",
    "        verbose=0,\n",
    "        mode=\"min\",\n",
    "        min_delta=0.0001,\n",
    "        cooldown=0,\n",
    "        min_lr=0,\n",
    "    ),\n",
    "]\n",
    "\n",
    "autoencoder.compile(optimizer=\"adam\", loss=\"mse\")"
   ]
  },
  {
   "cell_type": "code",
   "execution_count": 56,
   "id": "0237f323",
   "metadata": {},
   "outputs": [
    {
     "name": "stdout",
     "output_type": "stream",
     "text": [
      "Epoch 1/100\n",
      "2563/2563 [==============================] - 5s 2ms/step - loss: 0.1779 - val_loss: 0.1483\n",
      "Epoch 2/100\n",
      "2563/2563 [==============================] - 6s 2ms/step - loss: 0.1432 - val_loss: 0.1432\n",
      "Epoch 3/100\n",
      "2563/2563 [==============================] - 6s 2ms/step - loss: 0.1358 - val_loss: 0.1425\n",
      "Epoch 4/100\n",
      "2563/2563 [==============================] - 6s 2ms/step - loss: 0.1312 - val_loss: 0.1438\n",
      "Epoch 5/100\n",
      "2563/2563 [==============================] - 5s 2ms/step - loss: 0.1270 - val_loss: 0.1430\n",
      "Epoch 6/100\n",
      "2563/2563 [==============================] - 5s 2ms/step - loss: 0.1233 - val_loss: 0.1441\n",
      "Epoch 7/100\n",
      "2563/2563 [==============================] - 5s 2ms/step - loss: 0.1202 - val_loss: 0.1432\n",
      "Epoch 8/100\n",
      "2563/2563 [==============================] - 5s 2ms/step - loss: 0.1168 - val_loss: 0.1437\n",
      "Epoch 9/100\n",
      "2563/2563 [==============================] - 5s 2ms/step - loss: 0.1143 - val_loss: 0.1395\n",
      "Epoch 10/100\n",
      "2563/2563 [==============================] - 7s 3ms/step - loss: 0.1113 - val_loss: 0.1431\n",
      "Epoch 11/100\n",
      "2563/2563 [==============================] - 5s 2ms/step - loss: 0.1089 - val_loss: 0.1443\n",
      "Epoch 12/100\n",
      "2563/2563 [==============================] - 5s 2ms/step - loss: 0.1065 - val_loss: 0.1436\n",
      "Epoch 13/100\n",
      "2563/2563 [==============================] - 5s 2ms/step - loss: 0.1040 - val_loss: 0.1425\n",
      "Epoch 14/100\n",
      "2563/2563 [==============================] - 5s 2ms/step - loss: 0.1021 - val_loss: 0.1488\n",
      "Epoch 15/100\n",
      "2563/2563 [==============================] - 5s 2ms/step - loss: 0.0999 - val_loss: 0.1468\n",
      "Epoch 16/100\n",
      "2563/2563 [==============================] - 5s 2ms/step - loss: 0.0981 - val_loss: 0.1494\n",
      "Epoch 17/100\n",
      "2563/2563 [==============================] - 5s 2ms/step - loss: 0.0963 - val_loss: 0.1483\n",
      "Epoch 18/100\n",
      "2563/2563 [==============================] - 5s 2ms/step - loss: 0.0947 - val_loss: 0.1467\n",
      "Epoch 19/100\n",
      "2563/2563 [==============================] - 5s 2ms/step - loss: 0.0934 - val_loss: 0.1469\n",
      "Epoch 20/100\n",
      "2563/2563 [==============================] - 6s 2ms/step - loss: 0.0794 - val_loss: 0.1458\n",
      "Epoch 21/100\n",
      "2563/2563 [==============================] - 5s 2ms/step - loss: 0.0761 - val_loss: 0.1462\n",
      "Epoch 22/100\n",
      "2563/2563 [==============================] - 5s 2ms/step - loss: 0.0740 - val_loss: 0.1470\n",
      "Epoch 23/100\n",
      "2563/2563 [==============================] - 5s 2ms/step - loss: 0.0722 - val_loss: 0.1481\n",
      "Epoch 24/100\n",
      "2563/2563 [==============================] - 5s 2ms/step - loss: 0.0707 - val_loss: 0.1487\n",
      "Epoch 25/100\n",
      "2563/2563 [==============================] - 5s 2ms/step - loss: 0.0694 - val_loss: 0.1491\n",
      "Epoch 26/100\n",
      "2563/2563 [==============================] - 5s 2ms/step - loss: 0.0682 - val_loss: 0.1497\n",
      "Epoch 27/100\n",
      "2563/2563 [==============================] - 5s 2ms/step - loss: 0.0671 - val_loss: 0.1505\n",
      "Epoch 28/100\n",
      "2563/2563 [==============================] - 5s 2ms/step - loss: 0.0661 - val_loss: 0.1508\n",
      "Epoch 29/100\n",
      "2563/2563 [==============================] - 5s 2ms/step - loss: 0.0651 - val_loss: 0.1516\n",
      "Epoch 30/100\n",
      "2563/2563 [==============================] - 5s 2ms/step - loss: 0.0636 - val_loss: 0.1515\n",
      "Epoch 31/100\n",
      "2563/2563 [==============================] - 5s 2ms/step - loss: 0.0634 - val_loss: 0.1516\n",
      "Epoch 32/100\n",
      "2563/2563 [==============================] - 5s 2ms/step - loss: 0.0632 - val_loss: 0.1517\n",
      "Epoch 33/100\n",
      "2563/2563 [==============================] - 5s 2ms/step - loss: 0.0630 - val_loss: 0.1519\n",
      "Epoch 34/100\n",
      "2563/2563 [==============================] - 5s 2ms/step - loss: 0.0629 - val_loss: 0.1520\n",
      "Epoch 35/100\n",
      "2563/2563 [==============================] - 5s 2ms/step - loss: 0.0628 - val_loss: 0.1520\n",
      "Epoch 36/100\n",
      "2563/2563 [==============================] - 5s 2ms/step - loss: 0.0626 - val_loss: 0.1521\n",
      "Epoch 37/100\n",
      "2563/2563 [==============================] - 5s 2ms/step - loss: 0.0625 - val_loss: 0.1522\n",
      "Epoch 38/100\n",
      "2563/2563 [==============================] - 5s 2ms/step - loss: 0.0624 - val_loss: 0.1522\n",
      "Epoch 39/100\n",
      "2563/2563 [==============================] - 5s 2ms/step - loss: 0.0623 - val_loss: 0.1524\n",
      "Epoch 40/100\n",
      "2563/2563 [==============================] - 5s 2ms/step - loss: 0.0621 - val_loss: 0.1523\n",
      "Epoch 41/100\n",
      "2563/2563 [==============================] - 5s 2ms/step - loss: 0.0621 - val_loss: 0.1523\n",
      "Epoch 42/100\n",
      "2563/2563 [==============================] - 5s 2ms/step - loss: 0.0620 - val_loss: 0.1524\n",
      "Epoch 43/100\n",
      "2563/2563 [==============================] - 5s 2ms/step - loss: 0.0620 - val_loss: 0.1524\n",
      "Epoch 44/100\n",
      "1331/2563 [==============>...............] - ETA: 2s - loss: 0.0631"
     ]
    },
    {
     "ename": "KeyboardInterrupt",
     "evalue": "",
     "output_type": "error",
     "traceback": [
      "\u001b[0;31m---------------------------------------------------------------------------\u001b[0m",
      "\u001b[0;31mKeyboardInterrupt\u001b[0m                         Traceback (most recent call last)",
      "\u001b[0;32m/tmp/ipykernel_3682/863110123.py\u001b[0m in \u001b[0;36m<module>\u001b[0;34m\u001b[0m\n\u001b[0;32m----> 1\u001b[0;31m history = autoencoder.fit(\n\u001b[0m\u001b[1;32m      2\u001b[0m     \u001b[0;31m# dataset_final.take(num_train),\u001b[0m\u001b[0;34m\u001b[0m\u001b[0;34m\u001b[0m\u001b[0;34m\u001b[0m\u001b[0m\n\u001b[1;32m      3\u001b[0m     \u001b[0mdata_train\u001b[0m\u001b[0;34m,\u001b[0m\u001b[0;34m\u001b[0m\u001b[0;34m\u001b[0m\u001b[0m\n\u001b[1;32m      4\u001b[0m     \u001b[0mdata_origin\u001b[0m\u001b[0;34m,\u001b[0m\u001b[0;34m\u001b[0m\u001b[0;34m\u001b[0m\u001b[0m\n\u001b[1;32m      5\u001b[0m     \u001b[0mepochs\u001b[0m\u001b[0;34m=\u001b[0m\u001b[0mepoch\u001b[0m\u001b[0;34m,\u001b[0m\u001b[0;34m\u001b[0m\u001b[0;34m\u001b[0m\u001b[0m\n",
      "\u001b[0;32m~/anaconda3/envs/tf_2_3/lib/python3.8/site-packages/tensorflow/python/keras/engine/training.py\u001b[0m in \u001b[0;36m_method_wrapper\u001b[0;34m(self, *args, **kwargs)\u001b[0m\n\u001b[1;32m    106\u001b[0m   \u001b[0;32mdef\u001b[0m \u001b[0m_method_wrapper\u001b[0m\u001b[0;34m(\u001b[0m\u001b[0mself\u001b[0m\u001b[0;34m,\u001b[0m \u001b[0;34m*\u001b[0m\u001b[0margs\u001b[0m\u001b[0;34m,\u001b[0m \u001b[0;34m**\u001b[0m\u001b[0mkwargs\u001b[0m\u001b[0;34m)\u001b[0m\u001b[0;34m:\u001b[0m\u001b[0;34m\u001b[0m\u001b[0;34m\u001b[0m\u001b[0m\n\u001b[1;32m    107\u001b[0m     \u001b[0;32mif\u001b[0m \u001b[0;32mnot\u001b[0m \u001b[0mself\u001b[0m\u001b[0;34m.\u001b[0m\u001b[0m_in_multi_worker_mode\u001b[0m\u001b[0;34m(\u001b[0m\u001b[0;34m)\u001b[0m\u001b[0;34m:\u001b[0m  \u001b[0;31m# pylint: disable=protected-access\u001b[0m\u001b[0;34m\u001b[0m\u001b[0;34m\u001b[0m\u001b[0m\n\u001b[0;32m--> 108\u001b[0;31m       \u001b[0;32mreturn\u001b[0m \u001b[0mmethod\u001b[0m\u001b[0;34m(\u001b[0m\u001b[0mself\u001b[0m\u001b[0;34m,\u001b[0m \u001b[0;34m*\u001b[0m\u001b[0margs\u001b[0m\u001b[0;34m,\u001b[0m \u001b[0;34m**\u001b[0m\u001b[0mkwargs\u001b[0m\u001b[0;34m)\u001b[0m\u001b[0;34m\u001b[0m\u001b[0;34m\u001b[0m\u001b[0m\n\u001b[0m\u001b[1;32m    109\u001b[0m \u001b[0;34m\u001b[0m\u001b[0m\n\u001b[1;32m    110\u001b[0m     \u001b[0;31m# Running inside `run_distribute_coordinator` already.\u001b[0m\u001b[0;34m\u001b[0m\u001b[0;34m\u001b[0m\u001b[0;34m\u001b[0m\u001b[0m\n",
      "\u001b[0;32m~/anaconda3/envs/tf_2_3/lib/python3.8/site-packages/tensorflow/python/keras/engine/training.py\u001b[0m in \u001b[0;36mfit\u001b[0;34m(self, x, y, batch_size, epochs, verbose, callbacks, validation_split, validation_data, shuffle, class_weight, sample_weight, initial_epoch, steps_per_epoch, validation_steps, validation_batch_size, validation_freq, max_queue_size, workers, use_multiprocessing)\u001b[0m\n\u001b[1;32m   1096\u001b[0m                 batch_size=batch_size):\n\u001b[1;32m   1097\u001b[0m               \u001b[0mcallbacks\u001b[0m\u001b[0;34m.\u001b[0m\u001b[0mon_train_batch_begin\u001b[0m\u001b[0;34m(\u001b[0m\u001b[0mstep\u001b[0m\u001b[0;34m)\u001b[0m\u001b[0;34m\u001b[0m\u001b[0;34m\u001b[0m\u001b[0m\n\u001b[0;32m-> 1098\u001b[0;31m               \u001b[0mtmp_logs\u001b[0m \u001b[0;34m=\u001b[0m \u001b[0mtrain_function\u001b[0m\u001b[0;34m(\u001b[0m\u001b[0miterator\u001b[0m\u001b[0;34m)\u001b[0m\u001b[0;34m\u001b[0m\u001b[0;34m\u001b[0m\u001b[0m\n\u001b[0m\u001b[1;32m   1099\u001b[0m               \u001b[0;32mif\u001b[0m \u001b[0mdata_handler\u001b[0m\u001b[0;34m.\u001b[0m\u001b[0mshould_sync\u001b[0m\u001b[0;34m:\u001b[0m\u001b[0;34m\u001b[0m\u001b[0;34m\u001b[0m\u001b[0m\n\u001b[1;32m   1100\u001b[0m                 \u001b[0mcontext\u001b[0m\u001b[0;34m.\u001b[0m\u001b[0masync_wait\u001b[0m\u001b[0;34m(\u001b[0m\u001b[0;34m)\u001b[0m\u001b[0;34m\u001b[0m\u001b[0;34m\u001b[0m\u001b[0m\n",
      "\u001b[0;32m~/anaconda3/envs/tf_2_3/lib/python3.8/site-packages/tensorflow/python/eager/def_function.py\u001b[0m in \u001b[0;36m__call__\u001b[0;34m(self, *args, **kwds)\u001b[0m\n\u001b[1;32m    778\u001b[0m       \u001b[0;32melse\u001b[0m\u001b[0;34m:\u001b[0m\u001b[0;34m\u001b[0m\u001b[0;34m\u001b[0m\u001b[0m\n\u001b[1;32m    779\u001b[0m         \u001b[0mcompiler\u001b[0m \u001b[0;34m=\u001b[0m \u001b[0;34m\"nonXla\"\u001b[0m\u001b[0;34m\u001b[0m\u001b[0;34m\u001b[0m\u001b[0m\n\u001b[0;32m--> 780\u001b[0;31m         \u001b[0mresult\u001b[0m \u001b[0;34m=\u001b[0m \u001b[0mself\u001b[0m\u001b[0;34m.\u001b[0m\u001b[0m_call\u001b[0m\u001b[0;34m(\u001b[0m\u001b[0;34m*\u001b[0m\u001b[0margs\u001b[0m\u001b[0;34m,\u001b[0m \u001b[0;34m**\u001b[0m\u001b[0mkwds\u001b[0m\u001b[0;34m)\u001b[0m\u001b[0;34m\u001b[0m\u001b[0;34m\u001b[0m\u001b[0m\n\u001b[0m\u001b[1;32m    781\u001b[0m \u001b[0;34m\u001b[0m\u001b[0m\n\u001b[1;32m    782\u001b[0m       \u001b[0mnew_tracing_count\u001b[0m \u001b[0;34m=\u001b[0m \u001b[0mself\u001b[0m\u001b[0;34m.\u001b[0m\u001b[0m_get_tracing_count\u001b[0m\u001b[0;34m(\u001b[0m\u001b[0;34m)\u001b[0m\u001b[0;34m\u001b[0m\u001b[0;34m\u001b[0m\u001b[0m\n",
      "\u001b[0;32m~/anaconda3/envs/tf_2_3/lib/python3.8/site-packages/tensorflow/python/eager/def_function.py\u001b[0m in \u001b[0;36m_call\u001b[0;34m(self, *args, **kwds)\u001b[0m\n\u001b[1;32m    805\u001b[0m       \u001b[0;31m# In this case we have created variables on the first call, so we run the\u001b[0m\u001b[0;34m\u001b[0m\u001b[0;34m\u001b[0m\u001b[0;34m\u001b[0m\u001b[0m\n\u001b[1;32m    806\u001b[0m       \u001b[0;31m# defunned version which is guaranteed to never create variables.\u001b[0m\u001b[0;34m\u001b[0m\u001b[0;34m\u001b[0m\u001b[0;34m\u001b[0m\u001b[0m\n\u001b[0;32m--> 807\u001b[0;31m       \u001b[0;32mreturn\u001b[0m \u001b[0mself\u001b[0m\u001b[0;34m.\u001b[0m\u001b[0m_stateless_fn\u001b[0m\u001b[0;34m(\u001b[0m\u001b[0;34m*\u001b[0m\u001b[0margs\u001b[0m\u001b[0;34m,\u001b[0m \u001b[0;34m**\u001b[0m\u001b[0mkwds\u001b[0m\u001b[0;34m)\u001b[0m  \u001b[0;31m# pylint: disable=not-callable\u001b[0m\u001b[0;34m\u001b[0m\u001b[0;34m\u001b[0m\u001b[0m\n\u001b[0m\u001b[1;32m    808\u001b[0m     \u001b[0;32melif\u001b[0m \u001b[0mself\u001b[0m\u001b[0;34m.\u001b[0m\u001b[0m_stateful_fn\u001b[0m \u001b[0;32mis\u001b[0m \u001b[0;32mnot\u001b[0m \u001b[0;32mNone\u001b[0m\u001b[0;34m:\u001b[0m\u001b[0;34m\u001b[0m\u001b[0;34m\u001b[0m\u001b[0m\n\u001b[1;32m    809\u001b[0m       \u001b[0;31m# Release the lock early so that multiple threads can perform the call\u001b[0m\u001b[0;34m\u001b[0m\u001b[0;34m\u001b[0m\u001b[0;34m\u001b[0m\u001b[0m\n",
      "\u001b[0;32m~/anaconda3/envs/tf_2_3/lib/python3.8/site-packages/tensorflow/python/eager/function.py\u001b[0m in \u001b[0;36m__call__\u001b[0;34m(self, *args, **kwargs)\u001b[0m\n\u001b[1;32m   2827\u001b[0m     \u001b[0;32mwith\u001b[0m \u001b[0mself\u001b[0m\u001b[0;34m.\u001b[0m\u001b[0m_lock\u001b[0m\u001b[0;34m:\u001b[0m\u001b[0;34m\u001b[0m\u001b[0;34m\u001b[0m\u001b[0m\n\u001b[1;32m   2828\u001b[0m       \u001b[0mgraph_function\u001b[0m\u001b[0;34m,\u001b[0m \u001b[0margs\u001b[0m\u001b[0;34m,\u001b[0m \u001b[0mkwargs\u001b[0m \u001b[0;34m=\u001b[0m \u001b[0mself\u001b[0m\u001b[0;34m.\u001b[0m\u001b[0m_maybe_define_function\u001b[0m\u001b[0;34m(\u001b[0m\u001b[0margs\u001b[0m\u001b[0;34m,\u001b[0m \u001b[0mkwargs\u001b[0m\u001b[0;34m)\u001b[0m\u001b[0;34m\u001b[0m\u001b[0;34m\u001b[0m\u001b[0m\n\u001b[0;32m-> 2829\u001b[0;31m     \u001b[0;32mreturn\u001b[0m \u001b[0mgraph_function\u001b[0m\u001b[0;34m.\u001b[0m\u001b[0m_filtered_call\u001b[0m\u001b[0;34m(\u001b[0m\u001b[0margs\u001b[0m\u001b[0;34m,\u001b[0m \u001b[0mkwargs\u001b[0m\u001b[0;34m)\u001b[0m  \u001b[0;31m# pylint: disable=protected-access\u001b[0m\u001b[0;34m\u001b[0m\u001b[0;34m\u001b[0m\u001b[0m\n\u001b[0m\u001b[1;32m   2830\u001b[0m \u001b[0;34m\u001b[0m\u001b[0m\n\u001b[1;32m   2831\u001b[0m   \u001b[0;34m@\u001b[0m\u001b[0mproperty\u001b[0m\u001b[0;34m\u001b[0m\u001b[0;34m\u001b[0m\u001b[0m\n",
      "\u001b[0;32m~/anaconda3/envs/tf_2_3/lib/python3.8/site-packages/tensorflow/python/eager/function.py\u001b[0m in \u001b[0;36m_filtered_call\u001b[0;34m(self, args, kwargs, cancellation_manager)\u001b[0m\n\u001b[1;32m   1841\u001b[0m       \u001b[0;31m`\u001b[0m\u001b[0margs\u001b[0m\u001b[0;31m`\u001b[0m \u001b[0;32mand\u001b[0m\u001b[0;31m \u001b[0m\u001b[0;31m`\u001b[0m\u001b[0mkwargs\u001b[0m\u001b[0;31m`\u001b[0m\u001b[0;34m.\u001b[0m\u001b[0;34m\u001b[0m\u001b[0;34m\u001b[0m\u001b[0m\n\u001b[1;32m   1842\u001b[0m     \"\"\"\n\u001b[0;32m-> 1843\u001b[0;31m     return self._call_flat(\n\u001b[0m\u001b[1;32m   1844\u001b[0m         [t for t in nest.flatten((args, kwargs), expand_composites=True)\n\u001b[1;32m   1845\u001b[0m          if isinstance(t, (ops.Tensor,\n",
      "\u001b[0;32m~/anaconda3/envs/tf_2_3/lib/python3.8/site-packages/tensorflow/python/eager/function.py\u001b[0m in \u001b[0;36m_call_flat\u001b[0;34m(self, args, captured_inputs, cancellation_manager)\u001b[0m\n\u001b[1;32m   1921\u001b[0m         and executing_eagerly):\n\u001b[1;32m   1922\u001b[0m       \u001b[0;31m# No tape is watching; skip to running the function.\u001b[0m\u001b[0;34m\u001b[0m\u001b[0;34m\u001b[0m\u001b[0;34m\u001b[0m\u001b[0m\n\u001b[0;32m-> 1923\u001b[0;31m       return self._build_call_outputs(self._inference_function.call(\n\u001b[0m\u001b[1;32m   1924\u001b[0m           ctx, args, cancellation_manager=cancellation_manager))\n\u001b[1;32m   1925\u001b[0m     forward_backward = self._select_forward_and_backward_functions(\n",
      "\u001b[0;32m~/anaconda3/envs/tf_2_3/lib/python3.8/site-packages/tensorflow/python/eager/function.py\u001b[0m in \u001b[0;36mcall\u001b[0;34m(self, ctx, args, cancellation_manager)\u001b[0m\n\u001b[1;32m    558\u001b[0m               cancellation_manager=cancellation_manager)\n\u001b[1;32m    559\u001b[0m       \u001b[0;31m# Replace empty list with None\u001b[0m\u001b[0;34m\u001b[0m\u001b[0;34m\u001b[0m\u001b[0;34m\u001b[0m\u001b[0m\n\u001b[0;32m--> 560\u001b[0;31m       \u001b[0moutputs\u001b[0m \u001b[0;34m=\u001b[0m \u001b[0moutputs\u001b[0m \u001b[0;32mor\u001b[0m \u001b[0;32mNone\u001b[0m\u001b[0;34m\u001b[0m\u001b[0;34m\u001b[0m\u001b[0m\n\u001b[0m\u001b[1;32m    561\u001b[0m     \u001b[0;32melse\u001b[0m\u001b[0;34m:\u001b[0m\u001b[0;34m\u001b[0m\u001b[0;34m\u001b[0m\u001b[0m\n\u001b[1;32m    562\u001b[0m       \u001b[0;31m# TODO(akshayka): Either remove this if the FunctionLibraryRuntime\u001b[0m\u001b[0;34m\u001b[0m\u001b[0;34m\u001b[0m\u001b[0;34m\u001b[0m\u001b[0m\n",
      "\u001b[0;31mKeyboardInterrupt\u001b[0m: "
     ]
    }
   ],
   "source": [
    "history = autoencoder.fit(\n",
    "    # dataset_final.take(num_train),\n",
    "    data_train,\n",
    "    data_origin,\n",
    "    epochs=epoch,\n",
    "    batch_size=batch_size,\n",
    "    shuffle=True,\n",
    "    # validation_data = dataset_final.skip(205000*0.8),\n",
    "    validation_split=validation_split,\n",
    "    callbacks=callbacks_list,  #! Do not put [] around callbacks_list variable\n",
    ")\n",
    "\n",
    "autoencoder.encoder.summary()\n",
    "autoencoder.decoder.summary()"
   ]
  },
  {
   "cell_type": "code",
   "execution_count": null,
   "id": "b0ebd448",
   "metadata": {},
   "outputs": [
    {
     "ename": "NameError",
     "evalue": "name 'history' is not defined",
     "output_type": "error",
     "traceback": [
      "\u001b[0;31m---------------------------------------------------------------------------\u001b[0m",
      "\u001b[0;31mNameError\u001b[0m                                 Traceback (most recent call last)",
      "\u001b[0;32m/tmp/ipykernel_24489/2728551363.py\u001b[0m in \u001b[0;36m<module>\u001b[0;34m\u001b[0m\n\u001b[0;32m----> 1\u001b[0;31m \u001b[0mplt\u001b[0m\u001b[0;34m.\u001b[0m\u001b[0mplot\u001b[0m\u001b[0;34m(\u001b[0m\u001b[0mhistory\u001b[0m\u001b[0;34m.\u001b[0m\u001b[0mhistory\u001b[0m\u001b[0;34m[\u001b[0m\u001b[0;34m\"loss\"\u001b[0m\u001b[0;34m]\u001b[0m\u001b[0;34m,\u001b[0m \u001b[0mlabel\u001b[0m\u001b[0;34m=\u001b[0m\u001b[0;34m\"Traing Loss\"\u001b[0m\u001b[0;34m)\u001b[0m\u001b[0;34m\u001b[0m\u001b[0;34m\u001b[0m\u001b[0m\n\u001b[0m\u001b[1;32m      2\u001b[0m \u001b[0mplt\u001b[0m\u001b[0;34m.\u001b[0m\u001b[0mplot\u001b[0m\u001b[0;34m(\u001b[0m\u001b[0mhistory\u001b[0m\u001b[0;34m.\u001b[0m\u001b[0mhistory\u001b[0m\u001b[0;34m[\u001b[0m\u001b[0;34m\"val_loss\"\u001b[0m\u001b[0;34m]\u001b[0m\u001b[0;34m,\u001b[0m \u001b[0mlabel\u001b[0m\u001b[0;34m=\u001b[0m\u001b[0;34m\"Validation Loss\"\u001b[0m\u001b[0;34m)\u001b[0m\u001b[0;34m\u001b[0m\u001b[0;34m\u001b[0m\u001b[0m\n\u001b[1;32m      3\u001b[0m \u001b[0mplt\u001b[0m\u001b[0;34m.\u001b[0m\u001b[0mlegend\u001b[0m\u001b[0;34m(\u001b[0m\u001b[0;34m)\u001b[0m\u001b[0;34m\u001b[0m\u001b[0;34m\u001b[0m\u001b[0m\n\u001b[1;32m      4\u001b[0m \u001b[0;31m# plt.savefig('10.png')\u001b[0m\u001b[0;34m\u001b[0m\u001b[0;34m\u001b[0m\u001b[0;34m\u001b[0m\u001b[0m\n\u001b[1;32m      5\u001b[0m \u001b[0;31m# plt.savefig('SNR_-30_training_loss.png')\u001b[0m\u001b[0;34m\u001b[0m\u001b[0;34m\u001b[0m\u001b[0;34m\u001b[0m\u001b[0m\n",
      "\u001b[0;31mNameError\u001b[0m: name 'history' is not defined"
     ]
    }
   ],
   "source": [
    "plt.plot(history.history[\"loss\"], label=\"Traing Loss\")\n",
    "plt.plot(history.history[\"val_loss\"], label=\"Validation Loss\")\n",
    "plt.legend()\n",
    "# plt.savefig('10.png')\n",
    "# plt.savefig('SNR_-30_training_loss.png')"
   ]
  },
  {
   "cell_type": "code",
   "execution_count": 57,
   "id": "31151388",
   "metadata": {},
   "outputs": [
    {
     "name": "stdout",
     "output_type": "stream",
     "text": [
      "b'random_single source_100snapshots_1000sample/20dB/test/test_data.mat'\n"
     ]
    }
   ],
   "source": [
    "# Input test noisy dataset for all snr and stack them together\n",
    "dataset = tf.data.Dataset.list_files(basePath + '/20dB/test/test_data.*', shuffle=False)\n",
    "for i in dataset.as_numpy_iterator():\n",
    "    print(i)\n",
    "data_set = []\n",
    "for i in dataset.as_numpy_iterator():\n",
    "    x_train = sio.loadmat(i)\n",
    "    x_train = x_train['test_data']  # noisy sample covariance matrix\n",
    "    data_set.append(x_train) #NOTE: put all the train_data of different SNR into one list\n",
    "len(data_set) \n",
    "data_test = data_set[0]\n",
    "for i in data_set:\n",
    "    data_test = np.vstack((data_test,i)) # stack all the datasets vertically\n",
    "data_test = data_test[1000:] # the first dataset is included in twice"
   ]
  },
  {
   "cell_type": "code",
   "execution_count": 58,
   "id": "48147b86",
   "metadata": {},
   "outputs": [
    {
     "name": "stdout",
     "output_type": "stream",
     "text": [
      "/home/hymc/[0]Github/Deeplearning-Autoencoder-DOA/[2]Tensorflow/[1]DAE_DOA_implementation/result/random_single source_100snapshots_1000sample\n",
      "/home/hymc/[0]Github/Deeplearning-Autoencoder-DOA/[2]Tensorflow/[1]DAE_DOA_implementation/result/random_single source_100snapshots_1000sample/test_data.mat\n"
     ]
    }
   ],
   "source": [
    "# scaling\n",
    "# data_test = scaler.fit_transform(data_test)\n",
    "data_test_scale = scaler.fit_transform(np.transpose(data_test))\n",
    "# print(data_test_scale.shape)\n",
    "data_test = np.transpose(data_test_scale)\n",
    "# print(data_test.shape)\n",
    "\n",
    "# export data for MATLAB processing\n",
    "print(savePath)\n",
    "savePath_ = savePath + '/test_data.mat'\n",
    "print(savePath_)\n",
    "savemat(savePath_, {'test_data':data_test})"
   ]
  },
  {
   "cell_type": "code",
   "execution_count": 59,
   "id": "690a2282",
   "metadata": {},
   "outputs": [
    {
     "name": "stdout",
     "output_type": "stream",
     "text": [
      "(1000, 100)\n",
      "/home/hymc/[0]Github/Deeplearning-Autoencoder-DOA/[2]Tensorflow/[1]DAE_DOA_implementation/result/random_single source_100snapshots_1000sample\n",
      "/home/hymc/[0]Github/Deeplearning-Autoencoder-DOA/[2]Tensorflow/[1]DAE_DOA_implementation/result/random_single source_100snapshots_1000sample/denoised_data.mat\n"
     ]
    },
    {
     "data": {
      "text/plain": [
       "<matplotlib.legend.Legend at 0x7f4a45eb1730>"
      ]
     },
     "execution_count": 59,
     "metadata": {},
     "output_type": "execute_result"
    },
    {
     "data": {
      "image/png": "[encoded data removed]",
      "text/plain": [
       "<Figure size 432x288 with 1 Axes>"
      ]
     },
     "metadata": {
      "needs_background": "light"
     },
     "output_type": "display_data"
    }
   ],
   "source": [
    "encoded_data = autoencoder.encoder(data_test).numpy()\n",
    "decoded_data = autoencoder.decoder(encoded_data).numpy()\n",
    "print(encoded_data.shape)\n",
    "\n",
    "# Save the denoised data for MATLAB processing\n",
    "print(savePath)\n",
    "savePath_ = savePath + '/denoised_data.mat'\n",
    "print(savePath_)\n",
    "savemat(savePath_, {'denoised_data':decoded_data})\n",
    "\n",
    "ind = 40\n",
    "plt.plot(data_test[ind],'b')\n",
    "plt.plot(decoded_data[ind],'k')\n",
    "plt.fill_between(np.arange(400),decoded_data[ind],data_test[ind],color='lightcoral')\n",
    "plt.legend([\"Input\", \"Reconstruction\",\"Error\"])\n",
    "# plt.savefig('SNR_-30_autoencoder_compare.png')"
   ]
  },
  {
   "cell_type": "code",
   "execution_count": 60,
   "id": "01958963",
   "metadata": {},
   "outputs": [
    {
     "name": "stdout",
     "output_type": "stream",
     "text": [
      "/home/hymc/[0]Github/Deeplearning-Autoencoder-DOA/[2]Tensorflow/[1]DAE_DOA_implementation/result/random_single source_100snapshots_1000sample\n",
      "/home/hymc/[0]Github/Deeplearning-Autoencoder-DOA/[2]Tensorflow/[1]DAE_DOA_implementation/result/random_single source_100snapshots_1000sample/test_label.mat\n"
     ]
    }
   ],
   "source": [
    "# Input test label dataset for all snr and stack them together\n",
    "dataset = tf.data.Dataset.list_files(basePath + '/20dB/test/test_label.*', shuffle=False)\n",
    "# for i in dataset.as_numpy_iterator():\n",
    "#     print(i)\n",
    "data_set = []\n",
    "for i in dataset.as_numpy_iterator():\n",
    "    x_train = sio.loadmat(i)\n",
    "    x_train = x_train['test_label']  # noisy sample covariance matrix\n",
    "    data_set.append(x_train) #NOTE: put all the train_data of different SNR into one list\n",
    "len(data_set) \n",
    "data_label = data_set[0]\n",
    "for i in data_set:\n",
    "    data_label = np.vstack((data_label,i)) # stack all the datasets vertically\n",
    "data_label = data_label[1000:] # the first dataset is included in twice\n",
    "data_label.shape\n",
    "\n",
    "print(savePath)\n",
    "savePath_ = savePath + '/test_label.mat'\n",
    "print(savePath_)\n",
    "savemat(savePath_, {'test_label':data_label})"
   ]
  },
  {
   "cell_type": "code",
   "execution_count": 17,
   "id": "36398cb3",
   "metadata": {},
   "outputs": [
    {
     "data": {
      "text/plain": [
       "(1, 64)"
      ]
     },
     "execution_count": 17,
     "metadata": {},
     "output_type": "execute_result"
    }
   ],
   "source": [
    "# x_test = sio.loadmat('vec')\n",
    "# test_max = x_test['vec']\n",
    "# test_max = test_max.reshape(1,64)\n",
    "# test_max.shape"
   ]
  },
  {
   "cell_type": "code",
   "execution_count": null,
   "id": "1acb8942",
   "metadata": {},
   "outputs": [],
   "source": [
    "\n",
    "# encoded_data = autoencoder.encoder(test_max).numpy()\n",
    "# decoded_data = autoencoder.decoder(encoded_data).numpy()\n",
    "# print(encoded_data.shape)\n",
    "\n",
    "# # Save the denoised data for MATLAB processing\n",
    "# print(savePath)\n",
    "# savePath_ = savePath + '/denoised_data.mat'\n",
    "# print(savePath_)\n",
    "# savemat(savePath_, {'denoised_data':decoded_data})\n"
   ]
  }
 ],
 "metadata": {
  "celltoolbar": "Slideshow",
  "kernelspec": {
   "display_name": "Python 3 (ipykernel)",
   "language": "python",
   "name": "python3"
  },
  "language_info": {
   "codemirror_mode": {
    "name": "ipython",
    "version": 3
   },
   "file_extension": ".py",
   "mimetype": "text/x-python",
   "name": "python",
   "nbconvert_exporter": "python",
   "pygments_lexer": "ipython3",
   "version": "3.8.0"
  }
 },
 "nbformat": 4,
 "nbformat_minor": 5
}
