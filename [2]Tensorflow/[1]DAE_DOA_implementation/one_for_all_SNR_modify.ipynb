{
 "cells": [
  {
   "cell_type": "code",
   "execution_count": 1,
   "id": "963a7333",
   "metadata": {},
   "outputs": [
    {
     "name": "stderr",
     "output_type": "stream",
     "text": [
      "2022-01-29 00:03:05.123008: W tensorflow/stream_executor/platform/default/dso_loader.cc:59] Could not load dynamic library 'libcudart.so.10.1'; dlerror: libcudart.so.10.1: cannot open shared object file: No such file or directory\n",
      "2022-01-29 00:03:05.123029: I tensorflow/stream_executor/cuda/cudart_stub.cc:29] Ignore above cudart dlerror if you do not have a GPU set up on your machine.\n"
     ]
    }
   ],
   "source": [
    "import matplotlib.pyplot as plt\n",
    "import numpy as np\n",
    "import time\n",
    "import tensorflow as tf\n",
    "from scipy.io import loadmat, savemat\n",
    "import os\n",
    "# from sklearn.metrics import accuracy_score, precision_score, recall_score\n",
    "from tensorflow.keras import layers, losses\n",
    "from tensorflow.keras.models import Model\n",
    "import scipy.io as sio\n",
    "from tensorflow.keras.callbacks import TensorBoard, EarlyStopping, ModelCheckpoint, ReduceLROnPlateau\n",
    "\n",
    "\n",
    "dense_layers = [0, 1, 2, 3]\n",
    "dense_sizes = [32, 64, 128, 256, 512]\n",
    "conv_layers = [1, 2, 3, 4]\n",
    "num_filters = [32, 64, 128, 256]\n",
    "kernel_sizes = [2000, 2250, 2500, 2750, 3000]\n",
    "\n",
    "import os\n",
    "os.environ[\"CUDA_VISIBLE_DEVICES\"] = \"-1\""
   ]
  },
  {
   "cell_type": "code",
   "execution_count": 3,
   "id": "8a0fef20",
   "metadata": {},
   "outputs": [],
   "source": [
    "basePath = '/home/hymc/[0]Github/data'+ '/random_single source_100snapshots_1000sample/-1dB/train/train_data.mat'\n",
    "basePath\n",
    "x_train = sio.loadmat(basePath)\n",
    "x_train = x_train['train_data']"
   ]
  },
  {
   "cell_type": "code",
   "execution_count": 4,
   "id": "a6076a15",
   "metadata": {},
   "outputs": [
    {
     "name": "stderr",
     "output_type": "stream",
     "text": [
      "2022-01-29 00:03:16.795700: I tensorflow/stream_executor/platform/default/dso_loader.cc:48] Successfully opened dynamic library libcuda.so.1\n",
      "2022-01-29 00:03:16.820206: E tensorflow/stream_executor/cuda/cuda_driver.cc:314] failed call to cuInit: CUDA_ERROR_NO_DEVICE: no CUDA-capable device is detected\n",
      "2022-01-29 00:03:16.820235: I tensorflow/stream_executor/cuda/cuda_diagnostics.cc:169] retrieving CUDA diagnostic information for host: hymc-System-Product-Name\n",
      "2022-01-29 00:03:16.820240: I tensorflow/stream_executor/cuda/cuda_diagnostics.cc:176] hostname: hymc-System-Product-Name\n",
      "2022-01-29 00:03:16.820296: I tensorflow/stream_executor/cuda/cuda_diagnostics.cc:200] libcuda reported version is: 465.19.1\n",
      "2022-01-29 00:03:16.820316: I tensorflow/stream_executor/cuda/cuda_diagnostics.cc:204] kernel reported version is: 465.19.1\n",
      "2022-01-29 00:03:16.820320: I tensorflow/stream_executor/cuda/cuda_diagnostics.cc:310] kernel version seems to match DSO: 465.19.1\n",
      "2022-01-29 00:03:16.820628: I tensorflow/core/platform/cpu_feature_guard.cc:142] This TensorFlow binary is optimized with oneAPI Deep Neural Network Library (oneDNN)to use the following CPU instructions in performance-critical operations:  AVX2 FMA\n",
      "To enable them in other operations, rebuild TensorFlow with the appropriate compiler flags.\n",
      "2022-01-29 00:03:16.826168: I tensorflow/core/platform/profile_utils/cpu_utils.cc:104] CPU Frequency: 3000000000 Hz\n",
      "2022-01-29 00:03:16.827094: I tensorflow/compiler/xla/service/service.cc:168] XLA service 0x5579e3a02da0 initialized for platform Host (this does not guarantee that XLA will be used). Devices:\n",
      "2022-01-29 00:03:16.827109: I tensorflow/compiler/xla/service/service.cc:176]   StreamExecutor device (0): Host, Default Version\n"
     ]
    }
   ],
   "source": [
    "# Input train noisy dataset for all snr and stack them together\n",
    "dataset = tf.data.Dataset.list_files(basePath+'/*/train/train_data.*', shuffle=False)\n",
    "# for i in dataset.take(1).as_numpy_iterator():\n",
    "#     print(i)"
   ]
  },
  {
   "cell_type": "code",
   "execution_count": null,
   "id": "5a161e79",
   "metadata": {},
   "outputs": [],
   "source": [
    "data_set = []\n",
    "for i in dataset.as_numpy_iterator():\n",
    "    x_train = sio.loadmat(i)\n",
    "    x_train = x_train['train_data']  # noisy sample covariance matrix\n",
    "    data_set.append(x_train) #NOTE: put all the train_data of different SNR into one list\n",
    "len(data_set) \n",
    "\n",
    "data_train = data_set[0]\n",
    "for i in data_set:\n",
    "    data_train = np.vstack((data_train,i)) # stack all the datasets vertically\n",
    "    \n",
    "data_train = data_train[5000:] # the first dataset is included in twice\n",
    "data_train.shape"
   ]
  },
  {
   "cell_type": "code",
   "execution_count": null,
   "id": "7424f1d6",
   "metadata": {},
   "outputs": [],
   "source": [
    "# Input train noiseless dataset for all snr and stack them together\n",
    "dataset = tf.data.Dataset.list_files(basePath + '/*/train/train_origin_data.*', shuffle=False)\n",
    "# for i in dataset.as_numpy_iterator():\n",
    "#     print(i)\n",
    "data_set = []\n",
    "for i in dataset.as_numpy_iterator():\n",
    "    x_train = sio.loadmat(i)\n",
    "    x_train = x_train['train_origin_data']  # noisy sample covariance matrix\n",
    "    data_set.append(x_train) #NOTE: put all the train_data of different SNR into one list\n",
    "len(data_set) \n",
    "\n",
    "data_origin = data_set[0]\n",
    "for i in data_set:\n",
    "    data_origin = np.vstack((data_origin,i)) # stack all the datasets vertically\n",
    "    \n",
    "data_origin = data_origin[5000:] # the first dataset is included in twice\n",
    "data_origin.shape"
   ]
  },
  {
   "cell_type": "code",
   "execution_count": null,
   "id": "ab6a72fa",
   "metadata": {},
   "outputs": [],
   "source": [
    "# train data shuffle\n",
    "np.random.seed(2020)\n",
    "index = np.arange(data_train.shape[0])\n",
    "print(index)\n",
    "np.random.shuffle(index)\n",
    "data_train = data_train[index]\n",
    "data_origin = data_origin[index]"
   ]
  },
  {
   "cell_type": "code",
   "execution_count": null,
   "id": "3e1ed403",
   "metadata": {},
   "outputs": [],
   "source": [
    "# rootPath = os.getcwd()\n",
    "# Windoes path\n",
    "filePath = 'c:\\\\Users\\\\HYPC300\\\\OneDrive - 한양대학교\\\\GitHub\\\\Deeplearning-Autoencoder-DOA\\\\data';\n",
    "#  MAC path:\n",
    "# filePath = '/Users/button/Deeplearning-Autoencoder-DOA/data'\n",
    "savePath = filePath + '\\\\result_lab1' + basePath\n",
    "\n",
    "if not os.path.isdir(savePath):\n",
    "    os.makedirs(savePath)\n",
    "print(savePath)"
   ]
  },
  {
   "cell_type": "code",
   "execution_count": null,
   "id": "4762260e",
   "metadata": {},
   "outputs": [],
   "source": [
    "# Model configuration\n",
    "nSample = x_train.shape[0]\n",
    "epoch = 100\n",
    "batch_size = 256\n",
    "validation_split = 0.2\n",
    "\n",
    "save_dir = os.path.join(savePath, 'save_models')\n",
    "if not os.path.isdir(save_dir):\n",
    "    os.makedirs(save_dir)\n",
    "print(save_dir)"
   ]
  },
  {
   "cell_type": "code",
   "execution_count": null,
   "id": "f1cfae90",
   "metadata": {},
   "outputs": [],
   "source": [
    "class DOA_Denoising(Model):\n",
    "    def __init__(self):\n",
    "        super(DOA_Denoising, self).__init__()\n",
    "        self.encoder = tf.keras.Sequential([\n",
    "            layers.Dense(300, activation='relu'),\n",
    "            # layers.Dropout(0.2),\n",
    "            layers.Dense(200, activation='relu'),\n",
    "            # layers.Dropout(0.2),\n",
    "            layers.Dense(100, activation='relu')]) # * 300 200 100\n",
    "        \n",
    "        self.decoder = tf.keras.Sequential([\n",
    "            layers.Dense(200, activation='relu'), #* 200 300 400\n",
    "            # layers.Dropout(0.2),\n",
    "            layers.Dense(300, activation='relu'),\n",
    "            # layers.Dropout(0.2),\n",
    "            layers.Dense(400, activation='linear')])\n",
    "\n",
    "    def call(self, x):\n",
    "        encoded = self.encoder(x)\n",
    "        decoded = self.decoder(encoded)\n",
    "        return decoded\n",
    "    \n",
    "autoencoder = DOA_Denoising() "
   ]
  },
  {
   "cell_type": "code",
   "execution_count": null,
   "id": "c90774e5",
   "metadata": {
    "scrolled": true
   },
   "outputs": [],
   "source": [
    "# %reload_ext tensorboard\n",
    "# %tensorboard --logdir logs"
   ]
  },
  {
   "cell_type": "code",
   "execution_count": null,
   "id": "0c0f052d",
   "metadata": {
    "scrolled": true
   },
   "outputs": [],
   "source": [
    "model_name = (\n",
    "    f\"epoch-{epoch}-batch-{batch_size}-dense-300-200-100-time-{int(time.time())}\"\n",
    ")\n",
    "print(model_name)\n",
    "\n",
    "file_path = os.path.join(save_dir, model_name)\n",
    "print(file_path)\n",
    "\n",
    "# callbacks_list\n",
    "callbacks_list = [\n",
    "    EarlyStopping(monitor=\"val_loss\", mode=\"min\", verbose=0, patience=30),\n",
    "    ModelCheckpoint(\n",
    "        filepath=file_path,\n",
    "        monitor=\"val_loss\",\n",
    "        verbose=0,\n",
    "        save_best_only=True,\n",
    "        save_weights_only=False,\n",
    "        mode=\"min\",\n",
    "    ),\n",
    "    # TensorBoard(\n",
    "    #     log_dir=\"./logs/{}\".format(model_name),\n",
    "    #     histogram_freq=1,\n",
    "    #     write_graph=False,\n",
    "    #     write_images=False,\n",
    "    # ),\n",
    "    ReduceLROnPlateau(\n",
    "        monitor=\"val_loss\",\n",
    "        factor=0.1,\n",
    "        patience=10,\n",
    "        verbose=0,\n",
    "        mode=\"min\",\n",
    "        min_delta=0.0001,\n",
    "        cooldown=0,\n",
    "        min_lr=0,\n",
    "    ),\n",
    "]\n",
    "\n",
    "autoencoder.compile(optimizer=\"adam\", loss=\"mse\")"
   ]
  },
  {
   "cell_type": "code",
   "execution_count": null,
   "id": "0237f323",
   "metadata": {},
   "outputs": [],
   "source": [
    "history = autoencoder.fit(\n",
    "    # dataset_final.take(num_train),\n",
    "    data_train,\n",
    "    data_origin,\n",
    "    epochs=epoch,\n",
    "    batch_size=batch_size,\n",
    "    shuffle=True,\n",
    "    # validation_data = dataset_final.skip(205000*0.8),\n",
    "    validation_split=validation_split,\n",
    "    callbacks=callbacks_list,  #! Do not put [] around callbacks_list variable\n",
    ")\n",
    "\n",
    "autoencoder.encoder.summary()\n",
    "autoencoder.decoder.summary()"
   ]
  },
  {
   "cell_type": "code",
   "execution_count": null,
   "id": "b0ebd448",
   "metadata": {},
   "outputs": [],
   "source": [
    "# plt.plot(history.history[\"loss\"], label=\"Traing Loss\")\n",
    "# plt.plot(history.history[\"val_loss\"], label=\"Validation Loss\")\n",
    "# plt.legend()\n",
    "# plt.savefig('10.png')\n",
    "# plt.savefig('SNR_-30_training_loss.png')"
   ]
  },
  {
   "cell_type": "code",
   "execution_count": null,
   "id": "31151388",
   "metadata": {},
   "outputs": [],
   "source": [
    "# Input test noisy dataset for all snr and stack them together\n",
    "dataset = tf.data.Dataset.list_files(basePath + '*/test/test_data.*', shuffle=False)\n",
    "for i in dataset.as_numpy_iterator():\n",
    "    print(i)\n",
    "data_set = []\n",
    "for i in dataset.as_numpy_iterator():\n",
    "    x_train = sio.loadmat(i)\n",
    "    x_train = x_train['test_data']  # noisy sample covariance matrix\n",
    "    data_set.append(x_train) #NOTE: put all the train_data of different SNR into one list\n",
    "len(data_set) \n",
    "data_test = data_set[0]\n",
    "for i in data_set:\n",
    "    data_test = np.vstack((data_test,i)) # stack all the datasets vertically\n",
    "data_test = data_test[5000:] # the first dataset is included in twice\n",
    "data_test.shape\n",
    "# export data for MATLAB processing\n",
    "print(savePath)\n",
    "savePath_ = savePath + '\\\\test_data.mat'\n",
    "print(savePath_)\n",
    "savemat(savePath_, {'test_data':data_test})"
   ]
  },
  {
   "cell_type": "code",
   "execution_count": null,
   "id": "01958963",
   "metadata": {},
   "outputs": [],
   "source": [
    "# Input test label dataset for all snr and stack them together\n",
    "dataset = tf.data.Dataset.list_files('single_source_100snapshots_1000sample/*/test/test_label.*', shuffle=False)\n",
    "for i in dataset.as_numpy_iterator():\n",
    "    print(i)\n",
    "data_set = []\n",
    "for i in dataset.as_numpy_iterator():\n",
    "    x_train = sio.loadmat(i)\n",
    "    x_train = x_train['test_label']  # noisy sample covariance matrix\n",
    "    data_set.append(x_train) #NOTE: put all the train_data of different SNR into one list\n",
    "len(data_set) \n",
    "data_label = data_set[0]\n",
    "for i in data_set:\n",
    "    data_label = np.vstack((data_label,i)) # stack all the datasets vertically\n",
    "data_label = data_label[5000:] # the first dataset is included in twice\n",
    "data_label.shape\n",
    "\n",
    "print(savePath)\n",
    "savePath_ = savePath + '\\\\test_label.mat'\n",
    "print(savePath_)\n",
    "savemat(savePath_, {'test_label':data_label})"
   ]
  },
  {
   "cell_type": "code",
   "execution_count": null,
   "id": "4519574e",
   "metadata": {},
   "outputs": [],
   "source": [
    "encoded_data = autoencoder.encoder(data_test).numpy()\n",
    "decoded_data = autoencoder.decoder(encoded_data).numpy()\n",
    "\n",
    "# Save the denoised data for MATLAB processing\n",
    "print(savePath)\n",
    "savePath_ = savePath + '/denoised_data.mat'\n",
    "print(savePath_)\n",
    "savemat(savePath_, {'denoised_data':decoded_data})\n",
    "\n",
    "ind = 200\n",
    "plt.plot(data_test[ind],'b')\n",
    "plt.plot(decoded_data[ind],'k')\n",
    "plt.fill_between(np.arange(400),decoded_data[ind],data_test[ind],color='lightcoral')\n",
    "plt.legend([\"Input\", \"Reconstruction\",\"Error\"])\n",
    "# plt.savefig('SNR_-30_autoencoder_compare.png')"
   ]
  }
 ],
 "metadata": {
  "celltoolbar": "Slideshow",
  "kernelspec": {
   "display_name": "Python 3 (ipykernel)",
   "language": "python",
   "name": "python3"
  },
  "language_info": {
   "codemirror_mode": {
    "name": "ipython",
    "version": 3
   },
   "file_extension": ".py",
   "mimetype": "text/x-python",
   "name": "python",
   "nbconvert_exporter": "python",
   "pygments_lexer": "ipython3",
   "version": "3.8.0"
  }
 },
 "nbformat": 4,
 "nbformat_minor": 5
}
