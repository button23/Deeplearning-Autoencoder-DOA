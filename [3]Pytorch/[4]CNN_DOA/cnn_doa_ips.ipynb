{
 "cells": [
  {
   "cell_type": "code",
   "execution_count": 4,
   "metadata": {},
   "outputs": [],
   "source": [
    "import os \n",
    "import pandas as pd\n",
    "from tqdm import tqdm\n",
    "import numpy as np\n",
    "import matplotlib.pyplot as plt\n",
    "import torch\n",
    "# from ipywidgets import IntProgress\n",
    "import scipy.io as sio\n",
    "from scipy.io import loadmat, savemat\n",
    "from sklearn.preprocessing import MinMaxScaler, StandardScaler\n",
    "from einops import rearrange,reduce,repeat\n",
    "import glob"
   ]
  },
  {
   "cell_type": "markdown",
   "metadata": {},
   "source": [
    "### Load Training Data"
   ]
  },
  {
   "cell_type": "code",
   "execution_count": 9,
   "metadata": {},
   "outputs": [
    {
     "name": "stdout",
     "output_type": "stream",
     "text": [
      "the stacked dataset is  torch.Size([31, 24, 8, 4, 3871])\n",
      "the stacked doa dataset is  torch.Size([31, 3871])\n",
      "the shuffled data shape is torch.Size([31, 24, 8, 4, 3871])\n",
      " 31 is the number of SNR\n",
      " 24 is the number of CSI samples\n",
      " 8 is the number of antenna links\n",
      " 4 is the number of APs\n",
      " 3871 is the number of positions\n",
      "the shuffled data shape is torch.Size([31, 3871])\n",
      " 31 is the number of SNR\n",
      " 3871 is the number of positions\n",
      "\n"
     ]
    }
   ],
   "source": [
    "fileName = '1_matlab_input_data/2'\n",
    "dirc = os.getcwd()\n",
    "data_set = []\n",
    "data_doa_set = []\n",
    "dataPath = os.path.join(dirc,fileName)\n",
    "if os.path.exists(dataPath):\n",
    "    for root,dirs,files in os.walk(dataPath):\n",
    "        for file in files:\n",
    "            if file.startswith('features'):\n",
    "                inputPath = os.path.join(root,file)\n",
    "                input_data_train = sio.loadmat(inputPath)\n",
    "                input_data_train = torch.from_numpy(input_data_train['features'])\n",
    "                data_set.append(input_data_train) #NOTE: put all the train_data of different SNR into one list\n",
    "            elif file.startswith('doa'):\n",
    "                inputPath = os.path.join(root,file)\n",
    "                input_data_train_doa = sio.loadmat(inputPath)\n",
    "                input_data_train_doa = torch.from_numpy(input_data_train_doa['doa_input'])\n",
    "                input_data_train_doa = torch.squeeze(input_data_train_doa)\n",
    "                data_doa_set.append(input_data_train_doa) #NOTE: put all the train_data of different SNR into one list\n",
    "else:\n",
    "    print('the path does not exist!')\n",
    "    \n",
    "# Stack all the samples from different SNR together along a new dimension.\n",
    "# data_concatenate = torch.cat(data_set)\n",
    "data_stack = torch.stack(data_set)\n",
    "print('the stacked dataset is ', data_stack.shape)\n",
    "data_doa_stack = torch.stack(data_doa_set)\n",
    "print('the stacked doa dataset is ', data_doa_stack.shape)\n",
    "\n",
    "# # Shuffle the data along the first dimension (the data is concatenated along the first dimension)\n",
    "# perm_length = torch.randperm(data_stack.shape[0])\n",
    "# data_stack = data_stack[perm_length]\n",
    "# data_doa_stack = data_doa_stack[perm_length]\n",
    "\n",
    "print(f'the shuffled data shape is {data_stack.shape}\\n',\n",
    "      f'{data_stack.shape[0]} is the number of SNR\\n',\n",
    "      f'{data_stack.shape[1]} is the number of CSI samples\\n',\n",
    "      f'{data_stack.shape[2]} is the number of antenna links\\n',\n",
    "      f'{data_stack.shape[3]} is the number of APs\\n',\n",
    "      f'{data_stack.shape[4]} is the number of positions')\n",
    "\n",
    "print(f'the shuffled data shape is {data_doa_stack.shape}\\n',\n",
    "      f'{data_doa_stack.shape[0]} is the number of SNR\\n',\n",
    "      f'{data_doa_stack.shape[1]} is the number of positions\\n')"
   ]
  },
  {
   "cell_type": "code",
   "execution_count": 19,
   "metadata": {},
   "outputs": [
    {
     "name": "stdout",
     "output_type": "stream",
     "text": [
      "train_data torch.Size([31, 3871, 768, 1])\n"
     ]
    }
   ],
   "source": [
    "# Change the original data dimension [3871, 4, 4, 24] to [79 x 49 x 4 x 4 x 24] \n",
    "## NOTE: The following code is for training dataset of multiple SNR case\n",
    "train_data = rearrange(data_stack, 'a b c d e-> a e (d c b) 1') \n",
    "## NOTE: The following code is for training dataset of single SNR case\n",
    "# input_train_data_reshape = rearrange((input_data_shuffle), 'a b c d-> d (c b a)')\n",
    "print('train_data',train_data.shape)\n",
    "\n",
    "# # #NOTE: Scaling: make the mean of each dimension (744 * 9 *4 dimensions) to be 0, and the standard deviation to be 1\n",
    "# input_train_data_reshape = rearrange((input_data_reshape), 'a b c-> b a c')\n",
    "# scaler = preprocessing.StandardScaler()\n",
    "# # scaler = preprocessing.MinMaxScaler() # feature_range=(-1,1)\n",
    "# train_data_scale = scaler.fit_transform(input_train_data_reshape)\n",
    "# train_data_scale = rearrange((train_data_scale), 'a b c-> b a c')\n",
    "\n",
    "# # print(train_data_scale[10])\n",
    "# # print(np.mean(train_data_scale, axis=0))\n",
    "# # print(np.std(train_data_scale, axis=0))"
   ]
  },
  {
   "cell_type": "markdown",
   "metadata": {},
   "source": [
    "#### Generate Labels for all positions "
   ]
  },
  {
   "cell_type": "code",
   "execution_count": 16,
   "metadata": {},
   "outputs": [
    {
     "name": "stdout",
     "output_type": "stream",
     "text": [
      "label shape torch.Size([3871])\n"
     ]
    }
   ],
   "source": [
    "labels_ips = torch.arange(0,3871)\n",
    "# Change the label dimension from 1d to [79 x 49]\n",
    "# labels_ips = labels_ips.reshape(49, 79).t().to(device)\n",
    "print('label shape',labels_ips.shape)"
   ]
  },
  {
   "cell_type": "code",
   "execution_count": 10,
   "metadata": {},
   "outputs": [
    {
     "name": "stdout",
     "output_type": "stream",
     "text": [
      "There are 1 GPU(s) available.\n",
      "Device name: NVIDIA GeForce RTX 2080 Ti\n"
     ]
    }
   ],
   "source": [
    "if torch.cuda.is_available():       \n",
    "    device = torch.device(\"cuda\")\n",
    "    print(f'There are {torch.cuda.device_count()} GPU(s) available.')\n",
    "    print('Device name:', torch.cuda.get_device_name(0))\n",
    "\n",
    "else:\n",
    "    print('No GPU available, using the CPU instead.')\n",
    "    device = torch.device(\"cpu\")"
   ]
  },
  {
   "cell_type": "markdown",
   "metadata": {},
   "source": [
    "### Create Pytorch Dataloader"
   ]
  },
  {
   "cell_type": "markdown",
   "metadata": {},
   "source": [
    "#### ZZF interpretation:\n",
    "This part is the part which worth studying!! How to put data into the dataloader object to `save the memory use` and `boost the training speed`."
   ]
  },
  {
   "cell_type": "code",
   "execution_count": 17,
   "metadata": {},
   "outputs": [],
   "source": [
    "from torch.utils.data import (TensorDataset, DataLoader, RandomSampler,\n",
    "                              SequentialSampler)\n",
    "\n",
    "def data_loader(train_inputs, val_inputs, train_labels, val_labels,\n",
    "                batch_size=50):\n",
    "    \"\"\"Convert train and validation sets to torch.Tensors and load them to\n",
    "    DataLoader.\n",
    "    \"\"\"\n",
    "\n",
    "    # Convert data type to torch.Tensor\n",
    "    train_inputs, val_inputs, train_labels, val_labels =\\\n",
    "    tuple(torch.tensor(data) for data in\n",
    "          [train_inputs, val_inputs, train_labels, val_labels])\n",
    "\n",
    "#     # Specify batch_size\n",
    "#     batch_size = 50\n",
    "\n",
    "    # Create DataLoader for training data\n",
    "    train_data = TensorDataset(train_inputs, train_labels)\n",
    "    train_sampler = RandomSampler(train_data)\n",
    "    train_dataloader = DataLoader(train_data, sampler=train_sampler, batch_size=batch_size)\n",
    "\n",
    "    # Create DataLoader for validation data\n",
    "    val_data = TensorDataset(val_inputs, val_labels)\n",
    "    val_sampler = SequentialSampler(val_data)\n",
    "    val_dataloader = DataLoader(val_data, sampler=val_sampler, batch_size=batch_size)\n",
    "\n",
    "    return train_dataloader, val_dataloader"
   ]
  },
  {
   "cell_type": "markdown",
   "metadata": {},
   "source": [
    "#### HACK!\n",
    "What does `data_loader` need?\n",
    "+ `Training dataset` with the dimension being (# samples, # dimensions)\n",
    "+ `Training data label` with the dimension being (# samples, ind) where ind means the ind of the categories. In this example, the categories are NEGATIVE and POSITIVE, being 0 and 1 respectively.\n",
    "+ `Test dataset` with the dimension being (# samples, # dimensions)\n",
    "+ `Test data label` with the dimension being (# samples, ind) where ind means the ind of the categories. In this example, the categories are NEGATIVE and POSITIVE, being 0 and 1 respectively.\n",
    "+ `Batch size`\n",
    "What is the result of `data_loader`?\n",
    "+ The result is an `iterable`, `train_dataloader` and `val_dataloader`\n",
    "+ Each iteration over `train_dataloader` and `val_dataloader` give you a list with length being the 2. The two elements in the list are `data` and `label` with the type being `torch.tensor`. The shape of the `data` and `label` are (`batch size`, `the maximum length of a sentence (62)`) and (`batch size`, 1). "
   ]
  },
  {
   "cell_type": "code",
   "execution_count": 20,
   "metadata": {},
   "outputs": [],
   "source": [
    "from sklearn.model_selection import train_test_split\n",
    "\n",
    "# Train Test Split\n",
    "train_inputs, val_inputs, train_labels, val_labels = train_test_split(\n",
    "    train_data[30], labels_ips, test_size=0.1, random_state=42)"
   ]
  },
  {
   "cell_type": "code",
   "execution_count": 24,
   "metadata": {},
   "outputs": [
    {
     "data": {
      "text/plain": [
       "torch.Size([388, 768, 1])"
      ]
     },
     "execution_count": 24,
     "metadata": {},
     "output_type": "execute_result"
    }
   ],
   "source": [
    "train_inputs.shape\n",
    "val_inputs.shape"
   ]
  },
  {
   "cell_type": "code",
   "execution_count": null,
   "metadata": {},
   "outputs": [],
   "source": [
    "# Load data to PyTorch DataLoader\n",
    "train_dataloader, val_dataloader = \\\n",
    "data_loader(train_inputs, val_inputs, train_labels, val_labels, batch_size=50)"
   ]
  },
  {
   "cell_type": "markdown",
   "metadata": {},
   "source": [
    "### CNN Model"
   ]
  },
  {
   "cell_type": "markdown",
   "metadata": {},
   "source": [
    "![cnn architecture](https://raw.githubusercontent.com/chriskhanhtran/CNN-Sentence-Classification-PyTorch/master/cnn-architecture.JPG)"
   ]
  },
  {
   "cell_type": "code",
   "execution_count": 88,
   "metadata": {},
   "outputs": [],
   "source": [
    "# Sample configuration:\n",
    "filter_sizes = [2, 3, 4]\n",
    "num_filters = [2, 2, 2]"
   ]
  },
  {
   "cell_type": "markdown",
   "metadata": {},
   "source": [
    "#### NOTE: About the dimensions of the 1dCNN\n",
    "+ The shape requirement for Conv1d is (`batch_size`, `#channel`, `#sequence length`)\n",
    "+ The # of channel can be considered as the `feature dimension`!\n",
    "+ Here, in this case, the dimension of Embedding can be considered as the `feature dimension`.\n",
    "+ `sequence length` is the length of each sentence."
   ]
  },
  {
   "cell_type": "code",
   "execution_count": 180,
   "metadata": {},
   "outputs": [],
   "source": [
    "import torch\n",
    "import torch.nn as nn\n",
    "import torch.nn.functional as F\n",
    "\n",
    "class CNN_NLP(nn.Module):\n",
    "    \"\"\"An 1D Convulational Neural Network for Sentence Classification.\"\"\"\n",
    "    def __init__(self,\n",
    "                 pretrained_embedding=None,\n",
    "                 freeze_embedding=False,\n",
    "                 vocab_size=None,\n",
    "                 embed_dim=300,\n",
    "                 filter_sizes=[3, 4, 5],\n",
    "                 num_filters=[100, 100, 100],\n",
    "                 num_classes=2,\n",
    "                 dropout=0.5):\n",
    "        \"\"\"\n",
    "        The constructor for CNN_NLP class.\n",
    "\n",
    "        Args:\n",
    "            pretrained_embedding (torch.Tensor): Pretrained embeddings with\n",
    "                shape (vocab_size, embed_dim)\n",
    "            freeze_embedding (bool): Set to False to fine-tune pretraiend\n",
    "                vectors. Default: False\n",
    "            vocab_size (int): Need to be specified when not pretrained word\n",
    "                embeddings are not used.\n",
    "            embed_dim (int): Dimension of word vectors. Need to be specified\n",
    "                when pretrained word embeddings are not used. Default: 300\n",
    "            filter_sizes (List[int]): List of filter sizes. Default: [3, 4, 5]\n",
    "            num_filters (List[int]): List of number of filters, has the same\n",
    "                length as `filter_sizes`. Default: [100, 100, 100]\n",
    "            n_classes (int): Number of classes. Default: 2\n",
    "            dropout (float): Dropout rate. Default: 0.5\n",
    "        \"\"\"\n",
    "\n",
    "        super(CNN_NLP, self).__init__()\n",
    "        # Embedding layer\n",
    "        if pretrained_embedding is not None: # ! this case!\n",
    "            self.vocab_size, self.embed_dim = pretrained_embedding.shape #! (20280,300)\n",
    "            self.embedding = nn.Embedding.from_pretrained(pretrained_embedding,\n",
    "                                                          freeze=freeze_embedding) #! nice feature! Whether to fine-tune the embedding layer\n",
    "        else:\n",
    "            self.embed_dim = embed_dim\n",
    "            self.embedding = nn.Embedding(num_embeddings=vocab_size,\n",
    "                                          embedding_dim=self.embed_dim,\n",
    "                                          padding_idx=0,\n",
    "                                          max_norm=5.0)\n",
    "        # Conv Network\n",
    "        self.conv1d_list = nn.ModuleList([\n",
    "            nn.Conv1d(in_channels=self.embed_dim,\n",
    "                      out_channels=num_filters[i],\n",
    "                      kernel_size=filter_sizes[i])\n",
    "            for i in range(len(filter_sizes))\n",
    "        ])\n",
    "        # Fully-connected layer and Dropout\n",
    "        self.fc = nn.Linear(np.sum(num_filters), num_classes) #! ???\n",
    "        self.dropout = nn.Dropout(p=dropout)\n",
    "\n",
    "    def forward(self, input_ids):\n",
    "        \"\"\"Perform a forward pass through the network.\n",
    "\n",
    "        Args:\n",
    "            input_ids (torch.Tensor): A tensor of token ids with shape\n",
    "                (batch_size, max_sent_length)\n",
    "\n",
    "        Returns:\n",
    "            logits (torch.Tensor): Output logits with shape (batch_size,\n",
    "                n_classes)\n",
    "        \"\"\"\n",
    "\n",
    "        # Get embeddings from `input_ids`. Output shape: (b, max_len, embed_dim)\n",
    "        x_embed = self.embedding(input_ids).float() #!: from (50, 62) to (50, 62, 300)\n",
    "\n",
    "        # Permute `x_embed` to match input shape requirement of `nn.Conv1d`.\n",
    "        #! The shape requirement for Conv1d is (batch_size, #channel, #sequence length)\n",
    "        #! The # of channel can be considered as the feature dimension!\n",
    "        #! Here, in this case, the dimension of Embedding can be considered as the feature dimension.\n",
    "        #! sequence length is the length of each sentence.\n",
    "        # Output shape: (b, embed_dim, max_len) #NOTE (50, 300, 62)\n",
    "        x_reshaped = x_embed.permute(0, 2, 1) #NOTE: This is the as using `einops.rearrange`\n",
    "\n",
    "        # Apply CNN and ReLU. Output shape: (b, num_filters[i], L_out) #NOTE (50, 100, ?) #zzf: Length is no longer 62. It is equal to `62-kernel_size+1`\n",
    "        x_conv_list = [F.relu(conv1d(x_reshaped)) for conv1d in self.conv1d_list]\n",
    "        # print(f'x_conv_list: the length of the output is {len(x_conv_list)}')\n",
    "        # print(f'the shape of the first convolutional layer output:{x_conv_list[0].shape}') #NOTE: (50,100,60), 60 = 62-3+1, where 3 is the first kernel size\n",
    "        # print(f'the shape of the second convolutional layer output:{x_conv_list[1].shape}') #NOTE: (50,100,59), 59 = 62-4+1, where 4 is the second kernel size\n",
    "        # print(f'the shape of the thrid convolutional layer output:{x_conv_list[2].shape}') #NOTE: (50,100,58), 58 = 62-5+1, where 5 is the third kernel size\n",
    "\n",
    "        # Max pooling. Output shape: (b, num_filters[i], 1)\n",
    "        #! What max pooling does is choose the maximum value from the third dimension of the input tensor. Then the size of the third dimension becomes 1.\n",
    "        x_pool_list = [F.max_pool1d(x_conv, kernel_size=x_conv.shape[2])\n",
    "            for x_conv in x_conv_list]\n",
    "        # print(f'the shape of the first max pooling layer output:{x_pool_list[0].shape}')  #NOTE: (50,100,1), x_conv.shape[2] is 60 for the first maxpool layer\n",
    "        # print(f'the shape of the second max pooling layer output:{x_pool_list[1].shape}') #NOTE: (50,100,1), x_conv.shape[2] is 59 for the second maxpool layer\n",
    "        # print(f'the shape of the third max pooling layer output:{x_pool_list[2].shape}') #NOTE: (50,100,1), x_conv.shape[2] is 58 for the third maxpool layer\n",
    "        \n",
    "        # Concatenate x_pool_list to feed the fully connected layer.\n",
    "        # Output shape: (b, sum(num_filters)) #NOTE: from three (50,100,1) to (50,300)\n",
    "        #! The following operation gets rid of the third dimesion of the input and concatenate the three inputs together along the second dimension.\n",
    "        x_fc = torch.cat([x_pool.squeeze(dim=2) for x_pool in x_pool_list],\n",
    "                         dim=1) \n",
    "        # print(f'the size of the concatenated output is {x_fc.shape}') # (50,300)\n",
    "        \n",
    "        # Compute logits. Output shape: (b, n_classes)\n",
    "        logits = self.fc(self.dropout(x_fc))\n",
    "        # print(f'the size of the logits is {logits.shape}') # (50,2)\n",
    "        return logits"
   ]
  },
  {
   "cell_type": "code",
   "execution_count": 181,
   "metadata": {},
   "outputs": [],
   "source": [
    "import torch.optim as optim\n",
    "\n",
    "def initilize_model(pretrained_embedding=None,\n",
    "                    freeze_embedding=False,\n",
    "                    vocab_size=None,\n",
    "                    embed_dim=300,\n",
    "                    filter_sizes=[3, 4, 5],\n",
    "                    num_filters=[100, 100, 100],\n",
    "                    num_classes=2,\n",
    "                    dropout=0.5,\n",
    "                    learning_rate=0.01):\n",
    "    \"\"\"Instantiate a CNN model and an optimizer.\"\"\"\n",
    "\n",
    "    assert (len(filter_sizes) == len(num_filters)), \"filter_sizes and \\\n",
    "    num_filters need to be of the same length.\"\n",
    "\n",
    "    # Instantiate CNN model\n",
    "    cnn_model = CNN_NLP(pretrained_embedding=pretrained_embedding,\n",
    "                        freeze_embedding=freeze_embedding,\n",
    "                        vocab_size=vocab_size,\n",
    "                        embed_dim=embed_dim,\n",
    "                        filter_sizes=filter_sizes,\n",
    "                        num_filters=num_filters,\n",
    "                        num_classes=2,\n",
    "                        dropout=0.5)\n",
    "    \n",
    "    # Send model to `device` (GPU/CPU)\n",
    "    cnn_model.to(device)\n",
    "\n",
    "    # Instantiate Adadelta optimizer\n",
    "    optimizer = optim.Adadelta(cnn_model.parameters(),\n",
    "                               lr=learning_rate,\n",
    "                               rho=0.95)\n",
    "    # optimizer = optim.Adam(cnn_model.parameters(),\n",
    "    #                         lr=learning_rate)\n",
    "    # optimizer = optim.SGD(cnn_model.parameters(),\n",
    "    #                       lr=0.01)\n",
    "\n",
    "    return cnn_model, optimizer"
   ]
  },
  {
   "cell_type": "code",
   "execution_count": 182,
   "metadata": {},
   "outputs": [],
   "source": [
    "import random\n",
    "import time\n",
    "\n",
    "# Specify loss function\n",
    "loss_fn = nn.CrossEntropyLoss()\n",
    "\n",
    "def set_seed(seed_value=42):\n",
    "    \"\"\"Set seed for reproducibility.\"\"\"\n",
    "\n",
    "    random.seed(seed_value)\n",
    "    np.random.seed(seed_value)\n",
    "    torch.manual_seed(seed_value)\n",
    "    torch.cuda.manual_seed_all(seed_value)\n",
    "\n",
    "def train(model, optimizer, train_dataloader, val_dataloader=None, epochs=10):\n",
    "    \"\"\"Train the CNN model.\"\"\"\n",
    "    \n",
    "    # Tracking best validation accuracy\n",
    "    best_accuracy = 0\n",
    "\n",
    "    # Start training loop\n",
    "    print(\"Start training...\\n\")\n",
    "    print(f\"{'Epoch':^7} | {'Train Loss':^12} | {'Val Loss':^10} |\"\n",
    "          f\"{    'Val Acc':^9} | {'Elapsed':^9}\")\n",
    "    print(\"-\"*60)\n",
    "\n",
    "    for epoch_i in range(epochs):\n",
    "        # =======================================\n",
    "        #               Training\n",
    "        # =======================================\n",
    "\n",
    "        # Tracking time and loss\n",
    "        t0_epoch = time.time()\n",
    "        total_loss = 0\n",
    "\n",
    "        # Put the model into the training mode\n",
    "        model.train()\n",
    "\n",
    "        for step, batch in enumerate(train_dataloader):\n",
    "            # Load batch to GPU\n",
    "            # b_input_ids, b_labels = tuple(t.to(device) for t in batch)\n",
    "            b_input_ids, b_labels = batch[0].to(device), batch[1].to(device)\n",
    "            b_labels = b_labels.type(torch.cuda.LongTensor) #! HACK: has been fixed by casting the datatype from torch.tensor to torch.cuda.longTensor\n",
    "            # print(b_input_ids.shape, b_labels.shape)\n",
    "\n",
    "            # Zero out any previously calculated gradients\n",
    "            model.zero_grad()\n",
    "\n",
    "            # Perform a forward pass. This will return logits.\n",
    "            logits = model(b_input_ids)\n",
    "            # Compute loss and accumulate the loss values\n",
    "            loss = loss_fn(logits, b_labels)\n",
    "            total_loss += loss.item()\n",
    "\n",
    "            # Perform a backward pass to calculate gradients\n",
    "            loss.backward()\n",
    "\n",
    "            # Update parameters\n",
    "            optimizer.step()\n",
    "\n",
    "        # Calculate the average loss over the entire training data\n",
    "        avg_train_loss = total_loss / len(train_dataloader) #! This is the average loss per batch\n",
    "\n",
    "        # =======================================\n",
    "        #               Evaluation\n",
    "        # =======================================\n",
    "        if val_dataloader is not None:\n",
    "            # After the completion of each training epoch, measure the model's\n",
    "            # performance on our validation set.\n",
    "            val_loss, val_accuracy = evaluate(model, val_dataloader)\n",
    "\n",
    "            # Track the best accuracy\n",
    "            if val_accuracy > best_accuracy:\n",
    "                best_accuracy = val_accuracy\n",
    "\n",
    "            # Print performance over the entire training data\n",
    "            time_elapsed = time.time() - t0_epoch\n",
    "            print(f\"{epoch_i + 1:^7} | {avg_train_loss:^12.6f} |\"\n",
    "                f\"{val_loss:^10.6f} | {val_accuracy:^9.2f} | {time_elapsed:^9.2f}\")\n",
    "            \n",
    "    print(\"\\n\")\n",
    "    print(f\"Training complete! Best accuracy: {best_accuracy:.2f}%.\")\n",
    "\n",
    "def evaluate(model, val_dataloader):\n",
    "    \"\"\"After the completion of each training epoch, measure the model's\n",
    "    performance on our validation set.\n",
    "    \"\"\"\n",
    "    # Put the model into the evaluation mode. The dropout layers are disabled\n",
    "    # during the test time.\n",
    "    model.eval()\n",
    "\n",
    "    # Tracking variables\n",
    "    val_accuracy = []\n",
    "    val_loss = []\n",
    "\n",
    "    # For each batch in our validation set...\n",
    "    for batch in val_dataloader:\n",
    "        # Load batch to GPU\n",
    "        # b_input_ids, b_labels = tuple(t.to(device) for t in batch)\n",
    "        b_input_ids, b_labels = batch[0].to(device), batch[1].to(device)\n",
    "        \n",
    "        b_labels = b_labels.type(torch.cuda.LongTensor) #! HACK: has been fixed by casting the datatype from torch.tensor to torch.cuda.longTensor\n",
    "\n",
    "        # Compute logits\n",
    "        with torch.no_grad():\n",
    "            logits = model(b_input_ids)\n",
    "\n",
    "        # Compute loss\n",
    "        loss = loss_fn(logits, b_labels)\n",
    "        val_loss.append(loss.item())\n",
    "\n",
    "        # Get the predictions\n",
    "        preds = torch.argmax(logits, dim=1).flatten() #NOTE: `dim=1` means to \n",
    "\n",
    "        # Calculate the accuracy rate\n",
    "        accuracy = (preds == b_labels).cpu().numpy().mean() * 100\n",
    "        val_accuracy.append(accuracy)\n",
    "\n",
    "    # Compute the average accuracy and loss over the validation set.\n",
    "    val_loss = np.mean(val_loss)\n",
    "    val_accuracy = np.mean(val_accuracy)\n",
    "\n",
    "    return val_loss, val_accuracy"
   ]
  },
  {
   "cell_type": "code",
   "execution_count": 183,
   "metadata": {},
   "outputs": [
    {
     "name": "stdout",
     "output_type": "stream",
     "text": [
      "Start training...\n",
      "\n",
      " Epoch  |  Train Loss  |  Val Loss  | Val Acc  |  Elapsed \n",
      "------------------------------------------------------------\n",
      "   1    |   0.587595   | 0.472113  |   77.12   |   1.87   \n",
      "   2    |   0.450446   | 0.431196  |   79.66   |   1.63   \n",
      "   3    |   0.384983   | 0.414759  |   81.20   |   1.61   \n",
      "   4    |   0.326249   | 0.403201  |   81.66   |   1.64   \n",
      "   5    |   0.274251   | 0.406854  |   81.84   |   1.64   \n",
      "   6    |   0.215751   | 0.399692  |   82.02   |   1.60   \n",
      "   7    |   0.170066   | 0.431065  |   80.84   |   1.60   \n",
      "   8    |   0.133689   | 0.445953  |   80.84   |   1.60   \n",
      "   9    |   0.103541   | 0.477012  |   81.56   |   1.63   \n",
      "  10    |   0.076184   | 0.461447  |   81.66   |   1.61   \n",
      "  11    |   0.062485   | 0.470175  |   82.39   |   1.62   \n",
      "  12    |   0.048177   | 0.488282  |   82.47   |   1.82   \n",
      "  13    |   0.037161   | 0.507841  |   82.93   |   1.83   \n",
      "  14    |   0.031491   | 0.514615  |   83.11   |   1.81   \n",
      "  15    |   0.024513   | 0.534048  |   82.47   |   1.74   \n",
      "  16    |   0.021106   | 0.571331  |   82.66   |   1.74   \n",
      "  17    |   0.019293   | 0.560393  |   83.39   |   1.75   \n",
      "  18    |   0.015855   | 0.579056  |   82.48   |   1.73   \n",
      "  19    |   0.014075   | 0.588199  |   82.74   |   1.73   \n",
      "  20    |   0.011866   | 0.597029  |   83.02   |   1.72   \n",
      "\n",
      "\n",
      "Training complete! Best accuracy: 83.39%.\n"
     ]
    }
   ],
   "source": [
    "# CNN-non-static: fastText pretrained word vectors are fine-tuned during training.\n",
    "set_seed(42)\n",
    "cnn_non_static, optimizer = initilize_model(pretrained_embedding=embeddings,\n",
    "                                            freeze_embedding=False, #! Turn on the fine-tuning\n",
    "                                            learning_rate=0.25,\n",
    "                                            dropout=0.5)\n",
    "# optimizer = optim.Adadelta(cnn_non_static.parameters(),\n",
    "#                             lr=0.01,\n",
    "#                             rho=0.95)\n",
    "train(cnn_non_static, optimizer, train_dataloader, val_dataloader, epochs=20)\n"
   ]
  }
 ],
 "metadata": {
  "interpreter": {
   "hash": "50c7fc28387dacebb05d87680c8f08467fac81d942eb9a8ef147de8479f54731"
  },
  "kernelspec": {
   "display_name": "Python 3.8.12 ('pt1.11')",
   "language": "python",
   "name": "python3"
  },
  "language_info": {
   "codemirror_mode": {
    "name": "ipython",
    "version": 3
   },
   "file_extension": ".py",
   "mimetype": "text/x-python",
   "name": "python",
   "nbconvert_exporter": "python",
   "pygments_lexer": "ipython3",
   "version": "3.8.12"
  },
  "orig_nbformat": 4
 },
 "nbformat": 4,
 "nbformat_minor": 2
}
