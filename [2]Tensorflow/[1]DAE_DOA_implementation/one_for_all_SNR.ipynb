{
 "cells": [
  {
   "cell_type": "code",
   "execution_count": 2,
   "id": "963a7333",
   "metadata": {},
   "outputs": [],
   "source": [
    "import matplotlib.pyplot as plt\n",
    "import numpy as np\n",
    "import time\n",
    "import tensorflow as tf\n",
    "from scipy.io import loadmat, savemat\n",
    "import os\n",
    "from sklearn.metrics import accuracy_score, precision_score, recall_score\n",
    "from tensorflow.keras import layers, losses\n",
    "from tensorflow.keras.models import Model\n",
    "import scipy.io as sio\n",
    "from tensorflow.keras.callbacks import TensorBoard, EarlyStopping, ModelCheckpoint, ReduceLROnPlateau\n",
    "\n",
    "\n",
    "dense_layers = [0, 1, 2, 3]\n",
    "dense_sizes = [32, 64, 128, 256, 512]\n",
    "conv_layers = [1, 2, 3, 4]\n",
    "num_filters = [32, 64, 128, 256]\n",
    "kernel_sizes = [2000, 2250, 2500, 2750, 3000]"
   ]
  },
  {
   "cell_type": "code",
   "execution_count": 29,
   "id": "8a0fef20",
   "metadata": {},
   "outputs": [
    {
     "name": "stdout",
     "output_type": "stream",
     "text": [
      "c:\\Users\\HYPC300\\OneDrive - 한양대학교\\GitHub\\Deeplearning-Autoencoder-DOA\\[2]Tensorflow\\[1]DAE_DOA_implementation\n",
      "c:\\Users\\HYPC300\\OneDrive - 한양대학교\\GitHub\\Deeplearning-Autoencoder-DOA\\data\\result\\8_antenna_100_snapshot_1000sample_minus20_20_snr\n"
     ]
    }
   ],
   "source": [
    "basePath = '8_antenna_100_snapshot_1000sample_minus20_20_snr'\n",
    "\n",
    "rootPath = os.getcwd()\n",
    "print(rootPath)\n",
    "# Windoes path\n",
    "filePath = 'c:\\\\Users\\\\HYPC300\\\\OneDrive - 한양대학교\\\\GitHub\\\\Deeplearning-Autoencoder-DOA\\\\data';\n",
    "#  MAC path:\n",
    "# filePath = '/Users/button/Deeplearning-Autoencoder-DOA/data'\n",
    "savePath = filePath + '\\\\result' +'\\\\' + basePath\n",
    "\n",
    "if not os.path.isdir(savePath):\n",
    "    os.makedirs(savePath)\n",
    "print(savePath)"
   ]
  },
  {
   "cell_type": "code",
   "execution_count": 30,
   "id": "36078a82",
   "metadata": {},
   "outputs": [
    {
     "data": {
      "text/plain": [
       "(205000, 64)"
      ]
     },
     "execution_count": 30,
     "metadata": {},
     "output_type": "execute_result"
    }
   ],
   "source": [
    "# Input train noisy dataset for all snr and stack them together\n",
    "dataset = tf.data.Dataset.list_files(basePath+'/*/train/train_data.*', shuffle=False)\n",
    "# for i in dataset.as_numpy_iterator():\n",
    "#     print(i)\n",
    "data_set = []\n",
    "for i in dataset.as_numpy_iterator():\n",
    "    x_train = sio.loadmat(i)\n",
    "    x_train = x_train['train_data']  # noisy sample covariance matrix\n",
    "    data_set.append(x_train) #NOTE: put all the train_data of different SNR into one list\n",
    "len(data_set) \n",
    "\n",
    "data_train = data_set[0]\n",
    "for i in data_set:\n",
    "    data_train = np.vstack((data_train,i)) # stack all the datasets vertically\n",
    "    \n",
    "data_train = data_train[5000:] # the first dataset is included in twice\n",
    "data_train.shape"
   ]
  },
  {
   "cell_type": "code",
   "execution_count": 31,
   "id": "7424f1d6",
   "metadata": {},
   "outputs": [
    {
     "data": {
      "text/plain": [
       "(205000, 64)"
      ]
     },
     "execution_count": 31,
     "metadata": {},
     "output_type": "execute_result"
    }
   ],
   "source": [
    "# Input train noiseless dataset for all snr and stack them together\n",
    "dataset = tf.data.Dataset.list_files(basePath + '/*/train/train_origin_data.*', shuffle=False)\n",
    "# for i in dataset.as_numpy_iterator():\n",
    "#     print(i)\n",
    "data_set = []\n",
    "for i in dataset.as_numpy_iterator():\n",
    "    x_train = sio.loadmat(i)\n",
    "    x_train = x_train['train_origin_data']  # noisy sample covariance matrix\n",
    "    data_set.append(x_train) #NOTE: put all the train_data of different SNR into one list\n",
    "len(data_set) \n",
    "\n",
    "data_origin = data_set[0]\n",
    "for i in data_set:\n",
    "    data_origin = np.vstack((data_origin,i)) # stack all the datasets vertically\n",
    "    \n",
    "data_origin = data_origin[5000:] # the first dataset is included in twice\n",
    "data_origin.shape"
   ]
  },
  {
   "cell_type": "code",
   "execution_count": 32,
   "id": "ab6a72fa",
   "metadata": {},
   "outputs": [
    {
     "name": "stdout",
     "output_type": "stream",
     "text": [
      "[     0      1      2 ... 204997 204998 204999]\n"
     ]
    }
   ],
   "source": [
    "# train data shuffle\n",
    "np.random.seed(2020)\n",
    "index = np.arange(data_train.shape[0])\n",
    "print(index)\n",
    "np.random.shuffle(index)\n",
    "data_train = data_train[index]\n",
    "data_origin = data_origin[index]"
   ]
  },
  {
   "cell_type": "code",
   "execution_count": 38,
   "id": "4762260e",
   "metadata": {},
   "outputs": [
    {
     "name": "stdout",
     "output_type": "stream",
     "text": [
      "c:\\Users\\HYPC300\\OneDrive - 한양대학교\\GitHub\\Deeplearning-Autoencoder-DOA\\data\\result\\8_antenna_100_snapshot_1000sample_minus20_20_snr\\save_models\n"
     ]
    }
   ],
   "source": [
    "# Model configuration\n",
    "nSample = x_train.shape[0]\n",
    "epoch = 100\n",
    "batch_size = 64\n",
    "validation_split = 0.2\n",
    "\n",
    "save_dir = os.path.join(savePath, 'save_models')\n",
    "if not os.path.isdir(save_dir):\n",
    "    os.makedirs(save_dir)\n",
    "print(save_dir)"
   ]
  },
  {
   "cell_type": "code",
   "execution_count": 35,
   "id": "f1cfae90",
   "metadata": {},
   "outputs": [],
   "source": [
    "class DOA_Denoising(Model):\n",
    "    def __init__(self):\n",
    "        super(DOA_Denoising, self).__init__()\n",
    "        self.encoder = tf.keras.Sequential([\n",
    "            layers.Dense(32, activation='relu'),\n",
    "            # layers.Dropout(0.2),\n",
    "            layers.Dense(16, activation='relu'),\n",
    "            # layers.Dropout(0.2),\n",
    "            layers.Dense(8, activation='relu')]) # * 300 200 100\n",
    "        \n",
    "        self.decoder = tf.keras.Sequential([\n",
    "            layers.Dense(16, activation='relu'), #* 200 300 400\n",
    "            # layers.Dropout(0.2),\n",
    "            layers.Dense(32, activation='relu'),\n",
    "            # layers.Dropout(0.2),\n",
    "            layers.Dense(64, activation='linear')])\n",
    "\n",
    "    def call(self, x):\n",
    "        encoded = self.encoder(x)\n",
    "        decoded = self.decoder(encoded)\n",
    "        return decoded\n",
    "    \n",
    "autoencoder = DOA_Denoising() "
   ]
  },
  {
   "cell_type": "code",
   "execution_count": 193,
   "id": "c90774e5",
   "metadata": {
    "scrolled": true
   },
   "outputs": [],
   "source": [
    "# %reload_ext tensorboard\n",
    "# %tensorboard --logdir logs"
   ]
  },
  {
   "cell_type": "code",
   "execution_count": 40,
   "id": "0c0f052d",
   "metadata": {
    "scrolled": true
   },
   "outputs": [
    {
     "name": "stdout",
     "output_type": "stream",
     "text": [
      "epoch-100-batch-64-dense-300-200-100-time-1645196416\n",
      "c:\\Users\\HYPC300\\OneDrive - 한양대학교\\GitHub\\Deeplearning-Autoencoder-DOA\\data\\result\\8_antenna_100_snapshot_1000sample_minus20_20_snr\\save_models\\epoch-100-batch-64-dense-300-200-100-time-1645196416\n"
     ]
    }
   ],
   "source": [
    "model_name = (\n",
    "    f\"epoch-{epoch}-batch-{batch_size}-dense-300-200-100-time-{int(time.time())}\"\n",
    ")\n",
    "print(model_name)\n",
    "\n",
    "file_path = os.path.join(save_dir, model_name)\n",
    "print(file_path)\n",
    "\n",
    "# callbacks_list\n",
    "callbacks_list = [\n",
    "    EarlyStopping(monitor=\"val_loss\", mode=\"min\", verbose=0, patience=50),\n",
    "    ModelCheckpoint(\n",
    "        filepath=file_path,\n",
    "        monitor=\"val_loss\",\n",
    "        verbose=0,\n",
    "        save_best_only=True,\n",
    "        save_weights_only=False,\n",
    "        mode=\"min\",\n",
    "    ),\n",
    "    # TensorBoard(\n",
    "    #     log_dir=\"./logs/{}\".format(model_name),\n",
    "    #     histogram_freq=1,\n",
    "    #     write_graph=False,\n",
    "    #     write_images=False,\n",
    "    # ),\n",
    "    ReduceLROnPlateau(\n",
    "        monitor=\"val_loss\",\n",
    "        factor=0.1,\n",
    "        patience=10,\n",
    "        verbose=0,\n",
    "        mode=\"min\",\n",
    "        min_delta=0.0001,\n",
    "        cooldown=0,\n",
    "        min_lr=0,\n",
    "    ),\n",
    "]\n",
    "\n",
    "autoencoder.compile(optimizer=\"adam\", loss=\"mse\")"
   ]
  },
  {
   "cell_type": "code",
   "execution_count": 41,
   "id": "0237f323",
   "metadata": {},
   "outputs": [
    {
     "name": "stdout",
     "output_type": "stream",
     "text": [
      "Epoch 1/100\n",
      "2563/2563 [==============================] - 2s 843us/step - loss: 0.0910 - val_loss: 0.1024\n",
      "Epoch 2/100\n",
      "2563/2563 [==============================] - 2s 921us/step - loss: 0.0905 - val_loss: 0.1027\n",
      "Epoch 3/100\n",
      "2563/2563 [==============================] - 2s 955us/step - loss: 0.0906 - val_loss: 0.1041\n",
      "Epoch 4/100\n",
      "2563/2563 [==============================] - 2s 824us/step - loss: 0.0906 - val_loss: 0.1068\n",
      "Epoch 5/100\n",
      "2563/2563 [==============================] - 2s 819us/step - loss: 0.0904 - val_loss: 0.1023\n",
      "Epoch 6/100\n",
      "2563/2563 [==============================] - 2s 812us/step - loss: 0.0904 - val_loss: 0.1036\n",
      "Epoch 7/100\n",
      "2563/2563 [==============================] - 2s 779us/step - loss: 0.0903 - val_loss: 0.1021\n",
      "Epoch 8/100\n",
      "2563/2563 [==============================] - 2s 922us/step - loss: 0.0901 - val_loss: 0.1013\n",
      "Epoch 9/100\n",
      "2563/2563 [==============================] - 2s 827us/step - loss: 0.0900 - val_loss: 0.1043\n",
      "Epoch 10/100\n",
      "2563/2563 [==============================] - 2s 779us/step - loss: 0.0898 - val_loss: 0.1036\n",
      "Epoch 11/100\n",
      "2563/2563 [==============================] - 2s 825us/step - loss: 0.0897 - val_loss: 0.1006\n",
      "Epoch 12/100\n",
      "2563/2563 [==============================] - 2s 798us/step - loss: 0.0895 - val_loss: 0.1014\n",
      "Epoch 13/100\n",
      "2563/2563 [==============================] - 2s 775us/step - loss: 0.0896 - val_loss: 0.1011\n",
      "Epoch 14/100\n",
      "2563/2563 [==============================] - 2s 818us/step - loss: 0.0894 - val_loss: 0.1043\n",
      "Epoch 15/100\n",
      "2563/2563 [==============================] - 2s 783us/step - loss: 0.0893 - val_loss: 0.1021\n",
      "Epoch 16/100\n",
      "2563/2563 [==============================] - 2s 723us/step - loss: 0.0894 - val_loss: 0.1036\n",
      "Epoch 17/100\n",
      "2563/2563 [==============================] - 2s 726us/step - loss: 0.0890 - val_loss: 0.1004\n",
      "Epoch 18/100\n",
      "2563/2563 [==============================] - 2s 820us/step - loss: 0.0891 - val_loss: 0.1010\n",
      "Epoch 19/100\n",
      "2563/2563 [==============================] - 2s 776us/step - loss: 0.0891 - val_loss: 0.1062\n",
      "Epoch 20/100\n",
      "2563/2563 [==============================] - 2s 805us/step - loss: 0.0888 - val_loss: 0.1010\n",
      "Epoch 21/100\n",
      "2563/2563 [==============================] - 2s 789us/step - loss: 0.0889 - val_loss: 0.1010\n",
      "Epoch 22/100\n",
      "2563/2563 [==============================] - 2s 712us/step - loss: 0.0889 - val_loss: 0.1011\n",
      "Epoch 23/100\n",
      "2563/2563 [==============================] - 2s 714us/step - loss: 0.0885 - val_loss: 0.1012\n",
      "Epoch 24/100\n",
      "2563/2563 [==============================] - 2s 730us/step - loss: 0.0888 - val_loss: 0.1023\n",
      "Epoch 25/100\n",
      "2563/2563 [==============================] - 2s 706us/step - loss: 0.0885 - val_loss: 0.1021\n",
      "Epoch 26/100\n",
      "2563/2563 [==============================] - 2s 735us/step - loss: 0.0887 - val_loss: 0.1083\n",
      "Epoch 27/100\n",
      "2563/2563 [==============================] - 2s 725us/step - loss: 0.0885 - val_loss: 0.1007\n",
      "Epoch 28/100\n",
      "2563/2563 [==============================] - 2s 745us/step - loss: 0.0834 - val_loss: 0.0995\n",
      "Epoch 29/100\n",
      "2563/2563 [==============================] - 2s 813us/step - loss: 0.0830 - val_loss: 0.0987\n",
      "Epoch 30/100\n",
      "2563/2563 [==============================] - 2s 818us/step - loss: 0.0829 - val_loss: 0.0988\n",
      "Epoch 31/100\n",
      "2563/2563 [==============================] - 2s 804us/step - loss: 0.0828 - val_loss: 0.0989\n",
      "Epoch 32/100\n",
      "2563/2563 [==============================] - 2s 853us/step - loss: 0.0827 - val_loss: 0.0989\n",
      "Epoch 33/100\n",
      "2563/2563 [==============================] - 2s 827us/step - loss: 0.0826 - val_loss: 0.0992\n",
      "Epoch 34/100\n",
      "2563/2563 [==============================] - 2s 798us/step - loss: 0.0826 - val_loss: 0.0990\n",
      "Epoch 35/100\n",
      "2563/2563 [==============================] - 2s 800us/step - loss: 0.0826 - val_loss: 0.0992\n",
      "Epoch 36/100\n",
      "2563/2563 [==============================] - 2s 746us/step - loss: 0.0825 - val_loss: 0.0991\n",
      "Epoch 37/100\n",
      "2563/2563 [==============================] - 2s 764us/step - loss: 0.0825 - val_loss: 0.0992\n",
      "Epoch 38/100\n",
      "2563/2563 [==============================] - 2s 825us/step - loss: 0.0825 - val_loss: 0.0990\n",
      "Epoch 39/100\n",
      "2563/2563 [==============================] - 2s 825us/step - loss: 0.0824 - val_loss: 0.0994\n",
      "Epoch 40/100\n",
      "2563/2563 [==============================] - 2s 837us/step - loss: 0.0819 - val_loss: 0.0989\n",
      "Epoch 41/100\n",
      "2563/2563 [==============================] - 2s 849us/step - loss: 0.0818 - val_loss: 0.0989\n",
      "Epoch 42/100\n",
      "2563/2563 [==============================] - 2s 839us/step - loss: 0.0818 - val_loss: 0.0989\n",
      "Epoch 43/100\n",
      "2563/2563 [==============================] - 2s 831us/step - loss: 0.0818 - val_loss: 0.0990\n",
      "Epoch 44/100\n",
      "2563/2563 [==============================] - 2s 846us/step - loss: 0.0818 - val_loss: 0.0990\n",
      "Epoch 45/100\n",
      "2563/2563 [==============================] - 2s 776us/step - loss: 0.0818 - val_loss: 0.0990\n",
      "Epoch 46/100\n",
      "2563/2563 [==============================] - 2s 794us/step - loss: 0.0818 - val_loss: 0.0990\n",
      "Epoch 47/100\n",
      "2563/2563 [==============================] - 2s 808us/step - loss: 0.0818 - val_loss: 0.0990\n",
      "Epoch 48/100\n",
      "2563/2563 [==============================] - 2s 825us/step - loss: 0.0818 - val_loss: 0.0990\n",
      "Epoch 49/100\n",
      "2563/2563 [==============================] - 2s 910us/step - loss: 0.0818 - val_loss: 0.0989\n",
      "Epoch 50/100\n",
      "2563/2563 [==============================] - 2s 897us/step - loss: 0.0817 - val_loss: 0.0990\n",
      "Epoch 51/100\n",
      "2563/2563 [==============================] - 2s 872us/step - loss: 0.0817 - val_loss: 0.0990\n",
      "Epoch 52/100\n",
      "2563/2563 [==============================] - 2s 783us/step - loss: 0.0817 - val_loss: 0.0990\n",
      "Epoch 53/100\n",
      "2563/2563 [==============================] - 2s 819us/step - loss: 0.0817 - val_loss: 0.0990\n",
      "Epoch 54/100\n",
      "2563/2563 [==============================] - 2s 808us/step - loss: 0.0817 - val_loss: 0.0990\n",
      "Epoch 55/100\n",
      "2563/2563 [==============================] - 2s 759us/step - loss: 0.0817 - val_loss: 0.0990\n",
      "Epoch 56/100\n",
      "2563/2563 [==============================] - 2s 820us/step - loss: 0.0817 - val_loss: 0.0990\n",
      "Epoch 57/100\n",
      "2563/2563 [==============================] - 2s 846us/step - loss: 0.0817 - val_loss: 0.0990\n",
      "Epoch 58/100\n",
      "2563/2563 [==============================] - 2s 803us/step - loss: 0.0817 - val_loss: 0.0990\n",
      "Epoch 59/100\n",
      "2563/2563 [==============================] - 2s 792us/step - loss: 0.0817 - val_loss: 0.0990\n",
      "Epoch 60/100\n",
      "2563/2563 [==============================] - 2s 868us/step - loss: 0.0817 - val_loss: 0.0990\n",
      "Epoch 61/100\n",
      "2563/2563 [==============================] - 2s 805us/step - loss: 0.0817 - val_loss: 0.0990\n",
      "Epoch 62/100\n",
      "2563/2563 [==============================] - 2s 764us/step - loss: 0.0817 - val_loss: 0.0990\n",
      "Epoch 63/100\n",
      "2563/2563 [==============================] - 2s 799us/step - loss: 0.0817 - val_loss: 0.0990\n",
      "Epoch 64/100\n",
      "2563/2563 [==============================] - 2s 737us/step - loss: 0.0817 - val_loss: 0.0990\n",
      "Epoch 65/100\n",
      "2563/2563 [==============================] - 2s 721us/step - loss: 0.0817 - val_loss: 0.0990\n",
      "Epoch 66/100\n",
      "2563/2563 [==============================] - 2s 718us/step - loss: 0.0817 - val_loss: 0.0990\n",
      "Epoch 67/100\n",
      "2563/2563 [==============================] - 2s 707us/step - loss: 0.0817 - val_loss: 0.0990\n",
      "Epoch 68/100\n",
      "2563/2563 [==============================] - 2s 740us/step - loss: 0.0817 - val_loss: 0.0990\n",
      "Epoch 69/100\n",
      "2563/2563 [==============================] - 2s 745us/step - loss: 0.0817 - val_loss: 0.0990\n",
      "Epoch 70/100\n",
      "2563/2563 [==============================] - 2s 746us/step - loss: 0.0817 - val_loss: 0.0990\n",
      "Epoch 71/100\n",
      "2563/2563 [==============================] - 2s 733us/step - loss: 0.0817 - val_loss: 0.0990\n",
      "Epoch 72/100\n",
      "2563/2563 [==============================] - 2s 725us/step - loss: 0.0817 - val_loss: 0.0990\n",
      "Epoch 73/100\n",
      "2563/2563 [==============================] - 2s 730us/step - loss: 0.0817 - val_loss: 0.0990\n",
      "Epoch 74/100\n",
      "2563/2563 [==============================] - 2s 732us/step - loss: 0.0817 - val_loss: 0.0990\n",
      "Epoch 75/100\n",
      "2563/2563 [==============================] - 2s 727us/step - loss: 0.0817 - val_loss: 0.0990\n",
      "Epoch 76/100\n",
      "2563/2563 [==============================] - 2s 735us/step - loss: 0.0817 - val_loss: 0.0990\n",
      "Epoch 77/100\n",
      "2563/2563 [==============================] - 2s 736us/step - loss: 0.0817 - val_loss: 0.0990\n",
      "Epoch 78/100\n",
      "2563/2563 [==============================] - 2s 740us/step - loss: 0.0817 - val_loss: 0.0990\n",
      "Epoch 79/100\n",
      "2563/2563 [==============================] - 2s 729us/step - loss: 0.0817 - val_loss: 0.0990\n",
      "Model: \"sequential_2\"\n",
      "_________________________________________________________________\n",
      "Layer (type)                 Output Shape              Param #   \n",
      "=================================================================\n",
      "dense_6 (Dense)              (None, 32)                2080      \n",
      "_________________________________________________________________\n",
      "dense_7 (Dense)              (None, 16)                528       \n",
      "_________________________________________________________________\n",
      "dense_8 (Dense)              (None, 8)                 136       \n",
      "=================================================================\n",
      "Total params: 2,744\n",
      "Trainable params: 2,744\n",
      "Non-trainable params: 0\n",
      "_________________________________________________________________\n",
      "Model: \"sequential_3\"\n",
      "_________________________________________________________________\n",
      "Layer (type)                 Output Shape              Param #   \n",
      "=================================================================\n",
      "dense_9 (Dense)              (None, 16)                144       \n",
      "_________________________________________________________________\n",
      "dense_10 (Dense)             (None, 32)                544       \n",
      "_________________________________________________________________\n",
      "dense_11 (Dense)             (None, 64)                2112      \n",
      "=================================================================\n",
      "Total params: 2,800\n",
      "Trainable params: 2,800\n",
      "Non-trainable params: 0\n",
      "_________________________________________________________________\n"
     ]
    }
   ],
   "source": [
    "history = autoencoder.fit(\n",
    "    # dataset_final.take(num_train),\n",
    "    data_train,\n",
    "    data_origin,\n",
    "    epochs=epoch,\n",
    "    batch_size=batch_size,\n",
    "    shuffle=True,\n",
    "    # validation_data = dataset_final.skip(205000*0.8),\n",
    "    validation_split=validation_split,\n",
    "    callbacks=callbacks_list,  #! Do not put [] around callbacks_list variable\n",
    ")\n",
    "\n",
    "autoencoder.encoder.summary()\n",
    "autoencoder.decoder.summary()"
   ]
  },
  {
   "cell_type": "code",
   "execution_count": 42,
   "id": "b0ebd448",
   "metadata": {},
   "outputs": [
    {
     "data": {
      "text/plain": [
       "<matplotlib.legend.Legend at 0x1979995daf0>"
      ]
     },
     "execution_count": 42,
     "metadata": {},
     "output_type": "execute_result"
    },
    {
     "data": {
      "image/png": "[encoded data removed]",
      "text/plain": [
       "<Figure size 432x288 with 1 Axes>"
      ]
     },
     "metadata": {
      "needs_background": "light"
     },
     "output_type": "display_data"
    }
   ],
   "source": [
    "plt.plot(history.history[\"loss\"], label=\"Traing Loss\")\n",
    "plt.plot(history.history[\"val_loss\"], label=\"Validation Loss\")\n",
    "plt.legend()\n",
    "# plt.savefig('10.png')\n",
    "# plt.savefig('SNR_-30_training_loss.png')"
   ]
  },
  {
   "cell_type": "code",
   "execution_count": 43,
   "id": "31151388",
   "metadata": {},
   "outputs": [
    {
     "name": "stdout",
     "output_type": "stream",
     "text": [
      "b'8_antenna_100_snapshot_1000sample_minus20_20_snr\\\\20dB\\\\test\\\\test_data.mat'\n",
      "c:\\Users\\HYPC300\\OneDrive - 한양대학교\\GitHub\\Deeplearning-Autoencoder-DOA\\data\\result\\8_antenna_100_snapshot_1000sample_minus20_20_snr\n",
      "c:\\Users\\HYPC300\\OneDrive - 한양대학교\\GitHub\\Deeplearning-Autoencoder-DOA\\data\\result\\8_antenna_100_snapshot_1000sample_minus20_20_snr\\test_data.mat\n"
     ]
    }
   ],
   "source": [
    "# Input test noisy dataset for all snr and stack them together\n",
    "dataset = tf.data.Dataset.list_files(basePath + '/20dB/test/test_data.*', shuffle=False)\n",
    "for i in dataset.as_numpy_iterator():\n",
    "    print(i)\n",
    "data_set = []\n",
    "for i in dataset.as_numpy_iterator():\n",
    "    x_train = sio.loadmat(i)\n",
    "    x_train = x_train['test_data']  # noisy sample covariance matrix\n",
    "    data_set.append(x_train) #NOTE: put all the train_data of different SNR into one list\n",
    "len(data_set) \n",
    "data_test = data_set[0]\n",
    "for i in data_set:\n",
    "    data_test = np.vstack((data_test,i)) # stack all the datasets vertically\n",
    "data_test = data_test[1000:] # the first dataset is included in twice\n",
    "data_test.shape\n",
    "# export data for MATLAB processing\n",
    "print(savePath)\n",
    "savePath_ = savePath + '\\\\test_data.mat'\n",
    "print(savePath_)\n",
    "savemat(savePath_, {'test_data':data_test})"
   ]
  },
  {
   "cell_type": "code",
   "execution_count": 47,
   "id": "690a2282",
   "metadata": {},
   "outputs": [
    {
     "name": "stdout",
     "output_type": "stream",
     "text": [
      "(1000, 8)\n",
      "c:\\Users\\HYPC300\\OneDrive - 한양대학교\\GitHub\\Deeplearning-Autoencoder-DOA\\data\\result\\8_antenna_100_snapshot_1000sample_minus20_20_snr\n",
      "c:\\Users\\HYPC300\\OneDrive - 한양대학교\\GitHub\\Deeplearning-Autoencoder-DOA\\data\\result\\8_antenna_100_snapshot_1000sample_minus20_20_snr/denoised_data.mat\n"
     ]
    },
    {
     "data": {
      "text/plain": [
       "<matplotlib.legend.Legend at 0x197a0256130>"
      ]
     },
     "execution_count": 47,
     "metadata": {},
     "output_type": "execute_result"
    },
    {
     "data": {
      "image/png": "[encoded data removed]",
      "text/plain": [
       "<Figure size 432x288 with 1 Axes>"
      ]
     },
     "metadata": {
      "needs_background": "light"
     },
     "output_type": "display_data"
    }
   ],
   "source": [
    "encoded_data = autoencoder.encoder(data_test).numpy()\n",
    "decoded_data = autoencoder.decoder(encoded_data).numpy()\n",
    "print(encoded_data.shape)\n",
    "\n",
    "# Save the denoised data for MATLAB processing\n",
    "print(savePath)\n",
    "savePath_ = savePath + '/denoised_data.mat'\n",
    "print(savePath_)\n",
    "savemat(savePath_, {'denoised_data':decoded_data})\n",
    "\n",
    "ind = 32\n",
    "plt.plot(data_test[ind],'b')\n",
    "plt.plot(decoded_data[ind],'k')\n",
    "plt.fill_between(np.arange(64),decoded_data[ind],data_test[ind],color='lightcoral')\n",
    "plt.legend([\"Input\", \"Reconstruction\",\"Error\"])\n",
    "# plt.savefig('SNR_-30_autoencoder_compare.png')"
   ]
  },
  {
   "cell_type": "code",
   "execution_count": 296,
   "id": "01958963",
   "metadata": {},
   "outputs": [
    {
     "name": "stdout",
     "output_type": "stream",
     "text": [
      "c:\\Users\\HYPC300\\OneDrive - 한양대학교\\GitHub\\Deeplearning-Autoencoder-DOA\\data\\result\\random_two source_10snapshots_1000sample\n",
      "c:\\Users\\HYPC300\\OneDrive - 한양대학교\\GitHub\\Deeplearning-Autoencoder-DOA\\data\\result\\random_two source_10snapshots_1000sample\\test_label.mat\n"
     ]
    }
   ],
   "source": [
    "# Input test label dataset for all snr and stack them together\n",
    "dataset = tf.data.Dataset.list_files(basePath + '/20dB/test/test_label.*', shuffle=False)\n",
    "# for i in dataset.as_numpy_iterator():\n",
    "#     print(i)\n",
    "data_set = []\n",
    "for i in dataset.as_numpy_iterator():\n",
    "    x_train = sio.loadmat(i)\n",
    "    x_train = x_train['test_label']  # noisy sample covariance matrix\n",
    "    data_set.append(x_train) #NOTE: put all the train_data of different SNR into one list\n",
    "len(data_set) \n",
    "data_label = data_set[0]\n",
    "for i in data_set:\n",
    "    data_label = np.vstack((data_label,i)) # stack all the datasets vertically\n",
    "data_label = data_label[1000:] # the first dataset is included in twice\n",
    "data_label.shape\n",
    "\n",
    "print(savePath)\n",
    "savePath_ = savePath + '\\\\test_label.mat'\n",
    "print(savePath_)\n",
    "savemat(savePath_, {'test_label':data_label})"
   ]
  },
  {
   "cell_type": "code",
   "execution_count": 62,
   "id": "36398cb3",
   "metadata": {},
   "outputs": [
    {
     "data": {
      "text/plain": [
       "(1, 64)"
      ]
     },
     "execution_count": 62,
     "metadata": {},
     "output_type": "execute_result"
    }
   ],
   "source": [
    "x_test = sio.loadmat('vec')\n",
    "test_max = x_test['vec']\n",
    "test_max = test_max.reshape(1,64)\n",
    "test_max.shape"
   ]
  },
  {
   "cell_type": "code",
   "execution_count": 63,
   "id": "1acb8942",
   "metadata": {},
   "outputs": [
    {
     "name": "stdout",
     "output_type": "stream",
     "text": [
      "(1, 8)\n",
      "c:\\Users\\HYPC300\\OneDrive - 한양대학교\\GitHub\\Deeplearning-Autoencoder-DOA\\data\\result\\8_antenna_100_snapshot_1000sample_minus20_20_snr\n",
      "c:\\Users\\HYPC300\\OneDrive - 한양대학교\\GitHub\\Deeplearning-Autoencoder-DOA\\data\\result\\8_antenna_100_snapshot_1000sample_minus20_20_snr/denoised_data.mat\n"
     ]
    }
   ],
   "source": [
    "\n",
    "encoded_data = autoencoder.encoder(test_max).numpy()\n",
    "decoded_data = autoencoder.decoder(encoded_data).numpy()\n",
    "print(encoded_data.shape)\n",
    "\n",
    "# Save the denoised data for MATLAB processing\n",
    "print(savePath)\n",
    "savePath_ = savePath + '/denoised_data.mat'\n",
    "print(savePath_)\n",
    "savemat(savePath_, {'denoised_data':decoded_data})\n"
   ]
  }
 ],
 "metadata": {
  "celltoolbar": "Slideshow",
  "kernelspec": {
   "display_name": "Python 3 (ipykernel)",
   "language": "python",
   "name": "python3"
  },
  "language_info": {
   "codemirror_mode": {
    "name": "ipython",
    "version": 3
   },
   "file_extension": ".py",
   "mimetype": "text/x-python",
   "name": "python",
   "nbconvert_exporter": "python",
   "pygments_lexer": "ipython3",
   "version": "3.8.12"
  }
 },
 "nbformat": 4,
 "nbformat_minor": 5
}
