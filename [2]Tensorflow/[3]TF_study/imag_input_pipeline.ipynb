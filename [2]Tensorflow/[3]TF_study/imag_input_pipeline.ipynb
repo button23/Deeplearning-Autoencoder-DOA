{
 "cells": [
  {
   "cell_type": "code",
   "execution_count": 1,
   "metadata": {},
   "outputs": [],
   "source": [
    "import tensorflow as tf"
   ]
  },
  {
   "cell_type": "code",
   "execution_count": 11,
   "metadata": {},
   "outputs": [
    {
     "name": "stdout",
     "output_type": "stream",
     "text": [
      "b'images/cat/20 Reasons Why Cats Make the Best Pets....jpg'\n",
      "b'images/cat/7 Foods Your Cat Can_t Eat.jpg'\n",
      "b'images/cat/A cat appears to have caught the....jpg'\n",
      "b'images/cat/Adopt-A-Cat Month\\xc2\\xae - American Humane....jpg'\n",
      "b'images/cat/All About Your Cat_s Tongue.jpg'\n",
      "b'images/cat/Alley Cat Allies _ An Advocacy....jpg'\n",
      "b'images/cat/Are Cats Domesticated_ _ The New Yorker.jpg'\n",
      "b'images/cat/Cat Advice _ Collecting a Urine Sample....jpg'\n",
      "b'images/cat/Cat Throwing Up_ Normal or Cause for....jpg'\n",
      "b'images/cat/Cat intelligence - Wikipedia.jpg'\n"
     ]
    }
   ],
   "source": [
    "# import image files from external folders\n",
    "dataset = tf.data.Dataset.list_files('images/*/*', shuffle=False) #! asterisk * means wildcard\n",
    "dataset # what inside this dataset is just image paths, the images have not yet been read.\n",
    "for elem in dataset.take(10):\n",
    "    print(elem.numpy()) # print out the 10 paths of the images"
   ]
  },
  {
   "cell_type": "code",
   "execution_count": 12,
   "metadata": {},
   "outputs": [
    {
     "name": "stdout",
     "output_type": "stream",
     "text": [
      "b'images/dog/The Black Dog Tavern Company _ Life off....jpg'\n",
      "b'images/dog/Common Dog Breeds and Their Health Issues.jpg'\n",
      "b'images/dog/How to make your dog feel comfortable....jpg'\n",
      "b'images/cat/International Cat Care _ The ultimate....jpg'\n",
      "b'images/dog/7 Tips on Canine Body Language _ ASPCApro.jpg'\n",
      "b'images/dog/List of Dog Breeds _ Petfinder.jpg'\n",
      "b'images/dog/Cats and Dogs.jpg'\n",
      "b'images/cat/The Science-Backed Benefits of Being a....jpg'\n",
      "b'images/dog/Welcoming Your Adopted Dog Into Your....jpg'\n",
      "b'images/dog/dog existed at the end of the Ice Age_yythkg....jpg'\n"
     ]
    }
   ],
   "source": [
    "# import image files from external folders with shuffle being true\n",
    "dataset = tf.data.Dataset.list_files('images/*/*', shuffle=True) #! asterisk * means wildcard\n",
    "dataset # what inside this dataset is just image paths, the images have not yet been read.\n",
    "for elem in dataset.take(10):\n",
    "    print(elem.numpy()) # print out the 10 paths of the images with shuffled order "
   ]
  },
  {
   "cell_type": "code",
   "execution_count": 13,
   "metadata": {},
   "outputs": [],
   "source": [
    "# Now the objectives are as follows\n",
    "# 1: split dataset into training dataset and test dataset with 8:2 ratio\n",
    "# 2: capture the label from the path of the image\n",
    "# 3: import image data and decode from jpeg to array tensor\n",
    "# 4: scaling the data\n",
    "# 5: batch the dataset "
   ]
  },
  {
   "cell_type": "code",
   "execution_count": 24,
   "metadata": {},
   "outputs": [
    {
     "data": {
      "text/plain": [
       "130"
      ]
     },
     "execution_count": 24,
     "metadata": {},
     "output_type": "execute_result"
    }
   ],
   "source": [
    "# 1: split dataset into training dataset and test dataset with 8:2 ratio\n",
    "image_num = len(list(dataset)) #HACK: First convert DatasetV1Adapter to list before using len() \n",
    "image_num"
   ]
  },
  {
   "cell_type": "code",
   "execution_count": 32,
   "metadata": {},
   "outputs": [],
   "source": [
    "train_num = int(image_num * 0.8)\n",
    "train_ds = dataset.take(train_num)\n",
    "test_ds = dataset.skip(train_num)"
   ]
  },
  {
   "cell_type": "code",
   "execution_count": 45,
   "metadata": {},
   "outputs": [
    {
     "data": {
      "text/plain": [
       "'/'"
      ]
     },
     "execution_count": 45,
     "metadata": {},
     "output_type": "execute_result"
    }
   ],
   "source": [
    "import os\n",
    "os.path.sep"
   ]
  },
  {
   "cell_type": "code",
   "execution_count": 51,
   "metadata": {},
   "outputs": [],
   "source": [
    "# 2: capture the label from the path of the image\n",
    "\n",
    "def get_label(elem):\n",
    "    return elem.split('/') #! This function can't be applied to tensor type data directly\n",
    "\n",
    "def get_label_tf(elem):\n",
    "    return tf.strings.split(elem, os.path.sep)[-2]"
   ]
  },
  {
   "cell_type": "code",
   "execution_count": 53,
   "metadata": {},
   "outputs": [
    {
     "name": "stdout",
     "output_type": "stream",
     "text": [
      "b'cat'\n",
      "b'dog'\n",
      "b'dog'\n"
     ]
    }
   ],
   "source": [
    "for elem in dataset.take(3):\n",
    "    label = get_label_tf(elem) # apply the defined function to every element in dataset\n",
    "    print(label.numpy()) "
   ]
  },
  {
   "cell_type": "code",
   "execution_count": 59,
   "metadata": {},
   "outputs": [
    {
     "name": "stdout",
     "output_type": "stream",
     "text": [
      "(128, 128, 3)\n",
      "(128, 128, 3)\n",
      "(128, 128, 4)\n",
      "(128, 128, 3)\n",
      "(128, 128, 3)\n"
     ]
    }
   ],
   "source": [
    "# The following function read images and resize it while invoking get_label_tf() function\n",
    "def pre_process(elem):\n",
    "    label = get_label_tf(elem)\n",
    "    imag = tf.io.read_file(elem) \n",
    "    imag = tf.image.decode_jpeg(imag)\n",
    "    imag = tf.image.resize(imag,[128,128]) # resize the first two dimension size \n",
    "    return imag, label\n",
    "\n",
    "def scaling(elem):\n",
    "    return elem/255"
   ]
  },
  {
   "cell_type": "code",
   "execution_count": 65,
   "metadata": {},
   "outputs": [
    {
     "name": "stdout",
     "output_type": "stream",
     "text": [
      "[[[6.54062500e+01 8.14062500e+01 1.07406250e+02]\n",
      "  [6.86093750e+01 8.46093750e+01 1.10609375e+02]\n",
      "  [7.17968750e+01 8.77968750e+01 1.13796875e+02]\n",
      "  ...\n",
      "  [5.06093750e+01 7.06093750e+01 9.56093750e+01]\n",
      "  [4.90317383e+01 6.90317383e+01 9.40317383e+01]\n",
      "  [4.65053711e+01 6.65053711e+01 9.15053711e+01]]\n",
      "\n",
      " [[6.64379883e+01 8.34379883e+01 1.09437988e+02]\n",
      "  [6.56093750e+01 8.26093750e+01 1.08609375e+02]\n",
      "  [6.44062500e+01 8.14062500e+01 1.07406250e+02]\n",
      "  ...\n",
      "  [5.60864258e+01 7.60864258e+01 1.01086426e+02]\n",
      "  [5.16093750e+01 7.16093750e+01 9.66093750e+01]\n",
      "  [6.22968750e+01 7.92968750e+01 1.05296875e+02]]\n",
      "\n",
      " [[6.12812500e+01 8.32812500e+01 1.07281250e+02]\n",
      "  [6.30131836e+01 8.50131836e+01 1.09013184e+02]\n",
      "  [6.11782227e+01 8.31782227e+01 1.07178223e+02]\n",
      "  ...\n",
      "  [5.16093750e+01 7.16093750e+01 9.66093750e+01]\n",
      "  [5.66562500e+01 7.66562500e+01 1.01656250e+02]\n",
      "  [7.42856445e+01 8.82856445e+01 1.15285645e+02]]\n",
      "\n",
      " ...\n",
      "\n",
      " [[1.28564453e+00 1.28564453e+00 1.28564453e+00]\n",
      "  [1.16943359e+00 1.16943359e+00 1.16943359e+00]\n",
      "  [5.60302734e+00 3.41552734e+00 8.12500000e-01]\n",
      "  ...\n",
      "  [1.00000000e+00 1.00000000e+00 1.00000000e+00]\n",
      "  [1.00000000e+00 1.00000000e+00 1.00000000e+00]\n",
      "  [2.81250000e-01 2.81250000e-01 2.81250000e-01]]\n",
      "\n",
      " [[3.39111328e+00 3.39111328e+00 3.39111328e+00]\n",
      "  [1.87646484e+00 1.87646484e+00 1.87646484e+00]\n",
      "  [5.08642578e+00 3.79687500e+00 1.20312500e+00]\n",
      "  ...\n",
      "  [1.95556641e+00 1.95556641e+00 1.95556641e+00]\n",
      "  [1.00000000e+00 1.00000000e+00 1.00000000e+00]\n",
      "  [2.81250000e-01 2.81250000e-01 2.81250000e-01]]\n",
      "\n",
      " [[2.81250000e-01 2.81250000e-01 2.81250000e-01]\n",
      "  [2.03125000e-01 2.03125000e-01 2.03125000e-01]\n",
      "  [3.23730469e-01 3.23730469e-01 8.25195312e-02]\n",
      "  ...\n",
      "  [1.45996094e+00 1.45996094e+00 1.45996094e+00]\n",
      "  [3.00000000e+00 3.00000000e+00 3.00000000e+00]\n",
      "  [2.05712891e+00 2.05712891e+00 2.05712891e+00]]]\n",
      "b'dog'\n"
     ]
    }
   ],
   "source": [
    "# for elem in train_ds.take(5):\n",
    "#     imag, label = pre_process(elem)\n",
    "#     print(imag.numpy().shape)\n",
    "\n",
    "# use map() method to apply the pre_process function to all the elements in the dataset    \n",
    "for img, label in train_ds.map(pre_process).take(1): \n",
    "    print(imag.numpy())\n",
    "    print(label.numpy())\n"
   ]
  },
  {
   "cell_type": "code",
   "execution_count": null,
   "metadata": {},
   "outputs": [],
   "source": [
    "train_ds = train_ds.map(pre_process) # update train_ds dateset"
   ]
  },
  {
   "cell_type": "code",
   "execution_count": 74,
   "metadata": {},
   "outputs": [
    {
     "name": "stdout",
     "output_type": "stream",
     "text": [
      "tf.Tensor(b'dog', shape=(), dtype=string)\n",
      "tf.Tensor(b'cat', shape=(), dtype=string)\n",
      "tf.Tensor(b'dog', shape=(), dtype=string)\n",
      "tf.Tensor(b'cat', shape=(), dtype=string)\n",
      "tf.Tensor(b'dog', shape=(), dtype=string)\n",
      "tf.Tensor(b'dog', shape=(), dtype=string)\n",
      "tf.Tensor(b'dog', shape=(), dtype=string)\n",
      "tf.Tensor(b'dog', shape=(), dtype=string)\n",
      "tf.Tensor(b'cat', shape=(), dtype=string)\n",
      "tf.Tensor(b'dog', shape=(), dtype=string)\n"
     ]
    }
   ],
   "source": [
    "for img, label in train_ds.take(10):\n",
    "    # print(img)\n",
    "    print(label)"
   ]
  },
  {
   "cell_type": "code",
   "execution_count": 77,
   "metadata": {},
   "outputs": [
    {
     "name": "stdout",
     "output_type": "stream",
     "text": [
      "tf.Tensor(0, shape=(), dtype=int64)\n",
      "tf.Tensor(1, shape=(), dtype=int64)\n",
      "tf.Tensor(2, shape=(), dtype=int64)\n",
      "tf.Tensor(3, shape=(), dtype=int64)\n",
      "tf.Tensor(4, shape=(), dtype=int64)\n",
      "tf.Tensor(5, shape=(), dtype=int64)\n",
      "tf.Tensor(6, shape=(), dtype=int64)\n",
      "tf.Tensor(7, shape=(), dtype=int64)\n",
      "tf.Tensor(8, shape=(), dtype=int64)\n",
      "tf.Tensor(9, shape=(), dtype=int64)\n",
      "tf.Tensor(10, shape=(), dtype=int64)\n",
      "tf.Tensor(11, shape=(), dtype=int64)\n",
      "tf.Tensor(12, shape=(), dtype=int64)\n",
      "tf.Tensor(13, shape=(), dtype=int64)\n",
      "tf.Tensor(14, shape=(), dtype=int64)\n",
      "tf.Tensor(15, shape=(), dtype=int64)\n",
      "tf.Tensor(16, shape=(), dtype=int64)\n",
      "tf.Tensor(17, shape=(), dtype=int64)\n",
      "tf.Tensor(18, shape=(), dtype=int64)\n",
      "tf.Tensor(19, shape=(), dtype=int64)\n",
      "tf.Tensor(20, shape=(), dtype=int64)\n",
      "tf.Tensor(21, shape=(), dtype=int64)\n",
      "tf.Tensor(22, shape=(), dtype=int64)\n",
      "tf.Tensor(23, shape=(), dtype=int64)\n",
      "tf.Tensor(24, shape=(), dtype=int64)\n",
      "tf.Tensor(25, shape=(), dtype=int64)\n",
      "tf.Tensor(26, shape=(), dtype=int64)\n",
      "tf.Tensor(27, shape=(), dtype=int64)\n",
      "tf.Tensor(28, shape=(), dtype=int64)\n",
      "tf.Tensor(29, shape=(), dtype=int64)\n",
      "tf.Tensor(30, shape=(), dtype=int64)\n",
      "tf.Tensor(31, shape=(), dtype=int64)\n",
      "tf.Tensor(32, shape=(), dtype=int64)\n",
      "tf.Tensor(33, shape=(), dtype=int64)\n",
      "tf.Tensor(34, shape=(), dtype=int64)\n",
      "tf.Tensor(35, shape=(), dtype=int64)\n",
      "tf.Tensor(36, shape=(), dtype=int64)\n",
      "tf.Tensor(37, shape=(), dtype=int64)\n",
      "tf.Tensor(38, shape=(), dtype=int64)\n",
      "tf.Tensor(39, shape=(), dtype=int64)\n",
      "tf.Tensor(40, shape=(), dtype=int64)\n",
      "tf.Tensor(41, shape=(), dtype=int64)\n",
      "tf.Tensor(42, shape=(), dtype=int64)\n",
      "tf.Tensor(43, shape=(), dtype=int64)\n",
      "tf.Tensor(44, shape=(), dtype=int64)\n",
      "tf.Tensor(45, shape=(), dtype=int64)\n",
      "tf.Tensor(46, shape=(), dtype=int64)\n",
      "tf.Tensor(47, shape=(), dtype=int64)\n",
      "tf.Tensor(48, shape=(), dtype=int64)\n",
      "tf.Tensor(49, shape=(), dtype=int64)\n",
      "tf.Tensor(50, shape=(), dtype=int64)\n",
      "tf.Tensor(51, shape=(), dtype=int64)\n",
      "tf.Tensor(52, shape=(), dtype=int64)\n",
      "tf.Tensor(53, shape=(), dtype=int64)\n",
      "tf.Tensor(54, shape=(), dtype=int64)\n",
      "tf.Tensor(55, shape=(), dtype=int64)\n",
      "tf.Tensor(56, shape=(), dtype=int64)\n",
      "tf.Tensor(57, shape=(), dtype=int64)\n",
      "tf.Tensor(58, shape=(), dtype=int64)\n",
      "tf.Tensor(59, shape=(), dtype=int64)\n",
      "tf.Tensor(60, shape=(), dtype=int64)\n",
      "tf.Tensor(61, shape=(), dtype=int64)\n",
      "tf.Tensor(62, shape=(), dtype=int64)\n",
      "tf.Tensor(63, shape=(), dtype=int64)\n",
      "tf.Tensor(64, shape=(), dtype=int64)\n",
      "tf.Tensor(65, shape=(), dtype=int64)\n",
      "tf.Tensor(66, shape=(), dtype=int64)\n",
      "tf.Tensor(67, shape=(), dtype=int64)\n",
      "tf.Tensor(68, shape=(), dtype=int64)\n",
      "tf.Tensor(69, shape=(), dtype=int64)\n",
      "tf.Tensor(70, shape=(), dtype=int64)\n",
      "tf.Tensor(71, shape=(), dtype=int64)\n",
      "tf.Tensor(72, shape=(), dtype=int64)\n",
      "tf.Tensor(73, shape=(), dtype=int64)\n",
      "tf.Tensor(74, shape=(), dtype=int64)\n",
      "tf.Tensor(75, shape=(), dtype=int64)\n",
      "tf.Tensor(76, shape=(), dtype=int64)\n",
      "tf.Tensor(77, shape=(), dtype=int64)\n",
      "tf.Tensor(78, shape=(), dtype=int64)\n",
      "tf.Tensor(79, shape=(), dtype=int64)\n",
      "tf.Tensor(80, shape=(), dtype=int64)\n",
      "tf.Tensor(81, shape=(), dtype=int64)\n",
      "tf.Tensor(82, shape=(), dtype=int64)\n",
      "tf.Tensor(83, shape=(), dtype=int64)\n",
      "tf.Tensor(84, shape=(), dtype=int64)\n",
      "tf.Tensor(85, shape=(), dtype=int64)\n",
      "tf.Tensor(86, shape=(), dtype=int64)\n",
      "tf.Tensor(87, shape=(), dtype=int64)\n",
      "tf.Tensor(88, shape=(), dtype=int64)\n",
      "tf.Tensor(89, shape=(), dtype=int64)\n",
      "tf.Tensor(90, shape=(), dtype=int64)\n",
      "tf.Tensor(91, shape=(), dtype=int64)\n",
      "tf.Tensor(92, shape=(), dtype=int64)\n",
      "tf.Tensor(93, shape=(), dtype=int64)\n",
      "tf.Tensor(94, shape=(), dtype=int64)\n",
      "tf.Tensor(95, shape=(), dtype=int64)\n",
      "tf.Tensor(96, shape=(), dtype=int64)\n",
      "tf.Tensor(97, shape=(), dtype=int64)\n",
      "tf.Tensor(98, shape=(), dtype=int64)\n",
      "tf.Tensor(99, shape=(), dtype=int64)\n"
     ]
    }
   ],
   "source": [
    "dataset1 = tf.data.Dataset.range(100)\n",
    "for i in dataset1:\n",
    "    print(i)"
   ]
  },
  {
   "cell_type": "code",
   "execution_count": 79,
   "metadata": {},
   "outputs": [
    {
     "name": "stdout",
     "output_type": "stream",
     "text": [
      "tf.Tensor(0, shape=(), dtype=int64)\n",
      "tf.Tensor(-1, shape=(), dtype=int64)\n",
      "tf.Tensor(-2, shape=(), dtype=int64)\n",
      "tf.Tensor(-3, shape=(), dtype=int64)\n",
      "tf.Tensor(-4, shape=(), dtype=int64)\n",
      "tf.Tensor(-5, shape=(), dtype=int64)\n",
      "tf.Tensor(-6, shape=(), dtype=int64)\n",
      "tf.Tensor(-7, shape=(), dtype=int64)\n",
      "tf.Tensor(-8, shape=(), dtype=int64)\n",
      "tf.Tensor(-9, shape=(), dtype=int64)\n",
      "tf.Tensor(-10, shape=(), dtype=int64)\n",
      "tf.Tensor(-11, shape=(), dtype=int64)\n",
      "tf.Tensor(-12, shape=(), dtype=int64)\n",
      "tf.Tensor(-13, shape=(), dtype=int64)\n",
      "tf.Tensor(-14, shape=(), dtype=int64)\n",
      "tf.Tensor(-15, shape=(), dtype=int64)\n",
      "tf.Tensor(-16, shape=(), dtype=int64)\n",
      "tf.Tensor(-17, shape=(), dtype=int64)\n",
      "tf.Tensor(-18, shape=(), dtype=int64)\n",
      "tf.Tensor(-19, shape=(), dtype=int64)\n",
      "tf.Tensor(-20, shape=(), dtype=int64)\n",
      "tf.Tensor(-21, shape=(), dtype=int64)\n",
      "tf.Tensor(-22, shape=(), dtype=int64)\n",
      "tf.Tensor(-23, shape=(), dtype=int64)\n",
      "tf.Tensor(-24, shape=(), dtype=int64)\n",
      "tf.Tensor(-25, shape=(), dtype=int64)\n",
      "tf.Tensor(-26, shape=(), dtype=int64)\n",
      "tf.Tensor(-27, shape=(), dtype=int64)\n",
      "tf.Tensor(-28, shape=(), dtype=int64)\n",
      "tf.Tensor(-29, shape=(), dtype=int64)\n",
      "tf.Tensor(-30, shape=(), dtype=int64)\n",
      "tf.Tensor(-31, shape=(), dtype=int64)\n",
      "tf.Tensor(-32, shape=(), dtype=int64)\n",
      "tf.Tensor(-33, shape=(), dtype=int64)\n",
      "tf.Tensor(-34, shape=(), dtype=int64)\n",
      "tf.Tensor(-35, shape=(), dtype=int64)\n",
      "tf.Tensor(-36, shape=(), dtype=int64)\n",
      "tf.Tensor(-37, shape=(), dtype=int64)\n",
      "tf.Tensor(-38, shape=(), dtype=int64)\n",
      "tf.Tensor(-39, shape=(), dtype=int64)\n",
      "tf.Tensor(-40, shape=(), dtype=int64)\n",
      "tf.Tensor(-41, shape=(), dtype=int64)\n",
      "tf.Tensor(-42, shape=(), dtype=int64)\n",
      "tf.Tensor(-43, shape=(), dtype=int64)\n",
      "tf.Tensor(-44, shape=(), dtype=int64)\n",
      "tf.Tensor(-45, shape=(), dtype=int64)\n",
      "tf.Tensor(-46, shape=(), dtype=int64)\n",
      "tf.Tensor(-47, shape=(), dtype=int64)\n",
      "tf.Tensor(-48, shape=(), dtype=int64)\n",
      "tf.Tensor(-49, shape=(), dtype=int64)\n",
      "tf.Tensor(-50, shape=(), dtype=int64)\n",
      "tf.Tensor(-51, shape=(), dtype=int64)\n",
      "tf.Tensor(-52, shape=(), dtype=int64)\n",
      "tf.Tensor(-53, shape=(), dtype=int64)\n",
      "tf.Tensor(-54, shape=(), dtype=int64)\n",
      "tf.Tensor(-55, shape=(), dtype=int64)\n",
      "tf.Tensor(-56, shape=(), dtype=int64)\n",
      "tf.Tensor(-57, shape=(), dtype=int64)\n",
      "tf.Tensor(-58, shape=(), dtype=int64)\n",
      "tf.Tensor(-59, shape=(), dtype=int64)\n",
      "tf.Tensor(-60, shape=(), dtype=int64)\n",
      "tf.Tensor(-61, shape=(), dtype=int64)\n",
      "tf.Tensor(-62, shape=(), dtype=int64)\n",
      "tf.Tensor(-63, shape=(), dtype=int64)\n",
      "tf.Tensor(-64, shape=(), dtype=int64)\n",
      "tf.Tensor(-65, shape=(), dtype=int64)\n",
      "tf.Tensor(-66, shape=(), dtype=int64)\n",
      "tf.Tensor(-67, shape=(), dtype=int64)\n",
      "tf.Tensor(-68, shape=(), dtype=int64)\n",
      "tf.Tensor(-69, shape=(), dtype=int64)\n",
      "tf.Tensor(-70, shape=(), dtype=int64)\n",
      "tf.Tensor(-71, shape=(), dtype=int64)\n",
      "tf.Tensor(-72, shape=(), dtype=int64)\n",
      "tf.Tensor(-73, shape=(), dtype=int64)\n",
      "tf.Tensor(-74, shape=(), dtype=int64)\n",
      "tf.Tensor(-75, shape=(), dtype=int64)\n",
      "tf.Tensor(-76, shape=(), dtype=int64)\n",
      "tf.Tensor(-77, shape=(), dtype=int64)\n",
      "tf.Tensor(-78, shape=(), dtype=int64)\n",
      "tf.Tensor(-79, shape=(), dtype=int64)\n",
      "tf.Tensor(-80, shape=(), dtype=int64)\n",
      "tf.Tensor(-81, shape=(), dtype=int64)\n",
      "tf.Tensor(-82, shape=(), dtype=int64)\n",
      "tf.Tensor(-83, shape=(), dtype=int64)\n",
      "tf.Tensor(-84, shape=(), dtype=int64)\n",
      "tf.Tensor(-85, shape=(), dtype=int64)\n",
      "tf.Tensor(-86, shape=(), dtype=int64)\n",
      "tf.Tensor(-87, shape=(), dtype=int64)\n",
      "tf.Tensor(-88, shape=(), dtype=int64)\n",
      "tf.Tensor(-89, shape=(), dtype=int64)\n",
      "tf.Tensor(-90, shape=(), dtype=int64)\n",
      "tf.Tensor(-91, shape=(), dtype=int64)\n",
      "tf.Tensor(-92, shape=(), dtype=int64)\n",
      "tf.Tensor(-93, shape=(), dtype=int64)\n",
      "tf.Tensor(-94, shape=(), dtype=int64)\n",
      "tf.Tensor(-95, shape=(), dtype=int64)\n",
      "tf.Tensor(-96, shape=(), dtype=int64)\n",
      "tf.Tensor(-97, shape=(), dtype=int64)\n",
      "tf.Tensor(-98, shape=(), dtype=int64)\n",
      "tf.Tensor(-99, shape=(), dtype=int64)\n"
     ]
    }
   ],
   "source": [
    "dataset2 = tf.data.Dataset.range(0,-100,-1)\n",
    "for i in dataset2:\n",
    "    print(i)"
   ]
  },
  {
   "cell_type": "code",
   "execution_count": 83,
   "metadata": {},
   "outputs": [
    {
     "name": "stdout",
     "output_type": "stream",
     "text": [
      "tf.Tensor(0, shape=(), dtype=int64)\n",
      "tf.Tensor(0, shape=(), dtype=int64)\n",
      "tf.Tensor(1, shape=(), dtype=int64)\n",
      "tf.Tensor(-1, shape=(), dtype=int64)\n",
      "tf.Tensor(2, shape=(), dtype=int64)\n",
      "tf.Tensor(-2, shape=(), dtype=int64)\n",
      "tf.Tensor(3, shape=(), dtype=int64)\n",
      "tf.Tensor(-3, shape=(), dtype=int64)\n",
      "tf.Tensor(4, shape=(), dtype=int64)\n",
      "tf.Tensor(-4, shape=(), dtype=int64)\n",
      "tf.Tensor(5, shape=(), dtype=int64)\n",
      "tf.Tensor(-5, shape=(), dtype=int64)\n",
      "tf.Tensor(6, shape=(), dtype=int64)\n",
      "tf.Tensor(-6, shape=(), dtype=int64)\n",
      "tf.Tensor(7, shape=(), dtype=int64)\n",
      "tf.Tensor(-7, shape=(), dtype=int64)\n",
      "tf.Tensor(8, shape=(), dtype=int64)\n",
      "tf.Tensor(-8, shape=(), dtype=int64)\n",
      "tf.Tensor(9, shape=(), dtype=int64)\n",
      "tf.Tensor(-9, shape=(), dtype=int64)\n"
     ]
    }
   ],
   "source": [
    "dataset3 = tf.data.Dataset.zip((dataset1, dataset2)) #NOTE: zip() method combines two elements into a tuple! \n",
    "for i, j in dataset3.take(10):\n",
    "    print(i)\n",
    "    print(j)"
   ]
  },
  {
   "cell_type": "code",
   "execution_count": 90,
   "metadata": {},
   "outputs": [
    {
     "name": "stdout",
     "output_type": "stream",
     "text": [
      "[array([0, 1, 2]), array([ 0, -1, -2])]\n",
      "[array([3, 4, 5]), array([-3, -4, -5])]\n",
      "[array([6, 7, 8]), array([-6, -7, -8])]\n",
      "[array([ 9, 10, 11]), array([ -9, -10, -11])]\n",
      "[array([12, 13, 14]), array([-12, -13, -14])]\n",
      "[array([15, 16, 17]), array([-15, -16, -17])]\n",
      "[array([18, 19, 20]), array([-18, -19, -20])]\n",
      "[array([21, 22, 23]), array([-21, -22, -23])]\n",
      "[array([24, 25, 26]), array([-24, -25, -26])]\n",
      "[array([27, 28, 29]), array([-27, -28, -29])]\n"
     ]
    },
    {
     "data": {
      "text/plain": [
       "<BatchDataset shapes: ((None,), (None,)), types: (tf.int64, tf.int64)>"
      ]
     },
     "execution_count": 90,
     "metadata": {},
     "output_type": "execute_result"
    }
   ],
   "source": [
    "dataset4 = dataset3.batch(3) # each element inside dataset4 is in form of ([-1,-2,-3] [0,-1,-2])\n",
    "for batch in dataset4.take(10):\n",
    "    print([arry.numpy() for arry in batch])\n",
    "dataset4"
   ]
  },
  {
   "cell_type": "code",
   "execution_count": 92,
   "metadata": {},
   "outputs": [
    {
     "data": {
      "text/plain": [
       "<BatchDataset shapes: ((7,), (7,)), types: (tf.int64, tf.int64)>"
      ]
     },
     "execution_count": 92,
     "metadata": {},
     "output_type": "execute_result"
    }
   ],
   "source": [
    "# Since the last batch may not be full, we can use\n",
    "# drop_remainder argument to ignore the last batch \n",
    "dataset5 = dataset3.batch(7,drop_remainder=True)\n",
    "dataset5"
   ]
  },
  {
   "cell_type": "code",
   "execution_count": 104,
   "metadata": {},
   "outputs": [
    {
     "name": "stdout",
     "output_type": "stream",
     "text": [
      "0\n",
      "1\n",
      "2\n",
      "3\n",
      "4\n",
      "5\n",
      "6\n",
      "7\n",
      "8\n",
      "9\n"
     ]
    }
   ],
   "source": [
    "## Batching tensors with padding\n",
    "# When a model work with input data varying in size, we may need to pad the data.\n",
    "dataset = tf.data.Dataset.range(100)\n",
    "for i in dataset.take(10):\n",
    "    print(i.numpy())"
   ]
  },
  {
   "cell_type": "code",
   "execution_count": 129,
   "metadata": {},
   "outputs": [
    {
     "data": {
      "text/plain": [
       "<tf.Tensor: id=13159, shape=(3,), dtype=int32, numpy=array([5, 5, 5], dtype=int32)>"
      ]
     },
     "execution_count": 129,
     "metadata": {},
     "output_type": "execute_result"
    }
   ],
   "source": [
    "tf.fill([3],5)"
   ]
  },
  {
   "cell_type": "code",
   "execution_count": 133,
   "metadata": {},
   "outputs": [
    {
     "name": "stdout",
     "output_type": "stream",
     "text": [
      "tf.Tensor([], shape=(0,), dtype=int64)\n",
      "tf.Tensor([1], shape=(1,), dtype=int64)\n",
      "tf.Tensor([2 2], shape=(2,), dtype=int64)\n",
      "tf.Tensor([3 3 3], shape=(3,), dtype=int64)\n",
      "tf.Tensor([4 4 4 4], shape=(4,), dtype=int64)\n",
      "tf.Tensor([5 5 5 5 5], shape=(5,), dtype=int64)\n",
      "tf.Tensor([6 6 6 6 6 6], shape=(6,), dtype=int64)\n",
      "tf.Tensor([7 7 7 7 7 7 7], shape=(7,), dtype=int64)\n",
      "tf.Tensor([8 8 8 8 8 8 8 8], shape=(8,), dtype=int64)\n",
      "tf.Tensor([9 9 9 9 9 9 9 9 9], shape=(9,), dtype=int64)\n"
     ]
    }
   ],
   "source": [
    "dataset_ = dataset.map(lambda x: tf.fill([tf.cast(x, tf.int32)], x)) #NOTE: tf.fill() creates a tensor filled with a scalar value\n",
    "for i in dataset_.take(10):               # NOTE: Inside the fill(), the dimension has to be in brackets, x is the value to fill the tensor\n",
    "    print(i)"
   ]
  },
  {
   "cell_type": "code",
   "execution_count": 140,
   "metadata": {},
   "outputs": [
    {
     "name": "stdout",
     "output_type": "stream",
     "text": [
      "[[0 0 0 0 0 0]\n",
      " [1 0 0 0 0 0]\n",
      " [2 2 0 0 0 0]\n",
      " [3 3 3 0 0 0]\n",
      " [4 4 4 4 0 0]\n",
      " [5 5 5 5 5 0]\n",
      " [6 6 6 6 6 6]]\n",
      "[[ 7  7  7  7  7  7  7  0  0  0  0  0  0]\n",
      " [ 8  8  8  8  8  8  8  8  0  0  0  0  0]\n",
      " [ 9  9  9  9  9  9  9  9  9  0  0  0  0]\n",
      " [10 10 10 10 10 10 10 10 10 10  0  0  0]\n",
      " [11 11 11 11 11 11 11 11 11 11 11  0  0]\n",
      " [12 12 12 12 12 12 12 12 12 12 12 12  0]\n",
      " [13 13 13 13 13 13 13 13 13 13 13 13 13]]\n",
      "[[14 14 14 14 14 14 14 14 14 14 14 14 14 14  0  0  0  0  0  0]\n",
      " [15 15 15 15 15 15 15 15 15 15 15 15 15 15 15  0  0  0  0  0]\n",
      " [16 16 16 16 16 16 16 16 16 16 16 16 16 16 16 16  0  0  0  0]\n",
      " [17 17 17 17 17 17 17 17 17 17 17 17 17 17 17 17 17  0  0  0]\n",
      " [18 18 18 18 18 18 18 18 18 18 18 18 18 18 18 18 18 18  0  0]\n",
      " [19 19 19 19 19 19 19 19 19 19 19 19 19 19 19 19 19 19 19  0]\n",
      " [20 20 20 20 20 20 20 20 20 20 20 20 20 20 20 20 20 20 20 20]]\n"
     ]
    }
   ],
   "source": [
    "# Now we need to pad the above tensors\n",
    "dataset_pad = dataset_.padded_batch(7, padded_shapes=(None,)).take(3) # Each batch has four elements, and the shorter elements are padded with zeros.\n",
    "for i in dataset_pad:\n",
    "    print(i.numpy())"
   ]
  },
  {
   "cell_type": "code",
   "execution_count": 149,
   "metadata": {},
   "outputs": [
    {
     "data": {
      "text/plain": [
       "<TensorSliceDataset shapes: ((2,), ()), types: (tf.int32, tf.string)>"
      ]
     },
     "execution_count": 149,
     "metadata": {},
     "output_type": "execute_result"
    }
   ],
   "source": [
    "# two tensors can be combined into one dataset object.\n",
    "features = tf.constant([[1,3],[2,1],[3,3]]) # 3 x 2 tensor\n",
    "labels = tf.constant(['A','B','A']) # 3 x 1 tensos.\n",
    "dataset = tf.data.Dataset.from_tensor_slices((features,labels)) \n",
    "dataset # we can see the shape that the first dimension 3 is being removed and only the second dimension 2 left in the first tensor. \n",
    "# The second tensor becomes () because the second dimension of the second tensor is 1."
   ]
  },
  {
   "cell_type": "code",
   "execution_count": 150,
   "metadata": {},
   "outputs": [
    {
     "ename": "AttributeError",
     "evalue": "'TensorSliceDataset' object has no attribute 'as_numpy_iterator'",
     "output_type": "error",
     "traceback": [
      "\u001b[0;31m---------------------------------------------------------------------------\u001b[0m",
      "\u001b[0;31mAttributeError\u001b[0m                            Traceback (most recent call last)",
      "\u001b[0;32m/var/folders/kz/1lfrprk16v1cp9n7y1b41xk80000gn/T/ipykernel_46743/2790262419.py\u001b[0m in \u001b[0;36m<module>\u001b[0;34m\u001b[0m\n\u001b[0;32m----> 1\u001b[0;31m \u001b[0;32mfor\u001b[0m \u001b[0melem\u001b[0m \u001b[0;32min\u001b[0m \u001b[0mdataset\u001b[0m\u001b[0;34m.\u001b[0m\u001b[0mas_numpy_iterator\u001b[0m\u001b[0;34m(\u001b[0m\u001b[0;34m)\u001b[0m\u001b[0;34m:\u001b[0m\u001b[0;34m\u001b[0m\u001b[0;34m\u001b[0m\u001b[0m\n\u001b[0m\u001b[1;32m      2\u001b[0m     \u001b[0mprint\u001b[0m\u001b[0;34m(\u001b[0m\u001b[0melem\u001b[0m\u001b[0;34m)\u001b[0m\u001b[0;34m\u001b[0m\u001b[0;34m\u001b[0m\u001b[0m\n",
      "\u001b[0;31mAttributeError\u001b[0m: 'TensorSliceDataset' object has no attribute 'as_numpy_iterator'"
     ]
    }
   ],
   "source": [
    "for elem in dataset.as_numpy_iterator():\n",
    "    print(elem)"
   ]
  }
 ],
 "metadata": {
  "interpreter": {
   "hash": "2a5b54c58708e85639ff60f345b54eb856ddffa03bc09ed27a5a846566b693b2"
  },
  "kernelspec": {
   "display_name": "Python 3.7.11 64-bit ('py3_7': conda)",
   "language": "python",
   "name": "python3"
  },
  "language_info": {
   "codemirror_mode": {
    "name": "ipython",
    "version": 3
   },
   "file_extension": ".py",
   "mimetype": "text/x-python",
   "name": "python",
   "nbconvert_exporter": "python",
   "pygments_lexer": "ipython3",
   "version": "3.8.12"
  },
  "orig_nbformat": 4
 },
 "nbformat": 4,
 "nbformat_minor": 2
}
