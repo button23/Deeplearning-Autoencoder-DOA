{
 "cells": [
  {
   "cell_type": "code",
   "execution_count": null,
   "metadata": {},
   "outputs": [],
   "source": [
    "import torch\n",
    "from torchvision import datasets\n",
    "from torchvision import transforms\n",
    "import matplotlib.pyplot as plt\n",
    "from torch import nn\n",
    "from torch.utils.data import DataLoader\n",
    "from torchvision.transforms import ToTensor\n",
    "from torch.utils.data.sampler import SubsetRandomSampler\n",
    "from torch.optim import lr_scheduler\n",
    "from torch.utils.tensorboard import SummaryWriter"
   ]
  },
  {
   "cell_type": "markdown",
   "metadata": {},
   "source": [
    "#### Step 2: Loading the Dataset"
   ]
  },
  {
   "cell_type": "code",
   "execution_count": 83,
   "metadata": {},
   "outputs": [
    {
     "data": {
      "text/plain": [
       "<AxesSubplot:>"
      ]
     },
     "execution_count": 83,
     "metadata": {},
     "output_type": "execute_result"
    },
    {
     "data": {
      "image/png": "[encoded data removed]",
      "text/plain": [
       "<Figure size 432x288 with 1 Axes>"
      ]
     },
     "metadata": {
      "needs_background": "light"
     },
     "output_type": "display_data"
    }
   ],
   "source": [
    "# Transforms images to a PyTorch Tensor\n",
    "transform = transforms.Compose(\n",
    "    [transforms.ToTensor(),\n",
    "    transforms.Normalize((0.5,),(0.5,))]) #NOTE: change the range of the data from 0 to 1 TO -1 to 1.\n",
    "  \n",
    "# Download training data from open datasets.\n",
    "training_data = datasets.MNIST(\n",
    "    root=\"data\", # The location of the downlode file\n",
    "    train=True,\n",
    "    download=True,\n",
    "    transform=transforms.ToTensor()\n",
    ")\n",
    "\n",
    "# Download test data from open datasets.\n",
    "test_data = datasets.MNIST(\n",
    "    root=\"data\",\n",
    "    train=False,\n",
    "    download=True,\n",
    "    transform=transforms.ToTensor()\n",
    ")\n",
    "\n",
    "batch_size = 128\n",
    "\n",
    "# Create data loaders.\n",
    "train_dataloader = DataLoader(dataset = training_data, \n",
    "                              batch_size = batch_size,\n",
    "                              shuffle = True)\n",
    "test_dataloader = DataLoader(dataset = test_data, \n",
    "                             batch_size=batch_size,\n",
    "                             shuffle = True)\n",
    "plt.subplot()"
   ]
  },
  {
   "cell_type": "code",
   "execution_count": null,
   "metadata": {},
   "outputs": [],
   "source": [
    "print(type(train_dataloader.dataset))\n",
    "for X, y in test_dataloader:\n",
    "    print(f\"Shape of X [Batch size, Channel, Height, Width]: {X.shape}\")\n",
    "    print(f\"Shape of y: {y.shape} {y.dtype}\")\n",
    "    print(f'The maximum value is {torch.max(X)} and minimum value is {torch.min(X)}')\n",
    "    break"
   ]
  },
  {
   "cell_type": "markdown",
   "metadata": {},
   "source": [
    "### Create Autoencoder Class"
   ]
  },
  {
   "cell_type": "code",
   "execution_count": null,
   "metadata": {},
   "outputs": [],
   "source": [
    "# Creating a PyTorch class\n",
    "class AE_dense(torch.nn.Module):\n",
    "    def __init__(self):\n",
    "        super(AE_dense,self).__init__()\n",
    "        # Building an linear encoder with Linear\n",
    "        # layer followed by Relu activation function\n",
    "        # 400 ==> 100\n",
    "        self.encoder = torch.nn.Sequential(\n",
    "            nn.Linear(28 * 28, 128),\n",
    "            nn.ReLU(),\n",
    "            nn.Linear(128, 64),\n",
    "            nn.ReLU(),\n",
    "            nn.Linear(64, 12),\n",
    "            nn.ReLU(),\n",
    "            nn.Linear(12, 3),\n",
    "        )\n",
    "          \n",
    "        # Building an linear decoder with Linear\n",
    "        # layer followed by Relu activation function\n",
    "        # The Sigmoid activation function\n",
    "        # outputs the value between 0 and 1\n",
    "        # 100 ==> 400\n",
    "        self.decoder = torch.nn.Sequential(\n",
    "            nn.Linear(3, 12),\n",
    "            nn.ReLU(),\n",
    "            nn.Linear(12, 64),\n",
    "            nn.ReLU(),\n",
    "            nn.Linear(64, 128),\n",
    "            nn.ReLU(),\n",
    "            nn.Linear(128, 28 * 28),\n",
    "            nn.Sigmoid()\n",
    "        )\n",
    "  \n",
    "    def forward(self, x):\n",
    "        encoded = self.encoder(x)\n",
    "        decoded = self.decoder(encoded)\n",
    "        return decoded, encoded,  \n",
    "    #! NOTE! when calling model(data), it returns a tuple (decoded, encoded). \n",
    "    #! Or you can just choose the first value for training."
   ]
  },
  {
   "cell_type": "code",
   "execution_count": null,
   "metadata": {},
   "outputs": [],
   "source": [
    "class Reshape(nn.Module):\n",
    "    def __init__(self,shape):\n",
    "        super(Reshape,self).__init__()\n",
    "        self.shape = shape\n",
    "    \n",
    "    def forward(self, x):\n",
    "        return x.view(*self.shape) #NOTE: '*' passes multiple parameters(but here with or without * returns the same value)\n",
    "        \n",
    "\n",
    "# Creating a PyTorch class\n",
    "class AE_conv(torch.nn.Module):\n",
    "    def __init__(self, latent_dim):\n",
    "        super(AE_conv,self).__init__()\n",
    "        # Building a convolution encoder with convolutional\n",
    "        # layer followed by Relu activation function\n",
    "        # 400 ==> 100\n",
    "        self.encoder = nn.Sequential(\n",
    "            nn.Conv2d(in_channels=1, out_channels=32, kernel_size=3, stride = 2, padding=1), # 28 * 28 -> 14 * 14\n",
    "            nn.LeakyReLU(),\n",
    "            nn.Conv2d(in_channels=32, out_channels=64, kernel_size=3, stride = 2, padding=1), # 14 * 14 -> 7 * 7\n",
    "            nn.LeakyReLU(),\n",
    "            nn.Flatten(), # Image grid to single feature vector\n",
    "            nn.Linear(7*7*64, latent_dim), # second argument: latent_dim\n",
    "            nn.LeakyReLU()\n",
    "        )\n",
    "          \n",
    "        # Building an convolution decoder with convolutional\n",
    "        # layer followed by Relu activation function\n",
    "        # The Sigmoid activation function\n",
    "        # outputs the value between 0 and 1\n",
    "        self.decoder = nn.Sequential(\n",
    "            nn.Linear(latent_dim,7*7*64),\n",
    "            nn.LeakyReLU(),\n",
    "            Reshape((-1,64,7,7)),\n",
    "            nn.ConvTranspose2d(64,32,2, stride=2),\n",
    "            nn.LeakyReLU(),\n",
    "            nn.ConvTranspose2d(32,1,2, stride=2),\n",
    "            nn.Sigmoid())\n",
    "        \n",
    "    def forward(self, x):\n",
    "        encoded = self.encoder(x)\n",
    "        decoded = self.decoder(encoded)\n",
    "        return decoded, encoded,  \n",
    "    #! NOTE! when calling model(data), it returns a tuple (decoded, encoded). \n",
    "    #! Or you can just choose the first value for training."
   ]
  },
  {
   "cell_type": "markdown",
   "metadata": {},
   "source": [
    "### Initializing models"
   ]
  },
  {
   "cell_type": "code",
   "execution_count": null,
   "metadata": {},
   "outputs": [],
   "source": [
    "from torchsummary import summary\n",
    "# Get cpu or gpu device for training.\n",
    "device = \"cuda\" if torch.cuda.is_available() else \"cpu\"\n",
    "print(f\"Using {device} device\")\n",
    "\n",
    "writer = SummaryWriter()\n",
    "\n",
    "latent_dim = 10\n",
    "\n",
    "# Model Initialization\n",
    "# model = AE_dense().to(device)\n",
    "model = AE_conv(latent_dim).to(device)\n",
    "  \n",
    "# Validation using MSE Loss function\n",
    "loss_fn = torch.nn.MSELoss().to(device)\n",
    "  \n",
    "# Using an Adam Optimizer with lr = 0.1\n",
    "optimizer = torch.optim.Adam(model.parameters(),\n",
    "                             lr = 1e-2,\n",
    "                             weight_decay = 1e-8)\n",
    "scheduler = lr_scheduler.ReduceLROnPlateau(optimizer,threshold=0.1,patience=1,mode='min')\n",
    "# summary(model, (1, 28*28))\n"
   ]
  },
  {
   "cell_type": "markdown",
   "metadata": {},
   "source": [
    "### Define training function "
   ]
  },
  {
   "cell_type": "code",
   "execution_count": null,
   "metadata": {},
   "outputs": [],
   "source": [
    "import os \n",
    "rootPath = os.getcwd()\n",
    "# Windoes path\n",
    "filePath = '/home/hymc/[0]Github/Deeplearning-Autoencoder-DOA/[3]Pytorch'\n",
    "#  MAC path:\n",
    "# filePath = '/Users/button/Deeplearning-Autoencoder-DOA/data'\n",
    "savePath = filePath + '/result' + '/latent_' + str(latent_dim)\n",
    "if not os.path.isdir(savePath):\n",
    "    os.makedirs(savePath)\n",
    "print(savePath)\n",
    "\n",
    "def show(dataloader, model, epoch, num):\n",
    "    '''Plot the original and reconstructed images together\n",
    "\n",
    "    Args:\n",
    "        dataloader (data_loader): an object that wraps the dataset\n",
    "        model (model): autoencoder\n",
    "        num (int): the number of samples to be plotted\n",
    "    '''\n",
    "    model.eval() #Tell the model you are going to test so the weights will not be updated\n",
    "    with torch.no_grad():\n",
    "        for i, (X, y) in enumerate(dataloader):\n",
    "            # X = X.view(X.size(0), -1)\n",
    "            X, y = X.to(device), y.to(device) # to is one of the operations(methods) in tensor object\n",
    "            \n",
    "            pred = model(X)\n",
    "            reconstructed = pred[0].reshape(-1,28,28)\n",
    "            X = X.reshape(-1,28,28)\n",
    "            \n",
    "            # plot part\n",
    "            fig, axs = plt.subplots(2,num, figsize=(20,5)) # 2 means two rows\n",
    "            for j in range(num):\n",
    "                # display the original image\n",
    "                axs[0][j].imshow(X[j].cpu()) ##Note axs is a matrix, you can't just write axs[], it should be axs[][]\n",
    "                # display the reconstructed image\n",
    "                axs[1][j].imshow(reconstructed[j].cpu())\n",
    "\n",
    "            plt.savefig(savePath+ f'/epoch-{epoch}.png')\n",
    "            break\n",
    "    return fig\n",
    "            "
   ]
  },
  {
   "cell_type": "code",
   "execution_count": 86,
   "metadata": {},
   "outputs": [],
   "source": [
    "def train(epochs, dataloader, testdata,model, loss_fn, optimizer, scheduler):\n",
    "    size = len(dataloader.dataset) # return the number of training samples\n",
    "    model.train() #Tell the model you are going to train so the weights will be updated\n",
    "    for t in range(epochs):\n",
    "        running_loss = 0.0\n",
    "        print(f\"Epoch {t+1}\\n-------------------------------\")\n",
    "        for batch, (X, y) in enumerate(dataloader): # iterates the dataloader \n",
    "            # X = X.view(X.size(0),-1)\n",
    "            \n",
    "            X, y = X.to(device), y.to(device)\n",
    "\n",
    "            # Compute prediction error\n",
    "            pred = model(X) #! NOTE: Here the returned value is a tuple (decoded, encoded) as defined in forward()\n",
    "            loss = loss_fn(pred[0], X) # Choose the first value pred[0] as decoded value for the purpose of training\n",
    "                                        #! NOTE: the second argument should be the original value\n",
    "            # Backpropagation\n",
    "            optimizer.zero_grad() # to reset the gradients of model parameters.\n",
    "            loss.backward() # PyTorch deposits the gradients of the loss w.r.t. each parameter.\n",
    "            optimizer.step() # to adjust the parameters by the gradients collected in the backward pass.\n",
    "\n",
    "            running_loss += loss.item()\n",
    "            if batch % 100 == 0:\n",
    "                loss, current = loss.item(), batch * len(X)\n",
    "                print(f\"loss: {loss:>7f}  [{current:>5d}/{size:>5d}]\")\n",
    "        # .. log the running loss\n",
    "        writer.add_scalar('training_loss',\n",
    "                            running_loss/1000,\n",
    "                            t)\n",
    "        writer.add_figure('predictions vs. actuals',\n",
    "                        show(testdata, model, t, 10),\n",
    "                        global_step=t)\n",
    "        for name, param in model.named_parameters():\n",
    "            layer, attr = os.path.splitext(name)\n",
    "            attr = attr[1:]\n",
    "            writer.add_histogram(f'{layer, attr}', param.clone().cpu().data.numpy(),t)\n",
    "        scheduler.step(loss)\n",
    "        show(testdata, model, t,10)\n",
    "        print('Epoch: {}, Loss: {}, LR: {}'.format(t, loss.item(), scheduler.optimizer.state_dict()['param_groups'][0]['lr']))"
   ]
  },
  {
   "cell_type": "markdown",
   "metadata": {},
   "source": [
    "###  Start training and validating"
   ]
  },
  {
   "cell_type": "code",
   "execution_count": 87,
   "metadata": {},
   "outputs": [
    {
     "name": "stdout",
     "output_type": "stream",
     "text": [
      "Epoch 1\n",
      "-------------------------------\n",
      "loss: 0.017099  [    0/60000]\n",
      "loss: 0.016299  [12800/60000]\n",
      "loss: 0.017817  [25600/60000]\n",
      "loss: 0.017780  [38400/60000]\n",
      "loss: 0.017032  [51200/60000]\n"
     ]
    },
    {
     "ename": "TypeError",
     "evalue": "add_histogram() missing 1 required positional argument: 'values'",
     "output_type": "error",
     "traceback": [
      "\u001b[0;31m---------------------------------------------------------------------------\u001b[0m",
      "\u001b[0;31mTypeError\u001b[0m                                 Traceback (most recent call last)",
      "Input \u001b[0;32mIn [87]\u001b[0m, in \u001b[0;36m<module>\u001b[0;34m\u001b[0m\n\u001b[1;32m      1\u001b[0m epochs \u001b[38;5;241m=\u001b[39m \u001b[38;5;241m30\u001b[39m\n\u001b[0;32m----> 2\u001b[0m \u001b[43mtrain\u001b[49m\u001b[43m(\u001b[49m\u001b[43mepochs\u001b[49m\u001b[43m,\u001b[49m\u001b[43m \u001b[49m\u001b[43mtrain_dataloader\u001b[49m\u001b[43m,\u001b[49m\u001b[43mtest_dataloader\u001b[49m\u001b[43m,\u001b[49m\u001b[43m \u001b[49m\u001b[43mmodel\u001b[49m\u001b[43m,\u001b[49m\u001b[43m \u001b[49m\u001b[43mloss_fn\u001b[49m\u001b[43m,\u001b[49m\u001b[43m \u001b[49m\u001b[43moptimizer\u001b[49m\u001b[43m,\u001b[49m\u001b[43mscheduler\u001b[49m\u001b[43m)\u001b[49m\n\u001b[1;32m      3\u001b[0m writer\u001b[38;5;241m.\u001b[39mflush()\n\u001b[1;32m      4\u001b[0m \u001b[38;5;28mprint\u001b[39m(\u001b[38;5;124m\"\u001b[39m\u001b[38;5;124mDone!\u001b[39m\u001b[38;5;124m\"\u001b[39m)\n",
      "Input \u001b[0;32mIn [86]\u001b[0m, in \u001b[0;36mtrain\u001b[0;34m(epochs, dataloader, testdata, model, loss_fn, optimizer, scheduler)\u001b[0m\n\u001b[1;32m     33\u001b[0m     layer, attr \u001b[38;5;241m=\u001b[39m os\u001b[38;5;241m.\u001b[39mpath\u001b[38;5;241m.\u001b[39msplitext(name)\n\u001b[1;32m     34\u001b[0m     attr \u001b[38;5;241m=\u001b[39m attr[\u001b[38;5;241m1\u001b[39m:]\n\u001b[0;32m---> 35\u001b[0m     \u001b[43mwriter\u001b[49m\u001b[38;5;241;43m.\u001b[39;49m\u001b[43madd_histogram\u001b[49m\u001b[43m(\u001b[49m\u001b[38;5;124;43mf\u001b[39;49m\u001b[38;5;124;43m'\u001b[39;49m\u001b[38;5;132;43;01m{\u001b[39;49;00m\u001b[43mlayer\u001b[49m\u001b[43m,\u001b[49m\u001b[43m \u001b[49m\u001b[43mattr\u001b[49m\u001b[43m,\u001b[49m\u001b[43m \u001b[49m\u001b[43mparam\u001b[49m\u001b[38;5;241;43m.\u001b[39;49m\u001b[43mclone\u001b[49m\u001b[43m(\u001b[49m\u001b[43m)\u001b[49m\u001b[38;5;241;43m.\u001b[39;49m\u001b[43mcpu\u001b[49m\u001b[43m(\u001b[49m\u001b[43m)\u001b[49m\u001b[38;5;241;43m.\u001b[39;49m\u001b[43mdata\u001b[49m\u001b[38;5;241;43m.\u001b[39;49m\u001b[43mnumpy\u001b[49m\u001b[43m(\u001b[49m\u001b[43m)\u001b[49m\u001b[43m,\u001b[49m\u001b[43mt\u001b[49m\u001b[38;5;132;43;01m}\u001b[39;49;00m\u001b[38;5;124;43m'\u001b[39;49m\u001b[43m)\u001b[49m\n\u001b[1;32m     36\u001b[0m scheduler\u001b[38;5;241m.\u001b[39mstep(loss)\n\u001b[1;32m     37\u001b[0m show(testdata, model, t,\u001b[38;5;241m10\u001b[39m)\n",
      "\u001b[0;31mTypeError\u001b[0m: add_histogram() missing 1 required positional argument: 'values'"
     ]
    }
   ],
   "source": [
    "epochs = 30\n",
    "train(epochs, train_dataloader,test_dataloader, model, loss_fn, optimizer,scheduler)\n",
    "writer.flush()\n",
    "print(\"Done!\")"
   ]
  },
  {
   "cell_type": "markdown",
   "metadata": {},
   "source": [
    "###  Input/Reconstructed Input to/from Autoencoder"
   ]
  }
 ],
 "metadata": {
  "interpreter": {
   "hash": "e7b48e2873f2bf9fc322f66cbce100259936f291e167d1f147f978241de7630e"
  },
  "kernelspec": {
   "display_name": "Python 3.8.12 ('basic_NN_study')",
   "language": "python",
   "name": "python3"
  },
  "language_info": {
   "codemirror_mode": {
    "name": "ipython",
    "version": 3
   },
   "file_extension": ".py",
   "mimetype": "text/x-python",
   "name": "python",
   "nbconvert_exporter": "python",
   "pygments_lexer": "ipython3",
   "version": "3.8.0"
  },
  "orig_nbformat": 4
 },
 "nbformat": 4,
 "nbformat_minor": 2
}
