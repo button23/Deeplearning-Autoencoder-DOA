{
 "cells": [
  {
   "cell_type": "code",
   "execution_count": 1,
   "metadata": {},
   "outputs": [
    {
     "name": "stderr",
     "output_type": "stream",
     "text": [
      "2022-02-25 23:59:44.780496: W tensorflow/stream_executor/platform/default/dso_loader.cc:59] Could not load dynamic library 'libcudart.so.10.1'; dlerror: libcudart.so.10.1: cannot open shared object file: No such file or directory\n",
      "2022-02-25 23:59:44.780571: I tensorflow/stream_executor/cuda/cudart_stub.cc:29] Ignore above cudart dlerror if you do not have a GPU set up on your machine.\n"
     ]
    }
   ],
   "source": [
    "import torch\n",
    "from torchvision import datasets\n",
    "from torchvision import transforms\n",
    "import matplotlib.pyplot as plt\n",
    "from torch import nn\n",
    "from torch.utils.data import DataLoader\n",
    "from torchvision.transforms import ToTensor\n",
    "from torch.utils.data.sampler import SubsetRandomSampler\n",
    "from torch.optim import lr_scheduler\n",
    "from torch.utils.tensorboard import SummaryWriter\n",
    "import tensorflow as tf\n",
    "import scipy.io as sio\n",
    "from scipy.io import loadmat, savemat\n",
    "import numpy as np\n",
    "import os\n",
    "from sklearn.preprocessing import MinMaxScaler"
   ]
  },
  {
   "cell_type": "code",
   "execution_count": 2,
   "metadata": {},
   "outputs": [
    {
     "name": "stdout",
     "output_type": "stream",
     "text": [
      "/home/hymc/[0]Github/Deeplearning-Autoencoder-DOA/[1]MATLAB/DOA_DATA/random_single source_100snapshots_1000sample\n",
      "/home/hymc/[0]Github/Deeplearning-Autoencoder-DOA/[3]Pytorch/[1]DOA_implementation/result\n"
     ]
    }
   ],
   "source": [
    "fileName = 'random_single source_100snapshots_1000sample'\n",
    "\n",
    "dataPath = '/home/hymc/[0]Github/Deeplearning-Autoencoder-DOA/[1]MATLAB/DOA_DATA'\n",
    "\n",
    "\n",
    "readPath = dataPath +'/' + fileName\n",
    "print(readPath)\n",
    "\n",
    "rootPath = '/home/hymc/[0]Github/Deeplearning-Autoencoder-DOA/[3]Pytorch/[1]DOA_implementation'\n",
    "savePath = rootPath + '/result'\n",
    "if not os.path.isdir(savePath):\n",
    "    os.makedirs(savePath)\n",
    "print(savePath)"
   ]
  },
  {
   "cell_type": "code",
   "execution_count": 3,
   "metadata": {},
   "outputs": [
    {
     "name": "stderr",
     "output_type": "stream",
     "text": [
      "2022-02-25 23:59:50.906585: I tensorflow/stream_executor/platform/default/dso_loader.cc:48] Successfully opened dynamic library libcuda.so.1\n",
      "2022-02-25 23:59:50.945204: I tensorflow/stream_executor/cuda/cuda_gpu_executor.cc:982] successful NUMA node read from SysFS had negative value (-1), but there must be at least one NUMA node, so returning NUMA node zero\n",
      "2022-02-25 23:59:50.945617: I tensorflow/core/common_runtime/gpu/gpu_device.cc:1716] Found device 0 with properties: \n",
      "pciBusID: 0000:01:00.0 name: NVIDIA GeForce RTX 2080 Ti computeCapability: 7.5\n",
      "coreClock: 1.545GHz coreCount: 68 deviceMemorySize: 10.75GiB deviceMemoryBandwidth: 573.69GiB/s\n",
      "2022-02-25 23:59:50.945714: W tensorflow/stream_executor/platform/default/dso_loader.cc:59] Could not load dynamic library 'libcudart.so.10.1'; dlerror: libcudart.so.10.1: cannot open shared object file: No such file or directory\n",
      "2022-02-25 23:59:50.945780: W tensorflow/stream_executor/platform/default/dso_loader.cc:59] Could not load dynamic library 'libcublas.so.10'; dlerror: libcublas.so.10: cannot open shared object file: No such file or directory\n",
      "2022-02-25 23:59:50.945805: I tensorflow/stream_executor/platform/default/dso_loader.cc:48] Successfully opened dynamic library libcufft.so.10\n",
      "2022-02-25 23:59:50.945820: I tensorflow/stream_executor/platform/default/dso_loader.cc:48] Successfully opened dynamic library libcurand.so.10\n",
      "2022-02-25 23:59:50.959880: I tensorflow/stream_executor/platform/default/dso_loader.cc:48] Successfully opened dynamic library libcusolver.so.10\n",
      "2022-02-25 23:59:50.960051: W tensorflow/stream_executor/platform/default/dso_loader.cc:59] Could not load dynamic library 'libcusparse.so.10'; dlerror: libcusparse.so.10: cannot open shared object file: No such file or directory\n",
      "2022-02-25 23:59:50.960117: W tensorflow/stream_executor/platform/default/dso_loader.cc:59] Could not load dynamic library 'libcudnn.so.7'; dlerror: libcudnn.so.7: cannot open shared object file: No such file or directory\n",
      "2022-02-25 23:59:50.960125: W tensorflow/core/common_runtime/gpu/gpu_device.cc:1753] Cannot dlopen some GPU libraries. Please make sure the missing libraries mentioned above are installed properly if you would like to use GPU. Follow the guide at https://www.tensorflow.org/install/gpu for how to download and setup the required libraries for your platform.\n",
      "Skipping registering GPU devices...\n",
      "2022-02-25 23:59:50.961422: I tensorflow/core/platform/cpu_feature_guard.cc:142] This TensorFlow binary is optimized with oneAPI Deep Neural Network Library (oneDNN)to use the following CPU instructions in performance-critical operations:  AVX2 FMA\n",
      "To enable them in other operations, rebuild TensorFlow with the appropriate compiler flags.\n",
      "2022-02-25 23:59:50.973877: I tensorflow/core/platform/profile_utils/cpu_utils.cc:104] CPU Frequency: 3000000000 Hz\n",
      "2022-02-25 23:59:50.974248: I tensorflow/compiler/xla/service/service.cc:168] XLA service 0x56508d124fb0 initialized for platform Host (this does not guarantee that XLA will be used). Devices:\n",
      "2022-02-25 23:59:50.974262: I tensorflow/compiler/xla/service/service.cc:176]   StreamExecutor device (0): Host, Default Version\n",
      "2022-02-25 23:59:50.974729: I tensorflow/core/common_runtime/gpu/gpu_device.cc:1257] Device interconnect StreamExecutor with strength 1 edge matrix:\n",
      "2022-02-25 23:59:50.974737: I tensorflow/core/common_runtime/gpu/gpu_device.cc:1263]      \n"
     ]
    },
    {
     "data": {
      "text/plain": [
       "(41000, 400)"
      ]
     },
     "execution_count": 3,
     "metadata": {},
     "output_type": "execute_result"
    }
   ],
   "source": [
    "# Input train noisy dataset for all snr and stack them together\n",
    "dataset = tf.data.Dataset.list_files(fileName+'/*/train/train_data.*', shuffle=False)\n",
    "# for i in dataset.as_numpy_iterator():\n",
    "#     print(i)\n",
    "data_set = []\n",
    "for i in dataset.as_numpy_iterator():\n",
    "    x_train = sio.loadmat(i)\n",
    "    x_train = x_train['train_data']  # noisy sample covariance matrix\n",
    "    data_set.append(x_train[:1000,:]) #NOTE: put all the train_data of different SNR into one list\n",
    "len(data_set) \n",
    "\n",
    "data_train = data_set[0]\n",
    "for i in data_set:\n",
    "    data_train = np.vstack((data_train,i)) # stack all the datasets vertically\n",
    "    \n",
    "data_train = data_train[1000:] # the first dataset is included in twice\n",
    "data_train.shape"
   ]
  },
  {
   "cell_type": "code",
   "execution_count": 4,
   "metadata": {},
   "outputs": [
    {
     "data": {
      "text/plain": [
       "(41000, 400)"
      ]
     },
     "execution_count": 4,
     "metadata": {},
     "output_type": "execute_result"
    }
   ],
   "source": [
    "# Input train noiseless dataset for all snr and stack them together\n",
    "dataset = tf.data.Dataset.list_files(fileName + '/*/train/train_origin_data.*', shuffle=False)\n",
    "# for i in dataset.as_numpy_iterator():\n",
    "#     print(i)\n",
    "data_set = []\n",
    "for i in dataset.as_numpy_iterator():\n",
    "    x_train = sio.loadmat(i)\n",
    "    x_train = x_train['train_origin_data']  # noisy sample covariance matrix\n",
    "    data_set.append(x_train[:1000,:]) #NOTE: put all the train_data of different SNR into one list\n",
    "len(data_set) \n",
    "\n",
    "data_origin = data_set[0]\n",
    "for i in data_set:\n",
    "    data_origin = np.vstack((data_origin,i)) # stack all the datasets vertically\n",
    "    \n",
    "data_origin = data_origin[1000:] # the first dataset is included in twice\n",
    "data_origin.shape"
   ]
  },
  {
   "cell_type": "code",
   "execution_count": 5,
   "metadata": {},
   "outputs": [
    {
     "name": "stdout",
     "output_type": "stream",
     "text": [
      "[    0     1     2 ... 40997 40998 40999]\n"
     ]
    }
   ],
   "source": [
    "# train data shuffle\n",
    "np.random.seed(2020)\n",
    "index = np.arange(data_train.shape[0])\n",
    "print(index)\n",
    "np.random.shuffle(index)\n",
    "data_train = data_train[index]\n",
    "data_origin = data_origin[index]"
   ]
  },
  {
   "cell_type": "code",
   "execution_count": 6,
   "metadata": {},
   "outputs": [
    {
     "name": "stdout",
     "output_type": "stream",
     "text": [
      "(41000, 400)\n",
      "(400, 41000)\n",
      "(400, 41000)\n"
     ]
    }
   ],
   "source": [
    "## scaling\n",
    "print(data_train.shape)\n",
    "scaler = MinMaxScaler()\n",
    "data_train_scale = scaler.fit_transform(np.transpose(data_train))\n",
    "data_origin_scale = scaler.fit_transform(np.transpose(data_origin))\n",
    "print(data_train_scale.shape)\n",
    "print(data_origin_scale.shape)\n"
   ]
  },
  {
   "cell_type": "code",
   "execution_count": 7,
   "metadata": {},
   "outputs": [],
   "source": [
    "data_train_scale = np.transpose(data_train_scale)\n",
    "data_origin_scale = np.transpose(data_origin_scale)\n",
    "# print(np.max(data_train[0]))\n",
    "# print(np.max(data_origin[1]))"
   ]
  },
  {
   "cell_type": "markdown",
   "metadata": {},
   "source": [
    "#### Step 2: Loading the Dataset"
   ]
  },
  {
   "cell_type": "code",
   "execution_count": 8,
   "metadata": {},
   "outputs": [],
   "source": [
    "# # Transforms images to a PyTorch Tensor\n",
    "# # transform = transforms.Compose(\n",
    "# #     [transforms.ToTensor(),\n",
    "# #     transforms.Normalize((0.5,),(0.5,))]) #NOTE: change the range of the data from 0 to 1 TO -1 to 1."
   ]
  },
  {
   "cell_type": "code",
   "execution_count": 45,
   "metadata": {},
   "outputs": [],
   "source": [
    "dataset = []\n",
    "for i in range(len(data_train)):\n",
    "    dataset.append((data_train[i],data_origin[i]))\n",
    "\n",
    "batch_size = 64\n",
    "\n",
    "# # Create data loaders.\n",
    "train_dataloader = DataLoader(dataset = dataset, \n",
    "                              batch_size = batch_size,\n",
    "                              shuffle = True)\n",
    "# test_dataloader = DataLoader(dataset = data_origin, \n",
    "#                              batch_size=batch_size,\n",
    "#                              shuffle = True)"
   ]
  },
  {
   "cell_type": "code",
   "execution_count": 46,
   "metadata": {},
   "outputs": [
    {
     "name": "stdout",
     "output_type": "stream",
     "text": [
      "Shape of X [Batch size, Channel, Height, Width]: torch.Size([64, 400])\n",
      "Shape of Y: torch.Size([64, 400]) torch.float64\n",
      "The maximum value is 131.5105291204092 and minimum value is -24.717898828967616\n"
     ]
    }
   ],
   "source": [
    "# for X in test_dataloader:\n",
    "#     print(f\"Shape of X [Batch size, Channel, Height, Width]: {X.shape}\")\n",
    "#     # print(f\"Shape of y: {y.shape} {y.dtype}\")\n",
    "#     print(f'The maximum value is {torch.max(X)} and minimum value is {torch.min(X)}')\n",
    "#     break\n",
    "for X,Y in train_dataloader:\n",
    "    print(f\"Shape of X [Batch size, Channel, Height, Width]: {X.shape}\")\n",
    "    print(f\"Shape of Y: {Y.shape} {Y.dtype}\")\n",
    "    print(f'The maximum value is {torch.max(X)} and minimum value is {torch.min(X)}')\n",
    "    break"
   ]
  },
  {
   "cell_type": "markdown",
   "metadata": {},
   "source": [
    "### Create Autoencoder Class"
   ]
  },
  {
   "cell_type": "code",
   "execution_count": 60,
   "metadata": {},
   "outputs": [],
   "source": [
    "# Creating a PyTorch class\n",
    "class AE_dense(torch.nn.Module):\n",
    "    def __init__(self):\n",
    "        super(AE_dense,self).__init__()\n",
    "        # Building an linear encoder with Linear\n",
    "        # layer followed by Relu activation function\n",
    "        # 400 ==> 100\n",
    "        self.encoder = torch.nn.Sequential(\n",
    "            nn.Linear(400, 300),\n",
    "            nn.ReLU(),\n",
    "            nn.Linear(300, 200),\n",
    "            nn.ReLU(),\n",
    "            nn.Linear(200, 100),\n",
    "            nn.ReLU(),\n",
    "            # nn.Linear(100, 50),\n",
    "            # nn.ReLU()\n",
    "        )\n",
    "          \n",
    "        # Building an linear decoder with Linear\n",
    "        # layer followed by Relu activation function\n",
    "        # The Sigmoid activation function\n",
    "        # outputs the value between 0 and 1\n",
    "        # 100 ==> 400\n",
    "        self.decoder = torch.nn.Sequential(\n",
    "            # nn.Linear(50, 100),\n",
    "            # nn.ReLU(),\n",
    "            nn.Linear(100, 200),\n",
    "            nn.ReLU(),\n",
    "            nn.Linear(200, 300),\n",
    "            nn.ReLU(),\n",
    "            nn.Linear(300, 400),\n",
    "        )\n",
    "  \n",
    "    def forward(self, x):\n",
    "        encoded = self.encoder(x)\n",
    "        decoded = self.decoder(encoded)\n",
    "        return decoded, encoded,  \n",
    "    #! NOTE! when calling model(data), it returns a tuple (decoded, encoded). \n",
    "    #! Or you can just choose the first value for training."
   ]
  },
  {
   "cell_type": "code",
   "execution_count": null,
   "metadata": {},
   "outputs": [],
   "source": [
    "class Reshape(nn.Module):\n",
    "    def __init__(self,shape):\n",
    "        super(Reshape,self).__init__()\n",
    "        self.shape = shape\n",
    "    \n",
    "    def forward(self, x):\n",
    "        return x.view(*self.shape) #NOTE: '*' passes multiple parameters(but here with or without * returns the same value)\n",
    "        \n",
    "\n",
    "# Creating a PyTorch class\n",
    "class AE_conv(torch.nn.Module):\n",
    "    def __init__(self, latent_dim):\n",
    "        super(AE_conv,self).__init__()\n",
    "        # Building a convolution encoder with convolutional\n",
    "        # layer followed by Relu activation function\n",
    "        # 400 ==> 100\n",
    "        self.encoder = nn.Sequential(\n",
    "            nn.Conv2d(in_channels=1, out_channels=32, kernel_size=3, stride = 2, padding=1), # 28 * 28 -> 14 * 14\n",
    "            nn.LeakyReLU(),\n",
    "            nn.Conv2d(in_channels=32, out_channels=64, kernel_size=3, stride = 2, padding=1), # 14 * 14 -> 7 * 7\n",
    "            nn.LeakyReLU(),\n",
    "            nn.Flatten(), # Image grid to single feature vector\n",
    "            nn.Linear(7*7*64, latent_dim), # second argument: latent_dim\n",
    "            nn.LeakyReLU()\n",
    "        )\n",
    "          \n",
    "        # Building an convolution decoder with convolutional\n",
    "        # layer followed by Relu activation function\n",
    "        # The Sigmoid activation function\n",
    "        # outputs the value between 0 and 1\n",
    "        self.decoder = nn.Sequential(\n",
    "            nn.Linear(latent_dim,7*7*64),\n",
    "            nn.LeakyReLU(),\n",
    "            Reshape((-1,64,7,7)),\n",
    "            nn.ConvTranspose2d(64,32,2, stride=2),\n",
    "            nn.LeakyReLU(),\n",
    "            nn.ConvTranspose2d(32,1,2, stride=2),\n",
    "            nn.Tanh())\n",
    "        \n",
    "    def forward(self, x):\n",
    "        encoded = self.encoder(x)\n",
    "        decoded = self.decoder(encoded)\n",
    "        return decoded, encoded,  \n",
    "    #! NOTE! when calling model(data), it returns a tuple (decoded, encoded). \n",
    "    #! Or you can just choose the first value for training."
   ]
  },
  {
   "cell_type": "markdown",
   "metadata": {},
   "source": [
    "### Initializing models"
   ]
  },
  {
   "cell_type": "code",
   "execution_count": 61,
   "metadata": {},
   "outputs": [
    {
     "name": "stdout",
     "output_type": "stream",
     "text": [
      "Using cuda device\n"
     ]
    }
   ],
   "source": [
    "from torchsummary import summary\n",
    "# Get cpu or gpu device for training.\n",
    "device = \"cuda\" if torch.cuda.is_available() else \"cpu\"\n",
    "print(f\"Using {device} device\")\n",
    "\n",
    "writer = SummaryWriter()\n",
    "\n",
    "latent_dim = 10\n",
    "\n",
    "# Model Initialization\n",
    "model = AE_dense().to(device)\n",
    "# model = AE_conv(latent_dim).to(device)\n",
    "  \n",
    "# Validation using MSE Loss function\n",
    "loss_fn = torch.nn.MSELoss().to(device)\n",
    "  \n",
    "# Using an Adam Optimizer with lr = 0.1\n",
    "optimizer = torch.optim.Adam(model.parameters(),\n",
    "                             lr = 1e-2,\n",
    "                             weight_decay = 1e-8)\n",
    "scheduler = lr_scheduler.ReduceLROnPlateau(optimizer,threshold=0.1,patience=1,mode='min')\n",
    "# summary(model, (1, 28*28))\n"
   ]
  },
  {
   "cell_type": "markdown",
   "metadata": {},
   "source": [
    "### Define training function "
   ]
  },
  {
   "cell_type": "code",
   "execution_count": 62,
   "metadata": {},
   "outputs": [
    {
     "name": "stdout",
     "output_type": "stream",
     "text": [
      "/home/hymc/[0]Github/Deeplearning-Autoencoder-DOA/[3]Pytorch/[1]DOA_implementation/result/with_normalization\n"
     ]
    }
   ],
   "source": [
    "import os \n",
    "rootPath = os.getcwd()\n",
    "# Windoes path\n",
    "filePath = '/home/hymc/[0]Github/Deeplearning-Autoencoder-DOA/[3]Pytorch/[1]DOA_implementation'\n",
    "#  MAC path:\n",
    "# filePath = '/Users/button/Deeplearning-Autoencoder-DOA/data'\n",
    "# savePath = filePath + '/result' + '/latent_' + str(latent_dim)\n",
    "savePath = filePath + '/result' + '/with_normalization'\n",
    "if not os.path.isdir(savePath):\n",
    "    os.makedirs(savePath)\n",
    "print(savePath)\n",
    "\n",
    "def show(dataloader, model, epoch):\n",
    "    '''Plot the original and reconstructed images together\n",
    "\n",
    "    Args:\n",
    "        dataloader (data_loader): an object that wraps the dataset\n",
    "        model (model): autoencoder\n",
    "    '''\n",
    "    model.eval() #Tell the model you are going to test so the weights will not be updated\n",
    "    with torch.no_grad():\n",
    "        for i, X in enumerate(dataloader):\n",
    "            # X = X.view(X.size(0), -1)\n",
    "            X = X.type(torch.FloatTensor).to(device) # to is one of the operations(methods) in tensor object\n",
    "\n",
    "            pred = model(X)\n",
    "            reconstructed = pred[0]\n",
    "            \n",
    "            # plot part\n",
    "            fig, axs = plt.subplots(2,1, figsize=(20,5)) # 2 means two rows\n",
    "            # display the original image\n",
    "            axs[0].plot(X.cpu()) ##Note axs is a matrix, you can't just write axs[], it should be axs[][]\n",
    "            # display the reconstructed image\n",
    "            axs[1].plot(reconstructed.cpu())\n",
    "\n",
    "            plt.savefig(savePath+ f'/epoch-{epoch}.png')\n",
    "            break\n",
    "    return fig\n",
    "            "
   ]
  },
  {
   "cell_type": "code",
   "execution_count": 63,
   "metadata": {},
   "outputs": [],
   "source": [
    "def train(epochs, dataset,model, loss_fn, optimizer, scheduler):\n",
    "    size = len(dataset.dataset) # return the number of training samples\n",
    "    model.train() #Tell the model you are going to train so the weights will be updated\n",
    "    for t in range(epochs):\n",
    "        running_loss = 0.0\n",
    "        print(f\"Epoch {t+1}\\n-------------------------------\")\n",
    "        for batch, (X,Y) in enumerate(dataset): # iterates the dataloader \n",
    "            # X = X.view(X.size(0),-1)\n",
    "            X = X.type(torch.FloatTensor).to(device)\n",
    "            Y = Y.type(torch.FloatTensor).to(device)\n",
    "\n",
    "            # Compute prediction error\n",
    "            pred = model(X) #! NOTE: Here the returned value is a tuple (decoded, encoded) as defined in forward()\n",
    "           \n",
    "            loss = loss_fn(pred[0], Y) # Choose the first value pred[0] as decoded value for the purpose of training\n",
    "                                        #! NOTE: the second argument should be the original value\n",
    "            # Backpropagation\n",
    "            optimizer.zero_grad() # to reset the gradients of model parameters.\n",
    "            loss.backward() # PyTorch deposits the gradients of the loss w.r.t. each parameter.\n",
    "            optimizer.step() # to adjust the parameters by the gradients collected in the backward pass.\n",
    "\n",
    "            # running_loss += loss.item()\n",
    "            if batch % 100 == 0:\n",
    "                loss, current = loss.item(), batch * len(X)\n",
    "                print(f\"loss: {loss:>7f}  [{current:>5d}/{size:>5d}]\")\n",
    "        ## .. log the running loss\n",
    "        # writer.add_scalar('training_loss',\n",
    "        #                     running_loss/1000,\n",
    "        #                     t)\n",
    "        # writer.add_figure('predictions vs. actuals',\n",
    "        #                 show(testdata, model, t, 10),\n",
    "        #                 global_step=t)\n",
    "        # for name, param in model.named_parameters():\n",
    "        #     layer, attr = os.path.splitext(name)\n",
    "        #     attr = attr[1:]\n",
    "        #     writer.add_histogram(f'{layer, attr}', param.clone().cpu().data.numpy(),t)\n",
    "        # scheduler.step(loss)\n",
    "        # show(testdata, model, t,10)\n",
    "        # print('Epoch: {}, Loss: {}, LR: {}'.format(t, loss.item(), scheduler.optimizer.state_dict()['param_groups'][0]['lr']))"
   ]
  },
  {
   "cell_type": "markdown",
   "metadata": {},
   "source": [
    "###  Start training and validating"
   ]
  },
  {
   "cell_type": "code",
   "execution_count": 64,
   "metadata": {},
   "outputs": [
    {
     "name": "stdout",
     "output_type": "stream",
     "text": [
      "Epoch 1\n",
      "-------------------------------\n",
      "loss: 1.386176  [    0/41000]\n",
      "loss: 0.720962  [ 6400/41000]\n",
      "loss: 0.534316  [12800/41000]\n",
      "loss: 0.281899  [19200/41000]\n",
      "loss: 0.501477  [25600/41000]\n",
      "loss: 0.467425  [32000/41000]\n",
      "loss: 0.884466  [38400/41000]\n",
      "Epoch 2\n",
      "-------------------------------\n",
      "loss: 0.405248  [    0/41000]\n",
      "loss: 0.440428  [ 6400/41000]\n",
      "loss: 0.576140  [12800/41000]\n",
      "loss: 0.473552  [19200/41000]\n",
      "loss: 0.617307  [25600/41000]\n",
      "loss: 0.588763  [32000/41000]\n",
      "loss: 0.334362  [38400/41000]\n",
      "Epoch 3\n",
      "-------------------------------\n",
      "loss: 0.922146  [    0/41000]\n",
      "loss: 0.538046  [ 6400/41000]\n",
      "loss: 0.468660  [12800/41000]\n",
      "loss: 0.426014  [19200/41000]\n",
      "loss: 0.596000  [25600/41000]\n",
      "loss: 0.495784  [32000/41000]\n",
      "loss: 0.763974  [38400/41000]\n",
      "Epoch 4\n",
      "-------------------------------\n",
      "loss: 0.886353  [    0/41000]\n",
      "loss: 0.521579  [ 6400/41000]\n",
      "loss: 0.549730  [12800/41000]\n",
      "loss: 0.589003  [19200/41000]\n",
      "loss: 0.380985  [25600/41000]\n",
      "loss: 0.241338  [32000/41000]\n",
      "loss: 0.653301  [38400/41000]\n",
      "Epoch 5\n",
      "-------------------------------\n",
      "loss: 0.355991  [    0/41000]\n",
      "loss: 0.985175  [ 6400/41000]\n",
      "loss: 0.622535  [12800/41000]\n",
      "loss: 0.625164  [19200/41000]\n",
      "loss: 0.560581  [25600/41000]\n",
      "loss: 0.648281  [32000/41000]\n",
      "loss: 0.695259  [38400/41000]\n",
      "Epoch 6\n",
      "-------------------------------\n",
      "loss: 0.498592  [    0/41000]\n",
      "loss: 0.548922  [ 6400/41000]\n",
      "loss: 0.728940  [12800/41000]\n",
      "loss: 0.585052  [19200/41000]\n",
      "loss: 0.506761  [25600/41000]\n",
      "loss: 0.882141  [32000/41000]\n",
      "loss: 1.092318  [38400/41000]\n",
      "Epoch 7\n",
      "-------------------------------\n",
      "loss: 0.665633  [    0/41000]\n",
      "loss: 0.441184  [ 6400/41000]\n",
      "loss: 0.838978  [12800/41000]\n",
      "loss: 0.706732  [19200/41000]\n",
      "loss: 0.780489  [25600/41000]\n",
      "loss: 0.545706  [32000/41000]\n",
      "loss: 0.739395  [38400/41000]\n",
      "Epoch 8\n",
      "-------------------------------\n",
      "loss: 1.111750  [    0/41000]\n",
      "loss: 0.897677  [ 6400/41000]\n",
      "loss: 0.617542  [12800/41000]\n",
      "loss: 0.761643  [19200/41000]\n",
      "loss: 0.595888  [25600/41000]\n",
      "loss: 0.609545  [32000/41000]\n",
      "loss: 0.358981  [38400/41000]\n",
      "Epoch 9\n",
      "-------------------------------\n",
      "loss: 0.592660  [    0/41000]\n",
      "loss: 0.498192  [ 6400/41000]\n",
      "loss: 0.566787  [12800/41000]\n",
      "loss: 0.625707  [19200/41000]\n",
      "loss: 0.531274  [25600/41000]\n",
      "loss: 0.540243  [32000/41000]\n",
      "loss: 1.042202  [38400/41000]\n",
      "Epoch 10\n",
      "-------------------------------\n",
      "loss: 0.712537  [    0/41000]\n",
      "loss: 1.402058  [ 6400/41000]\n",
      "loss: 0.565146  [12800/41000]\n",
      "loss: 0.734197  [19200/41000]\n",
      "loss: 0.956684  [25600/41000]\n",
      "loss: 0.348055  [32000/41000]\n",
      "loss: 0.880163  [38400/41000]\n",
      "Epoch 11\n",
      "-------------------------------\n",
      "loss: 0.730084  [    0/41000]\n",
      "loss: 0.912131  [ 6400/41000]\n",
      "loss: 0.810392  [12800/41000]\n",
      "loss: 0.790832  [19200/41000]\n",
      "loss: 0.921799  [25600/41000]\n",
      "loss: 0.904162  [32000/41000]\n",
      "loss: 0.961895  [38400/41000]\n",
      "Epoch 12\n",
      "-------------------------------\n",
      "loss: 0.793578  [    0/41000]\n",
      "loss: 0.594517  [ 6400/41000]\n",
      "loss: 1.344594  [12800/41000]\n",
      "loss: 0.858162  [19200/41000]\n",
      "loss: 0.801001  [25600/41000]\n",
      "loss: 1.448842  [32000/41000]\n",
      "loss: 0.950425  [38400/41000]\n",
      "Epoch 13\n",
      "-------------------------------\n",
      "loss: 0.812891  [    0/41000]\n",
      "loss: 0.827335  [ 6400/41000]\n",
      "loss: 0.953506  [12800/41000]\n",
      "loss: 0.667088  [19200/41000]\n",
      "loss: 0.910103  [25600/41000]\n",
      "loss: 1.608424  [32000/41000]\n",
      "loss: 0.708557  [38400/41000]\n",
      "Epoch 14\n",
      "-------------------------------\n",
      "loss: 0.570298  [    0/41000]\n",
      "loss: 0.798723  [ 6400/41000]\n",
      "loss: 0.731775  [12800/41000]\n",
      "loss: 1.041861  [19200/41000]\n",
      "loss: 0.620989  [25600/41000]\n",
      "loss: 0.746529  [32000/41000]\n",
      "loss: 0.957524  [38400/41000]\n",
      "Epoch 15\n",
      "-------------------------------\n",
      "loss: 1.073782  [    0/41000]\n",
      "loss: 1.000040  [ 6400/41000]\n",
      "loss: 0.633145  [12800/41000]\n",
      "loss: 0.690027  [19200/41000]\n",
      "loss: 0.621222  [25600/41000]\n",
      "loss: 0.613901  [32000/41000]\n",
      "loss: 1.273928  [38400/41000]\n",
      "Epoch 16\n",
      "-------------------------------\n",
      "loss: 1.193917  [    0/41000]\n",
      "loss: 0.580834  [ 6400/41000]\n",
      "loss: 1.186683  [12800/41000]\n",
      "loss: 0.819326  [19200/41000]\n",
      "loss: 0.833936  [25600/41000]\n",
      "loss: 0.953302  [32000/41000]\n",
      "loss: 0.740894  [38400/41000]\n",
      "Epoch 17\n",
      "-------------------------------\n",
      "loss: 0.772309  [    0/41000]\n",
      "loss: 0.771512  [ 6400/41000]\n",
      "loss: 0.837701  [12800/41000]\n",
      "loss: 0.456832  [19200/41000]\n",
      "loss: 0.987333  [25600/41000]\n",
      "loss: 0.836259  [32000/41000]\n",
      "loss: 0.624298  [38400/41000]\n",
      "Epoch 18\n",
      "-------------------------------\n",
      "loss: 0.735851  [    0/41000]\n",
      "loss: 0.618458  [ 6400/41000]\n",
      "loss: 1.380553  [12800/41000]\n",
      "loss: 0.666743  [19200/41000]\n",
      "loss: 0.653951  [25600/41000]\n",
      "loss: 0.997659  [32000/41000]\n",
      "loss: 0.539971  [38400/41000]\n",
      "Epoch 19\n",
      "-------------------------------\n",
      "loss: 0.708894  [    0/41000]\n",
      "loss: 1.037573  [ 6400/41000]\n",
      "loss: 1.117483  [12800/41000]\n",
      "loss: 1.026267  [19200/41000]\n",
      "loss: 1.541270  [25600/41000]\n",
      "loss: 0.891235  [32000/41000]\n",
      "loss: 1.303000  [38400/41000]\n",
      "Epoch 20\n",
      "-------------------------------\n",
      "loss: 0.736063  [    0/41000]\n",
      "loss: 0.903937  [ 6400/41000]\n",
      "loss: 0.684664  [12800/41000]\n",
      "loss: 0.648474  [19200/41000]\n",
      "loss: 1.659474  [25600/41000]\n",
      "loss: 0.736107  [32000/41000]\n",
      "loss: 0.766451  [38400/41000]\n",
      "Epoch 21\n",
      "-------------------------------\n",
      "loss: 0.873393  [    0/41000]\n",
      "loss: 1.351977  [ 6400/41000]\n",
      "loss: 0.742765  [12800/41000]\n",
      "loss: 0.843149  [19200/41000]\n",
      "loss: 0.646270  [25600/41000]\n",
      "loss: 0.861579  [32000/41000]\n",
      "loss: 1.402025  [38400/41000]\n",
      "Epoch 22\n",
      "-------------------------------\n",
      "loss: 1.249745  [    0/41000]\n",
      "loss: 0.931020  [ 6400/41000]\n",
      "loss: 0.964865  [12800/41000]\n",
      "loss: 0.922190  [19200/41000]\n",
      "loss: 0.958002  [25600/41000]\n",
      "loss: 1.224467  [32000/41000]\n",
      "loss: 0.728747  [38400/41000]\n",
      "Epoch 23\n",
      "-------------------------------\n",
      "loss: 0.847966  [    0/41000]\n",
      "loss: 0.910194  [ 6400/41000]\n",
      "loss: 0.852751  [12800/41000]\n",
      "loss: 0.875222  [19200/41000]\n",
      "loss: 0.838242  [25600/41000]\n",
      "loss: 0.900507  [32000/41000]\n",
      "loss: 1.065672  [38400/41000]\n",
      "Epoch 24\n",
      "-------------------------------\n",
      "loss: 0.621126  [    0/41000]\n",
      "loss: 0.826805  [ 6400/41000]\n",
      "loss: 1.094486  [12800/41000]\n",
      "loss: 1.215070  [19200/41000]\n",
      "loss: 0.555851  [25600/41000]\n",
      "loss: 1.280188  [32000/41000]\n",
      "loss: 0.692629  [38400/41000]\n",
      "Epoch 25\n",
      "-------------------------------\n",
      "loss: 1.481356  [    0/41000]\n",
      "loss: 0.601637  [ 6400/41000]\n",
      "loss: 0.635679  [12800/41000]\n",
      "loss: 0.589018  [19200/41000]\n",
      "loss: 0.650151  [25600/41000]\n",
      "loss: 1.004719  [32000/41000]\n",
      "loss: 0.766478  [38400/41000]\n",
      "Epoch 26\n",
      "-------------------------------\n",
      "loss: 0.809456  [    0/41000]\n",
      "loss: 0.628113  [ 6400/41000]\n",
      "loss: 1.117635  [12800/41000]\n",
      "loss: 1.176238  [19200/41000]\n",
      "loss: 1.051970  [25600/41000]\n",
      "loss: 0.613897  [32000/41000]\n",
      "loss: 0.838938  [38400/41000]\n",
      "Epoch 27\n",
      "-------------------------------\n",
      "loss: 0.557064  [    0/41000]\n",
      "loss: 0.689549  [ 6400/41000]\n",
      "loss: 0.973206  [12800/41000]\n",
      "loss: 1.102968  [19200/41000]\n",
      "loss: 1.172021  [25600/41000]\n",
      "loss: 0.552494  [32000/41000]\n",
      "loss: 1.084767  [38400/41000]\n",
      "Epoch 28\n",
      "-------------------------------\n",
      "loss: 0.824417  [    0/41000]\n",
      "loss: 0.830601  [ 6400/41000]\n",
      "loss: 0.923440  [12800/41000]\n",
      "loss: 0.995450  [19200/41000]\n",
      "loss: 1.100224  [25600/41000]\n",
      "loss: 0.590122  [32000/41000]\n",
      "loss: 1.188171  [38400/41000]\n",
      "Epoch 29\n",
      "-------------------------------\n",
      "loss: 0.762563  [    0/41000]\n",
      "loss: 0.994660  [ 6400/41000]\n",
      "loss: 1.132974  [12800/41000]\n",
      "loss: 1.027010  [19200/41000]\n",
      "loss: 1.282579  [25600/41000]\n",
      "loss: 0.683519  [32000/41000]\n",
      "loss: 0.907215  [38400/41000]\n",
      "Epoch 30\n",
      "-------------------------------\n",
      "loss: 0.929027  [    0/41000]\n",
      "loss: 0.635675  [ 6400/41000]\n",
      "loss: 0.891658  [12800/41000]\n",
      "loss: 0.810247  [19200/41000]\n",
      "loss: 1.076097  [25600/41000]\n",
      "loss: 1.180185  [32000/41000]\n",
      "loss: 1.126181  [38400/41000]\n",
      "Done!\n"
     ]
    }
   ],
   "source": [
    "epochs = 30\n",
    "train(epochs, train_dataloader, model, loss_fn, optimizer,scheduler)\n",
    "writer.flush()\n",
    "print(\"Done!\")"
   ]
  },
  {
   "cell_type": "markdown",
   "metadata": {},
   "source": [
    "###  Input/Reconstructed Input to/from Autoencoder"
   ]
  },
  {
   "cell_type": "code",
   "execution_count": 66,
   "metadata": {},
   "outputs": [
    {
     "name": "stdout",
     "output_type": "stream",
     "text": [
      "(1000, 400)\n",
      "/home/hymc/[0]Github/Deeplearning-Autoencoder-DOA/[3]Pytorch/[1]DOA_implementation/result/with_normalization\n",
      "/home/hymc/[0]Github/Deeplearning-Autoencoder-DOA/[3]Pytorch/[1]DOA_implementation/result/with_normalization/test_data.mat\n"
     ]
    }
   ],
   "source": [
    "# Input test noisy dataset for all snr and stack them together\n",
    "dataset = tf.data.Dataset.list_files(fileName + '/20dB/test/test_data.*', shuffle=False)\n",
    "# for i in dataset.as_numpy_iterator():\n",
    "#     print(i)\n",
    "data_set = []\n",
    "for i in dataset.as_numpy_iterator():\n",
    "    x_train = sio.loadmat(i)\n",
    "    x_train = x_train['test_data']  # noisy sample covariance matrix\n",
    "    data_set.append(x_train) #NOTE: put all the train_data of different SNR into one list\n",
    "len(data_set) \n",
    "data_test = data_set[0]\n",
    "for i in data_set:\n",
    "    data_test = np.vstack((data_test,i)) # stack all the datasets vertically\n",
    "data_test = data_test[1000:] # the first dataset is included in twice\n",
    "print(data_test.shape)\n",
    "# export data for MATLAB processing\n",
    "print(savePath)\n",
    "savePath_ = savePath + '/test_data.mat'\n",
    "print(savePath_)\n",
    "savemat(savePath_, {'test_data':data_test})"
   ]
  },
  {
   "cell_type": "code",
   "execution_count": 67,
   "metadata": {},
   "outputs": [],
   "source": [
    "def reconstructedValue(X, model):\n",
    "    '''Plot the original and reconstructed images together\n",
    "\n",
    "    Args:\n",
    "        X (test data): test dataset\n",
    "        model (model): autoencoder\n",
    "    '''\n",
    "    model.eval() #Tell the model you are going to test so the weights will not be updated\n",
    "    with torch.no_grad():\n",
    "        X = torch.from_numpy(X) # change to numpy\n",
    "        X = X.type(torch.FloatTensor).to(device) # to is one of the operations(methods) in tensor object\n",
    "\n",
    "        pred = model(X)\n",
    "        reconstructed = pred[0]\n",
    "    \n",
    "    return reconstructed"
   ]
  },
  {
   "cell_type": "code",
   "execution_count": 68,
   "metadata": {},
   "outputs": [
    {
     "name": "stdout",
     "output_type": "stream",
     "text": [
      "torch.Size([1000, 400])\n",
      "/home/hymc/[0]Github/Deeplearning-Autoencoder-DOA/[3]Pytorch/[1]DOA_implementation/result/with_normalization\n",
      "/home/hymc/[0]Github/Deeplearning-Autoencoder-DOA/[3]Pytorch/[1]DOA_implementation/result/with_normalization/denoised_data.mat\n"
     ]
    }
   ],
   "source": [
    "decoded_data = reconstructedValue(data_test,model)\n",
    "print(decoded_data.shape)\n",
    "\n",
    "# Save the denoised data for MATLAB processing\n",
    "print(savePath)\n",
    "savePath_ = savePath + '/denoised_data.mat'\n",
    "print(savePath_)\n",
    "savemat(savePath_, {'denoised_data':decoded_data})"
   ]
  },
  {
   "cell_type": "code",
   "execution_count": 71,
   "metadata": {},
   "outputs": [
    {
     "data": {
      "text/plain": [
       "<matplotlib.legend.Legend at 0x7f0b29223e20>"
      ]
     },
     "execution_count": 71,
     "metadata": {},
     "output_type": "execute_result"
    },
    {
     "data": {
      "image/png": "[encoded data removed]",
      "text/plain": [
       "<Figure size 432x288 with 1 Axes>"
      ]
     },
     "metadata": {
      "needs_background": "light"
     },
     "output_type": "display_data"
    }
   ],
   "source": [
    "ind = 20\n",
    "plt.plot(data_test[ind],'b')\n",
    "plt.plot(decoded_data[ind].cpu(),'k')\n",
    "plt.fill_between(np.arange(400),decoded_data[ind].cpu(),data_test[ind],color='lightcoral')\n",
    "plt.legend([\"Input\", \"Reconstruction\",\"Error\"])\n",
    "# plt.savefig('SNR_-30_autoencoder_compare.png')"
   ]
  },
  {
   "cell_type": "code",
   "execution_count": null,
   "metadata": {},
   "outputs": [],
   "source": [
    "# import label\n",
    "# Input test label dataset for all snr and stack them together\n",
    "dataset = tf.data.Dataset.list_files(basePath + '/20dB/test/test_label.*', shuffle=False)\n",
    "# for i in dataset.as_numpy_iterator():\n",
    "#     print(i)\n",
    "data_set = []\n",
    "for i in dataset.as_numpy_iterator():\n",
    "    x_train = sio.loadmat(i)\n",
    "    x_train = x_train['test_label']  # noisy sample covariance matrix\n",
    "    data_set.append(x_train) #NOTE: put all the train_data of different SNR into one list\n",
    "len(data_set) \n",
    "data_label = data_set[0]\n",
    "for i in data_set:\n",
    "    data_label = np.vstack((data_label,i)) # stack all the datasets vertically\n",
    "data_label = data_label[1000:] # the first dataset is included in twice\n",
    "data_label.shape\n",
    "\n",
    "print(savePath)\n",
    "savePath_ = savePath + '\\\\test_label.mat'\n",
    "print(savePath_)\n",
    "savemat(savePath_, {'test_label':data_label})\n",
    "\n",
    "\n",
    "x_test = sio.loadmat('vec')\n",
    "test_max = x_test['vec']\n",
    "test_max = test_max.reshape(1,64)\n",
    "test_max.shape\n",
    "\n",
    "encoded_data = autoencoder.encoder(test_max).numpy()\n",
    "decoded_data = autoencoder.decoder(encoded_data).numpy()\n",
    "print(encoded_data.shape)\n",
    "\n",
    "# Save the denoised data for MATLAB processing\n",
    "print(savePath)\n",
    "savePath_ = savePath + '/denoised_data.mat'\n",
    "print(savePath_)\n",
    "savemat(savePath_, {'denoised_data':decoded_data})"
   ]
  }
 ],
 "metadata": {
  "interpreter": {
   "hash": "e7b48e2873f2bf9fc322f66cbce100259936f291e167d1f147f978241de7630e"
  },
  "kernelspec": {
   "display_name": "Python 3.8.12 ('basic_NN_study')",
   "language": "python",
   "name": "python3"
  },
  "language_info": {
   "codemirror_mode": {
    "name": "ipython",
    "version": 3
   },
   "file_extension": ".py",
   "mimetype": "text/x-python",
   "name": "python",
   "nbconvert_exporter": "python",
   "pygments_lexer": "ipython3",
   "version": "3.8.0"
  },
  "orig_nbformat": 4
 },
 "nbformat": 4,
 "nbformat_minor": 2
}
