{
 "cells": [
  {
   "cell_type": "code",
   "execution_count": 2,
   "metadata": {},
   "outputs": [
    {
     "data": {
      "text/plain": [
       "['/home/hymc/PycharmProjects/Autoencoder_example',\n",
       " '/home/hymc/.vscode/extensions/ms-toolsai.jupyter-2021.11.1001550889/pythonFiles',\n",
       " '/home/hymc/.vscode/extensions/ms-toolsai.jupyter-2021.11.1001550889/pythonFiles/lib/python',\n",
       " '/home/hymc/anaconda3/envs/tf-gpu/lib/python38.zip',\n",
       " '/home/hymc/anaconda3/envs/tf-gpu/lib/python3.8',\n",
       " '/home/hymc/anaconda3/envs/tf-gpu/lib/python3.8/lib-dynload',\n",
       " '',\n",
       " '/home/hymc/anaconda3/envs/tf-gpu/lib/python3.8/site-packages',\n",
       " '/home/hymc/anaconda3/envs/tf-gpu/lib/python3.8/site-packages/IPython/extensions',\n",
       " '/home/hymc/.ipython']"
      ]
     },
     "execution_count": 2,
     "metadata": {},
     "output_type": "execute_result"
    }
   ],
   "source": [
    "import tensorflow as tf \n",
    "import sys \n",
    "sys.path"
   ]
  }
 ],
 "metadata": {
  "interpreter": {
   "hash": "fc7390ca97f762342e2053e3bab10244ddd082be8451ef51f11d6c91cec23325"
  },
  "kernelspec": {
   "display_name": "Python 3.8.12 64-bit ('tf-gpu': conda)",
   "language": "python",
   "name": "python3"
  },
  "language_info": {
   "codemirror_mode": {
    "name": "ipython",
    "version": 3
   },
   "file_extension": ".py",
   "mimetype": "text/x-python",
   "name": "python",
   "nbconvert_exporter": "python",
   "pygments_lexer": "ipython3",
   "version": "3.8.12"
  },
  "orig_nbformat": 4
 },
 "nbformat": 4,
 "nbformat_minor": 2
}
