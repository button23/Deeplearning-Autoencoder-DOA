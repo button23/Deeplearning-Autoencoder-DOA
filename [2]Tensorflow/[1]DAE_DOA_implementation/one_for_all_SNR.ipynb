{
 "cells": [
  {
   "cell_type": "code",
   "execution_count": null,
   "id": "963a7333",
   "metadata": {},
   "outputs": [],
   "source": [
    "import matplotlib.pyplot as plt\n",
    "import numpy as np\n",
    "import time\n",
    "import tensorflow as tf\n",
    "from scipy.io import loadmat, savemat\n",
    "import os\n",
    "from sklearn.metrics import accuracy_score, precision_score, recall_score\n",
    "from tensorflow.keras import layers, losses\n",
    "from tensorflow.keras.models import Model\n",
    "import scipy.io as sio\n",
    "from tensorflow.keras.callbacks import TensorBoard, EarlyStopping, ModelCheckpoint, ReduceLROnPlateau\n",
    "\n",
    "\n",
    "dense_layers = [0, 1, 2, 3]\n",
    "dense_sizes = [32, 64, 128, 256, 512]\n",
    "conv_layers = [1, 2, 3, 4]\n",
    "num_filters = [32, 64, 128, 256]\n",
    "kernel_sizes = [2000, 2250, 2500, 2750, 3000]"
   ]
  },
  {
   "cell_type": "code",
   "execution_count": 292,
   "id": "8a0fef20",
   "metadata": {},
   "outputs": [
    {
     "name": "stdout",
     "output_type": "stream",
     "text": [
      "c:\\Users\\HYPC300\\OneDrive - 한양대학교\\GitHub\\Deeplearning-Autoencoder-DOA\\data\\result\\random_two source_10snapshots_1000sample\n"
     ]
    }
   ],
   "source": [
    "basePath = 'random_two source_10snapshots_1000sample'\n",
    "\n",
    "# rootPath = os.getcwd()\n",
    "# Windoes path\n",
    "filePath = 'c:\\\\Users\\\\HYPC300\\\\OneDrive - 한양대학교\\\\GitHub\\\\Deeplearning-Autoencoder-DOA\\\\data';\n",
    "#  MAC path:\n",
    "# filePath = '/Users/button/Deeplearning-Autoencoder-DOA/data'\n",
    "savePath = filePath + '\\\\result' +'\\\\' + basePath\n",
    "\n",
    "if not os.path.isdir(savePath):\n",
    "    os.makedirs(savePath)\n",
    "print(savePath)"
   ]
  },
  {
   "cell_type": "code",
   "execution_count": 201,
   "id": "a6076a15",
   "metadata": {},
   "outputs": [
    {
     "data": {
      "text/plain": [
       "(205000, 400)"
      ]
     },
     "execution_count": 201,
     "metadata": {},
     "output_type": "execute_result"
    }
   ],
   "source": [
    "# Input train noisy dataset for all snr and stack them together\n",
    "dataset = tf.data.Dataset.list_files(basePath+'/*/train/train_data.*', shuffle=False)\n",
    "# for i in dataset.as_numpy_iterator():\n",
    "#     print(i)\n",
    "data_set = []\n",
    "for i in dataset.as_numpy_iterator():\n",
    "    x_train = sio.loadmat(i)\n",
    "    x_train = x_train['train_data']  # noisy sample covariance matrix\n",
    "    data_set.append(x_train) #NOTE: put all the train_data of different SNR into one list\n",
    "len(data_set) \n",
    "\n",
    "data_train = data_set[0]\n",
    "for i in data_set:\n",
    "    data_train = np.vstack((data_train,i)) # stack all the datasets vertically\n",
    "    \n",
    "data_train = data_train[5000:] # the first dataset is included in twice\n",
    "data_train.shape"
   ]
  },
  {
   "cell_type": "code",
   "execution_count": 202,
   "id": "7424f1d6",
   "metadata": {},
   "outputs": [
    {
     "data": {
      "text/plain": [
       "(205000, 400)"
      ]
     },
     "execution_count": 202,
     "metadata": {},
     "output_type": "execute_result"
    }
   ],
   "source": [
    "# Input train noiseless dataset for all snr and stack them together\n",
    "dataset = tf.data.Dataset.list_files(basePath + '/*/train/train_origin_data.*', shuffle=False)\n",
    "# for i in dataset.as_numpy_iterator():\n",
    "#     print(i)\n",
    "data_set = []\n",
    "for i in dataset.as_numpy_iterator():\n",
    "    x_train = sio.loadmat(i)\n",
    "    x_train = x_train['train_origin_data']  # noisy sample covariance matrix\n",
    "    data_set.append(x_train) #NOTE: put all the train_data of different SNR into one list\n",
    "len(data_set) \n",
    "\n",
    "data_origin = data_set[0]\n",
    "for i in data_set:\n",
    "    data_origin = np.vstack((data_origin,i)) # stack all the datasets vertically\n",
    "    \n",
    "data_origin = data_origin[5000:] # the first dataset is included in twice\n",
    "data_origin.shape"
   ]
  },
  {
   "cell_type": "code",
   "execution_count": 203,
   "id": "ab6a72fa",
   "metadata": {},
   "outputs": [
    {
     "name": "stdout",
     "output_type": "stream",
     "text": [
      "[     0      1      2 ... 204997 204998 204999]\n"
     ]
    }
   ],
   "source": [
    "# train data shuffle\n",
    "np.random.seed(2020)\n",
    "index = np.arange(data_train.shape[0])\n",
    "print(index)\n",
    "np.random.shuffle(index)\n",
    "data_train = data_train[index]\n",
    "data_origin = data_origin[index]"
   ]
  },
  {
   "cell_type": "code",
   "execution_count": 205,
   "id": "4762260e",
   "metadata": {},
   "outputs": [
    {
     "name": "stdout",
     "output_type": "stream",
     "text": [
      "c:\\Users\\HYPC300\\OneDrive - 한양대학교\\GitHub\\Deeplearning-Autoencoder-DOA\\data\\result\\random_two source_500snapshots_1000sample\\save_models\n"
     ]
    }
   ],
   "source": [
    "# Model configuration\n",
    "nSample = x_train.shape[0]\n",
    "epoch = 100\n",
    "batch_size = 256\n",
    "validation_split = 0.2\n",
    "\n",
    "save_dir = os.path.join(savePath, 'save_models')\n",
    "if not os.path.isdir(save_dir):\n",
    "    os.makedirs(save_dir)\n",
    "print(save_dir)"
   ]
  },
  {
   "cell_type": "code",
   "execution_count": 206,
   "id": "f1cfae90",
   "metadata": {},
   "outputs": [],
   "source": [
    "class DOA_Denoising(Model):\n",
    "    def __init__(self):\n",
    "        super(DOA_Denoising, self).__init__()\n",
    "        self.encoder = tf.keras.Sequential([\n",
    "            layers.Dense(300, activation='relu'),\n",
    "            # layers.Dropout(0.2),\n",
    "            layers.Dense(200, activation='relu'),\n",
    "            # layers.Dropout(0.2),\n",
    "            layers.Dense(100, activation='relu')]) # * 300 200 100\n",
    "        \n",
    "        self.decoder = tf.keras.Sequential([\n",
    "            layers.Dense(200, activation='relu'), #* 200 300 400\n",
    "            # layers.Dropout(0.2),\n",
    "            layers.Dense(300, activation='relu'),\n",
    "            # layers.Dropout(0.2),\n",
    "            layers.Dense(400, activation='linear')])\n",
    "\n",
    "    def call(self, x):\n",
    "        encoded = self.encoder(x)\n",
    "        decoded = self.decoder(encoded)\n",
    "        return decoded\n",
    "    \n",
    "autoencoder = DOA_Denoising() "
   ]
  },
  {
   "cell_type": "code",
   "execution_count": 193,
   "id": "c90774e5",
   "metadata": {
    "scrolled": true
   },
   "outputs": [],
   "source": [
    "# %reload_ext tensorboard\n",
    "# %tensorboard --logdir logs"
   ]
  },
  {
   "cell_type": "code",
   "execution_count": 207,
   "id": "0c0f052d",
   "metadata": {
    "scrolled": true
   },
   "outputs": [
    {
     "name": "stdout",
     "output_type": "stream",
     "text": [
      "epoch-100-batch-256-dense-300-200-100-time-1643384280\n",
      "c:\\Users\\HYPC300\\OneDrive - 한양대학교\\GitHub\\Deeplearning-Autoencoder-DOA\\data\\result\\random_two source_500snapshots_1000sample\\save_models\\epoch-100-batch-256-dense-300-200-100-time-1643384280\n"
     ]
    }
   ],
   "source": [
    "model_name = (\n",
    "    f\"epoch-{epoch}-batch-{batch_size}-dense-300-200-100-time-{int(time.time())}\"\n",
    ")\n",
    "print(model_name)\n",
    "\n",
    "file_path = os.path.join(save_dir, model_name)\n",
    "print(file_path)\n",
    "\n",
    "# callbacks_list\n",
    "callbacks_list = [\n",
    "    EarlyStopping(monitor=\"val_loss\", mode=\"min\", verbose=0, patience=20),\n",
    "    ModelCheckpoint(\n",
    "        filepath=file_path,\n",
    "        monitor=\"val_loss\",\n",
    "        verbose=0,\n",
    "        save_best_only=True,\n",
    "        save_weights_only=False,\n",
    "        mode=\"min\",\n",
    "    ),\n",
    "    # TensorBoard(\n",
    "    #     log_dir=\"./logs/{}\".format(model_name),\n",
    "    #     histogram_freq=1,\n",
    "    #     write_graph=False,\n",
    "    #     write_images=False,\n",
    "    # ),\n",
    "    ReduceLROnPlateau(\n",
    "        monitor=\"val_loss\",\n",
    "        factor=0.1,\n",
    "        patience=10,\n",
    "        verbose=0,\n",
    "        mode=\"min\",\n",
    "        min_delta=0.0001,\n",
    "        cooldown=0,\n",
    "        min_lr=0,\n",
    "    ),\n",
    "]\n",
    "\n",
    "autoencoder.compile(optimizer=\"adam\", loss=\"mse\")"
   ]
  },
  {
   "cell_type": "code",
   "execution_count": 208,
   "id": "0237f323",
   "metadata": {},
   "outputs": [
    {
     "name": "stdout",
     "output_type": "stream",
     "text": [
      "Epoch 1/100\n",
      "641/641 [==============================] - 8s 13ms/step - loss: 1.1417 - val_loss: 0.7813\n",
      "Epoch 2/100\n",
      "641/641 [==============================] - 8s 12ms/step - loss: 0.6549 - val_loss: 0.5766\n",
      "Epoch 3/100\n",
      "641/641 [==============================] - 7s 11ms/step - loss: 0.5058 - val_loss: 0.4708\n",
      "Epoch 4/100\n",
      "641/641 [==============================] - 7s 11ms/step - loss: 0.4248 - val_loss: 0.4075\n",
      "Epoch 5/100\n",
      "641/641 [==============================] - 7s 11ms/step - loss: 0.3742 - val_loss: 0.3734\n",
      "Epoch 6/100\n",
      "641/641 [==============================] - 7s 11ms/step - loss: 0.3396 - val_loss: 0.3455\n",
      "Epoch 7/100\n",
      "641/641 [==============================] - 9s 14ms/step - loss: 0.3133 - val_loss: 0.3261\n",
      "Epoch 8/100\n",
      "641/641 [==============================] - 8s 13ms/step - loss: 0.2937 - val_loss: 0.3009\n",
      "Epoch 9/100\n",
      "641/641 [==============================] - 6s 9ms/step - loss: 0.2767 - val_loss: 0.2909\n",
      "Epoch 10/100\n",
      "641/641 [==============================] - 6s 9ms/step - loss: 0.2642 - val_loss: 0.2752\n",
      "Epoch 11/100\n",
      "641/641 [==============================] - 6s 9ms/step - loss: 0.2537 - val_loss: 0.2675\n",
      "Epoch 12/100\n",
      "641/641 [==============================] - 6s 9ms/step - loss: 0.2431 - val_loss: 0.2607\n",
      "Epoch 13/100\n",
      "641/641 [==============================] - 5s 8ms/step - loss: 0.2356 - val_loss: 0.2535\n",
      "Epoch 14/100\n",
      "641/641 [==============================] - 6s 9ms/step - loss: 0.2281 - val_loss: 0.2486\n",
      "Epoch 15/100\n",
      "641/641 [==============================] - 6s 9ms/step - loss: 0.2216 - val_loss: 0.2387\n",
      "Epoch 16/100\n",
      "641/641 [==============================] - 6s 9ms/step - loss: 0.2157 - val_loss: 0.2353\n",
      "Epoch 17/100\n",
      "641/641 [==============================] - 6s 9ms/step - loss: 0.2110 - val_loss: 0.2315\n",
      "Epoch 18/100\n",
      "641/641 [==============================] - 6s 9ms/step - loss: 0.2061 - val_loss: 0.2250\n",
      "Epoch 19/100\n",
      "641/641 [==============================] - 6s 9ms/step - loss: 0.2014 - val_loss: 0.2341\n",
      "Epoch 20/100\n",
      "641/641 [==============================] - 5s 8ms/step - loss: 0.1980 - val_loss: 0.2183\n",
      "Epoch 21/100\n",
      "641/641 [==============================] - 6s 9ms/step - loss: 0.1949 - val_loss: 0.2155\n",
      "Epoch 22/100\n",
      "641/641 [==============================] - 6s 9ms/step - loss: 0.1910 - val_loss: 0.2165\n",
      "Epoch 23/100\n",
      "641/641 [==============================] - 5s 8ms/step - loss: 0.1879 - val_loss: 0.2149\n",
      "Epoch 24/100\n",
      "641/641 [==============================] - 7s 10ms/step - loss: 0.1856 - val_loss: 0.2115\n",
      "Epoch 25/100\n",
      "641/641 [==============================] - 6s 10ms/step - loss: 0.1830 - val_loss: 0.2074\n",
      "Epoch 26/100\n",
      "641/641 [==============================] - 7s 10ms/step - loss: 0.1800 - val_loss: 0.2048\n",
      "Epoch 27/100\n",
      "641/641 [==============================] - 6s 9ms/step - loss: 0.1781 - val_loss: 0.2036\n",
      "Epoch 28/100\n",
      "641/641 [==============================] - 6s 9ms/step - loss: 0.1766 - val_loss: 0.1993\n",
      "Epoch 29/100\n",
      "641/641 [==============================] - 6s 9ms/step - loss: 0.1741 - val_loss: 0.1997\n",
      "Epoch 30/100\n",
      "641/641 [==============================] - 6s 9ms/step - loss: 0.1729 - val_loss: 0.1961\n",
      "Epoch 31/100\n",
      "641/641 [==============================] - 6s 9ms/step - loss: 0.1704 - val_loss: 0.1977\n",
      "Epoch 32/100\n",
      "641/641 [==============================] - 6s 9ms/step - loss: 0.1680 - val_loss: 0.1982\n",
      "Epoch 33/100\n",
      "641/641 [==============================] - 5s 7ms/step - loss: 0.1672 - val_loss: 0.1912\n",
      "Epoch 34/100\n",
      "641/641 [==============================] - 7s 11ms/step - loss: 0.1661 - val_loss: 0.1928\n",
      "Epoch 35/100\n",
      "641/641 [==============================] - 5s 8ms/step - loss: 0.1637 - val_loss: 0.1935\n",
      "Epoch 36/100\n",
      "641/641 [==============================] - 5s 8ms/step - loss: 0.1631 - val_loss: 0.1939\n",
      "Epoch 37/100\n",
      "641/641 [==============================] - 6s 9ms/step - loss: 0.1616 - val_loss: 0.1910\n",
      "Epoch 38/100\n",
      "641/641 [==============================] - 6s 10ms/step - loss: 0.1605 - val_loss: 0.1894\n",
      "Epoch 39/100\n",
      "641/641 [==============================] - 6s 10ms/step - loss: 0.1588 - val_loss: 0.1871\n",
      "Epoch 40/100\n",
      "641/641 [==============================] - 6s 9ms/step - loss: 0.1580 - val_loss: 0.1858\n",
      "Epoch 41/100\n",
      "641/641 [==============================] - 6s 9ms/step - loss: 0.1572 - val_loss: 0.1820\n",
      "Epoch 42/100\n",
      "641/641 [==============================] - 6s 9ms/step - loss: 0.1563 - val_loss: 0.1916\n",
      "Epoch 43/100\n",
      "641/641 [==============================] - 5s 8ms/step - loss: 0.1552 - val_loss: 0.1869\n",
      "Epoch 44/100\n",
      "641/641 [==============================] - 5s 7ms/step - loss: 0.1532 - val_loss: 0.1866\n",
      "Epoch 45/100\n",
      "641/641 [==============================] - 5s 7ms/step - loss: 0.1532 - val_loss: 0.1889\n",
      "Epoch 46/100\n",
      "641/641 [==============================] - 5s 7ms/step - loss: 0.1524 - val_loss: 0.1832\n",
      "Epoch 47/100\n",
      "641/641 [==============================] - 4s 7ms/step - loss: 0.1509 - val_loss: 0.1828\n",
      "Epoch 48/100\n",
      "641/641 [==============================] - 5s 7ms/step - loss: 0.1508 - val_loss: 0.1798\n",
      "Epoch 49/100\n",
      "641/641 [==============================] - 6s 9ms/step - loss: 0.1499 - val_loss: 0.1778\n",
      "Epoch 50/100\n",
      "641/641 [==============================] - 7s 11ms/step - loss: 0.1492 - val_loss: 0.1770\n",
      "Epoch 51/100\n",
      "641/641 [==============================] - 6s 10ms/step - loss: 0.1482 - val_loss: 0.1799\n",
      "Epoch 52/100\n",
      "641/641 [==============================] - 6s 9ms/step - loss: 0.1477 - val_loss: 0.1784\n",
      "Epoch 53/100\n",
      "641/641 [==============================] - 5s 8ms/step - loss: 0.1472 - val_loss: 0.1751\n",
      "Epoch 54/100\n",
      "641/641 [==============================] - 5s 8ms/step - loss: 0.1461 - val_loss: 0.1753\n",
      "Epoch 55/100\n",
      "641/641 [==============================] - 5s 8ms/step - loss: 0.1458 - val_loss: 0.1757\n",
      "Epoch 56/100\n",
      "641/641 [==============================] - 6s 9ms/step - loss: 0.1451 - val_loss: 0.1771\n",
      "Epoch 57/100\n",
      "641/641 [==============================] - 5s 8ms/step - loss: 0.1448 - val_loss: 0.1759\n",
      "Epoch 58/100\n",
      "641/641 [==============================] - 5s 7ms/step - loss: 0.1443 - val_loss: 0.1717\n",
      "Epoch 59/100\n",
      "641/641 [==============================] - 5s 8ms/step - loss: 0.1429 - val_loss: 0.1725\n",
      "Epoch 60/100\n",
      "641/641 [==============================] - 5s 8ms/step - loss: 0.1433 - val_loss: 0.1810\n",
      "Epoch 61/100\n",
      "641/641 [==============================] - 5s 7ms/step - loss: 0.1427 - val_loss: 0.1751\n",
      "Epoch 62/100\n",
      "641/641 [==============================] - 5s 7ms/step - loss: 0.1412 - val_loss: 0.1747\n",
      "Epoch 63/100\n",
      "641/641 [==============================] - 5s 7ms/step - loss: 0.1412 - val_loss: 0.1743\n",
      "Epoch 64/100\n",
      "641/641 [==============================] - 5s 7ms/step - loss: 0.1408 - val_loss: 0.1723\n",
      "Epoch 65/100\n",
      "641/641 [==============================] - 5s 7ms/step - loss: 0.1404 - val_loss: 0.1726\n",
      "Epoch 66/100\n",
      "641/641 [==============================] - 5s 7ms/step - loss: 0.1401 - val_loss: 0.1702\n",
      "Epoch 67/100\n",
      "641/641 [==============================] - 7s 11ms/step - loss: 0.1391 - val_loss: 0.1674\n",
      "Epoch 68/100\n",
      "641/641 [==============================] - 6s 10ms/step - loss: 0.1388 - val_loss: 0.1713\n",
      "Epoch 69/100\n",
      "641/641 [==============================] - 6s 10ms/step - loss: 0.1385 - val_loss: 0.1698\n",
      "Epoch 70/100\n",
      "641/641 [==============================] - 6s 9ms/step - loss: 0.1377 - val_loss: 0.1667\n",
      "Epoch 71/100\n",
      "641/641 [==============================] - 7s 10ms/step - loss: 0.1377 - val_loss: 0.1720\n",
      "Epoch 72/100\n",
      "641/641 [==============================] - 6s 10ms/step - loss: 0.1375 - val_loss: 0.1719\n",
      "Epoch 73/100\n",
      "641/641 [==============================] - 5s 8ms/step - loss: 0.1377 - val_loss: 0.1676\n",
      "Epoch 74/100\n",
      "641/641 [==============================] - 5s 8ms/step - loss: 0.1359 - val_loss: 0.1692\n",
      "Epoch 75/100\n",
      "641/641 [==============================] - 5s 8ms/step - loss: 0.1363 - val_loss: 0.1686\n",
      "Epoch 76/100\n",
      "641/641 [==============================] - 5s 8ms/step - loss: 0.1359 - val_loss: 0.1725\n",
      "Epoch 77/100\n",
      "641/641 [==============================] - 5s 8ms/step - loss: 0.1352 - val_loss: 0.1675\n",
      "Epoch 78/100\n",
      "641/641 [==============================] - 5s 8ms/step - loss: 0.1350 - val_loss: 0.1640\n",
      "Epoch 79/100\n",
      "641/641 [==============================] - 6s 10ms/step - loss: 0.1349 - val_loss: 0.1673\n",
      "Epoch 80/100\n",
      "641/641 [==============================] - 6s 9ms/step - loss: 0.1347 - val_loss: 0.1659\n",
      "Epoch 81/100\n",
      "641/641 [==============================] - 5s 8ms/step - loss: 0.1342 - val_loss: 0.1649\n",
      "Epoch 82/100\n",
      "641/641 [==============================] - 5s 8ms/step - loss: 0.1344 - val_loss: 0.1636\n",
      "Epoch 83/100\n",
      "641/641 [==============================] - 6s 9ms/step - loss: 0.1338 - val_loss: 0.1655\n",
      "Epoch 84/100\n",
      "641/641 [==============================] - 5s 8ms/step - loss: 0.1334 - val_loss: 0.1677\n",
      "Epoch 85/100\n",
      "641/641 [==============================] - 5s 7ms/step - loss: 0.1327 - val_loss: 0.1656\n",
      "Epoch 86/100\n",
      "641/641 [==============================] - 5s 8ms/step - loss: 0.1329 - val_loss: 0.1629\n",
      "Epoch 87/100\n",
      "641/641 [==============================] - 6s 10ms/step - loss: 0.1326 - val_loss: 0.1655\n",
      "Epoch 88/100\n",
      "641/641 [==============================] - 6s 10ms/step - loss: 0.1319 - val_loss: 0.1615\n",
      "Epoch 89/100\n",
      "641/641 [==============================] - 6s 10ms/step - loss: 0.1313 - val_loss: 0.1650\n",
      "Epoch 90/100\n",
      "641/641 [==============================] - 6s 9ms/step - loss: 0.1314 - val_loss: 0.1611\n",
      "Epoch 91/100\n",
      "641/641 [==============================] - 6s 9ms/step - loss: 0.1321 - val_loss: 0.1645\n",
      "Epoch 92/100\n",
      "641/641 [==============================] - 5s 8ms/step - loss: 0.1312 - val_loss: 0.1671\n",
      "Epoch 93/100\n",
      "641/641 [==============================] - 5s 8ms/step - loss: 0.1309 - val_loss: 0.1597\n",
      "Epoch 94/100\n",
      "641/641 [==============================] - 6s 9ms/step - loss: 0.1298 - val_loss: 0.1695\n",
      "Epoch 95/100\n",
      "641/641 [==============================] - 6s 9ms/step - loss: 0.1306 - val_loss: 0.1620\n",
      "Epoch 96/100\n",
      "641/641 [==============================] - 5s 8ms/step - loss: 0.1299 - val_loss: 0.1653\n",
      "Epoch 97/100\n",
      "641/641 [==============================] - 5s 8ms/step - loss: 0.1300 - val_loss: 0.1610\n",
      "Epoch 98/100\n",
      "641/641 [==============================] - 5s 8ms/step - loss: 0.1301 - val_loss: 0.1589\n",
      "Epoch 99/100\n",
      "641/641 [==============================] - 6s 10ms/step - loss: 0.1289 - val_loss: 0.1557\n",
      "Epoch 100/100\n",
      "641/641 [==============================] - 6s 9ms/step - loss: 0.1289 - val_loss: 0.1684\n",
      "Model: \"sequential_8\"\n",
      "_________________________________________________________________\n",
      "Layer (type)                 Output Shape              Param #   \n",
      "=================================================================\n",
      "dense_24 (Dense)             (None, 300)               120300    \n",
      "_________________________________________________________________\n",
      "dense_25 (Dense)             (None, 200)               60200     \n",
      "_________________________________________________________________\n",
      "dense_26 (Dense)             (None, 100)               20100     \n",
      "=================================================================\n",
      "Total params: 200,600\n",
      "Trainable params: 200,600\n",
      "Non-trainable params: 0\n",
      "_________________________________________________________________\n",
      "Model: \"sequential_9\"\n",
      "_________________________________________________________________\n",
      "Layer (type)                 Output Shape              Param #   \n",
      "=================================================================\n",
      "dense_27 (Dense)             (None, 200)               20200     \n",
      "_________________________________________________________________\n",
      "dense_28 (Dense)             (None, 300)               60300     \n",
      "_________________________________________________________________\n",
      "dense_29 (Dense)             (None, 400)               120400    \n",
      "=================================================================\n",
      "Total params: 200,900\n",
      "Trainable params: 200,900\n",
      "Non-trainable params: 0\n",
      "_________________________________________________________________\n"
     ]
    }
   ],
   "source": [
    "history = autoencoder.fit(\n",
    "    # dataset_final.take(num_train),\n",
    "    data_train,\n",
    "    data_origin,\n",
    "    epochs=epoch,\n",
    "    batch_size=batch_size,\n",
    "    shuffle=True,\n",
    "    # validation_data = dataset_final.skip(205000*0.8),\n",
    "    validation_split=validation_split,\n",
    "    callbacks=callbacks_list,  #! Do not put [] around callbacks_list variable\n",
    ")\n",
    "\n",
    "autoencoder.encoder.summary()\n",
    "autoencoder.decoder.summary()"
   ]
  },
  {
   "cell_type": "code",
   "execution_count": 209,
   "id": "b0ebd448",
   "metadata": {},
   "outputs": [
    {
     "data": {
      "text/plain": [
       "<matplotlib.legend.Legend at 0x21450fe5820>"
      ]
     },
     "execution_count": 209,
     "metadata": {},
     "output_type": "execute_result"
    },
    {
     "data": {
      "image/png": "[encoded data removed]",
      "text/plain": [
       "<Figure size 432x288 with 1 Axes>"
      ]
     },
     "metadata": {
      "needs_background": "light"
     },
     "output_type": "display_data"
    }
   ],
   "source": [
    "plt.plot(history.history[\"loss\"], label=\"Traing Loss\")\n",
    "plt.plot(history.history[\"val_loss\"], label=\"Validation Loss\")\n",
    "plt.legend()\n",
    "# plt.savefig('10.png')\n",
    "# plt.savefig('SNR_-30_training_loss.png')"
   ]
  },
  {
   "cell_type": "code",
   "execution_count": 294,
   "id": "31151388",
   "metadata": {},
   "outputs": [
    {
     "name": "stdout",
     "output_type": "stream",
     "text": [
      "b'random_two source_10snapshots_1000sample\\\\20dB\\\\test\\\\test_data.mat'\n",
      "c:\\Users\\HYPC300\\OneDrive - 한양대학교\\GitHub\\Deeplearning-Autoencoder-DOA\\data\\result\\random_two source_10snapshots_1000sample\n",
      "c:\\Users\\HYPC300\\OneDrive - 한양대학교\\GitHub\\Deeplearning-Autoencoder-DOA\\data\\result\\random_two source_10snapshots_1000sample\\test_data.mat\n"
     ]
    }
   ],
   "source": [
    "# Input test noisy dataset for all snr and stack them together\n",
    "dataset = tf.data.Dataset.list_files(basePath + '/20dB/test/test_data.*', shuffle=False)\n",
    "for i in dataset.as_numpy_iterator():\n",
    "    print(i)\n",
    "data_set = []\n",
    "for i in dataset.as_numpy_iterator():\n",
    "    x_train = sio.loadmat(i)\n",
    "    x_train = x_train['test_data']  # noisy sample covariance matrix\n",
    "    data_set.append(x_train) #NOTE: put all the train_data of different SNR into one list\n",
    "len(data_set) \n",
    "data_test = data_set[0]\n",
    "for i in data_set:\n",
    "    data_test = np.vstack((data_test,i)) # stack all the datasets vertically\n",
    "data_test = data_test[1000:] # the first dataset is included in twice\n",
    "data_test.shape\n",
    "# export data for MATLAB processing\n",
    "print(savePath)\n",
    "savePath_ = savePath + '\\\\test_data.mat'\n",
    "print(savePath_)\n",
    "savemat(savePath_, {'test_data':data_test})"
   ]
  },
  {
   "cell_type": "code",
   "execution_count": 295,
   "id": "690a2282",
   "metadata": {},
   "outputs": [
    {
     "name": "stdout",
     "output_type": "stream",
     "text": [
      "c:\\Users\\HYPC300\\OneDrive - 한양대학교\\GitHub\\Deeplearning-Autoencoder-DOA\\data\\result\\random_two source_10snapshots_1000sample\n",
      "c:\\Users\\HYPC300\\OneDrive - 한양대학교\\GitHub\\Deeplearning-Autoencoder-DOA\\data\\result\\random_two source_10snapshots_1000sample/denoised_data.mat\n"
     ]
    },
    {
     "data": {
      "text/plain": [
       "<matplotlib.legend.Legend at 0x21455417b20>"
      ]
     },
     "execution_count": 295,
     "metadata": {},
     "output_type": "execute_result"
    },
    {
     "data": {
      "image/png": "[encoded data removed]",
      "text/plain": [
       "<Figure size 432x288 with 1 Axes>"
      ]
     },
     "metadata": {
      "needs_background": "light"
     },
     "output_type": "display_data"
    }
   ],
   "source": [
    "encoded_data = autoencoder.encoder(data_test).numpy()\n",
    "decoded_data = autoencoder.decoder(encoded_data).numpy()\n",
    "\n",
    "# Save the denoised data for MATLAB processing\n",
    "print(savePath)\n",
    "savePath_ = savePath + '/denoised_data.mat'\n",
    "print(savePath_)\n",
    "savemat(savePath_, {'denoised_data':decoded_data})\n",
    "\n",
    "ind = 200\n",
    "plt.plot(data_test[ind],'b')\n",
    "plt.plot(decoded_data[ind],'k')\n",
    "plt.fill_between(np.arange(400),decoded_data[ind],data_test[ind],color='lightcoral')\n",
    "plt.legend([\"Input\", \"Reconstruction\",\"Error\"])\n",
    "# plt.savefig('SNR_-30_autoencoder_compare.png')"
   ]
  },
  {
   "cell_type": "code",
   "execution_count": 296,
   "id": "01958963",
   "metadata": {},
   "outputs": [
    {
     "name": "stdout",
     "output_type": "stream",
     "text": [
      "c:\\Users\\HYPC300\\OneDrive - 한양대학교\\GitHub\\Deeplearning-Autoencoder-DOA\\data\\result\\random_two source_10snapshots_1000sample\n",
      "c:\\Users\\HYPC300\\OneDrive - 한양대학교\\GitHub\\Deeplearning-Autoencoder-DOA\\data\\result\\random_two source_10snapshots_1000sample\\test_label.mat\n"
     ]
    }
   ],
   "source": [
    "# Input test label dataset for all snr and stack them together\n",
    "dataset = tf.data.Dataset.list_files(basePath + '/20dB/test/test_label.*', shuffle=False)\n",
    "# for i in dataset.as_numpy_iterator():\n",
    "#     print(i)\n",
    "data_set = []\n",
    "for i in dataset.as_numpy_iterator():\n",
    "    x_train = sio.loadmat(i)\n",
    "    x_train = x_train['test_label']  # noisy sample covariance matrix\n",
    "    data_set.append(x_train) #NOTE: put all the train_data of different SNR into one list\n",
    "len(data_set) \n",
    "data_label = data_set[0]\n",
    "for i in data_set:\n",
    "    data_label = np.vstack((data_label,i)) # stack all the datasets vertically\n",
    "data_label = data_label[1000:] # the first dataset is included in twice\n",
    "data_label.shape\n",
    "\n",
    "print(savePath)\n",
    "savePath_ = savePath + '\\\\test_label.mat'\n",
    "print(savePath_)\n",
    "savemat(savePath_, {'test_label':data_label})"
   ]
  },
  {
   "cell_type": "code",
   "execution_count": null,
   "id": "36398cb3",
   "metadata": {},
   "outputs": [],
   "source": []
  }
 ],
 "metadata": {
  "celltoolbar": "Slideshow",
  "kernelspec": {
   "display_name": "Python 3 (ipykernel)",
   "language": "python",
   "name": "python3"
  },
  "language_info": {
   "codemirror_mode": {
    "name": "ipython",
    "version": 3
   },
   "file_extension": ".py",
   "mimetype": "text/x-python",
   "name": "python",
   "nbconvert_exporter": "python",
   "pygments_lexer": "ipython3",
   "version": "3.8.12"
  }
 },
 "nbformat": 4,
 "nbformat_minor": 5
}
