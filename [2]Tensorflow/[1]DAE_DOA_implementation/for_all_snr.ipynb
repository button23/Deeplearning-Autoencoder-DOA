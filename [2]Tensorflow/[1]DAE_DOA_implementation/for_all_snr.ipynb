{
 "cells": [
  {
   "cell_type": "code",
<<<<<<< HEAD
   "execution_count": 1,
=======
   "execution_count": 45,
>>>>>>> 2edcd361ba2576550fe6b7a2147ea7a9842ce471
   "id": "963a7333",
   "metadata": {},
   "outputs": [],
   "source": [
    "import matplotlib.pyplot as plt\n",
    "import numpy as np\n",
    "import time\n",
    "import tensorflow as tf\n",
    "from scipy.io import loadmat, savemat\n",
    "import os\n",
<<<<<<< HEAD
    "from sklearn.metrics import accuracy_score, precision_score, recall_score\n",
=======
    "# from sklearn.metrics import accuracy_score, precision_score, recall_score\n",
>>>>>>> 2edcd361ba2576550fe6b7a2147ea7a9842ce471
    "from tensorflow.keras import layers, losses\n",
    "from tensorflow.keras.models import Model\n",
    "import scipy.io as sio\n",
    "from tensorflow.keras.callbacks import TensorBoard, EarlyStopping, ModelCheckpoint, ReduceLROnPlateau\n",
<<<<<<< HEAD
=======
    "from sklearn.preprocessing import MinMaxScaler,StandardScaler\n",
>>>>>>> 2edcd361ba2576550fe6b7a2147ea7a9842ce471
    "\n",
    "\n",
    "dense_layers = [0, 1, 2, 3]\n",
    "dense_sizes = [32, 64, 128, 256, 512]\n",
    "conv_layers = [1, 2, 3, 4]\n",
    "num_filters = [32, 64, 128, 256]\n",
    "kernel_sizes = [2000, 2250, 2500, 2750, 3000]"
   ]
  },
  {
   "cell_type": "code",
<<<<<<< HEAD
   "execution_count": 29,
=======
   "execution_count": 61,
>>>>>>> 2edcd361ba2576550fe6b7a2147ea7a9842ce471
   "id": "8a0fef20",
   "metadata": {},
   "outputs": [
    {
     "name": "stdout",
     "output_type": "stream",
     "text": [
<<<<<<< HEAD
      "c:\\Users\\HYPC300\\OneDrive - 한양대학교\\GitHub\\Deeplearning-Autoencoder-DOA\\[2]Tensorflow\\[1]DAE_DOA_implementation\n",
      "c:\\Users\\HYPC300\\OneDrive - 한양대학교\\GitHub\\Deeplearning-Autoencoder-DOA\\data\\result\\8_antenna_100_snapshot_1000sample_minus20_20_snr\n"
=======
      "/home/hymc/[0]Github/Deeplearning-Autoencoder-DOA/[2]Tensorflow/[1]DAE_DOA_implementation/result/8_antenna_500_samples_100_snapshots\n"
>>>>>>> 2edcd361ba2576550fe6b7a2147ea7a9842ce471
     ]
    }
   ],
   "source": [
<<<<<<< HEAD
    "basePath = '8_antenna_100_snapshot_1000sample_minus20_20_snr'\n",
    "\n",
    "rootPath = os.getcwd()\n",
    "print(rootPath)\n",
    "# Windoes path\n",
    "filePath = 'c:\\\\Users\\\\HYPC300\\\\OneDrive - 한양대학교\\\\GitHub\\\\Deeplearning-Autoencoder-DOA\\\\data';\n",
    "#  MAC path:\n",
    "# filePath = '/Users/button/Deeplearning-Autoencoder-DOA/data'\n",
    "savePath = filePath + '\\\\result' +'\\\\' + basePath\n",
=======
    "basePath = '8_antenna_500_samples_100_snapshots'\n",
    "\n",
    "# UBUNTU path\n",
    "filePath = '/home/hymc/[0]Github/Deeplearning-Autoencoder-DOA/[2]Tensorflow/[1]DAE_DOA_implementation'\n",
    "#  MAC path:\n",
    "# filePath = '/Users/button/Deeplearning-Autoencoder-DOA/data'\n",
    "savePath = filePath + '/result'  + '/'+basePath\n",
>>>>>>> 2edcd361ba2576550fe6b7a2147ea7a9842ce471
    "\n",
    "if not os.path.isdir(savePath):\n",
    "    os.makedirs(savePath)\n",
    "print(savePath)"
   ]
  },
  {
   "cell_type": "code",
<<<<<<< HEAD
   "execution_count": 30,
=======
   "execution_count": 66,
>>>>>>> 2edcd361ba2576550fe6b7a2147ea7a9842ce471
   "id": "36078a82",
   "metadata": {},
   "outputs": [
    {
     "data": {
      "text/plain": [
<<<<<<< HEAD
       "(205000, 64)"
      ]
     },
     "execution_count": 30,
=======
       "(102500, 64)"
      ]
     },
     "execution_count": 66,
>>>>>>> 2edcd361ba2576550fe6b7a2147ea7a9842ce471
     "metadata": {},
     "output_type": "execute_result"
    }
   ],
   "source": [
    "# Input train noisy dataset for all snr and stack them together\n",
    "dataset = tf.data.Dataset.list_files(basePath+'/*/train/train_data.*', shuffle=False)\n",
    "# for i in dataset.as_numpy_iterator():\n",
    "#     print(i)\n",
    "data_set = []\n",
    "for i in dataset.as_numpy_iterator():\n",
    "    x_train = sio.loadmat(i)\n",
    "    x_train = x_train['train_data']  # noisy sample covariance matrix\n",
    "    data_set.append(x_train) #NOTE: put all the train_data of different SNR into one list\n",
    "len(data_set) \n",
    "\n",
    "data_train = data_set[0]\n",
    "for i in data_set:\n",
    "    data_train = np.vstack((data_train,i)) # stack all the datasets vertically\n",
    "    \n",
<<<<<<< HEAD
    "data_train = data_train[5000:] # the first dataset is included in twice\n",
=======
    "data_train = data_train[x_train.shape[0]:] # the first dataset is included in twice\n",
>>>>>>> 2edcd361ba2576550fe6b7a2147ea7a9842ce471
    "data_train.shape"
   ]
  },
  {
   "cell_type": "code",
<<<<<<< HEAD
   "execution_count": 31,
=======
   "execution_count": 67,
>>>>>>> 2edcd361ba2576550fe6b7a2147ea7a9842ce471
   "id": "7424f1d6",
   "metadata": {},
   "outputs": [
    {
     "data": {
      "text/plain": [
<<<<<<< HEAD
       "(205000, 64)"
      ]
     },
     "execution_count": 31,
=======
       "(102500, 64)"
      ]
     },
     "execution_count": 67,
>>>>>>> 2edcd361ba2576550fe6b7a2147ea7a9842ce471
     "metadata": {},
     "output_type": "execute_result"
    }
   ],
   "source": [
    "# Input train noiseless dataset for all snr and stack them together\n",
    "dataset = tf.data.Dataset.list_files(basePath + '/*/train/train_origin_data.*', shuffle=False)\n",
    "# for i in dataset.as_numpy_iterator():\n",
    "#     print(i)\n",
    "data_set = []\n",
    "for i in dataset.as_numpy_iterator():\n",
    "    x_train = sio.loadmat(i)\n",
    "    x_train = x_train['train_origin_data']  # noisy sample covariance matrix\n",
    "    data_set.append(x_train) #NOTE: put all the train_data of different SNR into one list\n",
    "len(data_set) \n",
    "\n",
    "data_origin = data_set[0]\n",
    "for i in data_set:\n",
    "    data_origin = np.vstack((data_origin,i)) # stack all the datasets vertically\n",
    "    \n",
<<<<<<< HEAD
    "data_origin = data_origin[5000:] # the first dataset is included in twice\n",
=======
    "data_origin = data_origin[x_train.shape[0]:] # the first dataset is included in twice\n",
>>>>>>> 2edcd361ba2576550fe6b7a2147ea7a9842ce471
    "data_origin.shape"
   ]
  },
  {
   "cell_type": "code",
<<<<<<< HEAD
   "execution_count": 32,
=======
   "execution_count": 70,
>>>>>>> 2edcd361ba2576550fe6b7a2147ea7a9842ce471
   "id": "ab6a72fa",
   "metadata": {},
   "outputs": [
    {
     "name": "stdout",
     "output_type": "stream",
     "text": [
<<<<<<< HEAD
      "[     0      1      2 ... 204997 204998 204999]\n"
=======
      "[     0      1      2 ... 102497 102498 102499]\n"
>>>>>>> 2edcd361ba2576550fe6b7a2147ea7a9842ce471
     ]
    }
   ],
   "source": [
    "# train data shuffle\n",
    "np.random.seed(2020)\n",
    "index = np.arange(data_train.shape[0])\n",
    "print(index)\n",
    "np.random.shuffle(index)\n",
    "data_train = data_train[index]\n",
    "data_origin = data_origin[index]"
   ]
  },
  {
   "cell_type": "code",
<<<<<<< HEAD
   "execution_count": 38,
=======
   "execution_count": 71,
   "id": "cc40a474",
   "metadata": {},
   "outputs": [
    {
     "name": "stdout",
     "output_type": "stream",
     "text": [
      "(64, 102500)\n",
      "(64, 102500)\n"
     ]
    }
   ],
   "source": [
    "## scaling\n",
    "scaler = StandardScaler()\n",
    "data_train_scale = scaler.fit_transform(np.transpose(data_train))\n",
    "data_origin_scale = scaler.fit_transform(np.transpose(data_origin))\n",
    "print(data_train_scale.shape)\n",
    "print(data_origin_scale.shape)\n",
    "data_train = np.transpose(data_train_scale)\n",
    "data_origin = np.transpose(data_origin_scale)"
   ]
  },
  {
   "cell_type": "code",
   "execution_count": 72,
>>>>>>> 2edcd361ba2576550fe6b7a2147ea7a9842ce471
   "id": "4762260e",
   "metadata": {},
   "outputs": [
    {
     "name": "stdout",
     "output_type": "stream",
     "text": [
<<<<<<< HEAD
      "c:\\Users\\HYPC300\\OneDrive - 한양대학교\\GitHub\\Deeplearning-Autoencoder-DOA\\data\\result\\8_antenna_100_snapshot_1000sample_minus20_20_snr\\save_models\n"
=======
      "/home/hymc/[0]Github/Deeplearning-Autoencoder-DOA/[2]Tensorflow/[1]DAE_DOA_implementation/result/8_antenna_500_samples_100_snapshots/save_models\n"
>>>>>>> 2edcd361ba2576550fe6b7a2147ea7a9842ce471
     ]
    }
   ],
   "source": [
    "# Model configuration\n",
    "nSample = x_train.shape[0]\n",
    "epoch = 100\n",
    "batch_size = 64\n",
    "validation_split = 0.2\n",
    "\n",
    "save_dir = os.path.join(savePath, 'save_models')\n",
    "if not os.path.isdir(save_dir):\n",
    "    os.makedirs(save_dir)\n",
    "print(save_dir)"
   ]
  },
  {
   "cell_type": "code",
<<<<<<< HEAD
   "execution_count": 35,
=======
   "execution_count": 73,
>>>>>>> 2edcd361ba2576550fe6b7a2147ea7a9842ce471
   "id": "f1cfae90",
   "metadata": {},
   "outputs": [],
   "source": [
    "class DOA_Denoising(Model):\n",
    "    def __init__(self):\n",
    "        super(DOA_Denoising, self).__init__()\n",
    "        self.encoder = tf.keras.Sequential([\n",
    "            layers.Dense(32, activation='relu'),\n",
    "            # layers.Dropout(0.2),\n",
    "            layers.Dense(16, activation='relu'),\n",
    "            # layers.Dropout(0.2),\n",
    "            layers.Dense(8, activation='relu')]) # * 300 200 100\n",
    "        \n",
    "        self.decoder = tf.keras.Sequential([\n",
    "            layers.Dense(16, activation='relu'), #* 200 300 400\n",
    "            # layers.Dropout(0.2),\n",
    "            layers.Dense(32, activation='relu'),\n",
    "            # layers.Dropout(0.2),\n",
    "            layers.Dense(64, activation='linear')])\n",
    "\n",
    "    def call(self, x):\n",
    "        encoded = self.encoder(x)\n",
    "        decoded = self.decoder(encoded)\n",
    "        return decoded\n",
    "    \n",
    "autoencoder = DOA_Denoising() "
   ]
  },
  {
   "cell_type": "code",
<<<<<<< HEAD
   "execution_count": 193,
=======
   "execution_count": 9,
>>>>>>> 2edcd361ba2576550fe6b7a2147ea7a9842ce471
   "id": "c90774e5",
   "metadata": {
    "scrolled": true
   },
   "outputs": [],
   "source": [
    "# %reload_ext tensorboard\n",
    "# %tensorboard --logdir logs"
   ]
  },
  {
   "cell_type": "code",
<<<<<<< HEAD
   "execution_count": 40,
=======
   "execution_count": 74,
>>>>>>> 2edcd361ba2576550fe6b7a2147ea7a9842ce471
   "id": "0c0f052d",
   "metadata": {
    "scrolled": true
   },
   "outputs": [
    {
     "name": "stdout",
     "output_type": "stream",
     "text": [
<<<<<<< HEAD
      "epoch-100-batch-64-dense-300-200-100-time-1645196416\n",
      "c:\\Users\\HYPC300\\OneDrive - 한양대학교\\GitHub\\Deeplearning-Autoencoder-DOA\\data\\result\\8_antenna_100_snapshot_1000sample_minus20_20_snr\\save_models\\epoch-100-batch-64-dense-300-200-100-time-1645196416\n"
=======
      "epoch-100-batch-64-dense-300-200-100-time-1645808103\n",
      "/home/hymc/[0]Github/Deeplearning-Autoencoder-DOA/[2]Tensorflow/[1]DAE_DOA_implementation/result/8_antenna_500_samples_100_snapshots/save_models/epoch-100-batch-64-dense-300-200-100-time-1645808103\n"
>>>>>>> 2edcd361ba2576550fe6b7a2147ea7a9842ce471
     ]
    }
   ],
   "source": [
    "model_name = (\n",
    "    f\"epoch-{epoch}-batch-{batch_size}-dense-300-200-100-time-{int(time.time())}\"\n",
    ")\n",
    "print(model_name)\n",
    "\n",
    "file_path = os.path.join(save_dir, model_name)\n",
    "print(file_path)\n",
    "\n",
    "# callbacks_list\n",
    "callbacks_list = [\n",
    "    EarlyStopping(monitor=\"val_loss\", mode=\"min\", verbose=0, patience=50),\n",
    "    ModelCheckpoint(\n",
    "        filepath=file_path,\n",
    "        monitor=\"val_loss\",\n",
    "        verbose=0,\n",
    "        save_best_only=True,\n",
    "        save_weights_only=False,\n",
    "        mode=\"min\",\n",
    "    ),\n",
    "    # TensorBoard(\n",
    "    #     log_dir=\"./logs/{}\".format(model_name),\n",
    "    #     histogram_freq=1,\n",
    "    #     write_graph=False,\n",
    "    #     write_images=False,\n",
    "    # ),\n",
    "    ReduceLROnPlateau(\n",
    "        monitor=\"val_loss\",\n",
    "        factor=0.1,\n",
    "        patience=10,\n",
    "        verbose=0,\n",
    "        mode=\"min\",\n",
    "        min_delta=0.0001,\n",
    "        cooldown=0,\n",
    "        min_lr=0,\n",
    "    ),\n",
    "]\n",
    "\n",
    "autoencoder.compile(optimizer=\"adam\", loss=\"mse\")"
   ]
  },
  {
   "cell_type": "code",
<<<<<<< HEAD
   "execution_count": 41,
=======
   "execution_count": 75,
>>>>>>> 2edcd361ba2576550fe6b7a2147ea7a9842ce471
   "id": "0237f323",
   "metadata": {},
   "outputs": [
    {
     "name": "stdout",
     "output_type": "stream",
     "text": [
      "Epoch 1/100\n",
<<<<<<< HEAD
      "2563/2563 [==============================] - 2s 843us/step - loss: 0.0910 - val_loss: 0.1024\n",
      "Epoch 2/100\n",
      "2563/2563 [==============================] - 2s 921us/step - loss: 0.0905 - val_loss: 0.1027\n",
      "Epoch 3/100\n",
      "2563/2563 [==============================] - 2s 955us/step - loss: 0.0906 - val_loss: 0.1041\n",
      "Epoch 4/100\n",
      "2563/2563 [==============================] - 2s 824us/step - loss: 0.0906 - val_loss: 0.1068\n",
      "Epoch 5/100\n",
      "2563/2563 [==============================] - 2s 819us/step - loss: 0.0904 - val_loss: 0.1023\n",
      "Epoch 6/100\n",
      "2563/2563 [==============================] - 2s 812us/step - loss: 0.0904 - val_loss: 0.1036\n",
      "Epoch 7/100\n",
      "2563/2563 [==============================] - 2s 779us/step - loss: 0.0903 - val_loss: 0.1021\n",
      "Epoch 8/100\n",
      "2563/2563 [==============================] - 2s 922us/step - loss: 0.0901 - val_loss: 0.1013\n",
      "Epoch 9/100\n",
      "2563/2563 [==============================] - 2s 827us/step - loss: 0.0900 - val_loss: 0.1043\n",
      "Epoch 10/100\n",
      "2563/2563 [==============================] - 2s 779us/step - loss: 0.0898 - val_loss: 0.1036\n",
      "Epoch 11/100\n",
      "2563/2563 [==============================] - 2s 825us/step - loss: 0.0897 - val_loss: 0.1006\n",
      "Epoch 12/100\n",
      "2563/2563 [==============================] - 2s 798us/step - loss: 0.0895 - val_loss: 0.1014\n",
      "Epoch 13/100\n",
      "2563/2563 [==============================] - 2s 775us/step - loss: 0.0896 - val_loss: 0.1011\n",
      "Epoch 14/100\n",
      "2563/2563 [==============================] - 2s 818us/step - loss: 0.0894 - val_loss: 0.1043\n",
      "Epoch 15/100\n",
      "2563/2563 [==============================] - 2s 783us/step - loss: 0.0893 - val_loss: 0.1021\n",
      "Epoch 16/100\n",
      "2563/2563 [==============================] - 2s 723us/step - loss: 0.0894 - val_loss: 0.1036\n",
      "Epoch 17/100\n",
      "2563/2563 [==============================] - 2s 726us/step - loss: 0.0890 - val_loss: 0.1004\n",
      "Epoch 18/100\n",
      "2563/2563 [==============================] - 2s 820us/step - loss: 0.0891 - val_loss: 0.1010\n",
      "Epoch 19/100\n",
      "2563/2563 [==============================] - 2s 776us/step - loss: 0.0891 - val_loss: 0.1062\n",
      "Epoch 20/100\n",
      "2563/2563 [==============================] - 2s 805us/step - loss: 0.0888 - val_loss: 0.1010\n",
      "Epoch 21/100\n",
      "2563/2563 [==============================] - 2s 789us/step - loss: 0.0889 - val_loss: 0.1010\n",
      "Epoch 22/100\n",
      "2563/2563 [==============================] - 2s 712us/step - loss: 0.0889 - val_loss: 0.1011\n",
      "Epoch 23/100\n",
      "2563/2563 [==============================] - 2s 714us/step - loss: 0.0885 - val_loss: 0.1012\n",
      "Epoch 24/100\n",
      "2563/2563 [==============================] - 2s 730us/step - loss: 0.0888 - val_loss: 0.1023\n",
      "Epoch 25/100\n",
      "2563/2563 [==============================] - 2s 706us/step - loss: 0.0885 - val_loss: 0.1021\n",
      "Epoch 26/100\n",
      "2563/2563 [==============================] - 2s 735us/step - loss: 0.0887 - val_loss: 0.1083\n",
      "Epoch 27/100\n",
      "2563/2563 [==============================] - 2s 725us/step - loss: 0.0885 - val_loss: 0.1007\n",
      "Epoch 28/100\n",
      "2563/2563 [==============================] - 2s 745us/step - loss: 0.0834 - val_loss: 0.0995\n",
      "Epoch 29/100\n",
      "2563/2563 [==============================] - 2s 813us/step - loss: 0.0830 - val_loss: 0.0987\n",
      "Epoch 30/100\n",
      "2563/2563 [==============================] - 2s 818us/step - loss: 0.0829 - val_loss: 0.0988\n",
      "Epoch 31/100\n",
      "2563/2563 [==============================] - 2s 804us/step - loss: 0.0828 - val_loss: 0.0989\n",
      "Epoch 32/100\n",
      "2563/2563 [==============================] - 2s 853us/step - loss: 0.0827 - val_loss: 0.0989\n",
      "Epoch 33/100\n",
      "2563/2563 [==============================] - 2s 827us/step - loss: 0.0826 - val_loss: 0.0992\n",
      "Epoch 34/100\n",
      "2563/2563 [==============================] - 2s 798us/step - loss: 0.0826 - val_loss: 0.0990\n",
      "Epoch 35/100\n",
      "2563/2563 [==============================] - 2s 800us/step - loss: 0.0826 - val_loss: 0.0992\n",
      "Epoch 36/100\n",
      "2563/2563 [==============================] - 2s 746us/step - loss: 0.0825 - val_loss: 0.0991\n",
      "Epoch 37/100\n",
      "2563/2563 [==============================] - 2s 764us/step - loss: 0.0825 - val_loss: 0.0992\n",
      "Epoch 38/100\n",
      "2563/2563 [==============================] - 2s 825us/step - loss: 0.0825 - val_loss: 0.0990\n",
      "Epoch 39/100\n",
      "2563/2563 [==============================] - 2s 825us/step - loss: 0.0824 - val_loss: 0.0994\n",
      "Epoch 40/100\n",
      "2563/2563 [==============================] - 2s 837us/step - loss: 0.0819 - val_loss: 0.0989\n",
      "Epoch 41/100\n",
      "2563/2563 [==============================] - 2s 849us/step - loss: 0.0818 - val_loss: 0.0989\n",
      "Epoch 42/100\n",
      "2563/2563 [==============================] - 2s 839us/step - loss: 0.0818 - val_loss: 0.0989\n",
      "Epoch 43/100\n",
      "2563/2563 [==============================] - 2s 831us/step - loss: 0.0818 - val_loss: 0.0990\n",
      "Epoch 44/100\n",
      "2563/2563 [==============================] - 2s 846us/step - loss: 0.0818 - val_loss: 0.0990\n",
      "Epoch 45/100\n",
      "2563/2563 [==============================] - 2s 776us/step - loss: 0.0818 - val_loss: 0.0990\n",
      "Epoch 46/100\n",
      "2563/2563 [==============================] - 2s 794us/step - loss: 0.0818 - val_loss: 0.0990\n",
      "Epoch 47/100\n",
      "2563/2563 [==============================] - 2s 808us/step - loss: 0.0818 - val_loss: 0.0990\n",
      "Epoch 48/100\n",
      "2563/2563 [==============================] - 2s 825us/step - loss: 0.0818 - val_loss: 0.0990\n",
      "Epoch 49/100\n",
      "2563/2563 [==============================] - 2s 910us/step - loss: 0.0818 - val_loss: 0.0989\n",
      "Epoch 50/100\n",
      "2563/2563 [==============================] - 2s 897us/step - loss: 0.0817 - val_loss: 0.0990\n",
      "Epoch 51/100\n",
      "2563/2563 [==============================] - 2s 872us/step - loss: 0.0817 - val_loss: 0.0990\n",
      "Epoch 52/100\n",
      "2563/2563 [==============================] - 2s 783us/step - loss: 0.0817 - val_loss: 0.0990\n",
      "Epoch 53/100\n",
      "2563/2563 [==============================] - 2s 819us/step - loss: 0.0817 - val_loss: 0.0990\n",
      "Epoch 54/100\n",
      "2563/2563 [==============================] - 2s 808us/step - loss: 0.0817 - val_loss: 0.0990\n",
      "Epoch 55/100\n",
      "2563/2563 [==============================] - 2s 759us/step - loss: 0.0817 - val_loss: 0.0990\n",
      "Epoch 56/100\n",
      "2563/2563 [==============================] - 2s 820us/step - loss: 0.0817 - val_loss: 0.0990\n",
      "Epoch 57/100\n",
      "2563/2563 [==============================] - 2s 846us/step - loss: 0.0817 - val_loss: 0.0990\n",
      "Epoch 58/100\n",
      "2563/2563 [==============================] - 2s 803us/step - loss: 0.0817 - val_loss: 0.0990\n",
      "Epoch 59/100\n",
      "2563/2563 [==============================] - 2s 792us/step - loss: 0.0817 - val_loss: 0.0990\n",
      "Epoch 60/100\n",
      "2563/2563 [==============================] - 2s 868us/step - loss: 0.0817 - val_loss: 0.0990\n",
      "Epoch 61/100\n",
      "2563/2563 [==============================] - 2s 805us/step - loss: 0.0817 - val_loss: 0.0990\n",
      "Epoch 62/100\n",
      "2563/2563 [==============================] - 2s 764us/step - loss: 0.0817 - val_loss: 0.0990\n",
      "Epoch 63/100\n",
      "2563/2563 [==============================] - 2s 799us/step - loss: 0.0817 - val_loss: 0.0990\n",
      "Epoch 64/100\n",
      "2563/2563 [==============================] - 2s 737us/step - loss: 0.0817 - val_loss: 0.0990\n",
      "Epoch 65/100\n",
      "2563/2563 [==============================] - 2s 721us/step - loss: 0.0817 - val_loss: 0.0990\n",
      "Epoch 66/100\n",
      "2563/2563 [==============================] - 2s 718us/step - loss: 0.0817 - val_loss: 0.0990\n",
      "Epoch 67/100\n",
      "2563/2563 [==============================] - 2s 707us/step - loss: 0.0817 - val_loss: 0.0990\n",
      "Epoch 68/100\n",
      "2563/2563 [==============================] - 2s 740us/step - loss: 0.0817 - val_loss: 0.0990\n",
      "Epoch 69/100\n",
      "2563/2563 [==============================] - 2s 745us/step - loss: 0.0817 - val_loss: 0.0990\n",
      "Epoch 70/100\n",
      "2563/2563 [==============================] - 2s 746us/step - loss: 0.0817 - val_loss: 0.0990\n",
      "Epoch 71/100\n",
      "2563/2563 [==============================] - 2s 733us/step - loss: 0.0817 - val_loss: 0.0990\n",
      "Epoch 72/100\n",
      "2563/2563 [==============================] - 2s 725us/step - loss: 0.0817 - val_loss: 0.0990\n",
      "Epoch 73/100\n",
      "2563/2563 [==============================] - 2s 730us/step - loss: 0.0817 - val_loss: 0.0990\n",
      "Epoch 74/100\n",
      "2563/2563 [==============================] - 2s 732us/step - loss: 0.0817 - val_loss: 0.0990\n",
      "Epoch 75/100\n",
      "2563/2563 [==============================] - 2s 727us/step - loss: 0.0817 - val_loss: 0.0990\n",
      "Epoch 76/100\n",
      "2563/2563 [==============================] - 2s 735us/step - loss: 0.0817 - val_loss: 0.0990\n",
      "Epoch 77/100\n",
      "2563/2563 [==============================] - 2s 736us/step - loss: 0.0817 - val_loss: 0.0990\n",
      "Epoch 78/100\n",
      "2563/2563 [==============================] - 2s 740us/step - loss: 0.0817 - val_loss: 0.0990\n",
      "Epoch 79/100\n",
      "2563/2563 [==============================] - 2s 729us/step - loss: 0.0817 - val_loss: 0.0990\n",
      "Model: \"sequential_2\"\n",
      "_________________________________________________________________\n",
      "Layer (type)                 Output Shape              Param #   \n",
      "=================================================================\n",
      "dense_6 (Dense)              (None, 32)                2080      \n",
      "_________________________________________________________________\n",
      "dense_7 (Dense)              (None, 16)                528       \n",
      "_________________________________________________________________\n",
      "dense_8 (Dense)              (None, 8)                 136       \n",
=======
      "1282/1282 [==============================] - 1s 649us/step - loss: 0.3290 - val_loss: 0.2214\n",
      "Epoch 2/100\n",
      "1282/1282 [==============================] - 1s 664us/step - loss: 0.2108 - val_loss: 0.2043\n",
      "Epoch 3/100\n",
      "1282/1282 [==============================] - 1s 1ms/step - loss: 0.2011 - val_loss: 0.1990\n",
      "Epoch 4/100\n",
      "1282/1282 [==============================] - 1s 1ms/step - loss: 0.1956 - val_loss: 0.1972\n",
      "Epoch 5/100\n",
      "1282/1282 [==============================] - 1s 1ms/step - loss: 0.1917 - val_loss: 0.1911\n",
      "Epoch 6/100\n",
      "1282/1282 [==============================] - 1s 942us/step - loss: 0.1887 - val_loss: 0.1897\n",
      "Epoch 7/100\n",
      "1282/1282 [==============================] - 1s 1ms/step - loss: 0.1865 - val_loss: 0.1879\n",
      "Epoch 8/100\n",
      "1282/1282 [==============================] - 1s 765us/step - loss: 0.1849 - val_loss: 0.1837\n",
      "Epoch 9/100\n",
      "1282/1282 [==============================] - 1s 897us/step - loss: 0.1828 - val_loss: 0.1842\n",
      "Epoch 10/100\n",
      "1282/1282 [==============================] - 1s 836us/step - loss: 0.1816 - val_loss: 0.1823\n",
      "Epoch 11/100\n",
      "1282/1282 [==============================] - 1s 816us/step - loss: 0.1800 - val_loss: 0.1811\n",
      "Epoch 12/100\n",
      "1282/1282 [==============================] - 1s 1ms/step - loss: 0.1791 - val_loss: 0.1809\n",
      "Epoch 13/100\n",
      "1282/1282 [==============================] - 1s 818us/step - loss: 0.1781 - val_loss: 0.1790\n",
      "Epoch 14/100\n",
      "1282/1282 [==============================] - 1s 940us/step - loss: 0.1773 - val_loss: 0.1784\n",
      "Epoch 15/100\n",
      "1282/1282 [==============================] - 1s 952us/step - loss: 0.1766 - val_loss: 0.1790\n",
      "Epoch 16/100\n",
      "1282/1282 [==============================] - 1s 918us/step - loss: 0.1757 - val_loss: 0.1809\n",
      "Epoch 17/100\n",
      "1282/1282 [==============================] - 1s 814us/step - loss: 0.1752 - val_loss: 0.1787\n",
      "Epoch 18/100\n",
      "1282/1282 [==============================] - 1s 516us/step - loss: 0.1748 - val_loss: 0.1758\n",
      "Epoch 19/100\n",
      "1282/1282 [==============================] - 1s 691us/step - loss: 0.1747 - val_loss: 0.1768\n",
      "Epoch 20/100\n",
      "1282/1282 [==============================] - 1s 782us/step - loss: 0.1741 - val_loss: 0.1764\n",
      "Epoch 21/100\n",
      "1282/1282 [==============================] - 1s 740us/step - loss: 0.1736 - val_loss: 0.1784\n",
      "Epoch 22/100\n",
      "1282/1282 [==============================] - 1s 619us/step - loss: 0.1735 - val_loss: 0.1762\n",
      "Epoch 23/100\n",
      "1282/1282 [==============================] - 1s 502us/step - loss: 0.1727 - val_loss: 0.1766\n",
      "Epoch 24/100\n",
      "1282/1282 [==============================] - 1s 568us/step - loss: 0.1724 - val_loss: 0.1746\n",
      "Epoch 25/100\n",
      "1282/1282 [==============================] - 1s 612us/step - loss: 0.1722 - val_loss: 0.1747\n",
      "Epoch 26/100\n",
      "1282/1282 [==============================] - 1s 735us/step - loss: 0.1721 - val_loss: 0.1754\n",
      "Epoch 27/100\n",
      "1282/1282 [==============================] - 1s 771us/step - loss: 0.1718 - val_loss: 0.1745\n",
      "Epoch 28/100\n",
      "1282/1282 [==============================] - 1s 706us/step - loss: 0.1715 - val_loss: 0.1757\n",
      "Epoch 29/100\n",
      "1282/1282 [==============================] - 1s 902us/step - loss: 0.1714 - val_loss: 0.1743\n",
      "Epoch 30/100\n",
      "1282/1282 [==============================] - 1s 733us/step - loss: 0.1713 - val_loss: 0.1745\n",
      "Epoch 31/100\n",
      "1282/1282 [==============================] - 1s 762us/step - loss: 0.1711 - val_loss: 0.1739\n",
      "Epoch 32/100\n",
      "1282/1282 [==============================] - 1s 715us/step - loss: 0.1711 - val_loss: 0.1751\n",
      "Epoch 33/100\n",
      "1282/1282 [==============================] - 1s 753us/step - loss: 0.1710 - val_loss: 0.1755\n",
      "Epoch 34/100\n",
      "1282/1282 [==============================] - 1s 735us/step - loss: 0.1706 - val_loss: 0.1743\n",
      "Epoch 35/100\n",
      "1282/1282 [==============================] - 1s 507us/step - loss: 0.1703 - val_loss: 0.1749\n",
      "Epoch 36/100\n",
      "1282/1282 [==============================] - 1s 520us/step - loss: 0.1705 - val_loss: 0.1728\n",
      "Epoch 37/100\n",
      "1282/1282 [==============================] - 1s 640us/step - loss: 0.1700 - val_loss: 0.1760\n",
      "Epoch 38/100\n",
      "1282/1282 [==============================] - 1s 701us/step - loss: 0.1701 - val_loss: 0.1746\n",
      "Epoch 39/100\n",
      "1282/1282 [==============================] - 1s 779us/step - loss: 0.1699 - val_loss: 0.1745\n",
      "Epoch 40/100\n",
      "1282/1282 [==============================] - 1s 609us/step - loss: 0.1698 - val_loss: 0.1751\n",
      "Epoch 41/100\n",
      "1282/1282 [==============================] - 1s 520us/step - loss: 0.1695 - val_loss: 0.1748\n",
      "Epoch 42/100\n",
      "1282/1282 [==============================] - 1s 521us/step - loss: 0.1697 - val_loss: 0.1733\n",
      "Epoch 43/100\n",
      "1282/1282 [==============================] - 1s 500us/step - loss: 0.1695 - val_loss: 0.1735\n",
      "Epoch 44/100\n",
      "1282/1282 [==============================] - 1s 499us/step - loss: 0.1691 - val_loss: 0.1734\n",
      "Epoch 45/100\n",
      "1282/1282 [==============================] - 1s 508us/step - loss: 0.1693 - val_loss: 0.1736\n",
      "Epoch 46/100\n",
      "1282/1282 [==============================] - 1s 515us/step - loss: 0.1690 - val_loss: 0.1749\n",
      "Epoch 47/100\n",
      "1282/1282 [==============================] - 1s 565us/step - loss: 0.1655 - val_loss: 0.1706\n",
      "Epoch 48/100\n",
      "1282/1282 [==============================] - 1s 615us/step - loss: 0.1652 - val_loss: 0.1708\n",
      "Epoch 49/100\n",
      "1282/1282 [==============================] - 1s 768us/step - loss: 0.1651 - val_loss: 0.1706\n",
      "Epoch 50/100\n",
      "1282/1282 [==============================] - 1s 755us/step - loss: 0.1652 - val_loss: 0.1705\n",
      "Epoch 51/100\n",
      "1282/1282 [==============================] - 1s 896us/step - loss: 0.1651 - val_loss: 0.1707\n",
      "Epoch 52/100\n",
      "1282/1282 [==============================] - 1s 761us/step - loss: 0.1651 - val_loss: 0.1705\n",
      "Epoch 53/100\n",
      "1282/1282 [==============================] - 1s 667us/step - loss: 0.1651 - val_loss: 0.1704\n",
      "Epoch 54/100\n",
      "1282/1282 [==============================] - 1s 686us/step - loss: 0.1650 - val_loss: 0.1704\n",
      "Epoch 55/100\n",
      "1282/1282 [==============================] - 1s 760us/step - loss: 0.1650 - val_loss: 0.1705\n",
      "Epoch 56/100\n",
      "1282/1282 [==============================] - 1s 797us/step - loss: 0.1650 - val_loss: 0.1705\n",
      "Epoch 57/100\n",
      "1282/1282 [==============================] - 1s 520us/step - loss: 0.1650 - val_loss: 0.1707\n",
      "Epoch 58/100\n",
      "1282/1282 [==============================] - 1s 514us/step - loss: 0.1649 - val_loss: 0.1708\n",
      "Epoch 59/100\n",
      "1282/1282 [==============================] - 1s 507us/step - loss: 0.1649 - val_loss: 0.1709\n",
      "Epoch 60/100\n",
      "1282/1282 [==============================] - 1s 538us/step - loss: 0.1649 - val_loss: 0.1705\n",
      "Epoch 61/100\n",
      "1282/1282 [==============================] - 1s 534us/step - loss: 0.1645 - val_loss: 0.1704\n",
      "Epoch 62/100\n",
      "1282/1282 [==============================] - 1s 578us/step - loss: 0.1645 - val_loss: 0.1704\n",
      "Epoch 63/100\n",
      "1282/1282 [==============================] - 1s 520us/step - loss: 0.1644 - val_loss: 0.1704\n",
      "Epoch 64/100\n",
      "1282/1282 [==============================] - 1s 533us/step - loss: 0.1644 - val_loss: 0.1704\n",
      "Epoch 65/100\n",
      "1282/1282 [==============================] - 1s 518us/step - loss: 0.1644 - val_loss: 0.1704\n",
      "Epoch 66/100\n",
      "1282/1282 [==============================] - 1s 656us/step - loss: 0.1644 - val_loss: 0.1704\n",
      "Epoch 67/100\n",
      "1282/1282 [==============================] - 1s 773us/step - loss: 0.1644 - val_loss: 0.1704\n",
      "Epoch 68/100\n",
      "1282/1282 [==============================] - 1s 841us/step - loss: 0.1644 - val_loss: 0.1704\n",
      "Epoch 69/100\n",
      "1282/1282 [==============================] - 1s 749us/step - loss: 0.1644 - val_loss: 0.1704\n",
      "Epoch 70/100\n",
      "1282/1282 [==============================] - 1s 666us/step - loss: 0.1644 - val_loss: 0.1704\n",
      "Epoch 71/100\n",
      "1282/1282 [==============================] - 1s 512us/step - loss: 0.1644 - val_loss: 0.1704\n",
      "Epoch 72/100\n",
      "1282/1282 [==============================] - 1s 521us/step - loss: 0.1644 - val_loss: 0.1704\n",
      "Epoch 73/100\n",
      "1282/1282 [==============================] - 1s 546us/step - loss: 0.1644 - val_loss: 0.1704\n",
      "Epoch 74/100\n",
      "1282/1282 [==============================] - 1s 541us/step - loss: 0.1644 - val_loss: 0.1704\n",
      "Epoch 75/100\n",
      "1282/1282 [==============================] - 1s 519us/step - loss: 0.1644 - val_loss: 0.1704\n",
      "Epoch 76/100\n",
      "1282/1282 [==============================] - 1s 508us/step - loss: 0.1644 - val_loss: 0.1704\n",
      "Epoch 77/100\n",
      "1282/1282 [==============================] - 1s 519us/step - loss: 0.1644 - val_loss: 0.1704\n",
      "Epoch 78/100\n",
      "1282/1282 [==============================] - 1s 526us/step - loss: 0.1644 - val_loss: 0.1704\n",
      "Epoch 79/100\n",
      "1282/1282 [==============================] - 1s 546us/step - loss: 0.1644 - val_loss: 0.1704\n",
      "Epoch 80/100\n",
      "1282/1282 [==============================] - 1s 514us/step - loss: 0.1644 - val_loss: 0.1704\n",
      "Epoch 81/100\n",
      "1282/1282 [==============================] - 1s 515us/step - loss: 0.1644 - val_loss: 0.1704\n",
      "Epoch 82/100\n",
      "1282/1282 [==============================] - 1s 530us/step - loss: 0.1644 - val_loss: 0.1704\n",
      "Epoch 83/100\n",
      "1282/1282 [==============================] - 1s 526us/step - loss: 0.1644 - val_loss: 0.1704\n",
      "Epoch 84/100\n",
      "1282/1282 [==============================] - 1s 516us/step - loss: 0.1644 - val_loss: 0.1704\n",
      "Epoch 85/100\n",
      "1282/1282 [==============================] - 1s 547us/step - loss: 0.1644 - val_loss: 0.1704\n",
      "Epoch 86/100\n",
      "1282/1282 [==============================] - 1s 522us/step - loss: 0.1644 - val_loss: 0.1704\n",
      "Epoch 87/100\n",
      "1282/1282 [==============================] - 1s 533us/step - loss: 0.1644 - val_loss: 0.1704\n",
      "Epoch 88/100\n",
      "1282/1282 [==============================] - 1s 518us/step - loss: 0.1644 - val_loss: 0.1704\n",
      "Epoch 89/100\n",
      "1282/1282 [==============================] - 1s 526us/step - loss: 0.1644 - val_loss: 0.1704\n",
      "Epoch 90/100\n",
      "1282/1282 [==============================] - 1s 526us/step - loss: 0.1644 - val_loss: 0.1704\n",
      "Epoch 91/100\n",
      "1282/1282 [==============================] - 1s 571us/step - loss: 0.1644 - val_loss: 0.1704\n",
      "Epoch 92/100\n",
      "1282/1282 [==============================] - 1s 639us/step - loss: 0.1644 - val_loss: 0.1704\n",
      "Epoch 93/100\n",
      "1282/1282 [==============================] - 1s 557us/step - loss: 0.1644 - val_loss: 0.1704\n",
      "Epoch 94/100\n",
      "1282/1282 [==============================] - 1s 537us/step - loss: 0.1644 - val_loss: 0.1704\n",
      "Epoch 95/100\n",
      "1282/1282 [==============================] - 1s 526us/step - loss: 0.1644 - val_loss: 0.1704\n",
      "Epoch 96/100\n",
      "1282/1282 [==============================] - 1s 524us/step - loss: 0.1644 - val_loss: 0.1704\n",
      "Epoch 97/100\n",
      "1282/1282 [==============================] - 1s 523us/step - loss: 0.1644 - val_loss: 0.1704\n",
      "Epoch 98/100\n",
      "1282/1282 [==============================] - 1s 582us/step - loss: 0.1644 - val_loss: 0.1704\n",
      "Epoch 99/100\n",
      "1282/1282 [==============================] - 1s 528us/step - loss: 0.1644 - val_loss: 0.1704\n",
      "Epoch 100/100\n",
      "1282/1282 [==============================] - 1s 511us/step - loss: 0.1644 - val_loss: 0.1704\n",
      "Model: \"sequential_4\"\n",
      "_________________________________________________________________\n",
      "Layer (type)                 Output Shape              Param #   \n",
      "=================================================================\n",
      "dense_12 (Dense)             (None, 32)                2080      \n",
      "_________________________________________________________________\n",
      "dense_13 (Dense)             (None, 16)                528       \n",
      "_________________________________________________________________\n",
      "dense_14 (Dense)             (None, 8)                 136       \n",
>>>>>>> 2edcd361ba2576550fe6b7a2147ea7a9842ce471
      "=================================================================\n",
      "Total params: 2,744\n",
      "Trainable params: 2,744\n",
      "Non-trainable params: 0\n",
      "_________________________________________________________________\n",
<<<<<<< HEAD
      "Model: \"sequential_3\"\n",
      "_________________________________________________________________\n",
      "Layer (type)                 Output Shape              Param #   \n",
      "=================================================================\n",
      "dense_9 (Dense)              (None, 16)                144       \n",
      "_________________________________________________________________\n",
      "dense_10 (Dense)             (None, 32)                544       \n",
      "_________________________________________________________________\n",
      "dense_11 (Dense)             (None, 64)                2112      \n",
=======
      "Model: \"sequential_5\"\n",
      "_________________________________________________________________\n",
      "Layer (type)                 Output Shape              Param #   \n",
      "=================================================================\n",
      "dense_15 (Dense)             (None, 16)                144       \n",
      "_________________________________________________________________\n",
      "dense_16 (Dense)             (None, 32)                544       \n",
      "_________________________________________________________________\n",
      "dense_17 (Dense)             (None, 64)                2112      \n",
>>>>>>> 2edcd361ba2576550fe6b7a2147ea7a9842ce471
      "=================================================================\n",
      "Total params: 2,800\n",
      "Trainable params: 2,800\n",
      "Non-trainable params: 0\n",
      "_________________________________________________________________\n"
     ]
    }
   ],
   "source": [
    "history = autoencoder.fit(\n",
    "    # dataset_final.take(num_train),\n",
    "    data_train,\n",
    "    data_origin,\n",
    "    epochs=epoch,\n",
    "    batch_size=batch_size,\n",
    "    shuffle=True,\n",
    "    # validation_data = dataset_final.skip(205000*0.8),\n",
    "    validation_split=validation_split,\n",
    "    callbacks=callbacks_list,  #! Do not put [] around callbacks_list variable\n",
    ")\n",
    "\n",
    "autoencoder.encoder.summary()\n",
    "autoencoder.decoder.summary()"
   ]
  },
  {
   "cell_type": "code",
<<<<<<< HEAD
   "execution_count": 42,
=======
   "execution_count": 76,
>>>>>>> 2edcd361ba2576550fe6b7a2147ea7a9842ce471
   "id": "b0ebd448",
   "metadata": {},
   "outputs": [
    {
     "data": {
      "text/plain": [
<<<<<<< HEAD
       "<matplotlib.legend.Legend at 0x1979995daf0>"
      ]
     },
     "execution_count": 42,
=======
       "<matplotlib.legend.Legend at 0x7f4a45c09550>"
      ]
     },
     "execution_count": 76,
>>>>>>> 2edcd361ba2576550fe6b7a2147ea7a9842ce471
     "metadata": {},
     "output_type": "execute_result"
    },
    {
     "data": {
<<<<<<< HEAD
      "image/png": "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",
=======
      "image/png": "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",
>>>>>>> 2edcd361ba2576550fe6b7a2147ea7a9842ce471
      "text/plain": [
       "<Figure size 432x288 with 1 Axes>"
      ]
     },
     "metadata": {
      "needs_background": "light"
     },
     "output_type": "display_data"
    }
   ],
   "source": [
    "plt.plot(history.history[\"loss\"], label=\"Traing Loss\")\n",
    "plt.plot(history.history[\"val_loss\"], label=\"Validation Loss\")\n",
    "plt.legend()\n",
    "# plt.savefig('10.png')\n",
    "# plt.savefig('SNR_-30_training_loss.png')"
   ]
  },
  {
   "cell_type": "code",
<<<<<<< HEAD
   "execution_count": 43,
=======
   "execution_count": 83,
>>>>>>> 2edcd361ba2576550fe6b7a2147ea7a9842ce471
   "id": "31151388",
   "metadata": {},
   "outputs": [
    {
     "name": "stdout",
     "output_type": "stream",
     "text": [
<<<<<<< HEAD
      "b'8_antenna_100_snapshot_1000sample_minus20_20_snr\\\\20dB\\\\test\\\\test_data.mat'\n",
      "c:\\Users\\HYPC300\\OneDrive - 한양대학교\\GitHub\\Deeplearning-Autoencoder-DOA\\data\\result\\8_antenna_100_snapshot_1000sample_minus20_20_snr\n",
      "c:\\Users\\HYPC300\\OneDrive - 한양대학교\\GitHub\\Deeplearning-Autoencoder-DOA\\data\\result\\8_antenna_100_snapshot_1000sample_minus20_20_snr\\test_data.mat\n"
=======
      "(500, 64)\n",
      "(500, 64)\n"
>>>>>>> 2edcd361ba2576550fe6b7a2147ea7a9842ce471
     ]
    }
   ],
   "source": [
    "# Input test noisy dataset for all snr and stack them together\n",
    "dataset = tf.data.Dataset.list_files(basePath + '/20dB/test/test_data.*', shuffle=False)\n",
<<<<<<< HEAD
    "for i in dataset.as_numpy_iterator():\n",
    "    print(i)\n",
=======
    "# for i in dataset.as_numpy_iterator():\n",
    "#     print(i)\n",
>>>>>>> 2edcd361ba2576550fe6b7a2147ea7a9842ce471
    "data_set = []\n",
    "for i in dataset.as_numpy_iterator():\n",
    "    x_train = sio.loadmat(i)\n",
    "    x_train = x_train['test_data']  # noisy sample covariance matrix\n",
<<<<<<< HEAD
    "    data_set.append(x_train) #NOTE: put all the train_data of different SNR into one list\n",
    "len(data_set) \n",
    "data_test = data_set[0]\n",
    "for i in data_set:\n",
    "    data_test = np.vstack((data_test,i)) # stack all the datasets vertically\n",
    "data_test = data_test[1000:] # the first dataset is included in twice\n",
    "data_test.shape\n",
    "# export data for MATLAB processing\n",
    "print(savePath)\n",
    "savePath_ = savePath + '\\\\test_data.mat'\n",
=======
    "    print(x_train.shape)\n",
    "    data_set.append(x_train) #NOTE: put all the train_data of different SNR into one list\n",
    "\n",
    "data_test = data_set[0]\n",
    "for i in data_set:\n",
    "    data_test = np.vstack((data_test,i)) # stack all the datasets vertically\n",
    "data_test = data_test[x_train.shape[0]:] # the first dataset is included in twice\n",
    "print(data_test.shape)"
   ]
  },
  {
   "cell_type": "code",
   "execution_count": 84,
   "id": "48147b86",
   "metadata": {},
   "outputs": [
    {
     "name": "stdout",
     "output_type": "stream",
     "text": [
      "/home/hymc/[0]Github/Deeplearning-Autoencoder-DOA/[2]Tensorflow/[1]DAE_DOA_implementation/result/8_antenna_500_samples_100_snapshots\n",
      "/home/hymc/[0]Github/Deeplearning-Autoencoder-DOA/[2]Tensorflow/[1]DAE_DOA_implementation/result/8_antenna_500_samples_100_snapshots/test_data.mat\n"
     ]
    }
   ],
   "source": [
    "# scaling\n",
    "# data_test = scaler.fit_transform(data_test)\n",
    "data_test_scale = scaler.fit_transform(np.transpose(data_test))\n",
    "# print(data_test_scale.shape)\n",
    "data_test = np.transpose(data_test_scale)\n",
    "# print(data_test.shape)\n",
    "\n",
    "# export data for MATLAB processing\n",
    "print(savePath)\n",
    "savePath_ = savePath + '/test_data.mat'\n",
>>>>>>> 2edcd361ba2576550fe6b7a2147ea7a9842ce471
    "print(savePath_)\n",
    "savemat(savePath_, {'test_data':data_test})"
   ]
  },
  {
   "cell_type": "code",
<<<<<<< HEAD
   "execution_count": 47,
=======
   "execution_count": 87,
>>>>>>> 2edcd361ba2576550fe6b7a2147ea7a9842ce471
   "id": "690a2282",
   "metadata": {},
   "outputs": [
    {
     "name": "stdout",
     "output_type": "stream",
     "text": [
<<<<<<< HEAD
      "(1000, 8)\n",
      "c:\\Users\\HYPC300\\OneDrive - 한양대학교\\GitHub\\Deeplearning-Autoencoder-DOA\\data\\result\\8_antenna_100_snapshot_1000sample_minus20_20_snr\n",
      "c:\\Users\\HYPC300\\OneDrive - 한양대학교\\GitHub\\Deeplearning-Autoencoder-DOA\\data\\result\\8_antenna_100_snapshot_1000sample_minus20_20_snr/denoised_data.mat\n"
=======
      "(500, 8)\n",
      "/home/hymc/[0]Github/Deeplearning-Autoencoder-DOA/[2]Tensorflow/[1]DAE_DOA_implementation/result/8_antenna_500_samples_100_snapshots\n",
      "/home/hymc/[0]Github/Deeplearning-Autoencoder-DOA/[2]Tensorflow/[1]DAE_DOA_implementation/result/8_antenna_500_samples_100_snapshots/denoised_data.mat\n"
>>>>>>> 2edcd361ba2576550fe6b7a2147ea7a9842ce471
     ]
    },
    {
     "data": {
      "text/plain": [
<<<<<<< HEAD
       "<matplotlib.legend.Legend at 0x197a0256130>"
      ]
     },
     "execution_count": 47,
=======
       "<matplotlib.legend.Legend at 0x7f4a7c6783a0>"
      ]
     },
     "execution_count": 87,
>>>>>>> 2edcd361ba2576550fe6b7a2147ea7a9842ce471
     "metadata": {},
     "output_type": "execute_result"
    },
    {
     "data": {
<<<<<<< HEAD
      "image/png": "iVBORw0KGgoAAAANSUhEUgAAAXoAAAD6CAYAAACvZ4z8AAAAOXRFWHRTb2Z0d2FyZQBNYXRwbG90bGliIHZlcnNpb24zLjUuMCwgaHR0cHM6Ly9tYXRwbG90bGliLm9yZy8/fFQqAAAACXBIWXMAAAsTAAALEwEAmpwYAABJ+klEQVR4nO3dd3hU1dbH8e+eSSWBFAhFAiR0CIFQI9KrdFCKCCIIiig2vHrVq9feXsV6VRAUbCAKiqIivQiCSChK7yihtwAhdWbW+8dMYoCETCDJkGR9nidPMuecfc46Cfxmzz7NiAhKKaWKL4unC1BKKVWwNOiVUqqY06BXSqliToNeKaWKOQ16pZQq5jTolVKqmHMr6I0x3YwxO4wxu40xj2czv68x5k9jzEZjTJwxpnWWefuNMZsy5uVn8UoppXJncjuP3hhjBXYCXYB4YC1wq4hszbJMIHBeRMQY0xD4WkTquubtB5qJyAl3iypXrpxERETkcVeUUqrkWrdu3QkRCctunpcb7VsAu0VkL4AxZgbQF8gMehFJzLJ8AHBVV2FFREQQF6edf6WUcpcx5q+c5rkzdFMZOJDldbxr2sUbuckYsx34CRiZZZYAC4wx64wxo90rWSmlVH5xJ+hNNtMu6bGLyGzXcE0/4IUss1qJSBOgOzDWGNM2240YM9o1vh93/PhxN8pSSinlDneCPh6okuV1OHAop4VF5BeghjGmnOv1Idf3Y8BsnENB2bWbJCLNRKRZWFi2w0xKKaWugDtj9GuBWsaYSOAgMBgYknUBY0xNYI/rYGwTwAc4aYwJACwics71c1fg+XzdA6XUFUtPTyc+Pp6UlBRPl6Lc5OfnR3h4ON7e3m63yTXoRcRmjLkPmA9YgSkissUYM8Y1fyLQH7jdGJMOJAO3uEK/AjDbGJOxrekiMi+vO6aUKhjx8fGULl2aiIgIXP9P1TVMRDh58iTx8fFERka63c6dHj0iMheYe9G0iVl+/j/g/7Jptxdo5HY1SqlClZKSoiFfhBhjKFu2LHk9jqlXxipVwmnIFy1X8vcqNkGfmprKm2++ycqVKz1dyiWSkpKYNGkS6enpHq3jwIEDfPnll4W+zdmzZxfY+s+cOcPkyZOx2+1XvS4R4auvvuLIkSN5brt//36+//77XJebP38+W7duzXU5pfKViFxzX02bNpW8SkpKkusqVZLr69cXh8OR5/YF6Z133hFA3n76aY/Wcf/99wsgi7/9tlC2l5ycLNHR0QLI8h9+KJBtPPHEEwLI5Fdfvep1ZfydurVokad2CQkJUqNGDQFk9YIFOS63b98+8fb2lqGdOl1tqflm69atni5BAgIC8n2d+/btk2nTpuX7eq8V2f3dgDjJIVM9HurZfV1J0IuIvP/qqwLI9x9/fEXtC0qbNm0EkPKBgXIuIcFjdTRt2lQAub5mzUJ5M/zXv/4lgJT29ZVWderk+zaTkpKkbNmyAkiVkBBJTkq64nUtW7ZMrFarlA8MdL4xffedW+0cDof0799frBaLlPHzk07R0TkuO2LECAGk32WWKWzFNeiXLl0qPXv2zPf1XitKdNAn7dsnkSEhEh0eLjab7YrWkd8OHz4sxhjpUru2APLivfd6pI7ExESxWq1SLSREAPlh6tQC3d6SJUvEGCMjW7SQ17p3F0Dmfv55vm5j8uTJAsgj7dsLIG8++ugVrefvv/+WsLAwqVWhgux45BGpEBjo9hvT22+/LYC80K2bvNC1qwCy6OuvL1lu69atYrFYBJDudeteUZ0F4VoK+qVLl0q7du2kf//+UqdOHRkyZEjm36BatWry73//W5o3by7NmzeXXbt2iYjI8OHDZebMmZesKzY2VsqUKSONGjWSN998s5D3qOCV6KBPj4+XybfcIoB88dZbV7SO/PbBBx84P9Lfd5/cWKuWBPv7y6mjRwu9jqVLlzp/L0OHSkRIiDSqUqXA3gxPnz4tVapUkRrly8vBJ5+Uo089JVWCgqRx1apit9vzZRsOh0Oio6OlwXXXyelnnpE2ERESdgWfmJKTk6V58+ZS2t9ffn/wQUl49ll5vUcPt96YVq9eLV5eXtK9Xj05/cwzcvjJJ6VS6dISm80npoEDB0qgn59EhoZKp5o187y/BSVrYDz4oEi7dvn79eCDudeQNejLlCkjBw4cELvdLtdff72sWLFCRJxB/+KLL4qIyKeffprZW88p6LVHf+FXsTkYm6F/w4bUL1+eZ15+2eMHPwFmzZpF7fLlqVu2LE927EhCcjKvPfpoodexatUqAFpVrswT7dvzx4EDfP3++wWyrbFjx3Lo4EEm3XwzAd7e+Hp58Xj79mz4+29mTZyY+wrcsGzZMjZt2sTd11+PMYb/durE8cRE3nr8krto50hEuPfee1m7di0Tb76Z2iEhAAxv0oSqwcE8+eSTOByObNuePHmSQYMGUTkoiAl9+2KMwd/bm3+3a8ea3bv5YerUzGXXr1/PzJkzubdlSyoGBpKWDweOi6sWLVoQHh6OxWIhJiaG/fv3Z8679dZbM7+vXr3aQxUWTW6dR1+UWCwWnurYkSEzZjDl5Ze5+5lnLllm3759HD9+nDNnzmR+hYWF0bt373w91ez48eMsX76ccW3aYIyhYaVK3BwVxf9mzOChF16gQtWqFyyfmprKrl27Lqjr7NmztGvXjrp1615VLatWraJOhQqElCrFgOho3lq5kmdeeokB99xzyRV2Z8+eZe/evZnbP3PmDElJSfTp04eKFStedjszZsxg+vTpPNGxI02zLHtLw4a88+uvPPPCC9w8ejReXhf+08u6zYyv5OTkHLf57rvvEhoYyIB69QBoUaUK3WrX5o1PPmHss88SWqHCBcunpKRc8rtdv349U6dO5dH27elZq1bmsj6uN6Z7v/uOWRMmMGjs2AvW5XA4GDZsGEePHGH+nXcS7OeXOe+2xo1559dfeeqZZ+g5fDhWq5WnnnqK0MBAxl5/Pb//9RfJ6emIyDV3WuPbb3u6AvD19c382Wq1YrPZMl9n/X1l/Ozl5ZX5ZiwipKWlFVKlRUux69EDdK9Th2aVK/Pi22+TfP585vQ9e/bQq1cvqlevTmxsLF27dmXgwIHceeed9O3blxceeyzHdYoIn3/+OUuWLHG7ju+//x673U6f+vUzp/2nQwdSbDZefOihC9Y9e/Zs6tSpQ3R0NK1bt6Znz54MGTKEMWPGENu0KevWrMlxOwkJCbz44oucOJH9Lf8dDgerV6+mRWXnTUetFgtPduzIrmPH+OTVVzOXs9ls/O9//6Nq1ao0btyY9u3b06dPH4YNG8bdd99NqyZNOHQox9scsWfPHu655x6aV6vGv1q1umCel9XKkx06sP3IET4fP/6Cbb777rsXbLNv377cfvvt3H333bRu2pTDhw9fsK59+/bx/fffc0fTpvhneZN6qmNHzqSk8H+PPHLB7/arr76iZs2aNGzYkDZt2tCrVy+GDh3KG2+8Qc/69Xmi7aX32bulYUPqlCvH0y++eEHYbN26lS5duvDzzz/zcrduNL7oDcXbauU/HTqwKT6eGf/7HytWrODnn3/moVatCPL1xddqJdVuB+3V59lXX32V+b1ly5aA85bm69atA5z/3zI+xZcuXZpz5855ptBrULHr0QOZH+X7fvYZHzzzDPc8/zyvvPIKr732Gj4WC0917kyDihUp4+1NGV9fyvj58dKSJTzz+uuULlOGcU89dcH67HY7Dz30EO+99x7Vy5dn16FDWKzWXOuYNWsWkeXKEZ3lJm01y5VjSKNGTJozh39t20aqxcIDDzzAggULqF+pEhMHDiTMz48yPj6U8fMj3W7n1hkz6Nq5M7/8+itRDRtesI0DBw7QvXt3tmzZQtKuXbz86aeX1LFz505OnTpFiw4dMqf1qluXxtddxwtvvcWwRx5hbVwc9913H3/++ScdatViRI8eBPv4ZNYRf+YMQ2bMoHPLliyPi+PiG8/FxcXRs2dPTHo6H958M17Z/H5616tHo0qVeO711xny0EP8tmYN9913H5s3b6ZjrVoMv2ibBxISGPrVV3Rp2ZLl69ZRtmxZAN577z0sxjCqefML1t+gYkUGNGjAe199xbgXXuDk+fPcf//9LF26lIaVK/PMoEGUy/jduv7uFQIDs+1ZWy0W/tOxI8O//prPXn+dAWPH8txzz/Huu+9S2teXN/v04Y7GjTOX33YsjFV/VWNU8zj6N2jA2ytX8szLL1Oxdm0qBgVxZ9OmgPONIM1mA5sNvIrlf78Ck5qaSmxsLA6HI/N6kLvuuou+ffvSokULOnXqREBAAAANGzbEy8uLRo0aMWLECMaNG+fJ0j0u1ydMeUKzZs3kSh48Yjt4kPOffw6pqQD0/fRTNh09SmC5cvz9998MionhuS5dqOT6x3BBW7udETNn8uP27Ux++23ufPBBAJKTkxk6dCizZ8+mSeXKrD94kN9/+IHmvXpdtpbTp09Tvnx5xrZsyXOdOl0w70BCAk3/9z9qhYez89Ah/L28+E/HjtzZpEm2Abn35Em6T52KxcuLFb//Tg3XMMOmTZvo3r07506fpnypUliMYdvhw5e8CU2ZMoVRo0bx+333UbtcuczpS/fs4abPPyembl02bt9OldBQXurWjd61amUbfr/s28fAadOoHxnJ0rVrCQoKAmDu3LkMGjSIsn5+zBw6lDqhoTn+Xhbt2sWAadNoXK8eG7Zto2rZsrzcrRs9a9bMdpvL9+5l4LRpNKxZkyVr12KMITw8nE5VqzKlf/9Llt9z8iQt3n+f+tWqsfXvvynj58d/O3VieEwMVkvePsCKCB0mTeLI+fNQqhRHjx7l9qZNebpTJ8r6+1+w7B0z+zN7SwN+HPEJrSP+4qft2xk6YwYAb/Tpw6gmTQAYNWsWfxw5wo79+7Fk8++wsG3bto16ruGva1nGw4jKZfn3W5Jl93czxqwTkWbZLV8sh24y/LdTJxKSkymdlsbcu+5iUr9+2YY8OIcWPh4wgI41anD3uHHMmDqVkydP0qVLF7777jte6dGDWUOHYjWGr7IcaMvJnDlzsNls9I2KumReleBg7mrRgi1//cWg6Gji7r+fMc2bZxvyANXLlmX2sGGkpKbSqVUr4g8cYOnSpbRu3RpJSmLuyJHcGxvLzuPH+WPhwkvar1q1ipCAAGpeFMDtq1enbWQkW3ft4pH27VkzZgx9atfOcey4bWQknw0axKY9e+jZti1JSUl89NFH9OnTh5ohISwYNeqyIQ/QqWZNWkdEsHXXLh7r0IHf7r6bXjm8sQC0q16dTwYOZMOuXfRq25YPP/yQM2fOMOaGG7JdvkbZsgxv0oTN+/dze5MmxI0dy8gmTfIc8uD8ZPh0p04cOXuWyl5eLB4zhnd69bok5G12w9I9NQB4cWknRKBHnTq0CA8nMiSEYVk+hflYraRm9OiVKiTFukcPzt5zpdKlcwzRiyWlpdH/iy9YGx9PlapVnWePDBhA3zp1AOj/+efsOX2aPceOXXb4pk+fPmxcuZI/H3gg2xCz2e0cOneOqsHBbu/fhoMH6fPZZ4SUKcPhhARqlivHzKFDCQ8M5HhiInXeeINHBwzg1a+/vqBd/fr1qWq389WQIZesMzE1laT0dMoHBrpdx+zNmxn1zTdUDw9n94EDdK5dm6kDBlDax8et9udSU0m12SiXhx7trE2buOvbbxERGoeHs2TUqBzfHNLtdo4mJhLu+sRxtfafPk3VoCAsObxZrPk7nBunjKJDvXiWbgvn6yHT6Fp7N2dSUrDZ7ZTNsp8PzpnDvF27OLh/P9Zc3hQLQ1Hp0asLaY/+IlWCg90OeYBSPj7MGDKEBhUrcurIEWaPGJEZ8gB9o6LYf+oUa3/8Mcd1nD17lvnz59O7Xr0cw8jLas1TyAM0rlyZr4YM4XhCAs0rV+bnESMIdwV0WGAgbSIi+GbpUhxZDvSdOnWKbdu20SKHh60H+vrmKeQBbmrQgHd692b3gQPc1rQpX95yi9shD1Da1zdPIQ8wIDqat3v1whjDg66zmHLibbXmW8gDRISE5BjyAAt318JiHEwdf5TI8FReXNoJhwOC/PwuCHlwntGTZrPpwVhVqPRoUDaC/PxYMHIkSenpBF/0Mb1X3bo8/OOPfPXJJ8T27Ztt+x9//JG0tDT6NmiQ77XdUK0aW8eNo4yf3yXDETdFRfHQjz+yYf58mvboAcBvv/0GQIvw8HytY1iTJvSsW5cQf/9CO01weNOm9IuKIijL6YzXgkW7atK8ykHCYyN47iVvbh9ekTnb6tMv6tKbl/larc7z6HXoRhWiYt+jv1I+Xl6XhDxAaKlStK9enW+WL8eRw3/Wb775hkpBQTTP5ZzzKxVSqlS2Y8696tVzHkOYMiVz2qpVq7BaLDQpgFpCS5Uq9HPBr7WQP5YYwMbD19Gl3l9YQkMZMtRCvRqpvLS0Izb7pb+bjDF60R69KkQa9FegX1QUf58+ze/ZDN8kJCTw888/06tu3ct+3C8I5QICaBsZyTfLlmUO3/z6669EV6pEQB6GVvJTSrqVbceK7zOAF+92HoTt1tWOMQarFV58zYddJ8oy488Ln7mTkOzLpqPVsDkcOK6Bq7ZVyaFBfwV61a2Lt8XCV598csF0EeGuu+4iPS2NYc2yPSZS4G6KimLvyZOsnzeP9PR0fv/9d1pUqZJ7wwLy8E89ueGDezIDsbhZtLsmYYHnadajUua0m24yNI1O4f+WtyPVZuXgmdI8Nb8L0W+NY+Eu53BeanKyp0q+5litVmJiYmjQoAG9e/cmISHBY7UsW7Ys83Yh+eG777674PkDTz/9NIsWLcq39btLg/4KBPv706FGjUuGbyZOnMisWbN4unNnGoZ5phfbs27dzFNA//zzT5KSkrg+hwOxBe2v00F89UcjLBZh1Df92X8qOE/tv99aj70nQwqmuHxgdxiW7KlBp5p78KkekTndGHjpdV8OJATT65PhNHrnQSasuZ4b6+6itGs0UIP+H/7+/mzcuJHNmzcTGhrK+wV0DyZ3XC7obVdwXOXioH/++efp3LnzFdd3pdwKemNMN2PMDmPMbmPMJXeNMsb0Ncb8aYzZaIyJM8a0drdtfsrh/lMFol9UFAcSElj9nfOpQn/88Qfjxo2jS5063BcbW3iFXKRsQADtqlfnm6VLM5+21aJSpVxaFYx3fm2NxSLMe/V3jMXC0K8Hcz7NvSfXz9tRi+FfD6Lth3fzzaZLr0UASErzcvWUH2TPycufqvjLvgg+Xdck23HzK7XuYGVOJ5eia/MTmIuGxrp2NXRqncyWoxUYFbuOzZOW8tXycIJDnWc4paWk5FsdxUnLli05ePAg4LylRrdu3WjatClt2rRh+/btABw9epSbbrqJRo0a0ahRo8xgfvPNN2nQoAENGjTgbdeNe/bv30+9evW46667iIqKomvXriS73mTfffdd6tevT8OGDRk8eDD79+9n4sSJvPXWW8TExLBixQpGjBjBww8/TIcOHXjsscd49tlnGZ/lFh4NGjTIvPHaZ599RsOGDWnUqBHDhg1j1apVzJkzh0cffZSYmBj27NnDiBEjmDVrFgCLFy+mcePGREdHM3LkSFJdp4VHRETwzDPP0KRJE6KjozP3+2rketaNMcYKvA90AeKBtcaYOSKS9ZSCxcAcERFjTEPga6Cum23zxZkz0H9oWQZWjGJw1Pr8Xv0letSpg7fFSu87ltFzZnvWbBhEqL8/E/r1K/Sx+Yv1i4rigTlz+PC996gcHJyvpxq66/DZQL7YEMOQxn/ScUwU0+tb6dG7PA/M6cNH/b/hcsdwz6X68MhPPalb/jhBpR2M+mYAq/6qxks3zsfP23nsYeX+ajwwpzd7T5XFx2rjqYU38uXg7B+TeOJ8KW7/ahAJKf58uKYF43vO5YZqf1/1Pi7aXROLcXBj/9KXzDMGflzoT/K2XQTVjcbiOrDv7et8Q0hJSrrq7ee3hx56iI0bN+brOmNiYjJDNzd2u53FixczatQoAEaPHs3EiROpVasWa9as4d5772XJkiU88MADtGvXjtmzZ2O320lMTGTdunVMnTqVNWvWICLExsbSrl07QkJC2LVrF19++SWTJ09m0KBBfPPNN9x22228+uqr7Nu3D19fXxISEggODmbMmDEEBgbyiOt+SR9//DE7d+5k0aJFWK1Wnn322Wxr37JlCy+99BK//vor5cqV49SpU4SGhtKnTx969erFgAEDLlg+JSWFESNGsHjxYmrXrs3tt9/OhAkTeMh1D6xy5cqxfv16PvjgA8aPH89HH310Rb//DO4kUgtgt4jsFZE0YAZwwXmFIpIo/1x5FQCIu23zS6lSYHNYeHB2dzYcLPgebLC/PxVK38DpxO/54uuH2LVrN2/0HEK5bM7UKWinkvy5Y2Z/vt/ivICiV926eFksbNu9O99Pq3TXe6tvwC4WHr3rJJbSpenW04uX/pvCN5sb8N7qlpdt++KSjhw8V4b3Rv3GL1vLM274cT6Oa86NU0ay6UgFHvmpB70+GYEDCz8+NIdnHj3Pz9trs2xPZLbre25RJxLTfHjt1t84l+5Pj6l3MGZ2X44lXt0tCBbtqkmzKoeo0DT77fr5QUjjWpkhD+Dj4zxrKFV79JmSk5OJiYmhbNmynDp1ii5dupCYmMiqVasYOHAgMTEx3H333Zk3t1uyZAn33HMP4BzfDwoKYuXKldx0000EBAQQGBjIzTffzIoVKwCIjIwkJiYGgKZNm2b2wBs2bMjQoUP54osvLrmbalYDBw7Emsu1OEuWLGHAgAGZt2gIzeViuB07dhAZGUnt2rUBGD58OL/88kvm/JtvvvmSeq+GO+fRVwYOZHkdD1wyNmGMuQl4BSgP9MxL2/zg7Q0zZ/vQtEEyt309mGV3fUhYYMH1mlbur0b8mTuB4cAXWM3TPPnzg9QKmU6tcicvWPZcqg9/nQ6mQcVjBVLL0wu7MHtLA2ZvaUDfLVsY32Mu7atXZ9Hu3TleKHW1jieW4v45fbg79nc61Nh7wbyT5/2ZGteU/tFbqHfLPzcee/xZf+J+T+SZ+Z2JrnCE9jX2XbLeuPjKTFrTgjtj19H+kVZYfQxvfhJG285nGTE6lDYTx2CMcO8Na3j+BQht34tOaRYmf57KfxZ045fRE/Gy/nO19+8Hwvl8QxMeaLOaf33YgHtNAC/cH89bnzdg7va63B27hv4NNlO3fPZ3/jyX6sPuE2WJrnjkgvWeOF+KDYeu44kuv2Ip2yrbttnx8XHehjf1GuzRu9vzzm8ZY/RnzpyhV69evP/++4wYMYLg4GC3P2Fc7gr/i299nDF089NPP/HLL78wZ84cXnjhBbZs2ZJt+4AsF71lvS0yOHvmGdvPy6nGud2RIKPmi2/VfKXc6dFnV/0lVYrIbBGpC/QDXshLWwBjzGjX+H7c8ePH3SjrUmFhMPsnX04mlWL4zEGk290bQjmT4suyPZGcSfHNfWGcpww+9EMvqga3w8/bm9YRESycPIhz6f50/mgUy/dGsulIBd5e2Ypen9xO9f/7N60n3sOsTfl/AdWv+6vyxYbG3Nf6N56/5wA/76hD7AdjqRrcDYAbCuiMm9eWt2PezjrcMv1W5my98F75E367nqR0Hx4dfghLlmEjY+DTmYHUjUjmli+HMOG32AuOq6TbLTwwpzeVypzjxWfTLrhFQL/byrDhDyt3dt3Lwv/M5X8/1qZsx1iMxYKfH4x/25utR8vz6fqmmW3sDsO/furBdWXO8tR/DZbSpQkItPDq1HD+WJtKq6hTvLGiDdd/MJYbPhjD68vbsON4OVbsq8aLSzrQ9aORRLz6GB0mj6bf58M4cu6fK4gX766BYDJPq3SXn9+1G/SeFhQUxLvvvsv48ePx9/cnMjKSmTNnAs5g/OOPPwDo1KkTEyZMAJzDPWfPnqVt27Z89913JCUlcf78eWbPnk2bNm1y3JbD4eDAgQN06NCB1157jYSEBBITE3O9vXFERATr1zuHhtevX8++ffsya/r66685edLZyTt16hSQ8+2S69aty/79+9m9ezcAn3/+Oe3atcvT7ysv3EnCeCBrWoQDOd6UXER+AWoYY8rlpa2ITBKRZiLS7OJb4OZF02YWJn3oYNVf1Xhyftdcl993KoROk++k3+e3U+O1R+k5dTjv/noD246FkdOb7vhf2rL7ZDneve0Pfl+1iu+mT6fDqCjWrPOmUrk0+n52O20mjuHZRZ05nVKKe1uvpUnkCR6d2/2qhwuySrVZGfdjL6qGJPD8Cxb++0EV1v2WRo1KSUyJe5eWVWez42hn/k4IynFfrsTekyFMXdeUQY020bjWOUbMHMi0Dc5zxs+k+DLp9xb0idpG49svPcU0MBAWrypFhyaneGJeN/p/cRuHzjrHuP+36ga2HqvAm4OWE9bl0g9+kbW8mTy/Op1e7Ikl5MKzcW7ub6FtbAovLe1AQrJzeGRKXDM2HanES/1WUK7jhbc0rts4gLnrruPvzQm8ef9OggJsvLS0I7Hvj6X3pyN4c0VrHMbCQ+1/45VhG1h/MJy2H97NL/siAOf4fLmA87TombcL0TJ6aqmJiXlqV1I0btyYRo0aMWPGDKZNm8bHH39Mo0aNiIqK4vvvnSc+vPPOOyxdupTo6GiaNm3Kli1baNKkCSNGjKBFixbExsZy55130jjLbaQvZrfbue2224iOjqZx48aMGzeO4OBgevfuzezZszMPxl6sf//+nDp1ipiYGCZMmJA59BIVFcWTTz5Ju3btaNSoEQ8//DAAgwcP5vXXX6dx48bs2bMncz1+fn5MnTqVgQMHEh0djcViYcyYMfn5q7xArjc1M8Z4ATuBTsBBYC0wRES2ZFmmJrDHdTC2CfADzlC35tY2O1d6U7Osxo05z9sfBvB+3+8Y2viPbJeJi6/M4Om3YhfDKwNXs/tcZeb9FsLmw86HSdQpd5zH2y+jb/2tZBxf3XykPO0njWZgo818Pq8S1vLlL1hnQoLw1r/2U8n+F137+FGtZTUsFSuyfbuhcSM7XWru4vNBX2V7MPLjtc1Yuqc6ja87RPMq8TS57iCBvjlfWPP68ja8tLQjs+75gZvf64lxFWm3w+uPHeGV94M5m+IMvcplzhBb5QCtIv6ia62dVAk+m9dfaaaRM/szb2dtNn+ykrA+HenbIYElccG80m0eSWnevLCkE7++PI8bnuiW4zpEYMLLJ3j0uTL4eNn5d9vlPLeoM93q7mLWgiC8rrsuz3Vt3AhNmgj3XL+Gh1qtpNn/7qNJ+GEWLDR4R0bk2n7/hhPM+eQ4Fb2O0b5nIGUbVsNStizGGDavS2FAnxR2HS7D4+2XM/G3WDrX3sOM3+tccsbN5XTpsphFizqz4NVX6XKZB90UFr2pWdGU15ua5TpGLyI2Y8x9wHycwT1FRLYYY8a45k8E+gO3G2PSgWTgFtfB2WzbXvnuue/19wL4Y2MiD//Ui/gzQfSL2kqdsH/GYX/YVpfR39xMhTKJzH5iBY0e7I7x9uY1Ef5ed4QfvzzD+9PLcsesgTSocIQnOy6la61dPPhDb4L9U3jtydNYyze6ZLvBwYbnPo4ELjxAV68ePPe0ncf/W5dvN0fRP/rCX8Nry9vy8tIOlA9M5Mftzj+gxTioX/4Yfetv5d6WvxHg80/o7z0Zwvhf2nJTg630+2+zzJAHsFrh8fEVeeS5FDYs2MeKhUms+t2b1buq8u2WBkBPoiocoXudnXSvvYPG1x3C3ROFNhysxLdbGvBoh5VE3NQS4w9zVwZzS/cEnpjXDV+rjS61dxM7MufeFDiHce59shyd+qRy201J/Gd+N8r4pfDmYwfxuu7KgicmBkYNS2PSF83ZdjSMZJs3b9y7De/IHm61j2hcjgcalwMu3X6Dpn6s3e7L6P7HeXmh8wEuXZsdx/hE56nGzKEbPY9eFaJidZvii504AYO6nGTZH6GIGOqGHaNP/W34WO28tKQDTascYtar26h6a6fsbyVsE6a/dYjnXgtg74lgqgQlcOBMMB/fNpc7pnbF5PEJQXY73NAkid274bd7P6B84HlE4NVl7fi/5e0ZHPMnUz61kuhVltULzrB6ZTq/bizDij1VqRh4jv90XMrQmI1YjHDT57ex/mBlNkxeSfVh7l2A4UhLZ9uKo8z5MpGflgayet91OMRCkF8y0RWP0LDiERpWOkLDioepE3YCq+XCfxsi0PezYWw5WpGt3/5B+Rv/OXvGZoORA04zbU4Q85+cT+cXurv9e0lPh3efOkTN9D/p82rHPPWQL3bsGNSMtHEuyYtxbVcx/qeGWPJ4d87LEYGJ/3eKGR+d46sJx6jYpXnujbIYNGgtM2e2YNajj9L/tdfyra4rpT36oimvPXpE5Jr7atq0qeSnv/88IW/ev0Na1zggxjgERHrV3yanlq5xq31qil0mPvO3VA1JkN71tkravv1XXMvWrSK+3jbpXX+rnH7mWXmk7XIBkaFNNkrS5m3Ztvnlh5PSvMZRAZH65Y/I/Tf8KiAyvt98caSmXnEtR3eelClP75CRbbdK0/B48fNKE2eUiURVOCzLRk+UhGefzfz65rbPBURe67NQHOnpl6zP4RCJX39Q7KdPX3FN+eHjD9OkVeTfcmLxbwW2DUd6ujjs9jy3GzZsowDyxdixBVBV3m3dutXTJagrkN3fDYiTHDLV46Ge3Vd+B31W8ZtPyPy3N0rytp15buuw2ST90OGrruGV51MFRDrV2CUgcnvT9ZK8dfvlt+0Q+fJ/hyWibIKASLMq8Tm+MVwJh8MhqcdOyYbvd8t747ZIxTLnxGqxyyNtlsvRp16QU08/Kw0qHJZqIafk7JoN+bbdguJIShKHw+HpMi4xevQ2AWTKyJGeLkVENOiLqrwGfYm7H33lqLJUjip7RW2N1YpXpau/3e8jT/jw7cwkFm+qyR3N1zPh89L41ql1+W0bGHxfRfqNcjB9/H5aR/yFf1T+nY5ljMEnLISYPiHE9IFb/2PnoduOMn5+W37aXpcedXew+WhFPh72M4HNbsy37RYU44EL19xRqpRzjD45OTWXJZXKPyUu6K8FXl7w7dxSzH93E7fdWQbf2jXdbuvnb2HkfyOAiIIqD4DQclY+m1eJgdNOMWZsKd5Y0YaGlY4w9D81Ljjwq/ImIMAZ9OeT0jxciSpJNOg9JDwcRr2WtzM2PKH30FDadLfz+rj9zgPZdXI+ZVLlzt/feaA5KfnavB/92fHjkfPn8219JiCAMq77xuTEarUSHf3P/4XBgwfz+OMFev/DEkeDXuUqONTKS59GUNCfIkqCjB59cuq1+SjB/Ax5d9eXcQuEy7Hb7Rfcb+bi1+62K6n0M7hShSgj6JPSCvGe2kVUREQEzz//PK1bt2bmzJmXvP7yyy+Jjo6mQYMGPJbl4rPAwECefvppYmNjWb16tQf34NqhQa9UIQoIcN6PP9mmQZ8h4+6VGV9fffVV5jw/Pz9WrlzJ4MGDL3jdtm1bHnvsMZYsWcLGjRtZu3Yt3333HQDnz5+nQYMGrFmzhtatW2e3yRJHh26UKkR+fgbwIUWDPtPlhm5uueWWbF+vXbuW9u3bk3FfrKFDh/LLL7/Qr18/rFYr/fv3L9Caixrt0StViJz3NPMlJV2D3h1ZbxGc9bVc5op+Pz8/HZe/iAa9UoXIGfQ+JNvsni6lSIuNjWX58uWcOHECu93Ol19+WaC3+S3qdOhGqULk5wfgS9o1OnRjAgLy/fTK3GSM0Wfo1q0br7766mXbVKpUiVdeeYUOHTogIvTo0YO+fQvk4XXFgga9UoUoc+jmGu3R53bOe0Gw27P/XVz8CL2LXw8ZMoQhQ4Zc0i5R7/V/CR26UaoQZQzdpNqvzfPoVfGkQa9UIcro0V+rQzeqeNKgV6oQZY7RX0M9+sudwaKuPVfy99KgV6oQZfTo06+RoPfz8+PkyZMa9kWEiHDy5En8nD0Gt+nBWKUKUcYYfZrdhohk+2SzwhQeHk58fDzHjx/3aB3KfX5+foSHh+epjQa9UoUos0fvsDufLZnHx1HmN29vbyIjI3NfUBVpbg3dGGO6GWN2GGN2G2MuuX+oMWaoMeZP19cqY0yjLPP2G2M2GWM2GmOu/kGwShVhGUFvs6c7g16pQpBrd8IYYwXeB7oA8cBaY8wcEdmaZbF9QDsROW2M6Q5MAmKzzO8gIifysW6liiSrFYzxId1hQ+x2PDtwo0oKd3r0LYDdIrJXRNKAGcAFl6CJyCoROe16+RuQtwEkpUoQq8UHu8MGtmvjgKwq/twJ+srAgSyv413TcjIK+DnLawEWGGPWGWNG571EpYoXq9UXm0OHblThcedIUHafLrM9F8sY0wFn0Ge9CXQrETlkjCkPLDTGbBeRX7JpOxoYDVC1alU3ylKqaLJ6+WBPTUM06FUhcadHHw9UyfI6HDh08ULGmIbAR0BfETmZMV1EDrm+HwNm4xwKuoSITBKRZiLSLOMe00oVR15WH+yiQzeq8LgT9GuBWsaYSGOMDzAYmJN1AWNMVeBbYJiI7MwyPcAYUzrjZ6ArsDm/ileqKPLy8sUh2qNXhSfXoRsRsRlj7gPmA1ZgiohsMcaMcc2fCDwNlAU+cF0AYhORZkAFYLZrmhcwXUTmFcieKFVEeHv74pB0RHv0qpC4dbWGiMwF5l40bWKWn+8E7sym3V6g0cXTlSrJvH2cDwhPS0rC28O1qJJB73WjVCHz8XYGfWpKiocrUSWFBr1ShSyjR5+alOThSlRJoUGvVCHzcQV9ij4JSRUSDXqlCpmvr6tHn4/PZlXqcjTolSpkmUGvPXpVSDTolSpkvr4+AKRoj14VEg16pQqZn5/r9MrkZA9XokoKDXqlCllG0OtZN6qwaNArVcj8/HToRhUuDXqlCpm/f0aPXi+YUoVDg16pQpYR9ImJGvSqcGjQK1XISpVyDt0kJqV5uBJVUmjQK1XISpVy9uiTNOhVIdGgV6qQZQZ9crqHK1ElhQa9UoUsIMAZ9Mlp+uARVTg06JUqZAEBzjH6pHSHhytRJYUGvVKFLDDQdfdKm3i4ElVSaNArVcgyevTJ6Tp0owqHBr1Shczf3wJ4kaJDN6qQuBX0xphuxpgdxpjdxpjHs5k/1Bjzp+trlTGmkbttlSpp/PwAfEm1a9CrwpFr0BtjrMD7QHegPnCrMab+RYvtA9qJSEPgBWBSHtoqVaI4b0fvS0q6zdOlqBLCnR59C2C3iOwVkTRgBtA36wIiskpETrte/gaEu9tWqZLGGfQ+pNp0jF4VDneCvjJwIMvreNe0nIwCfs5rW2PMaGNMnDEm7vjx426UpVTRlNGjT7Vr0KvC4U7Qm2ymZXtemDGmA86gfyyvbUVkkog0E5FmYWFhbpSlVNGUMUafpkGvComXG8vEA1WyvA4HDl28kDGmIfAR0F1ETualrVIlSUaPXoNeFRZ3evRrgVrGmEhjjA8wGJiTdQFjTFXgW2CYiOzMS1ulSpqMMfo0ux6MVYUj1x69iNiMMfcB8wErMEVEthhjxrjmTwSeBsoCHxhjAGyuYZhs2xbQvihVJGT06G12vR+9KhzuDN0gInOBuRdNm5jl5zuBO91tq1RJ5uUF4Eu6PRERwdU5UqrA6JWxShUyY8Bi8SbdkQ4OvWhKFTwNeqU8wGLxxeawgx6QVYVAg14pD7BafbE50hGbHpBVBU+DXikP8LL6YHeka49eFQoNeqU8wGr11aBXhUaDXikP8PLyxS46dKMKhwa9Uh7g5e2DQ9K0R68KhQa9Uh7g7e2LXdIQDXpVCDTolfIAb29fRNKR9HRPl6JKAA16pTzAx8cPENLPn/d0KaoE0KBXygO8vZ0PCE9JTPRwJaok0KBXygN8nXc2I02DXhUCDXqlPCAj6LVHrwqDBr1SHuDj4xy6SdUxelUINOiV8gA/P2ePXoNeFQYNeqU8ICPoUzToVSHQoFfKA/z8XGfdnE/ycCWqJNCgV8oDMnr05xP1cYKq4GnQK+UBpUplBH2qhytRJYFbQW+M6WaM2WGM2W2MeTyb+XWNMauNManGmEcumrffGLPJGLPRGBOXX4UrVZT5+zuHbjToVWHI9eHgxhgr8D7QBYgH1hpj5ojI1iyLnQIeAPrlsJoOInLiKmtVqtjw93f26M+d16BXBc+dHn0LYLeI7BWRNGAG0DfrAiJyTETWAnqHJqXckDF0k5yk/2VUwXMn6CsDB7K8jndNc5cAC4wx64wxo3NayBgz2hgTZ4yJO378eB5Wr1TRExjoGqNPTvNwJaokcCfoTTbTJA/baCUiTYDuwFhjTNvsFhKRSSLSTESahYWF5WH1ShU9pUo5x+iTbXn5r6TUlXEn6OOBKllehwOH3N2AiBxyfT8GzMY5FKRUiRYQ4Bq6SXd4uBJVErgT9GuBWsaYSGOMDzAYmOPOyo0xAcaY0hk/A12BzVdarFLFRcbQjQa9Kgy5nnUjIjZjzH3AfMAKTBGRLcaYMa75E40xFYE4oAzgMMY8BNQHygGzjTEZ25ouIvMKZE+UKkICA11Xxto06FXByzXoAURkLjD3omkTs/x8BOeQzsXOAo2upkCliqOMHn1Kuj4zVhU8vTJWKQ8oVcoKWLVHrwqFBr1SHuB87ogPqTbt0auCp0GvlAf4+QH4kmq3eboUVQJo0CvlAc4evS9pOnSjCoEGvVIekBH02qNXhUGDXikPyBijT9OgV4VAg14pD3A+G9yXdLsejFUFT4NeKQ8wBozxJV179KoQaNAr5SEW46NBrwqFBr1SHmKx+GBzaNCrgqdBr5SHWK2+2BzpiENPsVQFS4NeKQ+xWH2wOdLBpr16VbA06JXyEC9Xjx4980YVMA16pTzE6uWLQ2yIBr0qYBr0SnmIl5cPdkeaDt2oAqdBr5SHeHv74pB07dGrAqdBr5SHeHv74ZB0SEvzdCmqmNOgV8pDnD36VCQ11dOlqGLOraA3xnQzxuwwxuw2xjyezfy6xpjVxphUY8wjeWmrVEnl4+ODkKZBrwpcrkFvjLEC7wPdcT7w+1ZjTP2LFjsFPACMv4K2SpVIPj6+gANbUpKnS1HFnDs9+hbAbhHZKyJpwAygb9YFROSYiKwF0vPaVqmSyhn0kJKY6OFKVHHnTtBXBg5keR3vmuaOq2mrVLHm47xXsQa9KnDuBL3JZpq4uX632xpjRhtj4owxccePH3dz9UoVXX5+zh592vnzHq5EFXfuBH08UCXL63DgkJvrd7utiEwSkWYi0iwsLMzN1StVdPk6HzNFqvboVQFzJ+jXArWMMZHGGB9gMDDHzfVfTVulijU/P+fQzflzejBWFSyv3BYQEZsx5j5gPmAFpojIFmPMGNf8icaYikAcUAZwGGMeAuqLyNns2hbQvihVpGQM3Zw9k+zhSlRxl2vQA4jIXGDuRdMmZvn5CM5hGbfaKqXA398Z9ImJemWsKlh6ZaxSHuLvnzF0k+LhSlRxp0GvlIdk9ujP65WxqmBp0CvlIaVKOYM+Keni6wyVyl8a9Ep5SECAM+jPJ+kYvSpYGvRKeUipUs4x+qQUffCIKlga9Ep5SEaPPjnd4eFKVHGnQa+Uh2jQq8KiQa+UhwQGOoduktP1UYKqYGnQK+UhgYGu2xTbtEevCpYGvVIeokGvCosGvVIekjF0k2LToRtVsDTolfKQwEAvwJCqQa8KmAa9Uh7i52cAX1J16EYVMA16pTzE+dwRH9LsesGUKlga9Ep5iDPofUmz69CNKlga9Ep5iMUCzqDXHr0qWBr0SnmQMRr0quBp0CvlQRbjg02DXhUwDXqlPMhYfEh36Bi9KlhuBb0xppsxZocxZrcx5vFs5htjzLuu+X8aY5pkmbffGLPJGLPRGBOXn8UrVdRZLb7Y7PrgEVWwcn04uDHGCrwPdAHigbXGmDkisjXLYt2BWq6vWGCC63uGDiJyIt+qVqqYsFh9sDn0UYKqYLnTo28B7BaRvSKSBswA+l60TF/gM3H6DQg2xlTK51qVKnasVl9sjnTEoRdNqYLjTtBXBg5keR3vmubuMgIsMMasM8aMvtJClSqOvKy+2MUGei69KkC5Dt0AJptpkodlWonIIWNMeWChMWa7iPxyyUacbwKjAapWrepGWUoVfV7evqQlpTuD3tvb0+WoYsqdHn08UCXL63DgkLvLiEjG92PAbJxDQZcQkUki0kxEmoWFhblXvVJFnJeXL3ZHGpKmDwhXBcedoF8L1DLGRBpjfIDBwJyLlpkD3O46++Z64IyIHDbGBBhjSgMYYwKArsDmfKxfqSLNy8sXh6Rr0KsClevQjYjYjDH3AfMBKzBFRLYYY8a45k8E5gI9gN1AEnCHq3kFYLYxJmNb00VkXr7vhVJFlLe3Lw5JQ1L1zBtVcNwZo0dE5uIM86zTJmb5WYCx2bTbCzS6yhqVKrZ8fHwQ0kCDXhUgvTJWKQ/y9vZFJF179KpAadAr5UE+Pr4IqRr0qkBp0CvlQT4+PoANe3Kyp0tRxZgGvVIe5OfnC0BKYqKHK1HFmQa9Uh7k63zMFMnnznu4ElWcadAr5UG+vj4AnEtI8nAlqjjToFfKgzKGbs6e0TF6VXA06JXyIH9/Z9AnntWzblTB0aBXyoP8/FxDN+dSPFyJKs406JXyoMwefaL26FXB0aBXyoNKlXIGfdL5vAe9iOC4Bh5Y4okaCnqbIoK9GD0jQINeKQ/KCPrE87nfvVJE2LFjBxMnTmTw4MFUqlSJKtddx++rVxd0mRew2+2sX7+eN954g169ehESEkLj6GgOHDiQe+Or2GZcXByvv/46PXr0ICgoiCbR0cTHx+fL+kWErVu38sEHHzBw4EDKly9P7erVSTx3Ll/W73Eics19NW3aVJQqCd58c4UA8lK3Ry673NKlS6Vy5cqC84E+cl1wsAxq1EiqhoRIgK+v/DxnTqHUO3nyZAkODs6so2ZYmAxt0kRK+/pKeLlysmXz5nzf5ocffihBQUGZ26xdvrzc5tpmlbAw2bply1Wt/+eff5aKFStmrj88JET6RkUJII+PGJGndR07dkx69eolixYsuKqargQQJzlkqnHOv7Y0a9ZM4uLiPF2GUgXuww/XMmZMC/7bcRzPL34z22Xi4+Np3LgxwRYL991wA22qVqV6SAjGGI6cO8eAadPYfuwYUyZNYtioUQVW66pVq2jXrh0twsO5o0ULWoeHU6lMGQD+OHyYgdOmYRPhx3nzaNm6db5sc+XKlbRv357rq1bN3GbF0qUB2HjoEAOnTcNuDD/Nm8f1rVrlef379u2jSZMmVPLz454bbqBteDjVXL/b0d9+y/dbt7J5wwZqNmiQ67rsdjvdu3dn4cKFlC9dms27dhFWoUKea7pSxph1ItIsu3k6dKOUBwUEuMbo07Mfc05PT+eWW24hOTGRaYMHMyImhhqhobie8UDF0qX5acQIrq9aldvvvJM3XnyxQOo8fvw4gwYNIjw4mOm33srA+vUzQx6gUaVKLBg5kiBfXzp17MhPs2df9TaPHTvGLbfcQrXQUKYPHsyAevUyQx4g5rrrWDBqFEE+PnTq2JG533+fp/WnpKQwcOBAJC2NL4cM4faGDYnI8rt9rnNnvCwWHnbzzfPFF19k4cKFjG3VitNJSdw9cCDXSkdag14pDwoMdJ5emVPQP/HEE6xatYp3+/alTmhotssE+fkxa+hQ+tSrxyP//S9PjRuXrzXa7XZuu+02Thw7xqeDBhHsum3DxSJCQ5k/ciS1w8LoO2AAMz799Kq2OWTIEE6dOMEngwYRlMM2I13brFWuHH1uvpnJ77/v9jYefvhh1q1bxwc33UREljetDJXKlOHRtm354fff+fnLLy+7roULF/Lcc88xuHFjXuzcmf+0b8/sFSv44r333K6nIGnQK+VBgYGum5plE/Tfffcdb7zxBnfGxtK/Xr3LrsfP25upAwcyNCaGl95+m5lTpuRbjS+99BILFizg/3r0oFH58pddtnxgID8OH06L8HBG3nUXf65de0XbfP7551m8eDGv9exJw1yeIZ2xzXaRkYy+7z7G3nEH6enpl20zffp0JkyYwP2tW9OzVq0cl7vn+uupHhrKQ+PGkZbD4x7j4+MZMmQIdStW5I0ePTDG8ECrVsRWqcL9jz3Ggb17c9/hAqZBr5QHZQa97cKg37t3LyNGjKBxlSq81KWLW+uyWiy81asXTStX5s6xY9m5ZctV17do0SKeffZZBsXEMDwmxq02pX19+WTgQMr4+jKgb1/Onj2bp20uWLCAF154gVsbN2ZYw4Zub/PrIUO4/4Yb+OCTT+jUsiXHjh3Ldtlt27YxevRoWkZG8nSHDpddr6+XFy/feCM7jx7lnf/855L5GUNrKYmJfDpoEAHe3oDzbzGhXz/SbTZG9O/v8SEcDXqlPChj6CbFZufEiROsXr2azz77jJtvvhljszF14EB8vS594ufhs4FMjWvKhN9iSbP989/Yx8uLqQMHYjWG/j16kJSUt5uliQgHDx5k2bJlTJ48ObOn+lbPnplj1+6oULo0Hw8YwJ4jRxjZr99lg87hcBAfH8/SpUuZNGkSQ4cOpV6W3rG7vKxWXujalck330zcn3/SJCqKuLVrERGOHTvGr7/+yieffEL//v3xt1j4eMAAvK3WXNd7Y+3adKlZkxffe48jf//N+fPn+eOPP5g1axbDhw9n1apVvNO3L7VDQi5oV71sWV7s2pUlGzfy3vPP43A4OHDgAEuWLGHSpEm8/PLLTJ8+nbVr15KQkOD2fl4Jt866McZ0A97B+XDwj0Tk1YvmG9f8HjgfDj5CRNa70zY7etaNKin++uscERFlsBgrDvnnAh1/Hx8+ueUWbqxRAwAR2HK0PD/vqMPcHXXYcKhy5rIxlQ4xZcAsqpc9nTlt4a5dDJw2jeG9e/PJnDkAHD0K8+bBTz/B6lUO7rojnf8+74sxzgOfAwYMIC4ujuQsD0EJK12aH++4I8fjA7l5a8UKnlu8mLefe44Hn346c3p6ejpTp37GG298wL5920hP/2ebVlOece1e4tHWR/D1urKLlv44fJihM2Zw7Px5/Pz9OZvlfPgAX1+mDRlC+2rV3F7frhMnuGHCBHx9fEi86CExD7RuzfOdO2fbTkQY8MUX/LJ/P17e3iSn5Hyri3KhoUQ3aMDiZcvy9AaX4XJn3eQa9MYYK7AT6ALEA2uBW0Vka5ZlegD34wz6WOAdEYl1p212NOhVSZGUJAQEPIa/VwIx4YHcWMfQvWY6kSFBeFu92HioEt9vrc/3W+uz77QzbJtVOUiPBnvo21vYa6vOXY+HYbMZ3ur1IwMbbs5c9wuLF/PGihX0ufF9Dp+6h7VrXWfqBJ0nIugUv/1dhXGjz/LGxDK88srLPPnkk9zdsiW1wsKoERJC9eBgwoOCsFqcnxhE4I/DlTiT4kfbyH24k0UOh4NbZ8xgyZ49/LJoEY1iW/P009P48MPnOXduL9AEaIfVVKdi6YrUKBtKanoka+IjqRKUwOPtlzG40Z9YLc6c+jshiAU7a7FgVy32nCxLqs2LZJsXKenepNi8CA86Q2zVv2lZ9QC1y23h2y3fYrEYqrv2qUZwMFWDg93qyV/ss/XrWX3gADXCwqgRGkr1oCCqh4ZSOocDxRkOnz3Hwz+txCYVsEsdEpIaEJ/QlITkKkRVXE310N8JDthCmn0fNlsaXyxdiiU4OM/1XW3QtwSeFZEbXa+fABCRV7Is8yGwTES+dL3eAbQHInJrmx0NelWSfPdVEh+/cpSFW6qQavOiQuA52kTsZ82BKhw4E4zV4qBd9X30bfoXfQb5UaV1TSxhYZm9vr/2pDOk9xlWbSvH0JgNDInZyLyddfhhay32JwwGVhFV4Xv6RfvStdZOGpY/hAg8Nq87k39vweghZ1i6tjlhNhtzhw+/pL6DZ0ozc1NDZvzRkO3HnQdjW0fs4/UeP1Ov/PEc90sEDp0tTVy8Pw/+8CxpDgsptjI4HDuxmBhuqDaSu68vT/MBNalWLxDvsFAsISFg9WLetGM8+aRhw99h1Cl3nM61drN0T3W2HnOelx4ZepqY6w5RyteBn48df187vt7CrmNB/LanEscSAwEI9kvmnut/46HWv+bp04HNbrCL5Yo/USSne7F8byTzd9Zm/s7aHDrnPKvH22qnTtgJoiocJSTIwerdFfjzcEVEDAHeabSu/hdzlofgU6Fcnrd5tUE/AOgmIne6Xg8DYkXkvizL/Ai8KiIrXa8XA4/hDPrLts2OBr0qic4cOsecKUf5ZraFldsr0Cz8EH1bHKDPrQFUuqHOZXt5Nhs8PfYYr04OQ8TgbbXTNnI/7aM28M7CO6gdVpa5d9xxQRsReG5RJ97+1QrcwLs39ef2RtGIwI7j5Vi2tzo/76jDL/siEQzXVzvA4NidSIXKPPdRNRJTfRgTu4bH2i+ntG8adodh46FKLNlTg6V7q7PpcCXOpWX0duOANgT5VeGOZr15cswNhN7cA4u/f4775HAIsyYc4ekXfdl9LJiW1f6mW/Rf9OptoX7nqnhVrYKxXHqY0ZGSys5VR1kxP5E5C0rx48YI6pQ7zjt9fuD6qjnfpsFmN/z6VwSzt0Txw7a6pNq8eKTtCu65/je3Aj8l3crPO+rw9aZolu2pQbLNm0CfVDrW3MuNTY7Qoq0f9ZuXwTe8ApbQUIzFgohwYsdxlnx3miWLhBPHhZkrw7FkuV7AXVcb9AOBGy8K6xYicn+WZX4CXrko6P8NVM+tbZZ1jAZGA1StWrXpX3/9lecdVaq4cJw/D3Y7lmzO776c3xadZcdPW7mxh5XyzWthCQ7mjfHjeeTRR1l85500DQ+/YHkR6Dh5HRsOLaZTzV8oV8qL5XurcyTRGTQ1yp5iQMxWbhtso16vulgrVgTg+OF0Hht1lE/mVaZi4Dmah8fzy75IElL8MUZoVOkIzaseol71JOo3sBLV1B/foDTKBATgExWVpzFou11I3vUX/uXLYL2CYwU/fHGKsQ94ceB0GUY2i+OZzoso45vKkXOB7DlVlr2nQtlw8Dp+2FaPE0kBBPik0b3OTs5LAD9vjiQy5BQv3Tif7nV2XjJcJQJrDlThy42NmL0lirOpflxX5iy96u+gV7uztO8fRkBUTSylSuW57rzSoRulSrBz585R5brraB8RwacDBlwwLzk9nTrjxxMZ2oo/jyyibKkk2lffR/uGx+ncw5carcOxhodn23MGWL3wDA/dk8qhE760q7GPzs1O06lPANc1j7hgeMnTzp118OToI7z/dUUCfdNIt1lJtnlnzi/lnUa3Oru4uc1het5WljIxdbCUKsXc6Sd5+F+GHUdC6VB9D33rb+XAmWD+Tgjir9Mh7D0Vmvnm0Lv+dobeeJTOt4XjW7cWJpuzpQrS1Qa9F84Dqp2AgzgPqA4RkS1ZlukJ3Mc/B2PfFZEW7rTNjga9Uvnr8X//m9fHjyfuvvuoXrZs5vRvN29m5KxZzPn3v2lz7+P4p5zAJ6IqJpcDjFmJCI4TJ7AEB2O8vXNv4EFrl53jraeOEmpOU71qKjVrGWpF+RFRLwDf6lWz7XmnpQnv/fcQz/+vLGeS/bBaHFQOOku14NNUCz1D6wanGDCiDCEt6hdKzz0nVxX0rhX0AN7GeYrkFBF5yRgzBkBEJrpOr3wP6Ibz9Mo7RCQup7a5bU+DXqn8dfjwYSKqVWNY48a80aNH5vSBX3zBtuPH2fXrr/hFRXmwwmvf2ZNpHP5tN1WrWfAJC3G+seXhDbGgXS7o3fpsISJzgbkXTZuY5WcBxrrbVilVuCpVqsRtt97KtOnTeaJdO8oFBHD47FkW79nDuHbt8K1b19MlXvPKlPWhTM/6ni7jiuiVsUqVEI88/jgpNhuTXfefmblpEw4Rht1yC+YKzitXRYcGvVIlRL169eh1441M/v13ktLSmL5xIy2qVqVB376eLk0VMA16pUqQx556ilNJSTw6dy7bjx/n1thYLK5TJlXxpUGvVAnSqlUrYhs3ZtrGjfh6eTF45Mhr5hRIVXA06JUqQYwx/PuppwDoUacO5fPpkX/q2la4Z/QrpTyub9++PHr33QyqXx9LYKCny1GFQINeqRLGarXy2sSJuS+oig0dulFKqWJOg14ppYo5DXqllCrmNOiVUqqY06BXSqliToNeKaWKOQ16pZQq5jTolVKqmHPrwSOFzRhzHLjSh8aWA07kYzmFTev3vKK+D1q/53liH6qJSFh2M67JoL8axpi4nJ6yUhRo/Z5X1PdB6/e8a20fdOhGKaWKOQ16pZQq5opj0E/ydAFXSev3vKK+D1q/511T+1DsxuiVUkpdqDj26JVSSmVRbILeGNPNGLPDGLPbGPO4p+txhzFmijHmmDFmc5ZpocaYhcaYXa7vIZ6s8XKMMVWMMUuNMduMMVuMMQ+6pheJfTDG+BljfjfG/OGq/znX9CJRfwZjjNUYs8EY86PrdVGrf78xZpMxZqMxJs41rcjsgzEm2Bgzyxiz3fV/oeW1Vn+xCHpjjBV4H+gO1AduNcbU92xVbvkE6HbRtMeBxSJSC1jsen2tsgH/EpF6wPXAWNfvvajsQyrQUUQaATFAN2PM9RSd+jM8CGzL8rqo1Q/QQURispySWJT24R1gnojUBRrh/FtcW/WLSJH/AloC87O8fgJ4wtN1uVl7BLA5y+sdQCXXz5WAHZ6uMQ/78j3QpSjuA1AKWA/EFqX6gXCcQdIR+LEo/hsC9gPlLppWJPYBKAPsw3W881qtv1j06IHKwIEsr+Nd04qiCiJyGMD1vbyH63GLMSYCaAysoQjtg2vYYyNwDFgoIkWqfuBt4N+AI8u0olQ/gAALjDHrjDGjXdOKyj5UB44DU13DZx8ZYwK4xuovLkFvspmmpxMVEmNMIPAN8JCInPV0PXkhInYRicHZM25hjGng4ZLcZozpBRwTkXWeruUqtRKRJjiHXscaY9p6uqA88AKaABNEpDFwHk8P02SjuAR9PFAly+tw4JCHarlaR40xlQBc3495uJ7LMsZ44wz5aSLyrWtykdoHABFJAJbhPGZSVOpvBfQxxuwHZgAdjTFfUHTqB0BEDrm+HwNmAy0oOvsQD8S7PgkCzMIZ/NdU/cUl6NcCtYwxkcYYH2AwMMfDNV2pOcBw18/DcY57X5OMMQb4GNgmIm9mmVUk9sEYE2aMCXb97A90BrZTROoXkSdEJFxEInD+m18iIrdRROoHMMYEGGNKZ/wMdAU2U0T2QUSOAAeMMXVckzoBW7nW6vf0wYx8PCjSA9gJ7AGe9HQ9btb8JXAYSMfZMxgFlMV5cG2X63uop+u8TP2tcQ6R/QlsdH31KCr7ADQENrjq3ww87ZpeJOq/aF/a88/B2CJTP84x7j9cX1sy/u8WsX2IAeJc/46+A0Kutfr1ylillCrmisvQjVJKqRxo0CulVDGnQa+UUsWcBr1SShVzGvRKKVXMadArpVQxp0GvlFLFnAa9UkoVc/8PGf1YQ5tP6HAAAAAASUVORK5CYII=",
=======
      "image/png": "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",
>>>>>>> 2edcd361ba2576550fe6b7a2147ea7a9842ce471
      "text/plain": [
       "<Figure size 432x288 with 1 Axes>"
      ]
     },
     "metadata": {
      "needs_background": "light"
     },
     "output_type": "display_data"
    }
   ],
   "source": [
    "encoded_data = autoencoder.encoder(data_test).numpy()\n",
    "decoded_data = autoencoder.decoder(encoded_data).numpy()\n",
    "print(encoded_data.shape)\n",
    "\n",
    "# Save the denoised data for MATLAB processing\n",
    "print(savePath)\n",
    "savePath_ = savePath + '/denoised_data.mat'\n",
    "print(savePath_)\n",
    "savemat(savePath_, {'denoised_data':decoded_data})\n",
    "\n",
<<<<<<< HEAD
    "ind = 32\n",
    "plt.plot(data_test[ind],'b')\n",
    "plt.plot(decoded_data[ind],'k')\n",
    "plt.fill_between(np.arange(64),decoded_data[ind],data_test[ind],color='lightcoral')\n",
=======
    "ind = 40\n",
    "plt.plot(data_test[ind],'b')\n",
    "plt.plot(decoded_data[ind],'k')\n",
    "plt.fill_between(np.arange(x_train.shape[1]),decoded_data[ind],data_test[ind],color='lightcoral')\n",
>>>>>>> 2edcd361ba2576550fe6b7a2147ea7a9842ce471
    "plt.legend([\"Input\", \"Reconstruction\",\"Error\"])\n",
    "# plt.savefig('SNR_-30_autoencoder_compare.png')"
   ]
  },
  {
   "cell_type": "code",
<<<<<<< HEAD
   "execution_count": 296,
=======
   "execution_count": 86,
>>>>>>> 2edcd361ba2576550fe6b7a2147ea7a9842ce471
   "id": "01958963",
   "metadata": {},
   "outputs": [
    {
     "name": "stdout",
     "output_type": "stream",
     "text": [
<<<<<<< HEAD
      "c:\\Users\\HYPC300\\OneDrive - 한양대학교\\GitHub\\Deeplearning-Autoencoder-DOA\\data\\result\\random_two source_10snapshots_1000sample\n",
      "c:\\Users\\HYPC300\\OneDrive - 한양대학교\\GitHub\\Deeplearning-Autoencoder-DOA\\data\\result\\random_two source_10snapshots_1000sample\\test_label.mat\n"
=======
      "/home/hymc/[0]Github/Deeplearning-Autoencoder-DOA/[2]Tensorflow/[1]DAE_DOA_implementation/result/8_antenna_500_samples_100_snapshots\n",
      "/home/hymc/[0]Github/Deeplearning-Autoencoder-DOA/[2]Tensorflow/[1]DAE_DOA_implementation/result/8_antenna_500_samples_100_snapshots/test_label.mat\n"
>>>>>>> 2edcd361ba2576550fe6b7a2147ea7a9842ce471
     ]
    }
   ],
   "source": [
    "# Input test label dataset for all snr and stack them together\n",
    "dataset = tf.data.Dataset.list_files(basePath + '/20dB/test/test_label.*', shuffle=False)\n",
    "# for i in dataset.as_numpy_iterator():\n",
    "#     print(i)\n",
    "data_set = []\n",
    "for i in dataset.as_numpy_iterator():\n",
    "    x_train = sio.loadmat(i)\n",
    "    x_train = x_train['test_label']  # noisy sample covariance matrix\n",
    "    data_set.append(x_train) #NOTE: put all the train_data of different SNR into one list\n",
    "len(data_set) \n",
    "data_label = data_set[0]\n",
    "for i in data_set:\n",
    "    data_label = np.vstack((data_label,i)) # stack all the datasets vertically\n",
<<<<<<< HEAD
    "data_label = data_label[1000:] # the first dataset is included in twice\n",
    "data_label.shape\n",
    "\n",
    "print(savePath)\n",
    "savePath_ = savePath + '\\\\test_label.mat'\n",
=======
    "data_label = data_label[x_train.shape[0]:] # the first dataset is included in twice\n",
    "data_label.shape\n",
    "\n",
    "print(savePath)\n",
    "savePath_ = savePath + '/test_label.mat'\n",
>>>>>>> 2edcd361ba2576550fe6b7a2147ea7a9842ce471
    "print(savePath_)\n",
    "savemat(savePath_, {'test_label':data_label})"
   ]
  },
  {
   "cell_type": "code",
<<<<<<< HEAD
   "execution_count": 62,
=======
   "execution_count": 90,
>>>>>>> 2edcd361ba2576550fe6b7a2147ea7a9842ce471
   "id": "36398cb3",
   "metadata": {},
   "outputs": [
    {
<<<<<<< HEAD
     "data": {
      "text/plain": [
       "(1, 64)"
      ]
     },
     "execution_count": 62,
     "metadata": {},
     "output_type": "execute_result"
    }
   ],
   "source": [
    "x_test = sio.loadmat('vec')\n",
    "test_max = x_test['vec']\n",
    "test_max = test_max.reshape(1,64)\n",
    "test_max.shape"
=======
     "name": "stdout",
     "output_type": "stream",
     "text": [
      "/home/hymc/[0]Github/Deeplearning-Autoencoder-DOA/[2]Tensorflow/[1]DAE_DOA_implementation/result/8_antenna_500_samples_100_snapshots\n",
      "/home/hymc/[0]Github/Deeplearning-Autoencoder-DOA/[2]Tensorflow/[1]DAE_DOA_implementation/result/8_antenna_500_samples_100_snapshots/rf_data.mat\n"
     ]
    }
   ],
   "source": [
    "# RF TEST DATA\n",
    "x_test = sio.loadmat('vec')\n",
    "test_max = x_test['vec']\n",
    "test_max = test_max.reshape(1,64)\n",
    "\n",
    "# scaling\n",
    "# data_test = scaler.fit_transform(data_test)\n",
    "test_max_scale = scaler.fit_transform(np.transpose(test_max))\n",
    "# print(data_test_scale.shape)\n",
    "test_data = np.transpose(test_max_scale)\n",
    "# print(data_test.shape)\n",
    "\n",
    "# export data for MATLAB processing\n",
    "print(savePath)\n",
    "savePath_ = savePath + '/test_data.mat'\n",
    "print(savePath_)\n",
    "savemat(savePath_, {'test_data':test_data})"
>>>>>>> 2edcd361ba2576550fe6b7a2147ea7a9842ce471
   ]
  },
  {
   "cell_type": "code",
<<<<<<< HEAD
   "execution_count": 63,
=======
   "execution_count": 91,
>>>>>>> 2edcd361ba2576550fe6b7a2147ea7a9842ce471
   "id": "1acb8942",
   "metadata": {},
   "outputs": [
    {
     "name": "stdout",
     "output_type": "stream",
     "text": [
      "(1, 8)\n",
<<<<<<< HEAD
      "c:\\Users\\HYPC300\\OneDrive - 한양대학교\\GitHub\\Deeplearning-Autoencoder-DOA\\data\\result\\8_antenna_100_snapshot_1000sample_minus20_20_snr\n",
      "c:\\Users\\HYPC300\\OneDrive - 한양대학교\\GitHub\\Deeplearning-Autoencoder-DOA\\data\\result\\8_antenna_100_snapshot_1000sample_minus20_20_snr/denoised_data.mat\n"
=======
      "/home/hymc/[0]Github/Deeplearning-Autoencoder-DOA/[2]Tensorflow/[1]DAE_DOA_implementation/result/8_antenna_500_samples_100_snapshots\n",
      "/home/hymc/[0]Github/Deeplearning-Autoencoder-DOA/[2]Tensorflow/[1]DAE_DOA_implementation/result/8_antenna_500_samples_100_snapshots/denoised_data.mat\n"
>>>>>>> 2edcd361ba2576550fe6b7a2147ea7a9842ce471
     ]
    }
   ],
   "source": [
<<<<<<< HEAD
    "\n",
    "encoded_data = autoencoder.encoder(test_max).numpy()\n",
=======
    "encoded_data = autoencoder.encoder(rf_test).numpy()\n",
>>>>>>> 2edcd361ba2576550fe6b7a2147ea7a9842ce471
    "decoded_data = autoencoder.decoder(encoded_data).numpy()\n",
    "print(encoded_data.shape)\n",
    "\n",
    "# Save the denoised data for MATLAB processing\n",
    "print(savePath)\n",
    "savePath_ = savePath + '/denoised_data.mat'\n",
    "print(savePath_)\n",
    "savemat(savePath_, {'denoised_data':decoded_data})\n"
   ]
  }
 ],
 "metadata": {
  "celltoolbar": "Slideshow",
  "kernelspec": {
   "display_name": "Python 3 (ipykernel)",
   "language": "python",
   "name": "python3"
  },
  "language_info": {
   "codemirror_mode": {
    "name": "ipython",
    "version": 3
   },
   "file_extension": ".py",
   "mimetype": "text/x-python",
   "name": "python",
   "nbconvert_exporter": "python",
   "pygments_lexer": "ipython3",
<<<<<<< HEAD
   "version": "3.8.12"
=======
   "version": "3.8.0"
>>>>>>> 2edcd361ba2576550fe6b7a2147ea7a9842ce471
  }
 },
 "nbformat": 4,
 "nbformat_minor": 5
}
